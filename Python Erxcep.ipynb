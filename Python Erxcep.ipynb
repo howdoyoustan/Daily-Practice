{
 "cells": [
  {
   "cell_type": "code",
   "execution_count": 3,
   "id": "88cdc04b-9b5b-49ad-8913-3310f4d21d45",
   "metadata": {},
   "outputs": [
    {
     "name": "stdin",
     "output_type": "stream",
     "text": [
      "Enter numerator:  10\n",
      "Enter denominator:  0\n"
     ]
    },
    {
     "name": "stdout",
     "output_type": "stream",
     "text": [
      "Can't divide by zero\n",
      "Successful execution\n"
     ]
    }
   ],
   "source": [
    "try:\n",
    "    num=int(input(\"Enter numerator: \"))\n",
    "    den=int(input(\"Enter denominator: \"))\n",
    "    result = num/den\n",
    "except ZeroDivisionError as z:\n",
    "    print(\"Can't divide by zero\")\n",
    "except ValueError as v:\n",
    "    print(\"Can only accept integers\")\n",
    "else:\n",
    "    print(f\"The result is {result}\")\n",
    "finally:\n",
    "    print(\"Successful execution\")"
   ]
  },
  {
   "cell_type": "code",
   "execution_count": 6,
   "id": "07998331-0ab2-4077-a3b3-5ead6423eb42",
   "metadata": {},
   "outputs": [
    {
     "name": "stdout",
     "output_type": "stream",
     "text": [
      "Negative numbers not allowed\n"
     ]
    }
   ],
   "source": [
    "def checknumber(num):\n",
    "    if (num<0):\n",
    "        raise ValueError(\"Negative numbers not allowed\")\n",
    "    return num\n",
    "\n",
    "try: \n",
    "    checknumber(-10)\n",
    "except ValueError as v:\n",
    "    print(v)"
   ]
  },
  {
   "cell_type": "code",
   "execution_count": null,
   "id": "23bc8ab2-d5db-4a4e-89de-1f2bda15c968",
   "metadata": {},
   "outputs": [],
   "source": []
  }
 ],
 "metadata": {
  "kernelspec": {
   "display_name": "Python 3 (ipykernel)",
   "language": "python",
   "name": "python3"
  },
  "language_info": {
   "codemirror_mode": {
    "name": "ipython",
    "version": 3
   },
   "file_extension": ".py",
   "mimetype": "text/x-python",
   "name": "python",
   "nbconvert_exporter": "python",
   "pygments_lexer": "ipython3",
   "version": "3.12.2"
  }
 },
 "nbformat": 4,
 "nbformat_minor": 5
}
