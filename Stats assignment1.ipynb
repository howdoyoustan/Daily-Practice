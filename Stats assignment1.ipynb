{
 "cells": [
  {
   "cell_type": "code",
   "execution_count": 14,
   "id": "9095a2e4-1305-4154-8c5e-e7cf14747b3b",
   "metadata": {},
   "outputs": [],
   "source": [
    "from scipy import stats\n",
    "from scipy.stats import binom"
   ]
  },
  {
   "cell_type": "code",
   "execution_count": 2,
   "id": "872aa89e-d83d-48e2-95e2-374c5dd80f10",
   "metadata": {},
   "outputs": [
    {
     "data": {
      "text/plain": [
       "0.14226971793817622"
      ]
     },
     "execution_count": 2,
     "metadata": {},
     "output_type": "execute_result"
    }
   ],
   "source": [
    "#40% workers say they would change their jobs for a higher pay\n",
    "#88% companies say there is shortage of qualified job candidates\n",
    "#16 are randomly selected\n",
    "\n",
    "#q1.Probability that 9 or more say yes \n",
    "1-binom.cdf(8,16,0.4)"
   ]
  },
  {
   "cell_type": "code",
   "execution_count": 13,
   "id": "fd35e8f3-1835-430e-9d1c-f11fbaa8cc7f",
   "metadata": {},
   "outputs": [
    {
     "data": {
      "text/plain": [
       "0.28299819692851225"
      ]
     },
     "execution_count": 13,
     "metadata": {},
     "output_type": "execute_result"
    }
   ],
   "source": [
    "#what is the proabbility between 8 and 12 \n",
    "binom.cdf(12,16,0.4)-binom.cdf(7,16,0.4)"
   ]
  },
  {
   "cell_type": "code",
   "execution_count": 12,
   "id": "2f09e8b7-b4b4-4033-bc74-4bbe5a724f3e",
   "metadata": {},
   "outputs": [
    {
     "data": {
      "text/plain": [
       "0.2829981969285121"
      ]
     },
     "execution_count": 12,
     "metadata": {},
     "output_type": "execute_result"
    }
   ],
   "source": [
    "binom.pmf(8,16,0.4)+binom.pmf(9,16,0.4)+binom.pmf(10,16,0.4)+binom.pmf(11,16,0.4)+binom.pmf(12,16,0.4)"
   ]
  },
  {
   "cell_type": "code",
   "execution_count": 11,
   "id": "73a03650-f3da-447c-83be-52196c5b670c",
   "metadata": {},
   "outputs": [
    {
     "data": {
      "text/plain": [
       "0.0036972963764972644"
      ]
     },
     "execution_count": 11,
     "metadata": {},
     "output_type": "execute_result"
    }
   ],
   "source": [
    "#Probability of patients dying in 99% if 99 have already died what is the probability that exactly 1 doesnt die\n",
    "(0.99**99)*0.01"
   ]
  },
  {
   "cell_type": "code",
   "execution_count": 4,
   "id": "774b8abb-68e0-4daf-ad94-9b47b9ff29a1",
   "metadata": {},
   "outputs": [
    {
     "data": {
      "text/plain": [
       "0.508836899192832"
      ]
     },
     "execution_count": 4,
     "metadata": {},
     "output_type": "execute_result"
    }
   ],
   "source": [
    "#q2. Probability that 3,4,5 or 6 say yes\n",
    "binom.pmf(3,16,0.4)+binom.pmf(4,16,0.4)+binom.pmf(5,16,0.4)+binom.pmf(6,16,0.4)"
   ]
  },
  {
   "cell_type": "code",
   "execution_count": 9,
   "id": "f8dbbdc8-a2ff-4fe2-a7d5-df3feff3fc67",
   "metadata": {},
   "outputs": [
    {
     "data": {
      "text/plain": [
       "0.5088368991928315"
      ]
     },
     "execution_count": 9,
     "metadata": {},
     "output_type": "execute_result"
    }
   ],
   "source": [
    "binom.cdf(6,16,0.4)-binom.cdf(2,16,0.4)"
   ]
  },
  {
   "cell_type": "code",
   "execution_count": 10,
   "id": "ab7cdac7-b52c-4ac4-8131-00cb5b78abd9",
   "metadata": {},
   "outputs": [
    {
     "data": {
      "text/plain": [
       "0.13763741035165464"
      ]
     },
     "execution_count": 10,
     "metadata": {},
     "output_type": "execute_result"
    }
   ],
   "source": [
    "#q3. If 13 companies are contacted, what is the probability that exactly 10 say there is a shortage of qualified job candidates?\n",
    "binom.pmf(10,13,0.88)"
   ]
  },
  {
   "cell_type": "code",
   "execution_count": 12,
   "id": "f72db3f2-e01c-47e0-98ef-9821fba3884f",
   "metadata": {},
   "outputs": [
    {
     "data": {
      "text/plain": [
       "0.18979061712307926"
      ]
     },
     "execution_count": 12,
     "metadata": {},
     "output_type": "execute_result"
    }
   ],
   "source": [
    "#q4. If 13 companies are contacted, what is the probability that all of the companies say there is a shortage of qualified job candidates?\n",
    "binom.pmf(13,13,0.88)"
   ]
  },
  {
   "cell_type": "code",
   "execution_count": 15,
   "id": "9c167d9c-1425-44a9-8912-29fdb865356f",
   "metadata": {},
   "outputs": [],
   "source": [
    "#q5. If 13 companies are contacted, what is the expected number of companies that would say there is a shortage of qualified job candidates?\n"
   ]
  },
  {
   "cell_type": "code",
   "execution_count": 31,
   "id": "78b8adec-d3b3-44f0-8b61-32696eaa0ef7",
   "metadata": {},
   "outputs": [
    {
     "data": {
      "text/plain": [
       "78.41621233572914"
      ]
     },
     "execution_count": 31,
     "metadata": {},
     "output_type": "execute_result"
    }
   ],
   "source": [
    "#Average time to complete a task is 70 min with std deviation of 10min. The company wants to commit a time to the customer in such a way \n",
    "#that 80% of the tasks are completed before that. What should be time committed to the customer\n",
    "\n",
    "from scipy.stats import norm\n",
    "\n",
    "z = norm.ppf(0.8)\n",
    "x=z*10+70\n",
    "x"
   ]
  },
  {
   "cell_type": "code",
   "execution_count": null,
   "id": "edb0a2b0-34d5-4b72-84c3-e9b805923986",
   "metadata": {},
   "outputs": [],
   "source": []
  }
 ],
 "metadata": {
  "kernelspec": {
   "display_name": "Python 3 (ipykernel)",
   "language": "python",
   "name": "python3"
  },
  "language_info": {
   "codemirror_mode": {
    "name": "ipython",
    "version": 3
   },
   "file_extension": ".py",
   "mimetype": "text/x-python",
   "name": "python",
   "nbconvert_exporter": "python",
   "pygments_lexer": "ipython3",
   "version": "3.12.2"
  }
 },
 "nbformat": 4,
 "nbformat_minor": 5
}
