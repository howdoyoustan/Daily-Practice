{
 "cells": [
  {
   "cell_type": "code",
   "execution_count": 2,
   "id": "578ef9cc-9036-4ac7-bd50-8745601ffdc7",
   "metadata": {},
   "outputs": [],
   "source": [
    "import numpy as np"
   ]
  },
  {
   "cell_type": "code",
   "execution_count": 2,
   "id": "4fdc9003-acbc-4e47-a0a4-79b0f2e2487c",
   "metadata": {},
   "outputs": [],
   "source": [
    "r = np.arange(2,8)"
   ]
  },
  {
   "cell_type": "code",
   "execution_count": 15,
   "id": "22b3dd25-1176-49d2-89ef-9ed07919b9c6",
   "metadata": {},
   "outputs": [
    {
     "data": {
      "text/plain": [
       "array([2, 3, 4, 5, 6, 7])"
      ]
     },
     "execution_count": 15,
     "metadata": {},
     "output_type": "execute_result"
    }
   ],
   "source": [
    "r"
   ]
  },
  {
   "cell_type": "code",
   "execution_count": 4,
   "id": "7b9aabd4-76b4-4479-9b13-59bb3595f262",
   "metadata": {},
   "outputs": [
    {
     "data": {
      "text/plain": [
       "array([5, 6])"
      ]
     },
     "execution_count": 4,
     "metadata": {},
     "output_type": "execute_result"
    }
   ],
   "source": [
    "r[3:5]"
   ]
  },
  {
   "cell_type": "code",
   "execution_count": 5,
   "id": "fb9e4032-0888-4026-b73e-cd080bd370ff",
   "metadata": {},
   "outputs": [
    {
     "data": {
      "text/plain": [
       "array([3, 4, 5])"
      ]
     },
     "execution_count": 5,
     "metadata": {},
     "output_type": "execute_result"
    }
   ],
   "source": [
    "r[-5:-2]"
   ]
  },
  {
   "cell_type": "code",
   "execution_count": 8,
   "id": "e5959736-0488-472f-934e-9c5f0a70ed97",
   "metadata": {},
   "outputs": [],
   "source": [
    "r1 = np.arange(9)"
   ]
  },
  {
   "cell_type": "code",
   "execution_count": 9,
   "id": "99fc2672-19e9-4866-8ca1-08c7ad16faf2",
   "metadata": {},
   "outputs": [
    {
     "data": {
      "text/plain": [
       "array([0, 1, 2, 3, 4, 5, 6, 7, 8])"
      ]
     },
     "execution_count": 9,
     "metadata": {},
     "output_type": "execute_result"
    }
   ],
   "source": [
    "r1"
   ]
  },
  {
   "cell_type": "code",
   "execution_count": 11,
   "id": "12e5ff3c-0e6d-49ea-931e-c405ec84f6b3",
   "metadata": {},
   "outputs": [
    {
     "data": {
      "text/plain": [
       "array([5, 6, 7])"
      ]
     },
     "execution_count": 11,
     "metadata": {},
     "output_type": "execute_result"
    }
   ],
   "source": [
    "r1[-4:-1]"
   ]
  },
  {
   "cell_type": "code",
   "execution_count": 3,
   "id": "1846eefe-9371-4667-b975-3e0d45d98cb1",
   "metadata": {},
   "outputs": [
    {
     "data": {
      "text/plain": [
       "array([20, 16, 12,  8])"
      ]
     },
     "execution_count": 3,
     "metadata": {},
     "output_type": "execute_result"
    }
   ],
   "source": [
    "r3 = np.arange(20,7,-4)\n",
    "r3"
   ]
  },
  {
   "cell_type": "markdown",
   "id": "b2879af9-ffca-4b2c-9877-70e68d82e834",
   "metadata": {},
   "source": [
    "## using insert, we pass the list to insert then the index, then the element to insert or list"
   ]
  },
  {
   "cell_type": "code",
   "execution_count": 4,
   "id": "196dc8e7-0c79-4e16-be11-4ad0cb92a4c0",
   "metadata": {},
   "outputs": [
    {
     "data": {
      "text/plain": [
       "array([11,  4, 55, 66, 77,  7,  8,  9])"
      ]
     },
     "execution_count": 4,
     "metadata": {},
     "output_type": "execute_result"
    }
   ],
   "source": [
    "r3=np.array([11,  4, 55, 66, 77,  7,  8,  9])\n",
    "r3"
   ]
  },
  {
   "cell_type": "markdown",
   "id": "11bc5aef-21ce-4aa6-967c-2362623ae2ee",
   "metadata": {},
   "source": [
    "## extracting multiple elements from indices"
   ]
  },
  {
   "cell_type": "code",
   "execution_count": 5,
   "id": "67eea5b6-4fc4-42cb-840a-46c9c3417a80",
   "metadata": {},
   "outputs": [
    {
     "data": {
      "text/plain": [
       "array([66, 77,  7])"
      ]
     },
     "execution_count": 5,
     "metadata": {},
     "output_type": "execute_result"
    }
   ],
   "source": [
    "r3[[3,4,5]]"
   ]
  },
  {
   "cell_type": "code",
   "execution_count": 6,
   "id": "d4eae53c-6fb4-4b7a-b9e6-074bcb346f81",
   "metadata": {},
   "outputs": [],
   "source": [
    "r3 = np.array([11,4,8])"
   ]
  },
  {
   "cell_type": "code",
   "execution_count": 7,
   "id": "ca5450b0-ca2f-410e-af0f-333def183c57",
   "metadata": {},
   "outputs": [],
   "source": [
    "r4 = np.array([55,66,77])"
   ]
  },
  {
   "cell_type": "code",
   "execution_count": 8,
   "id": "fbfe8ee0-a5dc-4a2c-a095-e1165c4ff1bd",
   "metadata": {},
   "outputs": [],
   "source": [
    "r3 = np.insert(r3,2,r4)"
   ]
  },
  {
   "cell_type": "code",
   "execution_count": 9,
   "id": "d6034185-f287-4c53-9c9d-e574787f7183",
   "metadata": {},
   "outputs": [
    {
     "data": {
      "text/plain": [
       "array([11,  4, 55, 66, 77,  8])"
      ]
     },
     "execution_count": 9,
     "metadata": {},
     "output_type": "execute_result"
    }
   ],
   "source": [
    "r3"
   ]
  },
  {
   "cell_type": "code",
   "execution_count": 10,
   "id": "503940cf-2b6d-4d5d-aff2-f97ff88b44c6",
   "metadata": {},
   "outputs": [],
   "source": [
    "r3 = np.insert(r3,-1,7)"
   ]
  },
  {
   "cell_type": "code",
   "execution_count": 29,
   "id": "1c1b2c32-b82c-42df-829d-d111445afb51",
   "metadata": {},
   "outputs": [
    {
     "data": {
      "text/plain": [
       "array([11,  4, 55, 66, 77,  7,  8])"
      ]
     },
     "execution_count": 29,
     "metadata": {},
     "output_type": "execute_result"
    }
   ],
   "source": [
    "r3"
   ]
  },
  {
   "cell_type": "code",
   "execution_count": 11,
   "id": "93860a85-863a-42db-a440-1405bc9be0e1",
   "metadata": {},
   "outputs": [],
   "source": [
    "r3 = np.insert(r3,len(r3),9)"
   ]
  },
  {
   "cell_type": "code",
   "execution_count": 12,
   "id": "a921d27b-cd13-4fc1-9ccd-34381d74cf0a",
   "metadata": {},
   "outputs": [
    {
     "data": {
      "text/plain": [
       "array([11,  4, 55, 66, 77,  7,  8,  9])"
      ]
     },
     "execution_count": 12,
     "metadata": {},
     "output_type": "execute_result"
    }
   ],
   "source": [
    "r3"
   ]
  },
  {
   "cell_type": "markdown",
   "id": "0e9e5291-20a6-4866-a6bf-3e297fe6ad28",
   "metadata": {},
   "source": [
    "## using concatenate\n"
   ]
  },
  {
   "cell_type": "code",
   "execution_count": 17,
   "id": "12f090ed-3ee6-43ae-b972-82efe7eedd6f",
   "metadata": {},
   "outputs": [
    {
     "data": {
      "text/plain": [
       "array([ 3,  4,  5, 11, 22, 66])"
      ]
     },
     "execution_count": 17,
     "metadata": {},
     "output_type": "execute_result"
    }
   ],
   "source": [
    "s1 = np.array([3,4,5])\n",
    "s2 = np.array([11,22,66])\n",
    "s1 = np.concatenate((s1,s2))\n",
    "s1"
   ]
  },
  {
   "cell_type": "markdown",
   "id": "5429dbc7-8c4a-4b83-a396-2e55e201adb9",
   "metadata": {},
   "source": [
    "## Using delete and passing the array followed by the index at which you want to delete"
   ]
  },
  {
   "cell_type": "code",
   "execution_count": 18,
   "id": "5a1c94c8-1768-45f5-ba40-9ec67608a83b",
   "metadata": {},
   "outputs": [
    {
     "name": "stdout",
     "output_type": "stream",
     "text": [
      "<class 'numpy.ndarray'>\n"
     ]
    }
   ],
   "source": [
    "s1 = np.delete(s1,len(s1)-1)\n",
    "s1\n",
    "print(type(s1))"
   ]
  },
  {
   "cell_type": "code",
   "execution_count": 15,
   "id": "34b6cb99-9638-4069-8bca-22de01fc4f19",
   "metadata": {},
   "outputs": [
    {
     "data": {
      "text/plain": [
       "array([[4, 7, 6, 8],\n",
       "       [3, 8, 7, 1]])"
      ]
     },
     "execution_count": 15,
     "metadata": {},
     "output_type": "execute_result"
    }
   ],
   "source": [
    "w1 = [4,7,6,8]\n",
    "w2 = [3,8,7,1]\n",
    "ar1 = np.array([w1,w2])\n",
    "ar1"
   ]
  },
  {
   "cell_type": "code",
   "execution_count": 13,
   "id": "a655b978-ad76-40df-a694-fcd2b41fa82f",
   "metadata": {},
   "outputs": [
    {
     "name": "stdout",
     "output_type": "stream",
     "text": [
      "<class 'numpy.ndarray'>\n"
     ]
    }
   ],
   "source": [
    "print(type(ar1))"
   ]
  },
  {
   "cell_type": "code",
   "execution_count": 23,
   "id": "28ff1c29-4e4f-4f83-ab2b-6ce2ee655801",
   "metadata": {
    "scrolled": true
   },
   "outputs": [
    {
     "data": {
      "text/plain": [
       "array([4, 7, 6, 8])"
      ]
     },
     "execution_count": 23,
     "metadata": {},
     "output_type": "execute_result"
    }
   ],
   "source": [
    "ar1[0]"
   ]
  },
  {
   "cell_type": "code",
   "execution_count": 21,
   "id": "8c3b69b4-fa25-46b2-adf2-7fabc24082eb",
   "metadata": {},
   "outputs": [
    {
     "data": {
      "text/plain": [
       "array([3, 8, 7, 1])"
      ]
     },
     "execution_count": 21,
     "metadata": {},
     "output_type": "execute_result"
    }
   ],
   "source": [
    "ar1[1]"
   ]
  },
  {
   "cell_type": "code",
   "execution_count": 24,
   "id": "7ec7f0ae-afc4-4511-b2db-3f40fe59c318",
   "metadata": {},
   "outputs": [
    {
     "data": {
      "text/plain": [
       "1"
      ]
     },
     "execution_count": 24,
     "metadata": {},
     "output_type": "execute_result"
    }
   ],
   "source": [
    "ar1[1][3]"
   ]
  },
  {
   "cell_type": "code",
   "execution_count": 27,
   "id": "4d56f13d-f1c9-4d62-bbee-3b6efe7eb1b5",
   "metadata": {},
   "outputs": [
    {
     "data": {
      "text/plain": [
       "array([[6, 8],\n",
       "       [7, 1]])"
      ]
     },
     "execution_count": 27,
     "metadata": {},
     "output_type": "execute_result"
    }
   ],
   "source": [
    "ar1[:,2:4]"
   ]
  },
  {
   "cell_type": "code",
   "execution_count": 32,
   "id": "1202b999-a2d1-4ed9-8dc5-a82e96cc664f",
   "metadata": {},
   "outputs": [],
   "source": [
    "ar2 = np.array(ar1[:,1:2])"
   ]
  },
  {
   "cell_type": "code",
   "execution_count": 33,
   "id": "9457fdf6-4129-4664-b1e7-0e941e0ce376",
   "metadata": {},
   "outputs": [
    {
     "data": {
      "text/plain": [
       "array([[7],\n",
       "       [8]])"
      ]
     },
     "execution_count": 33,
     "metadata": {},
     "output_type": "execute_result"
    }
   ],
   "source": [
    "ar2"
   ]
  },
  {
   "cell_type": "code",
   "execution_count": 34,
   "id": "eec20205-b91c-4c43-a511-74029b0990be",
   "metadata": {},
   "outputs": [],
   "source": [
    "ar3 = np.array(ar1[:,1:3])"
   ]
  },
  {
   "cell_type": "code",
   "execution_count": 35,
   "id": "db8dc859-245d-497f-a894-9beac14101c5",
   "metadata": {},
   "outputs": [
    {
     "data": {
      "text/plain": [
       "array([[7, 6],\n",
       "       [8, 7]])"
      ]
     },
     "execution_count": 35,
     "metadata": {},
     "output_type": "execute_result"
    }
   ],
   "source": [
    "ar3"
   ]
  },
  {
   "cell_type": "code",
   "execution_count": 37,
   "id": "b006ba25-3e46-49cf-82bc-71d473d6fdc9",
   "metadata": {},
   "outputs": [
    {
     "data": {
      "text/plain": [
       "12"
      ]
     },
     "execution_count": 37,
     "metadata": {},
     "output_type": "execute_result"
    }
   ],
   "source": [
    "x1 = np.array([1,3,2,5,6,73,5,4,87,99,3,8])\n",
    "len(x1)"
   ]
  },
  {
   "cell_type": "code",
   "execution_count": 38,
   "id": "6b6a8b75-db07-4e1d-a9ea-35e644133013",
   "metadata": {},
   "outputs": [
    {
     "data": {
      "text/plain": [
       "array([[ 1,  3,  2,  5],\n",
       "       [ 6, 73,  5,  4],\n",
       "       [87, 99,  3,  8]])"
      ]
     },
     "execution_count": 38,
     "metadata": {},
     "output_type": "execute_result"
    }
   ],
   "source": [
    "x2 = x1.reshape(3,4)\n",
    "x2"
   ]
  },
  {
   "cell_type": "code",
   "execution_count": 19,
   "id": "8e5c834c-697b-478e-acc8-499731bc3f94",
   "metadata": {},
   "outputs": [],
   "source": [
    "ar2 = np.array([5,2,4,8])"
   ]
  },
  {
   "cell_type": "code",
   "execution_count": 20,
   "id": "148d99bb-e7c0-4ed7-8871-e3c477f77d67",
   "metadata": {},
   "outputs": [],
   "source": [
    "ar1 = np.vstack([ar1,ar2])\n"
   ]
  },
  {
   "cell_type": "code",
   "execution_count": 21,
   "id": "bff7aed8-d14a-4ab2-b0ce-ea4db06f3c5c",
   "metadata": {},
   "outputs": [
    {
     "data": {
      "text/plain": [
       "array([[4, 7, 6, 8],\n",
       "       [3, 8, 7, 1],\n",
       "       [5, 2, 4, 8]])"
      ]
     },
     "execution_count": 21,
     "metadata": {},
     "output_type": "execute_result"
    }
   ],
   "source": [
    "ar1"
   ]
  },
  {
   "cell_type": "markdown",
   "id": "d1ac59da-1c3e-4eb0-a6ce-185851c5b896",
   "metadata": {},
   "source": [
    "## Inserting an array at column index 3"
   ]
  },
  {
   "cell_type": "code",
   "execution_count": 42,
   "id": "913585e3-70cb-4fd3-8e68-c1789152306f",
   "metadata": {},
   "outputs": [
    {
     "data": {
      "text/plain": [
       "array([[4, 7, 6, 8],\n",
       "       [3, 8, 7, 1],\n",
       "       [5, 2, 4, 8]])"
      ]
     },
     "execution_count": 42,
     "metadata": {},
     "output_type": "execute_result"
    }
   ],
   "source": [
    "ar1"
   ]
  },
  {
   "cell_type": "code",
   "execution_count": 79,
   "id": "7c61f987-fe3f-4760-b62e-671b6273fbac",
   "metadata": {},
   "outputs": [
    {
     "data": {
      "text/plain": [
       "array([[5],\n",
       "       [4],\n",
       "       [9]])"
      ]
     },
     "execution_count": 79,
     "metadata": {},
     "output_type": "execute_result"
    }
   ],
   "source": [
    "ar3 = np.array([5,4,9])\n",
    "ar3 = ar3.reshape(3,1)\n",
    "ar3"
   ]
  },
  {
   "cell_type": "code",
   "execution_count": 46,
   "id": "4b28ed68-b097-413d-9388-0dda2a70e872",
   "metadata": {},
   "outputs": [],
   "source": [
    "ar1 = np.hstack([ar1,ar3])"
   ]
  },
  {
   "cell_type": "code",
   "execution_count": 82,
   "id": "37cf4373-5e37-48cf-890a-49ff3a2f79ff",
   "metadata": {},
   "outputs": [
    {
     "data": {
      "text/plain": [
       "array([[4, 7, 6, 4, 4, 7],\n",
       "       [3, 8, 7, 3, 3, 8],\n",
       "       [5, 2, 4, 9, 9, 2]])"
      ]
     },
     "execution_count": 82,
     "metadata": {},
     "output_type": "execute_result"
    }
   ],
   "source": [
    "ar1"
   ]
  },
  {
   "cell_type": "code",
   "execution_count": 80,
   "id": "d49bf35b-1c5f-45c6-a4b3-71d705d4fda5",
   "metadata": {},
   "outputs": [
    {
     "data": {
      "text/plain": [
       "array([3, 8, 7, 3, 3, 8])"
      ]
     },
     "execution_count": 80,
     "metadata": {},
     "output_type": "execute_result"
    }
   ],
   "source": [
    "ar1[1]"
   ]
  },
  {
   "cell_type": "markdown",
   "id": "e52f02c5-6ab2-427e-b578-e774ae2af557",
   "metadata": {},
   "source": [
    "## extracting rows at index 2 and 1"
   ]
  },
  {
   "cell_type": "code",
   "execution_count": 81,
   "id": "f52b3874-d1b0-4230-bfc9-06e4f91cf858",
   "metadata": {},
   "outputs": [
    {
     "data": {
      "text/plain": [
       "array([[5, 2, 4, 9, 9, 2],\n",
       "       [3, 8, 7, 3, 3, 8]])"
      ]
     },
     "execution_count": 81,
     "metadata": {},
     "output_type": "execute_result"
    }
   ],
   "source": [
    "ar1[[2,1]]"
   ]
  },
  {
   "cell_type": "markdown",
   "id": "e58dc59f-41bd-4c9d-9f9e-93f2af482f57",
   "metadata": {},
   "source": [
    "## for extracting rows and columns  \n",
    "### we use ar1[:,[1,2,3]] for extracting columns at indices 1,2,3 \n",
    "### we use ar1[:,3:] to extract all columns from index 3 to the end"
   ]
  },
  {
   "cell_type": "markdown",
   "id": "9e9e4fd8-38e8-4c09-a51b-b4e698eb4ac6",
   "metadata": {},
   "source": [
    "## left eextractions"
   ]
  },
  {
   "cell_type": "code",
   "execution_count": 86,
   "id": "10b1f5a7-2fc2-4ea0-b3d7-a0b75047a39d",
   "metadata": {},
   "outputs": [
    {
     "data": {
      "text/plain": [
       "array([[4, 7, 6],\n",
       "       [3, 8, 7],\n",
       "       [5, 2, 4]])"
      ]
     },
     "execution_count": 86,
     "metadata": {},
     "output_type": "execute_result"
    }
   ],
   "source": [
    "arleft = ar1[:,:3] #we are extracting columns at index 3 and 1 since they are 2 columnns they get stacked vertically\n",
    "arleft"
   ]
  },
  {
   "cell_type": "code",
   "execution_count": 87,
   "id": "d98b157c-01e6-4905-b2f8-4d5b1bffa410",
   "metadata": {},
   "outputs": [],
   "source": [
    "## right extraactions"
   ]
  },
  {
   "cell_type": "code",
   "execution_count": 89,
   "id": "6ea251b9-ff99-4a9c-9af2-cdf9f004fe38",
   "metadata": {},
   "outputs": [
    {
     "data": {
      "text/plain": [
       "array([[4, 4, 7],\n",
       "       [3, 3, 8],\n",
       "       [9, 9, 2]])"
      ]
     },
     "execution_count": 89,
     "metadata": {},
     "output_type": "execute_result"
    }
   ],
   "source": [
    "ar_right = ar1[:,3:]\n",
    "ar_right"
   ]
  },
  {
   "cell_type": "markdown",
   "id": "4b7bad12-8b65-4d4c-8832-99e36f6e8d2a",
   "metadata": {},
   "source": [
    "## creating a new array then reshaping it "
   ]
  },
  {
   "cell_type": "code",
   "execution_count": 61,
   "id": "df4cbd2f-104b-42ce-b63c-ce611b740937",
   "metadata": {},
   "outputs": [],
   "source": [
    "ar4 = np.array([4,3,9])"
   ]
  },
  {
   "cell_type": "code",
   "execution_count": 72,
   "id": "964abb56-32e5-4549-9088-b058c99705f8",
   "metadata": {},
   "outputs": [],
   "source": [
    "ar4=ar4.reshape(3,1)\n"
   ]
  },
  {
   "cell_type": "code",
   "execution_count": 70,
   "id": "79796c08-dfee-47f9-807b-9d431c3ee5f8",
   "metadata": {},
   "outputs": [
    {
     "data": {
      "text/plain": [
       "array([[4, 7, 6],\n",
       "       [3, 8, 7],\n",
       "       [5, 2, 4]])"
      ]
     },
     "execution_count": 70,
     "metadata": {},
     "output_type": "execute_result"
    }
   ],
   "source": [
    "ar1=ar1[0:3,0:3]\n",
    "ar1"
   ]
  },
  {
   "cell_type": "markdown",
   "id": "78b0dd33-dbc6-4a73-974c-af2ee945685b",
   "metadata": {},
   "source": [
    "## we can use hstack all 3 arrays together"
   ]
  },
  {
   "cell_type": "code",
   "execution_count": null,
   "id": "e4289129-fa63-4722-be57-bb2befb24270",
   "metadata": {},
   "outputs": [],
   "source": [
    "ar1 = np.hstack([ar_left,newcol,ar_right])"
   ]
  },
  {
   "cell_type": "code",
   "execution_count": 90,
   "id": "8142f208-02db-4967-9cbc-0722f9ed2b11",
   "metadata": {},
   "outputs": [
    {
     "data": {
      "text/plain": [
       "array([[4, 7, 6, 4, 4, 7],\n",
       "       [3, 8, 7, 3, 3, 8],\n",
       "       [5, 2, 4, 9, 9, 2]])"
      ]
     },
     "execution_count": 90,
     "metadata": {},
     "output_type": "execute_result"
    }
   ],
   "source": [
    "ar1"
   ]
  },
  {
   "cell_type": "markdown",
   "id": "a0fa849d-bebd-472c-aa4c-7dbe996a1cf9",
   "metadata": {},
   "source": [
    "# Inserting elements\n"
   ]
  },
  {
   "cell_type": "code",
   "execution_count": 96,
   "id": "20c5ea37-f7ae-423d-919d-a5a5c805e693",
   "metadata": {},
   "outputs": [
    {
     "data": {
      "text/plain": [
       "array([[4, 7, 6, 1, 4, 4, 7],\n",
       "       [3, 8, 7, 2, 3, 3, 8],\n",
       "       [5, 2, 4, 3, 9, 9, 2]])"
      ]
     },
     "execution_count": 96,
     "metadata": {},
     "output_type": "execute_result"
    }
   ],
   "source": [
    "np.insert(ar1,3,[1,2,3],axis=1)"
   ]
  },
  {
   "cell_type": "code",
   "execution_count": 98,
   "id": "0011cd9c-b1a5-4c17-85ad-8b4b8f8722d3",
   "metadata": {},
   "outputs": [
    {
     "data": {
      "text/plain": [
       "array([[4, 7, 6, 1, 1, 4, 4, 7],\n",
       "       [3, 8, 7, 2, 2, 3, 3, 8],\n",
       "       [5, 2, 4, 3, 3, 9, 9, 2]])"
      ]
     },
     "execution_count": 98,
     "metadata": {},
     "output_type": "execute_result"
    }
   ],
   "source": [
    "ar1 = np.insert(ar1,3,[1,2,3],axis=1)\n",
    "ar1"
   ]
  },
  {
   "cell_type": "markdown",
   "id": "51c0b9a9-179c-4127-a39e-89b18f4e1930",
   "metadata": {},
   "source": [
    "# Deleting elements"
   ]
  },
  {
   "cell_type": "code",
   "execution_count": 99,
   "id": "251ee543-58e1-4a50-9d83-4df5ace85b69",
   "metadata": {},
   "outputs": [],
   "source": [
    "ar1 = np.delete(ar1,(5,4),axis=1)"
   ]
  },
  {
   "cell_type": "code",
   "execution_count": 100,
   "id": "f64168df-4046-492a-bd02-bdb239af1703",
   "metadata": {},
   "outputs": [
    {
     "data": {
      "text/plain": [
       "array([[4, 7, 6, 1, 4, 7],\n",
       "       [3, 8, 7, 2, 3, 8],\n",
       "       [5, 2, 4, 3, 9, 2]])"
      ]
     },
     "execution_count": 100,
     "metadata": {},
     "output_type": "execute_result"
    }
   ],
   "source": [
    "ar1"
   ]
  },
  {
   "cell_type": "code",
   "execution_count": 101,
   "id": "0ad2b0f3-86e1-44ec-86b2-bc22b44cc551",
   "metadata": {},
   "outputs": [
    {
     "data": {
      "text/plain": [
       "array([[4, 7, 9, 6, 1, 4, 7],\n",
       "       [3, 8, 9, 7, 2, 3, 8],\n",
       "       [5, 2, 9, 4, 3, 9, 2]])"
      ]
     },
     "execution_count": 101,
     "metadata": {},
     "output_type": "execute_result"
    }
   ],
   "source": [
    "ar1 = np.insert(ar1,2,[9,9,9],axis=1)\n",
    "ar1"
   ]
  },
  {
   "cell_type": "markdown",
   "id": "83d6cb5e-ee55-4e3e-a2ad-076705bcf94f",
   "metadata": {},
   "source": [
    "## inserting rows"
   ]
  },
  {
   "cell_type": "code",
   "execution_count": 102,
   "id": "39c1b287-d09e-4d92-b14b-6ab419ba48c2",
   "metadata": {},
   "outputs": [],
   "source": [
    "ar1 = np.insert(ar1,1,[1,2,3,4,5,6,7],axis=0)"
   ]
  },
  {
   "cell_type": "code",
   "execution_count": 103,
   "id": "9b185e03-533c-4e51-9689-da916a0177e0",
   "metadata": {},
   "outputs": [
    {
     "data": {
      "text/plain": [
       "array([[4, 7, 9, 6, 1, 4, 7],\n",
       "       [1, 2, 3, 4, 5, 6, 7],\n",
       "       [3, 8, 9, 7, 2, 3, 8],\n",
       "       [5, 2, 9, 4, 3, 9, 2]])"
      ]
     },
     "execution_count": 103,
     "metadata": {},
     "output_type": "execute_result"
    }
   ],
   "source": [
    "ar1"
   ]
  },
  {
   "cell_type": "markdown",
   "id": "9852d337-6fda-4f99-abb7-fb8f8238d3ab",
   "metadata": {},
   "source": [
    "# "
   ]
  },
  {
   "cell_type": "code",
   "execution_count": 104,
   "id": "e1c7f222-ab77-47ef-875e-ced5f7d85464",
   "metadata": {},
   "outputs": [
    {
     "data": {
      "text/plain": [
       "array([   4,    5,   12,   67,   75,   78,   78,  234,  645, 6456])"
      ]
     },
     "execution_count": 104,
     "metadata": {},
     "output_type": "execute_result"
    }
   ],
   "source": [
    "xa = np.array([4,5,78,234,645,6456,75,78,12,67])\n",
    "np.sort(xa)"
   ]
  },
  {
   "cell_type": "code",
   "execution_count": 121,
   "id": "e151789a-1b9d-455a-8cac-2d8c6641dbfe",
   "metadata": {},
   "outputs": [
    {
     "data": {
      "text/plain": [
       "array([[ 1,  4,  7,  9],\n",
       "       [ 6, 23, 78, 17],\n",
       "       [ 5, 45, 12, 33]])"
      ]
     },
     "execution_count": 121,
     "metadata": {},
     "output_type": "execute_result"
    }
   ],
   "source": [
    "xb = np.array([1,4,7,9,6,23,78,17,5,45,12,33])\n",
    "len(xb)\n",
    "xc = xb.reshape(3,4)\n",
    "xc"
   ]
  },
  {
   "cell_type": "markdown",
   "id": "7005d1b7-04d6-4f8a-a273-32453fea7223",
   "metadata": {},
   "source": [
    "## sorting based on rows will ensure that the first row will have the least values and column values will stay intact\n"
   ]
  },
  {
   "cell_type": "code",
   "execution_count": 122,
   "id": "94feda0a-9381-498c-a052-3a79137bedc5",
   "metadata": {},
   "outputs": [
    {
     "data": {
      "text/plain": [
       "array([[ 1,  4,  7,  9],\n",
       "       [ 5, 23, 12, 17],\n",
       "       [ 6, 45, 78, 33]])"
      ]
     },
     "execution_count": 122,
     "metadata": {},
     "output_type": "execute_result"
    }
   ],
   "source": [
    "xr = np.sort(xc,axis=0)\n",
    "xr"
   ]
  },
  {
   "cell_type": "markdown",
   "id": "d54b8b83-72de-4fc3-9eaf-f36b13fda223",
   "metadata": {},
   "source": [
    "## sorting based on column will ensure that the first column will have least values and rows stay intact (this is also default sorting)"
   ]
  },
  {
   "cell_type": "code",
   "execution_count": 123,
   "id": "4f3052aa-53f7-4517-a7ab-0d52b5ad9c9f",
   "metadata": {},
   "outputs": [
    {
     "data": {
      "text/plain": [
       "array([[ 1,  4,  7,  9],\n",
       "       [ 6, 17, 23, 78],\n",
       "       [ 5, 12, 33, 45]])"
      ]
     },
     "execution_count": 123,
     "metadata": {},
     "output_type": "execute_result"
    }
   ],
   "source": [
    "xd = np.sort(xc,axis=1)\n",
    "xd"
   ]
  },
  {
   "cell_type": "code",
   "execution_count": 118,
   "id": "f98cf3b4-1da3-44f8-84d1-7cf3ffc0c755",
   "metadata": {},
   "outputs": [
    {
     "data": {
      "text/plain": [
       "array([[ 1,  4,  7,  9],\n",
       "       [ 6, 12, 17, 23],\n",
       "       [ 5, 33, 45, 78]])"
      ]
     },
     "execution_count": 118,
     "metadata": {},
     "output_type": "execute_result"
    }
   ],
   "source": [
    "defaultsort = np.sort(xc)\n",
    "defaultsort"
   ]
  },
  {
   "cell_type": "markdown",
   "id": "9ac32a31-c800-4697-b826-59671e95c728",
   "metadata": {},
   "source": [
    "# We are trying to look for a certain value inside a single dimensional array, this we could figure out based on a condition and figuring out the indices at where the condition matches or doesnt; "
   ]
  },
  {
   "cell_type": "code",
   "execution_count": 124,
   "id": "97dcbad9-6a95-48c0-81f2-5fc40a81028a",
   "metadata": {},
   "outputs": [],
   "source": [
    "y = np.array([3,6,5,7,8,1,9,10,4,2])"
   ]
  },
  {
   "cell_type": "code",
   "execution_count": 126,
   "id": "520b6191-7a6e-4a7e-bfb4-3caa8779fa29",
   "metadata": {},
   "outputs": [
    {
     "data": {
      "text/plain": [
       "(array([0, 5, 9], dtype=int64),)"
      ]
     },
     "execution_count": 126,
     "metadata": {},
     "output_type": "execute_result"
    }
   ],
   "source": [
    "t1 = np.where(y<4)\n",
    "t1"
   ]
  },
  {
   "cell_type": "code",
   "execution_count": 127,
   "id": "39eb527f-defc-4dc1-8680-056542a19b49",
   "metadata": {},
   "outputs": [
    {
     "name": "stdout",
     "output_type": "stream",
     "text": [
      "1\n"
     ]
    }
   ],
   "source": [
    "print(len(t1))"
   ]
  },
  {
   "cell_type": "code",
   "execution_count": 128,
   "id": "b0a7e6c4-171d-429c-a170-897e8f42aa3a",
   "metadata": {},
   "outputs": [
    {
     "data": {
      "text/plain": [
       "array([0, 5, 9], dtype=int64)"
      ]
     },
     "execution_count": 128,
     "metadata": {},
     "output_type": "execute_result"
    }
   ],
   "source": [
    "t1[0]"
   ]
  },
  {
   "cell_type": "code",
   "execution_count": 130,
   "id": "d36e94a9-8c42-431d-bd3f-3e5d014d9cb3",
   "metadata": {},
   "outputs": [
    {
     "data": {
      "text/plain": [
       "0"
      ]
     },
     "execution_count": 130,
     "metadata": {},
     "output_type": "execute_result"
    }
   ],
   "source": [
    "t1[0][0]"
   ]
  },
  {
   "cell_type": "code",
   "execution_count": 161,
   "id": "346373f2-6347-4000-b4df-c4487adfe003",
   "metadata": {},
   "outputs": [],
   "source": [
    "q = np.array([2,4,6,8,1])"
   ]
  },
  {
   "cell_type": "markdown",
   "id": "0470a296-4f59-4ce1-8e11-f2f0157a7789",
   "metadata": {},
   "source": [
    "## where are the values which meet a criteria \n"
   ]
  },
  {
   "cell_type": "code",
   "execution_count": 162,
   "id": "8ab3bdfb-d431-4b71-9c3a-fded59b2fecf",
   "metadata": {},
   "outputs": [],
   "source": [
    "z = np.where(q<4)\n",
    "u=z[0]"
   ]
  },
  {
   "cell_type": "markdown",
   "id": "358a8319-d7dd-4817-8144-2ca51c2e718a",
   "metadata": {},
   "source": [
    "## what are the values that meet the criteria"
   ]
  },
  {
   "cell_type": "code",
   "execution_count": 138,
   "id": "b4a0d52a-7527-4e40-9188-a903a9a4f567",
   "metadata": {},
   "outputs": [
    {
     "name": "stdout",
     "output_type": "stream",
     "text": [
      "2,1,"
     ]
    }
   ],
   "source": [
    "for i in range(len(z[0])):\n",
    "    print(q[z[0][i]],end=',')"
   ]
  },
  {
   "cell_type": "code",
   "execution_count": 164,
   "id": "7be08b84-61bf-4786-a284-cceff554416e",
   "metadata": {},
   "outputs": [
    {
     "data": {
      "text/plain": [
       "array([2, 1])"
      ]
     },
     "execution_count": 164,
     "metadata": {},
     "output_type": "execute_result"
    }
   ],
   "source": [
    "q[z]"
   ]
  },
  {
   "cell_type": "markdown",
   "id": "43a164ac-5b55-4966-b08f-6087d03ff018",
   "metadata": {},
   "source": [
    "## how many values meet the critera"
   ]
  },
  {
   "cell_type": "code",
   "execution_count": 144,
   "id": "e9cc4648-1734-43aa-af2e-b1cd4fc9e67c",
   "metadata": {},
   "outputs": [
    {
     "name": "stdout",
     "output_type": "stream",
     "text": [
      "The nummber of values meeting the criteria are  2"
     ]
    }
   ],
   "source": [
    "cnt = 0\n",
    "for i in range(len(z[0])):\n",
    "    cnt+=1\n",
    "print(\"The nummber of values meeting the criteria are  \",end=str(cnt))"
   ]
  },
  {
   "cell_type": "code",
   "execution_count": 146,
   "id": "2311d699-4bf8-48ac-86be-c4947d431b53",
   "metadata": {},
   "outputs": [
    {
     "data": {
      "text/plain": [
       "2"
      ]
     },
     "execution_count": 146,
     "metadata": {},
     "output_type": "execute_result"
    }
   ],
   "source": [
    "(q<4).sum() #for how many values"
   ]
  },
  {
   "cell_type": "markdown",
   "id": "83d51c4e-60f8-4e3b-a3ff-b49ea8740d3a",
   "metadata": {},
   "source": [
    "## even and odd numbers filtering"
   ]
  },
  {
   "cell_type": "code",
   "execution_count": 176,
   "id": "28a10a20-57ad-4037-8ef9-0e3e1414d483",
   "metadata": {},
   "outputs": [],
   "source": [
    "c = np.array([11,43,56,87,98,234,56,89])"
   ]
  },
  {
   "cell_type": "code",
   "execution_count": 177,
   "id": "7e882a07-baed-4949-873d-dd43d6f7be72",
   "metadata": {},
   "outputs": [],
   "source": [
    "e = np.where(c%2==0)\n",
    "a1 = e[0] #where the values are"
   ]
  },
  {
   "cell_type": "code",
   "execution_count": 178,
   "id": "cb8392ba-d323-4254-88cd-044dd7791ad1",
   "metadata": {},
   "outputs": [],
   "source": [
    "even = c[a1] #what the even values are"
   ]
  },
  {
   "cell_type": "code",
   "execution_count": 179,
   "id": "2b5ac4b4-1265-4173-bbec-0e074bc2f510",
   "metadata": {},
   "outputs": [],
   "source": [
    "o = np.where(c%2==1)\n",
    "a2 = o[0]"
   ]
  },
  {
   "cell_type": "code",
   "execution_count": 180,
   "id": "3c6be4af-00b6-457e-a7e0-ee26e41ffbcb",
   "metadata": {},
   "outputs": [],
   "source": [
    "odd = c[a2] #what the odd values are"
   ]
  },
  {
   "cell_type": "code",
   "execution_count": 182,
   "id": "682a6bff-6ee4-4e9b-bf5c-04036e60c2bf",
   "metadata": {},
   "outputs": [
    {
     "data": {
      "text/plain": [
       "array([ 56,  98, 234,  56])"
      ]
     },
     "execution_count": 182,
     "metadata": {},
     "output_type": "execute_result"
    }
   ],
   "source": [
    "even"
   ]
  },
  {
   "cell_type": "code",
   "execution_count": 183,
   "id": "0e2f7df7-2aec-4681-876a-54281f28bd8c",
   "metadata": {},
   "outputs": [
    {
     "data": {
      "text/plain": [
       "array([11, 43, 87, 89])"
      ]
     },
     "execution_count": 183,
     "metadata": {},
     "output_type": "execute_result"
    }
   ],
   "source": [
    "odd"
   ]
  },
  {
   "cell_type": "markdown",
   "id": "04960038-8dd7-4aa6-b736-1285cf8b7d49",
   "metadata": {},
   "source": [
    "## where on 2D Array"
   ]
  },
  {
   "cell_type": "code",
   "execution_count": 190,
   "id": "0d551963-998e-44ad-ad97-6dc5638728fb",
   "metadata": {},
   "outputs": [
    {
     "data": {
      "text/plain": [
       "array([[3, 6, 5, 4],\n",
       "       [7, 6, 9, 1],\n",
       "       [2, 5, 6, 2]])"
      ]
     },
     "execution_count": 190,
     "metadata": {},
     "output_type": "execute_result"
    }
   ],
   "source": [
    "ar2 = np.array([3,6,5,4,7,6,9,1,2,5,6,2])\n",
    "ar2 = ar2.reshape(3,4)\n",
    "ar2"
   ]
  },
  {
   "cell_type": "code",
   "execution_count": 194,
   "id": "d1f96d53-f35b-4190-b46a-933cf3f504fb",
   "metadata": {},
   "outputs": [
    {
     "data": {
      "text/plain": [
       "(array([0, 1, 2, 2], dtype=int64), array([0, 3, 0, 3], dtype=int64))"
      ]
     },
     "execution_count": 194,
     "metadata": {},
     "output_type": "execute_result"
    }
   ],
   "source": [
    "p=np.where(ar2<4)\n",
    "p"
   ]
  },
  {
   "cell_type": "code",
   "execution_count": 195,
   "id": "b03aabe1-cb93-4bc5-afde-fc405d1886a3",
   "metadata": {},
   "outputs": [
    {
     "data": {
      "text/plain": [
       "array([3, 1, 2, 2])"
      ]
     },
     "execution_count": 195,
     "metadata": {},
     "output_type": "execute_result"
    }
   ],
   "source": [
    "s=ar2[p]\n",
    "s"
   ]
  },
  {
   "cell_type": "code",
   "execution_count": 193,
   "id": "2b16bd32-278b-4711-898e-02512963e92f",
   "metadata": {},
   "outputs": [
    {
     "data": {
      "text/plain": [
       "2"
      ]
     },
     "execution_count": 193,
     "metadata": {},
     "output_type": "execute_result"
    }
   ],
   "source": [
    "len(p)"
   ]
  },
  {
   "cell_type": "code",
   "execution_count": 189,
   "id": "b960a1a7-8ab8-4685-84d0-729ec1cd4e60",
   "metadata": {},
   "outputs": [
    {
     "data": {
      "text/plain": [
       "4"
      ]
     },
     "execution_count": 189,
     "metadata": {},
     "output_type": "execute_result"
    }
   ],
   "source": [
    "len(s)"
   ]
  },
  {
   "cell_type": "code",
   "execution_count": null,
   "id": "af6dce4c-f4ad-4cf3-8d6b-45854e55b962",
   "metadata": {},
   "outputs": [],
   "source": []
  }
 ],
 "metadata": {
  "kernelspec": {
   "display_name": "Python 3 (ipykernel)",
   "language": "python",
   "name": "python3"
  },
  "language_info": {
   "codemirror_mode": {
    "name": "ipython",
    "version": 3
   },
   "file_extension": ".py",
   "mimetype": "text/x-python",
   "name": "python",
   "nbconvert_exporter": "python",
   "pygments_lexer": "ipython3",
   "version": "3.12.2"
  }
 },
 "nbformat": 4,
 "nbformat_minor": 5
}
