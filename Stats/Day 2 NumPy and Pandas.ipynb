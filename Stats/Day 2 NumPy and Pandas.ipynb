{
 "cells": [
  {
   "cell_type": "code",
   "execution_count": 1,
   "id": "e4695e02-df02-4e61-843c-9f03c3296521",
   "metadata": {},
   "outputs": [],
   "source": [
    "import numpy as np\n",
    "import pandas as pd\n",
    "from numpy import random"
   ]
  },
  {
   "cell_type": "markdown",
   "id": "6d81c2e0-94fd-4b87-b183-3e1a2f7fa6f3",
   "metadata": {},
   "source": [
    "## using 2 conditions to filter\n"
   ]
  },
  {
   "cell_type": "code",
   "execution_count": 30,
   "id": "cff87319-074c-4f17-8cc4-e2b80b59c336",
   "metadata": {},
   "outputs": [
    {
     "data": {
      "text/plain": [
       "array([8, 7, 6, 5, 5])"
      ]
     },
     "execution_count": 30,
     "metadata": {},
     "output_type": "execute_result"
    }
   ],
   "source": [
    "x1 = np.array([3,8,7,6,5,10,5,0,10])\n",
    "w1 = np.where((x1>=4) & (x1<=8))\n",
    "x1[w1]"
   ]
  },
  {
   "cell_type": "code",
   "execution_count": 32,
   "id": "bd1c53a4-49a7-455c-b809-c6caa0bc896e",
   "metadata": {},
   "outputs": [
    {
     "data": {
      "text/plain": [
       "array([8, 7, 6, 5, 5])"
      ]
     },
     "execution_count": 32,
     "metadata": {},
     "output_type": "execute_result"
    }
   ],
   "source": [
    "t1 = np.where((x1>=4) & (x1<=8))\n",
    "x1[t1]"
   ]
  },
  {
   "cell_type": "code",
   "execution_count": 33,
   "id": "ddbda120-7ee8-492a-8451-cfee0bb8c6f9",
   "metadata": {},
   "outputs": [
    {
     "data": {
      "text/plain": [
       "array([1, 2, 3, 4, 6], dtype=int64)"
      ]
     },
     "execution_count": 33,
     "metadata": {},
     "output_type": "execute_result"
    }
   ],
   "source": [
    "t1[0]"
   ]
  },
  {
   "cell_type": "code",
   "execution_count": 35,
   "id": "524bdea5-6112-45e6-a9b6-4117de57ec37",
   "metadata": {},
   "outputs": [
    {
     "data": {
      "text/plain": [
       "array([8, 7, 6, 5, 5])"
      ]
     },
     "execution_count": 35,
     "metadata": {},
     "output_type": "execute_result"
    }
   ],
   "source": [
    "x1[t1[0]] #same as x1[t1]"
   ]
  },
  {
   "cell_type": "code",
   "execution_count": 38,
   "id": "4c9a91cc-e349-44ad-9e3f-82a00c59f099",
   "metadata": {},
   "outputs": [
    {
     "data": {
      "text/plain": [
       "5"
      ]
     },
     "execution_count": 38,
     "metadata": {},
     "output_type": "execute_result"
    }
   ],
   "source": [
    "((x1>=4) & (x1<=8)).sum() #easier way to figure out count"
   ]
  },
  {
   "cell_type": "code",
   "execution_count": 39,
   "id": "6b28e436-8454-4de8-bc06-c163013ad4b6",
   "metadata": {},
   "outputs": [
    {
     "data": {
      "text/plain": [
       "array([False,  True,  True,  True,  True, False,  True, False, False])"
      ]
     },
     "execution_count": 39,
     "metadata": {},
     "output_type": "execute_result"
    }
   ],
   "source": [
    "((x1>=4) & (x1<=8))"
   ]
  },
  {
   "cell_type": "markdown",
   "id": "d00c5374-47bb-4139-b2ec-7ebf439e754e",
   "metadata": {},
   "source": [
    "## Broadcasting across an array."
   ]
  },
  {
   "cell_type": "code",
   "execution_count": 42,
   "id": "d768bcf1-fb89-41c8-8cdb-901290f57f3d",
   "metadata": {},
   "outputs": [
    {
     "data": {
      "text/plain": [
       "array([ 9,  7, 10, 11, 12,  3])"
      ]
     },
     "execution_count": 42,
     "metadata": {},
     "output_type": "execute_result"
    }
   ],
   "source": [
    "x2 = np.array([6,4,7,8,9,0])\n",
    "x3 = x2+3\n",
    "x3"
   ]
  },
  {
   "cell_type": "code",
   "execution_count": 57,
   "id": "28400b14-fd6f-47f0-82eb-f1450ce1aa8f",
   "metadata": {},
   "outputs": [
    {
     "data": {
      "text/plain": [
       "array([[ 3,  4,  5,  1],\n",
       "       [ 2,  8,  9, 32],\n",
       "       [56, 78, 11, 12]])"
      ]
     },
     "execution_count": 57,
     "metadata": {},
     "output_type": "execute_result"
    }
   ],
   "source": [
    "x2 = np.array([3,4,5,1,2,8,9,32,56,78,11,12])\n",
    "x2 = x2.reshape(3,4)\n",
    "x2"
   ]
  },
  {
   "cell_type": "code",
   "execution_count": 47,
   "id": "686ae593-54fb-468e-998b-6723b0614e14",
   "metadata": {},
   "outputs": [
    {
     "data": {
      "text/plain": [
       "array([1, 3, 5, 7])"
      ]
     },
     "execution_count": 47,
     "metadata": {},
     "output_type": "execute_result"
    }
   ],
   "source": [
    "x3 = np.array([1,3,5,7])\n",
    "x3"
   ]
  },
  {
   "cell_type": "code",
   "execution_count": 48,
   "id": "2f162855-6e37-4440-b512-0870e129c6db",
   "metadata": {},
   "outputs": [
    {
     "data": {
      "text/plain": [
       "array([[ 4,  7, 10,  8],\n",
       "       [ 3, 11, 14, 39],\n",
       "       [57, 81, 16, 19]])"
      ]
     },
     "execution_count": 48,
     "metadata": {},
     "output_type": "execute_result"
    }
   ],
   "source": [
    "x2 + x3\n"
   ]
  },
  {
   "cell_type": "code",
   "execution_count": 49,
   "id": "466aeb2e-5a0e-48db-a861-aadc191e1d02",
   "metadata": {},
   "outputs": [
    {
     "data": {
      "text/plain": [
       "array([[  9,  12,  15,   3],\n",
       "       [  6,  24,  27,  96],\n",
       "       [168, 234,  33,  36]])"
      ]
     },
     "execution_count": 49,
     "metadata": {},
     "output_type": "execute_result"
    }
   ],
   "source": [
    "x2*3"
   ]
  },
  {
   "cell_type": "code",
   "execution_count": 59,
   "id": "69907ebe-2d91-4ef7-920a-4a7ba02fe16b",
   "metadata": {},
   "outputs": [],
   "source": [
    "x4 = np.array([3,5,7])\n",
    "x4=x4.reshape(3,1)"
   ]
  },
  {
   "cell_type": "code",
   "execution_count": 60,
   "id": "1b185ca0-de82-4f96-87f8-df02cfb14526",
   "metadata": {},
   "outputs": [
    {
     "data": {
      "text/plain": [
       "array([[ 6,  7,  8,  4],\n",
       "       [ 7, 13, 14, 37],\n",
       "       [63, 85, 18, 19]])"
      ]
     },
     "execution_count": 60,
     "metadata": {},
     "output_type": "execute_result"
    }
   ],
   "source": [
    "x2+x4"
   ]
  },
  {
   "cell_type": "code",
   "execution_count": 64,
   "id": "94deabd8-e8e0-45c6-bbd7-50e53081691b",
   "metadata": {},
   "outputs": [
    {
     "data": {
      "text/plain": [
       "array([2, 3, 4, 5, 6, 7, 8, 9])"
      ]
     },
     "execution_count": 64,
     "metadata": {},
     "output_type": "execute_result"
    }
   ],
   "source": [
    "x1=np.array([4,9,6,2,3,4,5,7,6,5,4,8,9])\n",
    "x2 = np.unique(x1)\n",
    "x2"
   ]
  },
  {
   "cell_type": "code",
   "execution_count": 66,
   "id": "ec52d21d-4983-4e55-8ec9-1c7db340415e",
   "metadata": {},
   "outputs": [
    {
     "data": {
      "text/plain": [
       "True"
      ]
     },
     "execution_count": 66,
     "metadata": {},
     "output_type": "execute_result"
    }
   ],
   "source": [
    "4 in x2 #elemts present in a list"
   ]
  },
  {
   "cell_type": "code",
   "execution_count": 67,
   "id": "bc0f4d06-4fcf-4f63-9418-839d64ff44c3",
   "metadata": {},
   "outputs": [
    {
     "data": {
      "text/plain": [
       "False"
      ]
     },
     "execution_count": 67,
     "metadata": {},
     "output_type": "execute_result"
    }
   ],
   "source": [
    "10 in x2"
   ]
  },
  {
   "cell_type": "code",
   "execution_count": 68,
   "id": "fea944ad-68f4-4350-af18-ad91e78e1803",
   "metadata": {},
   "outputs": [
    {
     "data": {
      "text/plain": [
       "True"
      ]
     },
     "execution_count": 68,
     "metadata": {},
     "output_type": "execute_result"
    }
   ],
   "source": [
    "(4 in x1) | (6 in x1) | (10 in x1)"
   ]
  },
  {
   "cell_type": "code",
   "execution_count": 69,
   "id": "e69a73b2-a795-4030-acf7-0403ac68e6d2",
   "metadata": {},
   "outputs": [
    {
     "data": {
      "text/plain": [
       "array([ True, False,  True, False, False,  True, False, False,  True,\n",
       "       False,  True, False, False])"
      ]
     },
     "execution_count": 69,
     "metadata": {},
     "output_type": "execute_result"
    }
   ],
   "source": [
    "np.in1d(x1,[4,6,10])"
   ]
  },
  {
   "cell_type": "code",
   "execution_count": 70,
   "id": "95b425fa-21e0-4388-8c88-24c21b242fdb",
   "metadata": {},
   "outputs": [
    {
     "data": {
      "text/plain": [
       "(array([ 0,  2,  5,  8, 10], dtype=int64),)"
      ]
     },
     "execution_count": 70,
     "metadata": {},
     "output_type": "execute_result"
    }
   ],
   "source": [
    "np.where(np.in1d(x1,[4,6,10]))"
   ]
  },
  {
   "cell_type": "markdown",
   "id": "8c36a552-5d7a-4bde-8d82-61f0f004f7d6",
   "metadata": {},
   "source": [
    "## sets"
   ]
  },
  {
   "cell_type": "code",
   "execution_count": 71,
   "id": "e1ff4d7d-4a76-4a71-adbd-81fc4a4cca63",
   "metadata": {},
   "outputs": [],
   "source": [
    "x1 = np.array([2,9,4,7,1,5])"
   ]
  },
  {
   "cell_type": "code",
   "execution_count": 72,
   "id": "960b962c-6792-4f8d-a13b-e16789ea1e58",
   "metadata": {},
   "outputs": [],
   "source": [
    "x2 = np.array([4,8,6,3,7])"
   ]
  },
  {
   "cell_type": "code",
   "execution_count": 74,
   "id": "1e64aa6d-3d02-4798-9ab7-8acf7a3d3be2",
   "metadata": {},
   "outputs": [
    {
     "data": {
      "text/plain": [
       "array([4, 7])"
      ]
     },
     "execution_count": 74,
     "metadata": {},
     "output_type": "execute_result"
    }
   ],
   "source": [
    "np.intersect1d(x1,x2)"
   ]
  },
  {
   "cell_type": "code",
   "execution_count": 75,
   "id": "d79ba4fd-a0c4-4d21-9e65-9ba4b0333434",
   "metadata": {},
   "outputs": [
    {
     "data": {
      "text/plain": [
       "array([1, 2, 3, 4, 5, 6, 7, 8, 9])"
      ]
     },
     "execution_count": 75,
     "metadata": {},
     "output_type": "execute_result"
    }
   ],
   "source": [
    "np.union1d(x1,x2)"
   ]
  },
  {
   "cell_type": "code",
   "execution_count": 76,
   "id": "311d19d5-e94a-49ff-81d2-ed6eca080a69",
   "metadata": {},
   "outputs": [
    {
     "data": {
      "text/plain": [
       "array([1, 2, 5, 9])"
      ]
     },
     "execution_count": 76,
     "metadata": {},
     "output_type": "execute_result"
    }
   ],
   "source": [
    "np.setdiff1d(x1,x2)"
   ]
  },
  {
   "cell_type": "code",
   "execution_count": 77,
   "id": "a22f9a29-d7fa-444a-81b0-8aaf8c3df778",
   "metadata": {},
   "outputs": [
    {
     "data": {
      "text/plain": [
       "array([1, 2, 3, 5, 6, 8, 9])"
      ]
     },
     "execution_count": 77,
     "metadata": {},
     "output_type": "execute_result"
    }
   ],
   "source": [
    "np.setxor1d(x1,x2)"
   ]
  },
  {
   "cell_type": "markdown",
   "id": "feebe30f-f0ba-46c9-9366-a97390c1162a",
   "metadata": {},
   "source": [
    "## RANDOM\n"
   ]
  },
  {
   "cell_type": "code",
   "execution_count": 80,
   "id": "2df8d0c5-a392-4009-8d2f-83fde30e758f",
   "metadata": {},
   "outputs": [
    {
     "data": {
      "text/plain": [
       "array([0.45440621, 0.54375675, 0.62060479, 0.83238701, 0.34589512,\n",
       "       0.61468497, 0.10207845, 0.93004704, 0.48441986, 0.41921038])"
      ]
     },
     "execution_count": 80,
     "metadata": {},
     "output_type": "execute_result"
    }
   ],
   "source": [
    "np.random.rand(10)"
   ]
  },
  {
   "cell_type": "code",
   "execution_count": 39,
   "id": "e5000e28-407a-4cd9-bbe7-23d43789bc41",
   "metadata": {},
   "outputs": [
    {
     "data": {
      "text/plain": [
       "array([0.742, 0.533, 0.996, 0.313, 0.469, 0.428, 0.4  , 0.917, 0.34 ,\n",
       "       0.329])"
      ]
     },
     "execution_count": 39,
     "metadata": {},
     "output_type": "execute_result"
    }
   ],
   "source": [
    "np.round(np.random.rand(10),3)"
   ]
  },
  {
   "cell_type": "code",
   "execution_count": 84,
   "id": "d7b564ec-210b-44c4-9c2d-e3b75acfb62c",
   "metadata": {},
   "outputs": [
    {
     "data": {
      "text/plain": [
       "28"
      ]
     },
     "execution_count": 84,
     "metadata": {},
     "output_type": "execute_result"
    }
   ],
   "source": [
    "np.random.randint(20,40)"
   ]
  },
  {
   "cell_type": "markdown",
   "id": "b0655a51-d319-4262-8a19-70143839349f",
   "metadata": {
    "scrolled": true
   },
   "source": [
    "## 10 random numbers between 20 and 30 rounding upto 2 decimal palces"
   ]
  },
  {
   "cell_type": "code",
   "execution_count": 98,
   "id": "2ed59ea4-e985-414b-87c1-419f3a183b63",
   "metadata": {},
   "outputs": [
    {
     "data": {
      "text/plain": [
       "array([20, 22, 25, 28, 20, 24, 24, 21, 22, 27])"
      ]
     },
     "execution_count": 98,
     "metadata": {},
     "output_type": "execute_result"
    }
   ],
   "source": [
    "x1 = np.random.randint(20,30,10)\n",
    "x1"
   ]
  },
  {
   "cell_type": "code",
   "execution_count": 99,
   "id": "051f42f9-7e1e-475d-ba82-63c39205bc63",
   "metadata": {},
   "outputs": [
    {
     "data": {
      "text/plain": [
       "array([0.24, 0.17, 0.45, 0.87, 0.16, 0.06, 0.59, 0.79, 0.82, 0.88])"
      ]
     },
     "execution_count": 99,
     "metadata": {},
     "output_type": "execute_result"
    }
   ],
   "source": [
    "x2 = np.round(np.random.rand(10),2)\n",
    "x2"
   ]
  },
  {
   "cell_type": "code",
   "execution_count": 102,
   "id": "58f89462-fbbf-49a0-b9f5-ff32bdcd43de",
   "metadata": {},
   "outputs": [
    {
     "data": {
      "text/plain": [
       "array([20.24, 22.17, 25.45, 28.87, 20.16, 24.06, 24.59, 21.79, 22.82,\n",
       "       27.88])"
      ]
     },
     "execution_count": 102,
     "metadata": {},
     "output_type": "execute_result"
    }
   ],
   "source": [
    "xe = x1+x2\n",
    "xe"
   ]
  },
  {
   "cell_type": "markdown",
   "id": "67a30c32-8951-4542-a986-9d3a5c6154fe",
   "metadata": {},
   "source": [
    "# Pandas\n"
   ]
  },
  {
   "cell_type": "code",
   "execution_count": 104,
   "id": "c213e744-4095-4be5-944f-13182969bf13",
   "metadata": {},
   "outputs": [],
   "source": [
    "x1 = [3,6,5,7]"
   ]
  },
  {
   "cell_type": "code",
   "execution_count": 105,
   "id": "9038acea-3b69-475a-8d40-631c44f1a54a",
   "metadata": {},
   "outputs": [],
   "source": [
    "p1 = pd.Series(x1)"
   ]
  },
  {
   "cell_type": "code",
   "execution_count": 106,
   "id": "f08c77e7-4150-4cb5-b575-5ac74a371141",
   "metadata": {},
   "outputs": [
    {
     "data": {
      "text/plain": [
       "pandas.core.series.Series"
      ]
     },
     "execution_count": 106,
     "metadata": {},
     "output_type": "execute_result"
    }
   ],
   "source": [
    "type(p1)"
   ]
  },
  {
   "cell_type": "code",
   "execution_count": 107,
   "id": "67b4811e-e8d7-4e5b-b7c8-06c27558ef85",
   "metadata": {},
   "outputs": [
    {
     "data": {
      "text/plain": [
       "0    3\n",
       "1    6\n",
       "2    5\n",
       "3    7\n",
       "dtype: int64"
      ]
     },
     "execution_count": 107,
     "metadata": {},
     "output_type": "execute_result"
    }
   ],
   "source": [
    "p1"
   ]
  },
  {
   "cell_type": "code",
   "execution_count": 108,
   "id": "3f78e711-2058-4fe3-8b48-238342eecde2",
   "metadata": {},
   "outputs": [
    {
     "data": {
      "text/plain": [
       "A    3\n",
       "B    6\n",
       "C    5\n",
       "D    7\n",
       "dtype: int64"
      ]
     },
     "execution_count": 108,
     "metadata": {},
     "output_type": "execute_result"
    }
   ],
   "source": [
    "p2 = pd.Series(x1,index=['A','B','C','D'])\n",
    "p2"
   ]
  },
  {
   "cell_type": "code",
   "execution_count": 109,
   "id": "6e9e1ddc-c740-41a6-8254-beb939fac014",
   "metadata": {},
   "outputs": [
    {
     "name": "stderr",
     "output_type": "stream",
     "text": [
      "C:\\Users\\dheem\\AppData\\Local\\Temp\\ipykernel_10640\\2048921606.py:1: FutureWarning: Series.__getitem__ treating keys as positions is deprecated. In a future version, integer keys will always be treated as labels (consistent with DataFrame behavior). To access a value by position, use `ser.iloc[pos]`\n",
      "  p2[2]\n"
     ]
    },
    {
     "data": {
      "text/plain": [
       "5"
      ]
     },
     "execution_count": 109,
     "metadata": {},
     "output_type": "execute_result"
    }
   ],
   "source": [
    "\n",
    "p2[2]"
   ]
  },
  {
   "cell_type": "code",
   "execution_count": 110,
   "id": "a02e53fd-57e2-4222-bddb-d85a4d225f68",
   "metadata": {},
   "outputs": [
    {
     "data": {
      "text/plain": [
       "5"
      ]
     },
     "execution_count": 110,
     "metadata": {},
     "output_type": "execute_result"
    }
   ],
   "source": [
    "p2['C']"
   ]
  },
  {
   "cell_type": "code",
   "execution_count": 142,
   "id": "cdaa00f2-ff25-4ad4-a77c-bb50cb96a78b",
   "metadata": {},
   "outputs": [],
   "source": [
    "x1 = {\"Sachin\":3423,\"Virat\":3698,\"Dhoni\":87485}"
   ]
  },
  {
   "cell_type": "code",
   "execution_count": 143,
   "id": "8d8bd8ec-daf7-44b6-8676-e1835f205dd0",
   "metadata": {},
   "outputs": [
    {
     "data": {
      "text/plain": [
       "Sachin     3423\n",
       "Virat      3698\n",
       "Dhoni     87485\n",
       "dtype: int64"
      ]
     },
     "execution_count": 143,
     "metadata": {},
     "output_type": "execute_result"
    }
   ],
   "source": [
    "p2 = pd.Series(x1)\n",
    "p2"
   ]
  },
  {
   "cell_type": "code",
   "execution_count": 144,
   "id": "b9b749f0-0290-4a51-8a81-4889ac61b84a",
   "metadata": {},
   "outputs": [
    {
     "data": {
      "text/plain": [
       "Rohit     5345\n",
       "Bumrah    6475\n",
       "dtype: int64"
      ]
     },
     "execution_count": 144,
     "metadata": {},
     "output_type": "execute_result"
    }
   ],
   "source": [
    "pn = pd.Series([5345,6475],index=['Rohit','Bumrah'])\n",
    "pn"
   ]
  },
  {
   "cell_type": "code",
   "execution_count": 145,
   "id": "1758e129-3cf7-4130-aec4-50d07b5fdaf2",
   "metadata": {},
   "outputs": [],
   "source": [
    "p2 = p2._append(pn)"
   ]
  },
  {
   "cell_type": "code",
   "execution_count": 146,
   "id": "78aa1f4e-6b4c-4989-bfb8-94fbc971d98e",
   "metadata": {},
   "outputs": [
    {
     "data": {
      "text/plain": [
       "Sachin     3423\n",
       "Virat      3698\n",
       "Dhoni     87485\n",
       "Rohit      5345\n",
       "Bumrah     6475\n",
       "dtype: int64"
      ]
     },
     "execution_count": 146,
     "metadata": {},
     "output_type": "execute_result"
    }
   ],
   "source": [
    "p2"
   ]
  },
  {
   "cell_type": "code",
   "execution_count": 148,
   "id": "7e5560ba-6199-4e92-9703-7c1e38b87f07",
   "metadata": {},
   "outputs": [
    {
     "data": {
      "text/plain": [
       "Sachin     3423\n",
       "Virat      3698\n",
       "Dhoni     87485\n",
       "Rohit      5345\n",
       "dtype: int64"
      ]
     },
     "execution_count": 148,
     "metadata": {},
     "output_type": "execute_result"
    }
   ],
   "source": [
    "p2.drop(['Bumrah'])"
   ]
  },
  {
   "cell_type": "code",
   "execution_count": 151,
   "id": "eb2bfca5-74d9-497f-878a-9191f1ca3fd6",
   "metadata": {},
   "outputs": [],
   "source": [
    "p2 = pd.concat([p2,pn])"
   ]
  },
  {
   "cell_type": "code",
   "execution_count": 152,
   "id": "4b655af0-3eb0-46de-8c11-33a2717bcf84",
   "metadata": {},
   "outputs": [
    {
     "data": {
      "text/plain": [
       "Sachin     3423\n",
       "Virat      3698\n",
       "Dhoni     87485\n",
       "Rohit      5345\n",
       "Bumrah     6475\n",
       "Rohit      5345\n",
       "Bumrah     6475\n",
       "dtype: int64"
      ]
     },
     "execution_count": 152,
     "metadata": {},
     "output_type": "execute_result"
    }
   ],
   "source": [
    "p2"
   ]
  },
  {
   "cell_type": "markdown",
   "id": "5acdbfdc-0dba-464c-b837-0ba71f3b0cd8",
   "metadata": {},
   "source": [
    "# DataFrame"
   ]
  },
  {
   "cell_type": "code",
   "execution_count": 4,
   "id": "d6522a32-4826-4bbc-b4af-2a3a4b22f000",
   "metadata": {},
   "outputs": [],
   "source": [
    "x1 = [['Amit',\"MUM\", 43],['Pankaj','BLR',35],['Swati','CHN',65]]\n",
    "emp_df = pd.DataFrame(x1, columns = [\"Name\",\"Location\",\"Salary\"])"
   ]
  },
  {
   "cell_type": "code",
   "execution_count": 166,
   "id": "7f85f572-6a51-488d-8e3d-a24d375da3cf",
   "metadata": {},
   "outputs": [
    {
     "data": {
      "text/plain": [
       "35"
      ]
     },
     "execution_count": 166,
     "metadata": {},
     "output_type": "execute_result"
    }
   ],
   "source": [
    "emp_df.iat[1,2]"
   ]
  },
  {
   "cell_type": "code",
   "execution_count": 172,
   "id": "fb310673-bda2-489d-a5dd-351a158d477c",
   "metadata": {},
   "outputs": [],
   "source": [
    "emp_df.iat[1,2]=40"
   ]
  },
  {
   "cell_type": "code",
   "execution_count": 173,
   "id": "b748db48-9c27-4586-8f95-54a4c39e2733",
   "metadata": {},
   "outputs": [
    {
     "data": {
      "text/html": [
       "<div>\n",
       "<style scoped>\n",
       "    .dataframe tbody tr th:only-of-type {\n",
       "        vertical-align: middle;\n",
       "    }\n",
       "\n",
       "    .dataframe tbody tr th {\n",
       "        vertical-align: top;\n",
       "    }\n",
       "\n",
       "    .dataframe thead th {\n",
       "        text-align: right;\n",
       "    }\n",
       "</style>\n",
       "<table border=\"1\" class=\"dataframe\">\n",
       "  <thead>\n",
       "    <tr style=\"text-align: right;\">\n",
       "      <th></th>\n",
       "      <th>Name</th>\n",
       "      <th>Location</th>\n",
       "      <th>Salary</th>\n",
       "    </tr>\n",
       "  </thead>\n",
       "  <tbody>\n",
       "    <tr>\n",
       "      <th>0</th>\n",
       "      <td>Amit</td>\n",
       "      <td>MUM</td>\n",
       "      <td>43</td>\n",
       "    </tr>\n",
       "    <tr>\n",
       "      <th>1</th>\n",
       "      <td>Pankaj</td>\n",
       "      <td>BLR</td>\n",
       "      <td>40</td>\n",
       "    </tr>\n",
       "    <tr>\n",
       "      <th>2</th>\n",
       "      <td>Swati</td>\n",
       "      <td>CHN</td>\n",
       "      <td>65</td>\n",
       "    </tr>\n",
       "  </tbody>\n",
       "</table>\n",
       "</div>"
      ],
      "text/plain": [
       "     Name Location  Salary\n",
       "0    Amit      MUM      43\n",
       "1  Pankaj      BLR      40\n",
       "2   Swati      CHN      65"
      ]
     },
     "execution_count": 173,
     "metadata": {},
     "output_type": "execute_result"
    }
   ],
   "source": [
    "emp_df"
   ]
  },
  {
   "cell_type": "code",
   "execution_count": 174,
   "id": "2cb59da4-915c-43a2-b20b-2abba39a611a",
   "metadata": {},
   "outputs": [
    {
     "data": {
      "text/plain": [
       "'MUM'"
      ]
     },
     "execution_count": 174,
     "metadata": {},
     "output_type": "execute_result"
    }
   ],
   "source": [
    "emp_df.at[0,'Location']"
   ]
  },
  {
   "cell_type": "code",
   "execution_count": 175,
   "id": "298b9d5b-c78a-4ed6-a02a-a8ceefd6fd8e",
   "metadata": {},
   "outputs": [],
   "source": [
    "emp_df.at[0,'Location'] = 'DLI'"
   ]
  },
  {
   "cell_type": "code",
   "execution_count": 176,
   "id": "22b93c6d-5f6f-4e09-812e-cc4ebf3d6d86",
   "metadata": {},
   "outputs": [
    {
     "data": {
      "text/html": [
       "<div>\n",
       "<style scoped>\n",
       "    .dataframe tbody tr th:only-of-type {\n",
       "        vertical-align: middle;\n",
       "    }\n",
       "\n",
       "    .dataframe tbody tr th {\n",
       "        vertical-align: top;\n",
       "    }\n",
       "\n",
       "    .dataframe thead th {\n",
       "        text-align: right;\n",
       "    }\n",
       "</style>\n",
       "<table border=\"1\" class=\"dataframe\">\n",
       "  <thead>\n",
       "    <tr style=\"text-align: right;\">\n",
       "      <th></th>\n",
       "      <th>Name</th>\n",
       "      <th>Location</th>\n",
       "      <th>Salary</th>\n",
       "    </tr>\n",
       "  </thead>\n",
       "  <tbody>\n",
       "    <tr>\n",
       "      <th>0</th>\n",
       "      <td>Amit</td>\n",
       "      <td>DLI</td>\n",
       "      <td>43</td>\n",
       "    </tr>\n",
       "    <tr>\n",
       "      <th>1</th>\n",
       "      <td>Pankaj</td>\n",
       "      <td>BLR</td>\n",
       "      <td>40</td>\n",
       "    </tr>\n",
       "    <tr>\n",
       "      <th>2</th>\n",
       "      <td>Swati</td>\n",
       "      <td>CHN</td>\n",
       "      <td>65</td>\n",
       "    </tr>\n",
       "  </tbody>\n",
       "</table>\n",
       "</div>"
      ],
      "text/plain": [
       "     Name Location  Salary\n",
       "0    Amit      DLI      43\n",
       "1  Pankaj      BLR      40\n",
       "2   Swati      CHN      65"
      ]
     },
     "execution_count": 176,
     "metadata": {},
     "output_type": "execute_result"
    }
   ],
   "source": [
    "emp_df"
   ]
  },
  {
   "cell_type": "code",
   "execution_count": 5,
   "id": "3c604503-00c6-4d76-9924-61adcbe2bbaf",
   "metadata": {},
   "outputs": [
    {
     "data": {
      "text/html": [
       "<div>\n",
       "<style scoped>\n",
       "    .dataframe tbody tr th:only-of-type {\n",
       "        vertical-align: middle;\n",
       "    }\n",
       "\n",
       "    .dataframe tbody tr th {\n",
       "        vertical-align: top;\n",
       "    }\n",
       "\n",
       "    .dataframe thead th {\n",
       "        text-align: right;\n",
       "    }\n",
       "</style>\n",
       "<table border=\"1\" class=\"dataframe\">\n",
       "  <thead>\n",
       "    <tr style=\"text-align: right;\">\n",
       "      <th></th>\n",
       "      <th>Name</th>\n",
       "      <th>Location</th>\n",
       "      <th>Salary</th>\n",
       "    </tr>\n",
       "  </thead>\n",
       "  <tbody>\n",
       "    <tr>\n",
       "      <th>0</th>\n",
       "      <td>Nalini</td>\n",
       "      <td>KOL</td>\n",
       "      <td>30</td>\n",
       "    </tr>\n",
       "    <tr>\n",
       "      <th>1</th>\n",
       "      <td>Chetan</td>\n",
       "      <td>BLR</td>\n",
       "      <td>78</td>\n",
       "    </tr>\n",
       "  </tbody>\n",
       "</table>\n",
       "</div>"
      ],
      "text/plain": [
       "     Name Location  Salary\n",
       "0  Nalini      KOL      30\n",
       "1  Chetan      BLR      78"
      ]
     },
     "execution_count": 5,
     "metadata": {},
     "output_type": "execute_result"
    }
   ],
   "source": [
    "new_emp = pd.DataFrame([['Nalini','KOL',30],['Chetan','BLR',78]],columns = ['Name','Location','Salary'])\n",
    "new_emp"
   ]
  },
  {
   "cell_type": "code",
   "execution_count": 7,
   "id": "c9bee528-5e2e-4904-8956-89bf1077cf57",
   "metadata": {},
   "outputs": [],
   "source": [
    "emp_df = emp_df._append(new_emp)"
   ]
  },
  {
   "cell_type": "code",
   "execution_count": 8,
   "id": "1f0d5d4b-3ef2-413d-b57c-1fac35be96dc",
   "metadata": {},
   "outputs": [
    {
     "data": {
      "text/html": [
       "<div>\n",
       "<style scoped>\n",
       "    .dataframe tbody tr th:only-of-type {\n",
       "        vertical-align: middle;\n",
       "    }\n",
       "\n",
       "    .dataframe tbody tr th {\n",
       "        vertical-align: top;\n",
       "    }\n",
       "\n",
       "    .dataframe thead th {\n",
       "        text-align: right;\n",
       "    }\n",
       "</style>\n",
       "<table border=\"1\" class=\"dataframe\">\n",
       "  <thead>\n",
       "    <tr style=\"text-align: right;\">\n",
       "      <th></th>\n",
       "      <th>Name</th>\n",
       "      <th>Location</th>\n",
       "      <th>Salary</th>\n",
       "    </tr>\n",
       "  </thead>\n",
       "  <tbody>\n",
       "    <tr>\n",
       "      <th>0</th>\n",
       "      <td>Amit</td>\n",
       "      <td>MUM</td>\n",
       "      <td>43</td>\n",
       "    </tr>\n",
       "    <tr>\n",
       "      <th>1</th>\n",
       "      <td>Pankaj</td>\n",
       "      <td>BLR</td>\n",
       "      <td>35</td>\n",
       "    </tr>\n",
       "    <tr>\n",
       "      <th>2</th>\n",
       "      <td>Swati</td>\n",
       "      <td>CHN</td>\n",
       "      <td>65</td>\n",
       "    </tr>\n",
       "    <tr>\n",
       "      <th>0</th>\n",
       "      <td>Nalini</td>\n",
       "      <td>KOL</td>\n",
       "      <td>30</td>\n",
       "    </tr>\n",
       "    <tr>\n",
       "      <th>1</th>\n",
       "      <td>Chetan</td>\n",
       "      <td>BLR</td>\n",
       "      <td>78</td>\n",
       "    </tr>\n",
       "  </tbody>\n",
       "</table>\n",
       "</div>"
      ],
      "text/plain": [
       "     Name Location  Salary\n",
       "0    Amit      MUM      43\n",
       "1  Pankaj      BLR      35\n",
       "2   Swati      CHN      65\n",
       "0  Nalini      KOL      30\n",
       "1  Chetan      BLR      78"
      ]
     },
     "execution_count": 8,
     "metadata": {},
     "output_type": "execute_result"
    }
   ],
   "source": [
    "emp_df"
   ]
  },
  {
   "cell_type": "code",
   "execution_count": 183,
   "id": "2ef59851-caa0-40c5-aa97-bc626d728e8c",
   "metadata": {},
   "outputs": [
    {
     "data": {
      "text/html": [
       "<div>\n",
       "<style scoped>\n",
       "    .dataframe tbody tr th:only-of-type {\n",
       "        vertical-align: middle;\n",
       "    }\n",
       "\n",
       "    .dataframe tbody tr th {\n",
       "        vertical-align: top;\n",
       "    }\n",
       "\n",
       "    .dataframe thead th {\n",
       "        text-align: right;\n",
       "    }\n",
       "</style>\n",
       "<table border=\"1\" class=\"dataframe\">\n",
       "  <thead>\n",
       "    <tr style=\"text-align: right;\">\n",
       "      <th></th>\n",
       "      <th>Name</th>\n",
       "      <th>Location</th>\n",
       "      <th>Salary</th>\n",
       "    </tr>\n",
       "  </thead>\n",
       "  <tbody>\n",
       "    <tr>\n",
       "      <th>1</th>\n",
       "      <td>Pankaj</td>\n",
       "      <td>BLR</td>\n",
       "      <td>40</td>\n",
       "    </tr>\n",
       "    <tr>\n",
       "      <th>1</th>\n",
       "      <td>Chetan</td>\n",
       "      <td>BLR</td>\n",
       "      <td>78</td>\n",
       "    </tr>\n",
       "  </tbody>\n",
       "</table>\n",
       "</div>"
      ],
      "text/plain": [
       "     Name Location  Salary\n",
       "1  Pankaj      BLR      40\n",
       "1  Chetan      BLR      78"
      ]
     },
     "execution_count": 183,
     "metadata": {},
     "output_type": "execute_result"
    }
   ],
   "source": [
    "emp_df.loc[1]"
   ]
  },
  {
   "cell_type": "code",
   "execution_count": 184,
   "id": "21c608e9-cac3-4952-9912-995b58b68db3",
   "metadata": {},
   "outputs": [
    {
     "data": {
      "text/plain": [
       "Name        Pankaj\n",
       "Location       BLR\n",
       "Salary          40\n",
       "Name: 1, dtype: object"
      ]
     },
     "execution_count": 184,
     "metadata": {},
     "output_type": "execute_result"
    }
   ],
   "source": [
    "emp_df.iloc[1]"
   ]
  },
  {
   "cell_type": "code",
   "execution_count": 9,
   "id": "3908e260-a39c-423a-b750-032980e331f3",
   "metadata": {},
   "outputs": [
    {
     "data": {
      "text/html": [
       "<div>\n",
       "<style scoped>\n",
       "    .dataframe tbody tr th:only-of-type {\n",
       "        vertical-align: middle;\n",
       "    }\n",
       "\n",
       "    .dataframe tbody tr th {\n",
       "        vertical-align: top;\n",
       "    }\n",
       "\n",
       "    .dataframe thead th {\n",
       "        text-align: right;\n",
       "    }\n",
       "</style>\n",
       "<table border=\"1\" class=\"dataframe\">\n",
       "  <thead>\n",
       "    <tr style=\"text-align: right;\">\n",
       "      <th></th>\n",
       "      <th>Name</th>\n",
       "      <th>Location</th>\n",
       "      <th>Salary</th>\n",
       "    </tr>\n",
       "  </thead>\n",
       "  <tbody>\n",
       "    <tr>\n",
       "      <th>0</th>\n",
       "      <td>Amit</td>\n",
       "      <td>MUM</td>\n",
       "      <td>43</td>\n",
       "    </tr>\n",
       "    <tr>\n",
       "      <th>1</th>\n",
       "      <td>Pankaj</td>\n",
       "      <td>BLR</td>\n",
       "      <td>35</td>\n",
       "    </tr>\n",
       "    <tr>\n",
       "      <th>2</th>\n",
       "      <td>Swati</td>\n",
       "      <td>CHN</td>\n",
       "      <td>65</td>\n",
       "    </tr>\n",
       "    <tr>\n",
       "      <th>3</th>\n",
       "      <td>Nalini</td>\n",
       "      <td>KOL</td>\n",
       "      <td>30</td>\n",
       "    </tr>\n",
       "    <tr>\n",
       "      <th>4</th>\n",
       "      <td>Chetan</td>\n",
       "      <td>BLR</td>\n",
       "      <td>78</td>\n",
       "    </tr>\n",
       "  </tbody>\n",
       "</table>\n",
       "</div>"
      ],
      "text/plain": [
       "     Name Location  Salary\n",
       "0    Amit      MUM      43\n",
       "1  Pankaj      BLR      35\n",
       "2   Swati      CHN      65\n",
       "3  Nalini      KOL      30\n",
       "4  Chetan      BLR      78"
      ]
     },
     "execution_count": 9,
     "metadata": {},
     "output_type": "execute_result"
    }
   ],
   "source": [
    "emp_df.index = range(emp_df.shape[0])\n",
    "emp_df"
   ]
  },
  {
   "cell_type": "code",
   "execution_count": 190,
   "id": "4252da38-ff30-4298-bbf4-c96b887dce13",
   "metadata": {},
   "outputs": [],
   "source": [
    "x1 = [['Amit',\"MUM\", 43],['Pankaj','BLR',35],['Swati','CHN',65]]\n",
    "emp_df = pd.DataFrame(x1, columns = [\"Name\",\"Location\",\"Salary\"])"
   ]
  },
  {
   "cell_type": "code",
   "execution_count": 191,
   "id": "e629a54b-d81d-4eda-9bb5-89c5182fa8eb",
   "metadata": {},
   "outputs": [
    {
     "data": {
      "text/html": [
       "<div>\n",
       "<style scoped>\n",
       "    .dataframe tbody tr th:only-of-type {\n",
       "        vertical-align: middle;\n",
       "    }\n",
       "\n",
       "    .dataframe tbody tr th {\n",
       "        vertical-align: top;\n",
       "    }\n",
       "\n",
       "    .dataframe thead th {\n",
       "        text-align: right;\n",
       "    }\n",
       "</style>\n",
       "<table border=\"1\" class=\"dataframe\">\n",
       "  <thead>\n",
       "    <tr style=\"text-align: right;\">\n",
       "      <th></th>\n",
       "      <th>Name</th>\n",
       "      <th>Location</th>\n",
       "      <th>Salary</th>\n",
       "    </tr>\n",
       "  </thead>\n",
       "  <tbody>\n",
       "    <tr>\n",
       "      <th>0</th>\n",
       "      <td>Nalini</td>\n",
       "      <td>KOL</td>\n",
       "      <td>30</td>\n",
       "    </tr>\n",
       "    <tr>\n",
       "      <th>1</th>\n",
       "      <td>Chetan</td>\n",
       "      <td>BLR</td>\n",
       "      <td>78</td>\n",
       "    </tr>\n",
       "  </tbody>\n",
       "</table>\n",
       "</div>"
      ],
      "text/plain": [
       "     Name Location  Salary\n",
       "0  Nalini      KOL      30\n",
       "1  Chetan      BLR      78"
      ]
     },
     "execution_count": 191,
     "metadata": {},
     "output_type": "execute_result"
    }
   ],
   "source": [
    "new_emp = pd.DataFrame([['Nalini','KOL',30],['Chetan','BLR',78]],columns = ['Name','Location','Salary'])\n",
    "new_emp"
   ]
  },
  {
   "cell_type": "code",
   "execution_count": 188,
   "id": "ea0b3e30-b15f-4331-8ec1-b63c95b2c9ae",
   "metadata": {},
   "outputs": [],
   "source": [
    "emp_df = emp_df._append(new_emp, ignore_index=True) # using append\n",
    "emp_df"
   ]
  },
  {
   "cell_type": "code",
   "execution_count": 195,
   "id": "815defb5-b390-4a92-acd8-cd74bcd1fd45",
   "metadata": {},
   "outputs": [
    {
     "data": {
      "text/html": [
       "<div>\n",
       "<style scoped>\n",
       "    .dataframe tbody tr th:only-of-type {\n",
       "        vertical-align: middle;\n",
       "    }\n",
       "\n",
       "    .dataframe tbody tr th {\n",
       "        vertical-align: top;\n",
       "    }\n",
       "\n",
       "    .dataframe thead th {\n",
       "        text-align: right;\n",
       "    }\n",
       "</style>\n",
       "<table border=\"1\" class=\"dataframe\">\n",
       "  <thead>\n",
       "    <tr style=\"text-align: right;\">\n",
       "      <th></th>\n",
       "      <th>Name</th>\n",
       "      <th>Location</th>\n",
       "      <th>Salary</th>\n",
       "    </tr>\n",
       "  </thead>\n",
       "  <tbody>\n",
       "    <tr>\n",
       "      <th>0</th>\n",
       "      <td>Amit</td>\n",
       "      <td>MUM</td>\n",
       "      <td>43</td>\n",
       "    </tr>\n",
       "    <tr>\n",
       "      <th>1</th>\n",
       "      <td>Pankaj</td>\n",
       "      <td>BLR</td>\n",
       "      <td>35</td>\n",
       "    </tr>\n",
       "    <tr>\n",
       "      <th>2</th>\n",
       "      <td>Swati</td>\n",
       "      <td>CHN</td>\n",
       "      <td>65</td>\n",
       "    </tr>\n",
       "    <tr>\n",
       "      <th>3</th>\n",
       "      <td>Nalini</td>\n",
       "      <td>KOL</td>\n",
       "      <td>30</td>\n",
       "    </tr>\n",
       "    <tr>\n",
       "      <th>4</th>\n",
       "      <td>Chetan</td>\n",
       "      <td>BLR</td>\n",
       "      <td>78</td>\n",
       "    </tr>\n",
       "    <tr>\n",
       "      <th>5</th>\n",
       "      <td>Nalini</td>\n",
       "      <td>KOL</td>\n",
       "      <td>30</td>\n",
       "    </tr>\n",
       "    <tr>\n",
       "      <th>6</th>\n",
       "      <td>Chetan</td>\n",
       "      <td>BLR</td>\n",
       "      <td>78</td>\n",
       "    </tr>\n",
       "  </tbody>\n",
       "</table>\n",
       "</div>"
      ],
      "text/plain": [
       "     Name Location  Salary\n",
       "0    Amit      MUM      43\n",
       "1  Pankaj      BLR      35\n",
       "2   Swati      CHN      65\n",
       "3  Nalini      KOL      30\n",
       "4  Chetan      BLR      78\n",
       "5  Nalini      KOL      30\n",
       "6  Chetan      BLR      78"
      ]
     },
     "execution_count": 195,
     "metadata": {},
     "output_type": "execute_result"
    }
   ],
   "source": [
    "emp_df = pd.concat([emp_df,new_emp]).reset_index(drop=True) #using concat\n",
    "emp_df"
   ]
  },
  {
   "cell_type": "code",
   "execution_count": 10,
   "id": "b61a6ff5-239d-43c2-9865-59b3069db1cf",
   "metadata": {},
   "outputs": [
    {
     "data": {
      "text/html": [
       "<div>\n",
       "<style scoped>\n",
       "    .dataframe tbody tr th:only-of-type {\n",
       "        vertical-align: middle;\n",
       "    }\n",
       "\n",
       "    .dataframe tbody tr th {\n",
       "        vertical-align: top;\n",
       "    }\n",
       "\n",
       "    .dataframe thead th {\n",
       "        text-align: right;\n",
       "    }\n",
       "</style>\n",
       "<table border=\"1\" class=\"dataframe\">\n",
       "  <thead>\n",
       "    <tr style=\"text-align: right;\">\n",
       "      <th></th>\n",
       "      <th>Name</th>\n",
       "      <th>Location</th>\n",
       "      <th>Salary</th>\n",
       "    </tr>\n",
       "  </thead>\n",
       "  <tbody>\n",
       "    <tr>\n",
       "      <th>0</th>\n",
       "      <td>Amit</td>\n",
       "      <td>MUM</td>\n",
       "      <td>43</td>\n",
       "    </tr>\n",
       "    <tr>\n",
       "      <th>2</th>\n",
       "      <td>Swati</td>\n",
       "      <td>CHN</td>\n",
       "      <td>65</td>\n",
       "    </tr>\n",
       "    <tr>\n",
       "      <th>3</th>\n",
       "      <td>Nalini</td>\n",
       "      <td>KOL</td>\n",
       "      <td>30</td>\n",
       "    </tr>\n",
       "  </tbody>\n",
       "</table>\n",
       "</div>"
      ],
      "text/plain": [
       "     Name Location  Salary\n",
       "0    Amit      MUM      43\n",
       "2   Swati      CHN      65\n",
       "3  Nalini      KOL      30"
      ]
     },
     "execution_count": 10,
     "metadata": {},
     "output_type": "execute_result"
    }
   ],
   "source": [
    "mydf = emp_df.iloc[[0,2,3]]\n",
    "mydf"
   ]
  },
  {
   "cell_type": "code",
   "execution_count": 11,
   "id": "d5cef395-a303-4708-baf1-c90be8003c9e",
   "metadata": {},
   "outputs": [
    {
     "data": {
      "text/plain": [
       "Name        Swati\n",
       "Location      CHN\n",
       "Salary         65\n",
       "Name: 2, dtype: object"
      ]
     },
     "execution_count": 11,
     "metadata": {},
     "output_type": "execute_result"
    }
   ],
   "source": [
    "mydf.iloc[1]"
   ]
  },
  {
   "cell_type": "code",
   "execution_count": 12,
   "id": "4e667309-23f4-4915-926d-2337ad7ce5ce",
   "metadata": {},
   "outputs": [
    {
     "data": {
      "text/html": [
       "<div>\n",
       "<style scoped>\n",
       "    .dataframe tbody tr th:only-of-type {\n",
       "        vertical-align: middle;\n",
       "    }\n",
       "\n",
       "    .dataframe tbody tr th {\n",
       "        vertical-align: top;\n",
       "    }\n",
       "\n",
       "    .dataframe thead th {\n",
       "        text-align: right;\n",
       "    }\n",
       "</style>\n",
       "<table border=\"1\" class=\"dataframe\">\n",
       "  <thead>\n",
       "    <tr style=\"text-align: right;\">\n",
       "      <th></th>\n",
       "      <th>Name</th>\n",
       "      <th>Location</th>\n",
       "      <th>Salary</th>\n",
       "    </tr>\n",
       "  </thead>\n",
       "  <tbody>\n",
       "    <tr>\n",
       "      <th>0</th>\n",
       "      <td>Amit</td>\n",
       "      <td>MUM</td>\n",
       "      <td>43</td>\n",
       "    </tr>\n",
       "    <tr>\n",
       "      <th>1</th>\n",
       "      <td>Pankaj</td>\n",
       "      <td>BLR</td>\n",
       "      <td>35</td>\n",
       "    </tr>\n",
       "    <tr>\n",
       "      <th>2</th>\n",
       "      <td>Swati</td>\n",
       "      <td>CHN</td>\n",
       "      <td>65</td>\n",
       "    </tr>\n",
       "    <tr>\n",
       "      <th>3</th>\n",
       "      <td>Nalini</td>\n",
       "      <td>KOL</td>\n",
       "      <td>30</td>\n",
       "    </tr>\n",
       "    <tr>\n",
       "      <th>4</th>\n",
       "      <td>Chetan</td>\n",
       "      <td>BLR</td>\n",
       "      <td>78</td>\n",
       "    </tr>\n",
       "  </tbody>\n",
       "</table>\n",
       "</div>"
      ],
      "text/plain": [
       "     Name Location  Salary\n",
       "0    Amit      MUM      43\n",
       "1  Pankaj      BLR      35\n",
       "2   Swati      CHN      65\n",
       "3  Nalini      KOL      30\n",
       "4  Chetan      BLR      78"
      ]
     },
     "execution_count": 12,
     "metadata": {},
     "output_type": "execute_result"
    }
   ],
   "source": [
    "emp_df"
   ]
  },
  {
   "cell_type": "code",
   "execution_count": 13,
   "id": "ffc32704-a8b5-4cb9-870f-1f43b3ffd048",
   "metadata": {},
   "outputs": [
    {
     "data": {
      "text/html": [
       "<div>\n",
       "<style scoped>\n",
       "    .dataframe tbody tr th:only-of-type {\n",
       "        vertical-align: middle;\n",
       "    }\n",
       "\n",
       "    .dataframe tbody tr th {\n",
       "        vertical-align: top;\n",
       "    }\n",
       "\n",
       "    .dataframe thead th {\n",
       "        text-align: right;\n",
       "    }\n",
       "</style>\n",
       "<table border=\"1\" class=\"dataframe\">\n",
       "  <thead>\n",
       "    <tr style=\"text-align: right;\">\n",
       "      <th></th>\n",
       "      <th>Name</th>\n",
       "      <th>Location</th>\n",
       "      <th>Salary</th>\n",
       "    </tr>\n",
       "  </thead>\n",
       "  <tbody>\n",
       "    <tr>\n",
       "      <th>0</th>\n",
       "      <td>Amit</td>\n",
       "      <td>MUM</td>\n",
       "      <td>43</td>\n",
       "    </tr>\n",
       "    <tr>\n",
       "      <th>2</th>\n",
       "      <td>Swati</td>\n",
       "      <td>CHN</td>\n",
       "      <td>65</td>\n",
       "    </tr>\n",
       "    <tr>\n",
       "      <th>4</th>\n",
       "      <td>Chetan</td>\n",
       "      <td>BLR</td>\n",
       "      <td>78</td>\n",
       "    </tr>\n",
       "  </tbody>\n",
       "</table>\n",
       "</div>"
      ],
      "text/plain": [
       "     Name Location  Salary\n",
       "0    Amit      MUM      43\n",
       "2   Swati      CHN      65\n",
       "4  Chetan      BLR      78"
      ]
     },
     "execution_count": 13,
     "metadata": {},
     "output_type": "execute_result"
    }
   ],
   "source": [
    "newdf = emp_df.drop([1,3])\n",
    "newdf"
   ]
  },
  {
   "cell_type": "code",
   "execution_count": 15,
   "id": "313902d8-5958-4605-a61a-28c0b6f38390",
   "metadata": {},
   "outputs": [
    {
     "data": {
      "text/plain": [
       "0    MUM\n",
       "1    BLR\n",
       "2    CHN\n",
       "3    KOL\n",
       "4    BLR\n",
       "Name: Location, dtype: object"
      ]
     },
     "execution_count": 15,
     "metadata": {},
     "output_type": "execute_result"
    }
   ],
   "source": [
    "emp_df.Location"
   ]
  },
  {
   "cell_type": "code",
   "execution_count": 17,
   "id": "014f5318-e5dd-47d9-b62a-5c3dd11dc9e2",
   "metadata": {},
   "outputs": [
    {
     "data": {
      "text/plain": [
       "array(['MUM', 'BLR', 'CHN', 'KOL', 'BLR'], dtype=object)"
      ]
     },
     "execution_count": 17,
     "metadata": {},
     "output_type": "execute_result"
    }
   ],
   "source": [
    "x1 = np.array(emp_df.Location)\n",
    "x1"
   ]
  },
  {
   "cell_type": "code",
   "execution_count": 19,
   "id": "835e9979-2510-4dab-8279-73c37a91e607",
   "metadata": {},
   "outputs": [
    {
     "data": {
      "text/plain": [
       "['MUM', 'BLR', 'CHN', 'KOL', 'BLR']"
      ]
     },
     "execution_count": 19,
     "metadata": {},
     "output_type": "execute_result"
    }
   ],
   "source": [
    "x2 = list(emp_df.Location)\n",
    "x2"
   ]
  },
  {
   "cell_type": "code",
   "execution_count": 20,
   "id": "29cf8d0f-320b-4f74-a048-c3c7e8833ea2",
   "metadata": {},
   "outputs": [
    {
     "data": {
      "text/html": [
       "<div>\n",
       "<style scoped>\n",
       "    .dataframe tbody tr th:only-of-type {\n",
       "        vertical-align: middle;\n",
       "    }\n",
       "\n",
       "    .dataframe tbody tr th {\n",
       "        vertical-align: top;\n",
       "    }\n",
       "\n",
       "    .dataframe thead th {\n",
       "        text-align: right;\n",
       "    }\n",
       "</style>\n",
       "<table border=\"1\" class=\"dataframe\">\n",
       "  <thead>\n",
       "    <tr style=\"text-align: right;\">\n",
       "      <th></th>\n",
       "      <th>Name</th>\n",
       "      <th>Location</th>\n",
       "      <th>Salary</th>\n",
       "    </tr>\n",
       "  </thead>\n",
       "  <tbody>\n",
       "    <tr>\n",
       "      <th>0</th>\n",
       "      <td>Amit</td>\n",
       "      <td>MUM</td>\n",
       "      <td>43</td>\n",
       "    </tr>\n",
       "    <tr>\n",
       "      <th>1</th>\n",
       "      <td>Pankaj</td>\n",
       "      <td>BLR</td>\n",
       "      <td>35</td>\n",
       "    </tr>\n",
       "    <tr>\n",
       "      <th>2</th>\n",
       "      <td>Swati</td>\n",
       "      <td>CHN</td>\n",
       "      <td>65</td>\n",
       "    </tr>\n",
       "    <tr>\n",
       "      <th>3</th>\n",
       "      <td>Nalini</td>\n",
       "      <td>KOL</td>\n",
       "      <td>30</td>\n",
       "    </tr>\n",
       "    <tr>\n",
       "      <th>4</th>\n",
       "      <td>Chetan</td>\n",
       "      <td>BLR</td>\n",
       "      <td>78</td>\n",
       "    </tr>\n",
       "  </tbody>\n",
       "</table>\n",
       "</div>"
      ],
      "text/plain": [
       "     Name Location  Salary\n",
       "0    Amit      MUM      43\n",
       "1  Pankaj      BLR      35\n",
       "2   Swati      CHN      65\n",
       "3  Nalini      KOL      30\n",
       "4  Chetan      BLR      78"
      ]
     },
     "execution_count": 20,
     "metadata": {},
     "output_type": "execute_result"
    }
   ],
   "source": [
    "emp_df"
   ]
  },
  {
   "cell_type": "code",
   "execution_count": 22,
   "id": "6267d6b7-d6f4-4bbc-b78d-25e0c9da37d9",
   "metadata": {},
   "outputs": [
    {
     "data": {
      "text/plain": [
       "0    4.3\n",
       "1    3.5\n",
       "2    6.5\n",
       "3    3.0\n",
       "4    7.8\n",
       "Name: Salary, dtype: float64"
      ]
     },
     "execution_count": 22,
     "metadata": {},
     "output_type": "execute_result"
    }
   ],
   "source": [
    "tax = emp_df.Salary*0.10\n",
    "tax"
   ]
  },
  {
   "cell_type": "code",
   "execution_count": 24,
   "id": "767fb7bd-4775-4b17-a8d2-8bb42f5454d4",
   "metadata": {},
   "outputs": [
    {
     "data": {
      "text/html": [
       "<div>\n",
       "<style scoped>\n",
       "    .dataframe tbody tr th:only-of-type {\n",
       "        vertical-align: middle;\n",
       "    }\n",
       "\n",
       "    .dataframe tbody tr th {\n",
       "        vertical-align: top;\n",
       "    }\n",
       "\n",
       "    .dataframe thead th {\n",
       "        text-align: right;\n",
       "    }\n",
       "</style>\n",
       "<table border=\"1\" class=\"dataframe\">\n",
       "  <thead>\n",
       "    <tr style=\"text-align: right;\">\n",
       "      <th></th>\n",
       "      <th>Name</th>\n",
       "      <th>Location</th>\n",
       "      <th>Salary</th>\n",
       "      <th>tax</th>\n",
       "      <th>Tax</th>\n",
       "    </tr>\n",
       "  </thead>\n",
       "  <tbody>\n",
       "    <tr>\n",
       "      <th>0</th>\n",
       "      <td>Amit</td>\n",
       "      <td>MUM</td>\n",
       "      <td>43</td>\n",
       "      <td>4.3</td>\n",
       "      <td>4.3</td>\n",
       "    </tr>\n",
       "    <tr>\n",
       "      <th>1</th>\n",
       "      <td>Pankaj</td>\n",
       "      <td>BLR</td>\n",
       "      <td>35</td>\n",
       "      <td>3.5</td>\n",
       "      <td>3.5</td>\n",
       "    </tr>\n",
       "    <tr>\n",
       "      <th>2</th>\n",
       "      <td>Swati</td>\n",
       "      <td>CHN</td>\n",
       "      <td>65</td>\n",
       "      <td>6.5</td>\n",
       "      <td>6.5</td>\n",
       "    </tr>\n",
       "    <tr>\n",
       "      <th>3</th>\n",
       "      <td>Nalini</td>\n",
       "      <td>KOL</td>\n",
       "      <td>30</td>\n",
       "      <td>3.0</td>\n",
       "      <td>3.0</td>\n",
       "    </tr>\n",
       "    <tr>\n",
       "      <th>4</th>\n",
       "      <td>Chetan</td>\n",
       "      <td>BLR</td>\n",
       "      <td>78</td>\n",
       "      <td>7.8</td>\n",
       "      <td>7.8</td>\n",
       "    </tr>\n",
       "  </tbody>\n",
       "</table>\n",
       "</div>"
      ],
      "text/plain": [
       "     Name Location  Salary  tax  Tax\n",
       "0    Amit      MUM      43  4.3  4.3\n",
       "1  Pankaj      BLR      35  3.5  3.5\n",
       "2   Swati      CHN      65  6.5  6.5\n",
       "3  Nalini      KOL      30  3.0  3.0\n",
       "4  Chetan      BLR      78  7.8  7.8"
      ]
     },
     "execution_count": 24,
     "metadata": {},
     "output_type": "execute_result"
    }
   ],
   "source": [
    "emp_df['Tax']=emp_df.Salary*0.10\n",
    "emp_df"
   ]
  },
  {
   "cell_type": "code",
   "execution_count": 33,
   "id": "c1eeaf10-6dd8-4979-a509-d58f40fbbb9b",
   "metadata": {},
   "outputs": [],
   "source": [
    "emp_df = emp_df.drop('tax', axis=1)"
   ]
  },
  {
   "cell_type": "code",
   "execution_count": 34,
   "id": "4ee0e416-07be-4943-a85e-39387da1abfb",
   "metadata": {},
   "outputs": [
    {
     "data": {
      "text/html": [
       "<div>\n",
       "<style scoped>\n",
       "    .dataframe tbody tr th:only-of-type {\n",
       "        vertical-align: middle;\n",
       "    }\n",
       "\n",
       "    .dataframe tbody tr th {\n",
       "        vertical-align: top;\n",
       "    }\n",
       "\n",
       "    .dataframe thead th {\n",
       "        text-align: right;\n",
       "    }\n",
       "</style>\n",
       "<table border=\"1\" class=\"dataframe\">\n",
       "  <thead>\n",
       "    <tr style=\"text-align: right;\">\n",
       "      <th></th>\n",
       "      <th>Name</th>\n",
       "      <th>Location</th>\n",
       "      <th>Salary</th>\n",
       "      <th>Tax</th>\n",
       "    </tr>\n",
       "  </thead>\n",
       "  <tbody>\n",
       "    <tr>\n",
       "      <th>0</th>\n",
       "      <td>Amit</td>\n",
       "      <td>MUM</td>\n",
       "      <td>43</td>\n",
       "      <td>4.3</td>\n",
       "    </tr>\n",
       "    <tr>\n",
       "      <th>1</th>\n",
       "      <td>Pankaj</td>\n",
       "      <td>BLR</td>\n",
       "      <td>35</td>\n",
       "      <td>3.5</td>\n",
       "    </tr>\n",
       "    <tr>\n",
       "      <th>2</th>\n",
       "      <td>Swati</td>\n",
       "      <td>CHN</td>\n",
       "      <td>65</td>\n",
       "      <td>6.5</td>\n",
       "    </tr>\n",
       "    <tr>\n",
       "      <th>3</th>\n",
       "      <td>Nalini</td>\n",
       "      <td>KOL</td>\n",
       "      <td>30</td>\n",
       "      <td>3.0</td>\n",
       "    </tr>\n",
       "    <tr>\n",
       "      <th>4</th>\n",
       "      <td>Chetan</td>\n",
       "      <td>BLR</td>\n",
       "      <td>78</td>\n",
       "      <td>7.8</td>\n",
       "    </tr>\n",
       "  </tbody>\n",
       "</table>\n",
       "</div>"
      ],
      "text/plain": [
       "     Name Location  Salary  Tax\n",
       "0    Amit      MUM      43  4.3\n",
       "1  Pankaj      BLR      35  3.5\n",
       "2   Swati      CHN      65  6.5\n",
       "3  Nalini      KOL      30  3.0\n",
       "4  Chetan      BLR      78  7.8"
      ]
     },
     "execution_count": 34,
     "metadata": {},
     "output_type": "execute_result"
    }
   ],
   "source": [
    "emp_df"
   ]
  },
  {
   "cell_type": "code",
   "execution_count": 35,
   "id": "d20f24af-50b6-4f02-b378-50ace908111e",
   "metadata": {},
   "outputs": [
    {
     "data": {
      "text/html": [
       "<div>\n",
       "<style scoped>\n",
       "    .dataframe tbody tr th:only-of-type {\n",
       "        vertical-align: middle;\n",
       "    }\n",
       "\n",
       "    .dataframe tbody tr th {\n",
       "        vertical-align: top;\n",
       "    }\n",
       "\n",
       "    .dataframe thead th {\n",
       "        text-align: right;\n",
       "    }\n",
       "</style>\n",
       "<table border=\"1\" class=\"dataframe\">\n",
       "  <thead>\n",
       "    <tr style=\"text-align: right;\">\n",
       "      <th></th>\n",
       "      <th>Name</th>\n",
       "      <th>Salary</th>\n",
       "    </tr>\n",
       "  </thead>\n",
       "  <tbody>\n",
       "    <tr>\n",
       "      <th>0</th>\n",
       "      <td>Amit</td>\n",
       "      <td>43</td>\n",
       "    </tr>\n",
       "    <tr>\n",
       "      <th>1</th>\n",
       "      <td>Pankaj</td>\n",
       "      <td>35</td>\n",
       "    </tr>\n",
       "    <tr>\n",
       "      <th>2</th>\n",
       "      <td>Swati</td>\n",
       "      <td>65</td>\n",
       "    </tr>\n",
       "    <tr>\n",
       "      <th>3</th>\n",
       "      <td>Nalini</td>\n",
       "      <td>30</td>\n",
       "    </tr>\n",
       "    <tr>\n",
       "      <th>4</th>\n",
       "      <td>Chetan</td>\n",
       "      <td>78</td>\n",
       "    </tr>\n",
       "  </tbody>\n",
       "</table>\n",
       "</div>"
      ],
      "text/plain": [
       "     Name  Salary\n",
       "0    Amit      43\n",
       "1  Pankaj      35\n",
       "2   Swati      65\n",
       "3  Nalini      30\n",
       "4  Chetan      78"
      ]
     },
     "execution_count": 35,
     "metadata": {},
     "output_type": "execute_result"
    }
   ],
   "source": [
    "sal = emp_df[['Name','Salary']]\n",
    "sal"
   ]
  },
  {
   "cell_type": "code",
   "execution_count": 36,
   "id": "35640c04-efc2-4a82-831a-85f47dfed7b0",
   "metadata": {},
   "outputs": [],
   "source": [
    "stu_names = ['Amit','Charanjeet','Vibha','Ruchika']\n",
    "stu_marks = [68,54,98,50]"
   ]
  },
  {
   "cell_type": "code",
   "execution_count": 38,
   "id": "f1638cce-8da6-4bc3-b8ae-d8c6b4ce0749",
   "metadata": {},
   "outputs": [
    {
     "data": {
      "text/html": [
       "<div>\n",
       "<style scoped>\n",
       "    .dataframe tbody tr th:only-of-type {\n",
       "        vertical-align: middle;\n",
       "    }\n",
       "\n",
       "    .dataframe tbody tr th {\n",
       "        vertical-align: top;\n",
       "    }\n",
       "\n",
       "    .dataframe thead th {\n",
       "        text-align: right;\n",
       "    }\n",
       "</style>\n",
       "<table border=\"1\" class=\"dataframe\">\n",
       "  <thead>\n",
       "    <tr style=\"text-align: right;\">\n",
       "      <th></th>\n",
       "      <th>Name</th>\n",
       "      <th>Marks</th>\n",
       "    </tr>\n",
       "  </thead>\n",
       "  <tbody>\n",
       "    <tr>\n",
       "      <th>0</th>\n",
       "      <td>Amit</td>\n",
       "      <td>68</td>\n",
       "    </tr>\n",
       "    <tr>\n",
       "      <th>1</th>\n",
       "      <td>Charanjeet</td>\n",
       "      <td>54</td>\n",
       "    </tr>\n",
       "    <tr>\n",
       "      <th>2</th>\n",
       "      <td>Vibha</td>\n",
       "      <td>98</td>\n",
       "    </tr>\n",
       "    <tr>\n",
       "      <th>3</th>\n",
       "      <td>Ruchika</td>\n",
       "      <td>50</td>\n",
       "    </tr>\n",
       "  </tbody>\n",
       "</table>\n",
       "</div>"
      ],
      "text/plain": [
       "         Name  Marks\n",
       "0        Amit     68\n",
       "1  Charanjeet     54\n",
       "2       Vibha     98\n",
       "3     Ruchika     50"
      ]
     },
     "execution_count": 38,
     "metadata": {},
     "output_type": "execute_result"
    }
   ],
   "source": [
    "students = {'Name':stu_names,'Marks':stu_marks}\n",
    "stu_df=pd.DataFrame(students)\n",
    "stu_df"
   ]
  },
  {
   "cell_type": "code",
   "execution_count": 39,
   "id": "523fd431-9697-4dcf-9b7a-81d6552c777e",
   "metadata": {},
   "outputs": [],
   "source": [
    "import os "
   ]
  },
  {
   "cell_type": "code",
   "execution_count": 40,
   "id": "30b3fd94-5b20-43bc-bd8e-c33072f20d09",
   "metadata": {},
   "outputs": [
    {
     "data": {
      "text/plain": [
       "'C:\\\\Users\\\\dheem\\\\Python\\\\Statistics and R'"
      ]
     },
     "execution_count": 40,
     "metadata": {},
     "output_type": "execute_result"
    }
   ],
   "source": [
    "os.getcwd()"
   ]
  },
  {
   "cell_type": "code",
   "execution_count": 41,
   "id": "f6c60a85-b195-4207-a6b4-c561b3046e5c",
   "metadata": {},
   "outputs": [],
   "source": [
    "#os.chdir(r'pathtofile') change directory to a file "
   ]
  },
  {
   "cell_type": "code",
   "execution_count": 49,
   "id": "322ea114-8b34-48e0-966d-a704249257a5",
   "metadata": {},
   "outputs": [
    {
     "name": "stdout",
     "output_type": "stream",
     "text": [
      "Collecting openpyxl\n",
      "  Downloading openpyxl-3.1.2-py2.py3-none-any.whl.metadata (2.5 kB)\n",
      "Collecting et-xmlfile (from openpyxl)\n",
      "  Downloading et_xmlfile-1.1.0-py3-none-any.whl.metadata (1.8 kB)\n",
      "Downloading openpyxl-3.1.2-py2.py3-none-any.whl (249 kB)\n",
      "   ---------------------------------------- 0.0/250.0 kB ? eta -:--:--\n",
      "   - -------------------------------------- 10.2/250.0 kB ? eta -:--:--\n",
      "   ------ -------------------------------- 41.0/250.0 kB 653.6 kB/s eta 0:00:01\n",
      "   ---------------------------------------- 250.0/250.0 kB 2.6 MB/s eta 0:00:00\n",
      "Downloading et_xmlfile-1.1.0-py3-none-any.whl (4.7 kB)\n",
      "Installing collected packages: et-xmlfile, openpyxl\n",
      "Successfully installed et-xmlfile-1.1.0 openpyxl-3.1.2\n",
      "Note: you may need to restart the kernel to use updated packages.\n"
     ]
    }
   ],
   "source": [
    "pip install openpyxl"
   ]
  },
  {
   "cell_type": "code",
   "execution_count": 2,
   "id": "f1612649-4542-43cf-8acd-bbe4da09c9f7",
   "metadata": {},
   "outputs": [],
   "source": [
    "df = pd.read_excel('CDAC_DataBook.xlsx', sheet_name=\"ERPData\")"
   ]
  },
  {
   "cell_type": "code",
   "execution_count": 3,
   "id": "968903fa-8e0a-4b2e-99b5-1294d08f41b4",
   "metadata": {},
   "outputs": [
    {
     "data": {
      "text/html": [
       "<div>\n",
       "<style scoped>\n",
       "    .dataframe tbody tr th:only-of-type {\n",
       "        vertical-align: middle;\n",
       "    }\n",
       "\n",
       "    .dataframe tbody tr th {\n",
       "        vertical-align: top;\n",
       "    }\n",
       "\n",
       "    .dataframe thead th {\n",
       "        text-align: right;\n",
       "    }\n",
       "</style>\n",
       "<table border=\"1\" class=\"dataframe\">\n",
       "  <thead>\n",
       "    <tr style=\"text-align: right;\">\n",
       "      <th></th>\n",
       "      <th>MaterialID</th>\n",
       "      <th>Location</th>\n",
       "      <th>Quantity</th>\n",
       "    </tr>\n",
       "  </thead>\n",
       "  <tbody>\n",
       "    <tr>\n",
       "      <th>0</th>\n",
       "      <td>TMI-43T</td>\n",
       "      <td>MWH-4</td>\n",
       "      <td>34</td>\n",
       "    </tr>\n",
       "    <tr>\n",
       "      <th>1</th>\n",
       "      <td>AXCP-78</td>\n",
       "      <td>MWH-1</td>\n",
       "      <td>67</td>\n",
       "    </tr>\n",
       "    <tr>\n",
       "      <th>2</th>\n",
       "      <td>LXCV-21</td>\n",
       "      <td>MWH-2</td>\n",
       "      <td>27</td>\n",
       "    </tr>\n",
       "    <tr>\n",
       "      <th>3</th>\n",
       "      <td>AXCP-78</td>\n",
       "      <td>MWH-5</td>\n",
       "      <td>65</td>\n",
       "    </tr>\n",
       "    <tr>\n",
       "      <th>4</th>\n",
       "      <td>AXCP-78</td>\n",
       "      <td>MWH-4</td>\n",
       "      <td>36</td>\n",
       "    </tr>\n",
       "  </tbody>\n",
       "</table>\n",
       "</div>"
      ],
      "text/plain": [
       "  MaterialID Location  Quantity\n",
       "0    TMI-43T    MWH-4        34\n",
       "1    AXCP-78    MWH-1        67\n",
       "2    LXCV-21    MWH-2        27\n",
       "3    AXCP-78    MWH-5        65\n",
       "4    AXCP-78    MWH-4        36"
      ]
     },
     "execution_count": 3,
     "metadata": {},
     "output_type": "execute_result"
    }
   ],
   "source": [
    "df.head()"
   ]
  },
  {
   "cell_type": "code",
   "execution_count": 5,
   "id": "583a296d-3236-4866-b5f7-943c22929d8f",
   "metadata": {},
   "outputs": [
    {
     "data": {
      "text/plain": [
       "(50, 3)"
      ]
     },
     "execution_count": 5,
     "metadata": {},
     "output_type": "execute_result"
    }
   ],
   "source": [
    "df.shape"
   ]
  },
  {
   "cell_type": "code",
   "execution_count": 8,
   "id": "696b1ac5-8081-441c-ace8-5af716309315",
   "metadata": {},
   "outputs": [],
   "source": [
    "warehouses = df['MaterialID'].unique()"
   ]
  },
  {
   "cell_type": "code",
   "execution_count": 12,
   "id": "b530e1c7-84c2-4f22-a43f-bf0ca33f5998",
   "metadata": {},
   "outputs": [
    {
     "data": {
      "text/plain": [
       "array(['MWH-1', 'MWH-2', 'MWH-3', 'MWH-4', 'MWH-5'], dtype=object)"
      ]
     },
     "execution_count": 12,
     "metadata": {},
     "output_type": "execute_result"
    }
   ],
   "source": [
    "np.unique(df.Location)"
   ]
  },
  {
   "cell_type": "code",
   "execution_count": 11,
   "id": "a64f93e7-58f3-481e-bbd6-d6b7122dae9c",
   "metadata": {},
   "outputs": [
    {
     "data": {
      "text/plain": [
       "5"
      ]
     },
     "execution_count": 11,
     "metadata": {},
     "output_type": "execute_result"
    }
   ],
   "source": [
    "len(np.unique(df.Location)) #count using np unique"
   ]
  },
  {
   "cell_type": "markdown",
   "id": "715304e3-7c95-44d2-a671-d82622a76944",
   "metadata": {
    "scrolled": true
   },
   "source": [
    "### newdf.columns = df.columns ## transferring name of columns from one DF to another DF"
   ]
  },
  {
   "cell_type": "markdown",
   "id": "e9b353da-395b-4e4c-966f-194b9cc6cb18",
   "metadata": {},
   "source": [
    "### Criteria for a method to be betther  1. minimum number of steps 2. scalable"
   ]
  },
  {
   "cell_type": "code",
   "execution_count": 16,
   "id": "6e128d5f-b8f5-48dc-ac2b-90238b4a5d96",
   "metadata": {},
   "outputs": [
    {
     "data": {
      "text/html": [
       "<div>\n",
       "<style scoped>\n",
       "    .dataframe tbody tr th:only-of-type {\n",
       "        vertical-align: middle;\n",
       "    }\n",
       "\n",
       "    .dataframe tbody tr th {\n",
       "        vertical-align: top;\n",
       "    }\n",
       "\n",
       "    .dataframe thead th {\n",
       "        text-align: right;\n",
       "    }\n",
       "</style>\n",
       "<table border=\"1\" class=\"dataframe\">\n",
       "  <thead>\n",
       "    <tr style=\"text-align: right;\">\n",
       "      <th></th>\n",
       "      <th>MaterialID</th>\n",
       "      <th>Location</th>\n",
       "      <th>Quantity</th>\n",
       "    </tr>\n",
       "  </thead>\n",
       "  <tbody>\n",
       "    <tr>\n",
       "      <th>9</th>\n",
       "      <td>TMI-43T</td>\n",
       "      <td>MWH-1</td>\n",
       "      <td>120</td>\n",
       "    </tr>\n",
       "    <tr>\n",
       "      <th>17</th>\n",
       "      <td>SDRT-67</td>\n",
       "      <td>MWH-5</td>\n",
       "      <td>102</td>\n",
       "    </tr>\n",
       "    <tr>\n",
       "      <th>24</th>\n",
       "      <td>AXCP-78</td>\n",
       "      <td>MWH-1</td>\n",
       "      <td>152</td>\n",
       "    </tr>\n",
       "    <tr>\n",
       "      <th>25</th>\n",
       "      <td>AXCP-78</td>\n",
       "      <td>MWH-1</td>\n",
       "      <td>109</td>\n",
       "    </tr>\n",
       "    <tr>\n",
       "      <th>33</th>\n",
       "      <td>TMI-43T</td>\n",
       "      <td>MWH-5</td>\n",
       "      <td>112</td>\n",
       "    </tr>\n",
       "    <tr>\n",
       "      <th>39</th>\n",
       "      <td>AXCP-78</td>\n",
       "      <td>MWH-1</td>\n",
       "      <td>145</td>\n",
       "    </tr>\n",
       "  </tbody>\n",
       "</table>\n",
       "</div>"
      ],
      "text/plain": [
       "   MaterialID Location  Quantity\n",
       "9     TMI-43T    MWH-1       120\n",
       "17    SDRT-67    MWH-5       102\n",
       "24    AXCP-78    MWH-1       152\n",
       "25    AXCP-78    MWH-1       109\n",
       "33    TMI-43T    MWH-5       112\n",
       "39    AXCP-78    MWH-1       145"
      ]
     },
     "execution_count": 16,
     "metadata": {},
     "output_type": "execute_result"
    }
   ],
   "source": [
    "df[df.Quantity>=100]"
   ]
  },
  {
   "cell_type": "code",
   "execution_count": 17,
   "id": "e7031e7e-9fbf-438c-97e0-1fef61d74a61",
   "metadata": {},
   "outputs": [
    {
     "data": {
      "text/plain": [
       "6"
      ]
     },
     "execution_count": 17,
     "metadata": {},
     "output_type": "execute_result"
    }
   ],
   "source": [
    "len(df[df.Quantity>=100])"
   ]
  },
  {
   "cell_type": "markdown",
   "id": "42e1e29d-d272-479f-96c6-17c55eea44cc",
   "metadata": {},
   "source": [
    "## using NumPy\n"
   ]
  },
  {
   "cell_type": "code",
   "execution_count": 22,
   "id": "b44724ce-b9e6-42d7-8589-ea813af7cb6f",
   "metadata": {},
   "outputs": [
    {
     "data": {
      "text/plain": [
       "array([[ 34,  67,  27,  65,  36,  78,  31,  29,  10, 120,  34,  58,  76,\n",
       "         32,  65,  87,  12, 102,  34,  52,  39,  75,  48,  71, 152, 109,\n",
       "         57,  83,  34,  57,  27,  65,  43, 112,  26,  31,  28,  65,  70,\n",
       "        145,  34,  57,  31,  38,  42,  69,  85,  29,  75,  39]],\n",
       "      dtype=int64)"
      ]
     },
     "execution_count": 22,
     "metadata": {},
     "output_type": "execute_result"
    }
   ],
   "source": [
    "qty = np.array([df.Quantity])\n",
    "qty"
   ]
  },
  {
   "cell_type": "code",
   "execution_count": 25,
   "id": "59228365-9da3-4ec2-8ccd-22214eccf483",
   "metadata": {},
   "outputs": [
    {
     "data": {
      "text/plain": [
       "6"
      ]
     },
     "execution_count": 25,
     "metadata": {},
     "output_type": "execute_result"
    }
   ],
   "source": [
    "cnt = qty[np.where(qty>=100)]\n",
    "len(cnt)"
   ]
  },
  {
   "cell_type": "code",
   "execution_count": 34,
   "id": "4426f452-550a-4c74-97ae-68b592784e0b",
   "metadata": {},
   "outputs": [
    {
     "data": {
      "text/plain": [
       "6"
      ]
     },
     "execution_count": 34,
     "metadata": {},
     "output_type": "execute_result"
    }
   ],
   "source": [
    "len(np.where(df.Quantity>=100)[0])"
   ]
  },
  {
   "cell_type": "markdown",
   "id": "96a9648a-8759-4f26-aa99-680655757dd1",
   "metadata": {},
   "source": [
    "## Sirs solution\n"
   ]
  },
  {
   "cell_type": "code",
   "execution_count": 36,
   "id": "1d58e5ae-3ec2-4fa8-94b0-74d16428ae4b",
   "metadata": {},
   "outputs": [
    {
     "data": {
      "text/html": [
       "<div>\n",
       "<style scoped>\n",
       "    .dataframe tbody tr th:only-of-type {\n",
       "        vertical-align: middle;\n",
       "    }\n",
       "\n",
       "    .dataframe tbody tr th {\n",
       "        vertical-align: top;\n",
       "    }\n",
       "\n",
       "    .dataframe thead th {\n",
       "        text-align: right;\n",
       "    }\n",
       "</style>\n",
       "<table border=\"1\" class=\"dataframe\">\n",
       "  <thead>\n",
       "    <tr style=\"text-align: right;\">\n",
       "      <th></th>\n",
       "      <th>MaterialID</th>\n",
       "      <th>Location</th>\n",
       "      <th>Quantity</th>\n",
       "    </tr>\n",
       "  </thead>\n",
       "  <tbody>\n",
       "    <tr>\n",
       "      <th>9</th>\n",
       "      <td>TMI-43T</td>\n",
       "      <td>MWH-1</td>\n",
       "      <td>120</td>\n",
       "    </tr>\n",
       "    <tr>\n",
       "      <th>17</th>\n",
       "      <td>SDRT-67</td>\n",
       "      <td>MWH-5</td>\n",
       "      <td>102</td>\n",
       "    </tr>\n",
       "    <tr>\n",
       "      <th>24</th>\n",
       "      <td>AXCP-78</td>\n",
       "      <td>MWH-1</td>\n",
       "      <td>152</td>\n",
       "    </tr>\n",
       "    <tr>\n",
       "      <th>25</th>\n",
       "      <td>AXCP-78</td>\n",
       "      <td>MWH-1</td>\n",
       "      <td>109</td>\n",
       "    </tr>\n",
       "    <tr>\n",
       "      <th>33</th>\n",
       "      <td>TMI-43T</td>\n",
       "      <td>MWH-5</td>\n",
       "      <td>112</td>\n",
       "    </tr>\n",
       "    <tr>\n",
       "      <th>39</th>\n",
       "      <td>AXCP-78</td>\n",
       "      <td>MWH-1</td>\n",
       "      <td>145</td>\n",
       "    </tr>\n",
       "  </tbody>\n",
       "</table>\n",
       "</div>"
      ],
      "text/plain": [
       "   MaterialID Location  Quantity\n",
       "9     TMI-43T    MWH-1       120\n",
       "17    SDRT-67    MWH-5       102\n",
       "24    AXCP-78    MWH-1       152\n",
       "25    AXCP-78    MWH-1       109\n",
       "33    TMI-43T    MWH-5       112\n",
       "39    AXCP-78    MWH-1       145"
      ]
     },
     "execution_count": 36,
     "metadata": {},
     "output_type": "execute_result"
    }
   ],
   "source": [
    "t1 = np.where(df.Quantity>100)[0]\n",
    "mydf = df.iloc[t1]\n",
    "mydf"
   ]
  },
  {
   "cell_type": "markdown",
   "id": "9370697b-fbd7-4d44-9ff6-f93690e18786",
   "metadata": {},
   "source": [
    "# smartest way"
   ]
  },
  {
   "cell_type": "code",
   "execution_count": 37,
   "id": "121d6ab2-09f2-4066-a319-8507d231682b",
   "metadata": {},
   "outputs": [
    {
     "data": {
      "text/plain": [
       "6"
      ]
     },
     "execution_count": 37,
     "metadata": {},
     "output_type": "execute_result"
    }
   ],
   "source": [
    "(df.Quantity>=100).sum()"
   ]
  },
  {
   "cell_type": "code",
   "execution_count": null,
   "id": "299000a7-9ee1-4ca9-842e-6297f2142d03",
   "metadata": {},
   "outputs": [],
   "source": []
  }
 ],
 "metadata": {
  "kernelspec": {
   "display_name": "Python 3 (ipykernel)",
   "language": "python",
   "name": "python3"
  },
  "language_info": {
   "codemirror_mode": {
    "name": "ipython",
    "version": 3
   },
   "file_extension": ".py",
   "mimetype": "text/x-python",
   "name": "python",
   "nbconvert_exporter": "python",
   "pygments_lexer": "ipython3",
   "version": "3.12.2"
  }
 },
 "nbformat": 4,
 "nbformat_minor": 5
}
