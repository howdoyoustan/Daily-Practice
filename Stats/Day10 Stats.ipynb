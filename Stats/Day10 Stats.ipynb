{
 "cells": [
  {
   "cell_type": "code",
   "execution_count": 1,
   "id": "7d93eebc-904d-4553-9f2f-95beee63c63c",
   "metadata": {},
   "outputs": [],
   "source": [
    "import statsmodels\n",
    "from statsmodels import stats\n",
    "from statsmodels.stats import weightstats\n",
    "from scipy.stats import t,norm\n",
    "import numpy as np\n",
    "import pandas as pd\n",
    "import  statsmodels.api as sm\n",
    "from statsmodels.formula.api import ols\n",
    "import statsmodels.stats.multicomp\n",
    "from statsmodels.stats.multicomp import pairwise_tukeyhsd\n",
    "from statsmodels.stats import proportion\n",
    "from scipy.stats import chisquare,chi2_contingency\n",
    "import scipy\n",
    "from scipy import stats\n",
    "import pylab\n",
    "from pylab import plot,show,legend,title,xlabel,ylabel\n",
    "import matplotlib.pyplot as plt\n",
    "\n",
    "import sklearn\n",
    "from sklearn.model_selection import train_test_split"
   ]
  },
  {
   "cell_type": "code",
   "execution_count": 2,
   "id": "51ac9925-14b3-4ddf-9765-74a6287c1fd4",
   "metadata": {},
   "outputs": [],
   "source": [
    "df = pd.read_excel('CDAC_DataBook.xlsx',sheet_name = \"salaries\")"
   ]
  },
  {
   "cell_type": "code",
   "execution_count": 5,
   "id": "9b7e6762-1beb-45b7-8c14-1d08bbe8e9ef",
   "metadata": {},
   "outputs": [
    {
     "data": {
      "text/html": [
       "<div>\n",
       "<style scoped>\n",
       "    .dataframe tbody tr th:only-of-type {\n",
       "        vertical-align: middle;\n",
       "    }\n",
       "\n",
       "    .dataframe tbody tr th {\n",
       "        vertical-align: top;\n",
       "    }\n",
       "\n",
       "    .dataframe thead th {\n",
       "        text-align: right;\n",
       "    }\n",
       "</style>\n",
       "<table border=\"1\" class=\"dataframe\">\n",
       "  <thead>\n",
       "    <tr style=\"text-align: right;\">\n",
       "      <th></th>\n",
       "      <th>rank</th>\n",
       "      <th>discipline</th>\n",
       "      <th>yrs_phd</th>\n",
       "      <th>yrs_service</th>\n",
       "      <th>gender</th>\n",
       "      <th>salary</th>\n",
       "    </tr>\n",
       "  </thead>\n",
       "  <tbody>\n",
       "    <tr>\n",
       "      <th>0</th>\n",
       "      <td>Prof</td>\n",
       "      <td>B</td>\n",
       "      <td>19</td>\n",
       "      <td>18</td>\n",
       "      <td>Male</td>\n",
       "      <td>139750</td>\n",
       "    </tr>\n",
       "    <tr>\n",
       "      <th>1</th>\n",
       "      <td>Prof</td>\n",
       "      <td>B</td>\n",
       "      <td>20</td>\n",
       "      <td>16</td>\n",
       "      <td>Male</td>\n",
       "      <td>173200</td>\n",
       "    </tr>\n",
       "    <tr>\n",
       "      <th>2</th>\n",
       "      <td>AsstProf</td>\n",
       "      <td>B</td>\n",
       "      <td>4</td>\n",
       "      <td>3</td>\n",
       "      <td>Male</td>\n",
       "      <td>79750</td>\n",
       "    </tr>\n",
       "    <tr>\n",
       "      <th>3</th>\n",
       "      <td>Prof</td>\n",
       "      <td>B</td>\n",
       "      <td>45</td>\n",
       "      <td>39</td>\n",
       "      <td>Male</td>\n",
       "      <td>115000</td>\n",
       "    </tr>\n",
       "    <tr>\n",
       "      <th>4</th>\n",
       "      <td>Prof</td>\n",
       "      <td>B</td>\n",
       "      <td>40</td>\n",
       "      <td>41</td>\n",
       "      <td>Male</td>\n",
       "      <td>141500</td>\n",
       "    </tr>\n",
       "  </tbody>\n",
       "</table>\n",
       "</div>"
      ],
      "text/plain": [
       "       rank discipline  yrs_phd  yrs_service gender  salary\n",
       "0      Prof          B       19           18   Male  139750\n",
       "1      Prof          B       20           16   Male  173200\n",
       "2  AsstProf          B        4            3   Male   79750\n",
       "3      Prof          B       45           39   Male  115000\n",
       "4      Prof          B       40           41   Male  141500"
      ]
     },
     "execution_count": 5,
     "metadata": {},
     "output_type": "execute_result"
    }
   ],
   "source": [
    "df.head()"
   ]
  },
  {
   "cell_type": "code",
   "execution_count": 3,
   "id": "2b241988-7b3b-4c74-a119-5d721ebd787d",
   "metadata": {},
   "outputs": [],
   "source": [
    "df = df[['rank','yrs_service','salary']]"
   ]
  },
  {
   "cell_type": "code",
   "execution_count": 8,
   "id": "82690d67-0652-4fe0-a541-736bc1847e94",
   "metadata": {},
   "outputs": [
    {
     "data": {
      "text/html": [
       "<div>\n",
       "<style scoped>\n",
       "    .dataframe tbody tr th:only-of-type {\n",
       "        vertical-align: middle;\n",
       "    }\n",
       "\n",
       "    .dataframe tbody tr th {\n",
       "        vertical-align: top;\n",
       "    }\n",
       "\n",
       "    .dataframe thead th {\n",
       "        text-align: right;\n",
       "    }\n",
       "</style>\n",
       "<table border=\"1\" class=\"dataframe\">\n",
       "  <thead>\n",
       "    <tr style=\"text-align: right;\">\n",
       "      <th></th>\n",
       "      <th>rank</th>\n",
       "      <th>yrs_service</th>\n",
       "      <th>salary</th>\n",
       "    </tr>\n",
       "  </thead>\n",
       "  <tbody>\n",
       "    <tr>\n",
       "      <th>0</th>\n",
       "      <td>Prof</td>\n",
       "      <td>18</td>\n",
       "      <td>139750</td>\n",
       "    </tr>\n",
       "    <tr>\n",
       "      <th>1</th>\n",
       "      <td>Prof</td>\n",
       "      <td>16</td>\n",
       "      <td>173200</td>\n",
       "    </tr>\n",
       "    <tr>\n",
       "      <th>2</th>\n",
       "      <td>AsstProf</td>\n",
       "      <td>3</td>\n",
       "      <td>79750</td>\n",
       "    </tr>\n",
       "    <tr>\n",
       "      <th>3</th>\n",
       "      <td>Prof</td>\n",
       "      <td>39</td>\n",
       "      <td>115000</td>\n",
       "    </tr>\n",
       "    <tr>\n",
       "      <th>4</th>\n",
       "      <td>Prof</td>\n",
       "      <td>41</td>\n",
       "      <td>141500</td>\n",
       "    </tr>\n",
       "  </tbody>\n",
       "</table>\n",
       "</div>"
      ],
      "text/plain": [
       "       rank  yrs_service  salary\n",
       "0      Prof           18  139750\n",
       "1      Prof           16  173200\n",
       "2  AsstProf            3   79750\n",
       "3      Prof           39  115000\n",
       "4      Prof           41  141500"
      ]
     },
     "execution_count": 8,
     "metadata": {},
     "output_type": "execute_result"
    }
   ],
   "source": [
    "df.head()"
   ]
  },
  {
   "cell_type": "code",
   "execution_count": 4,
   "id": "025552cc-fc5e-48f5-8a61-9cd5bf039f08",
   "metadata": {},
   "outputs": [],
   "source": [
    "rank_dummy = pd.get_dummies(df['rank'],drop_first=True).astype(int)"
   ]
  },
  {
   "cell_type": "code",
   "execution_count": 13,
   "id": "2483ec26-5568-4e65-85d6-aba1b3327fde",
   "metadata": {},
   "outputs": [
    {
     "data": {
      "text/html": [
       "<div>\n",
       "<style scoped>\n",
       "    .dataframe tbody tr th:only-of-type {\n",
       "        vertical-align: middle;\n",
       "    }\n",
       "\n",
       "    .dataframe tbody tr th {\n",
       "        vertical-align: top;\n",
       "    }\n",
       "\n",
       "    .dataframe thead th {\n",
       "        text-align: right;\n",
       "    }\n",
       "</style>\n",
       "<table border=\"1\" class=\"dataframe\">\n",
       "  <thead>\n",
       "    <tr style=\"text-align: right;\">\n",
       "      <th></th>\n",
       "      <th>AsstProf</th>\n",
       "      <th>Prof</th>\n",
       "    </tr>\n",
       "  </thead>\n",
       "  <tbody>\n",
       "    <tr>\n",
       "      <th>0</th>\n",
       "      <td>0</td>\n",
       "      <td>1</td>\n",
       "    </tr>\n",
       "    <tr>\n",
       "      <th>1</th>\n",
       "      <td>0</td>\n",
       "      <td>1</td>\n",
       "    </tr>\n",
       "    <tr>\n",
       "      <th>2</th>\n",
       "      <td>1</td>\n",
       "      <td>0</td>\n",
       "    </tr>\n",
       "    <tr>\n",
       "      <th>3</th>\n",
       "      <td>0</td>\n",
       "      <td>1</td>\n",
       "    </tr>\n",
       "    <tr>\n",
       "      <th>4</th>\n",
       "      <td>0</td>\n",
       "      <td>1</td>\n",
       "    </tr>\n",
       "    <tr>\n",
       "      <th>...</th>\n",
       "      <td>...</td>\n",
       "      <td>...</td>\n",
       "    </tr>\n",
       "    <tr>\n",
       "      <th>392</th>\n",
       "      <td>0</td>\n",
       "      <td>1</td>\n",
       "    </tr>\n",
       "    <tr>\n",
       "      <th>393</th>\n",
       "      <td>0</td>\n",
       "      <td>1</td>\n",
       "    </tr>\n",
       "    <tr>\n",
       "      <th>394</th>\n",
       "      <td>0</td>\n",
       "      <td>1</td>\n",
       "    </tr>\n",
       "    <tr>\n",
       "      <th>395</th>\n",
       "      <td>0</td>\n",
       "      <td>1</td>\n",
       "    </tr>\n",
       "    <tr>\n",
       "      <th>396</th>\n",
       "      <td>1</td>\n",
       "      <td>0</td>\n",
       "    </tr>\n",
       "  </tbody>\n",
       "</table>\n",
       "<p>397 rows × 2 columns</p>\n",
       "</div>"
      ],
      "text/plain": [
       "     AsstProf  Prof\n",
       "0           0     1\n",
       "1           0     1\n",
       "2           1     0\n",
       "3           0     1\n",
       "4           0     1\n",
       "..        ...   ...\n",
       "392         0     1\n",
       "393         0     1\n",
       "394         0     1\n",
       "395         0     1\n",
       "396         1     0\n",
       "\n",
       "[397 rows x 2 columns]"
      ]
     },
     "execution_count": 13,
     "metadata": {},
     "output_type": "execute_result"
    }
   ],
   "source": [
    "rank_dummy"
   ]
  },
  {
   "cell_type": "code",
   "execution_count": 5,
   "id": "ca5efe00-23d6-4952-8201-82a35c909766",
   "metadata": {},
   "outputs": [],
   "source": [
    "df = df.drop('rank',axis=1)"
   ]
  },
  {
   "cell_type": "code",
   "execution_count": 6,
   "id": "6c3e3265-b50e-471d-9de1-78119b7f9974",
   "metadata": {},
   "outputs": [],
   "source": [
    "df = pd.concat([df,rank_dummy],axis=1)"
   ]
  },
  {
   "cell_type": "code",
   "execution_count": 17,
   "id": "26550279-8633-4114-be45-8b86b1d9ecaa",
   "metadata": {},
   "outputs": [
    {
     "data": {
      "text/html": [
       "<div>\n",
       "<style scoped>\n",
       "    .dataframe tbody tr th:only-of-type {\n",
       "        vertical-align: middle;\n",
       "    }\n",
       "\n",
       "    .dataframe tbody tr th {\n",
       "        vertical-align: top;\n",
       "    }\n",
       "\n",
       "    .dataframe thead th {\n",
       "        text-align: right;\n",
       "    }\n",
       "</style>\n",
       "<table border=\"1\" class=\"dataframe\">\n",
       "  <thead>\n",
       "    <tr style=\"text-align: right;\">\n",
       "      <th></th>\n",
       "      <th>yrs_service</th>\n",
       "      <th>salary</th>\n",
       "      <th>AsstProf</th>\n",
       "      <th>Prof</th>\n",
       "    </tr>\n",
       "  </thead>\n",
       "  <tbody>\n",
       "    <tr>\n",
       "      <th>0</th>\n",
       "      <td>18</td>\n",
       "      <td>139750</td>\n",
       "      <td>0</td>\n",
       "      <td>1</td>\n",
       "    </tr>\n",
       "    <tr>\n",
       "      <th>1</th>\n",
       "      <td>16</td>\n",
       "      <td>173200</td>\n",
       "      <td>0</td>\n",
       "      <td>1</td>\n",
       "    </tr>\n",
       "    <tr>\n",
       "      <th>2</th>\n",
       "      <td>3</td>\n",
       "      <td>79750</td>\n",
       "      <td>1</td>\n",
       "      <td>0</td>\n",
       "    </tr>\n",
       "    <tr>\n",
       "      <th>3</th>\n",
       "      <td>39</td>\n",
       "      <td>115000</td>\n",
       "      <td>0</td>\n",
       "      <td>1</td>\n",
       "    </tr>\n",
       "    <tr>\n",
       "      <th>4</th>\n",
       "      <td>41</td>\n",
       "      <td>141500</td>\n",
       "      <td>0</td>\n",
       "      <td>1</td>\n",
       "    </tr>\n",
       "  </tbody>\n",
       "</table>\n",
       "</div>"
      ],
      "text/plain": [
       "   yrs_service  salary  AsstProf  Prof\n",
       "0           18  139750         0     1\n",
       "1           16  173200         0     1\n",
       "2            3   79750         1     0\n",
       "3           39  115000         0     1\n",
       "4           41  141500         0     1"
      ]
     },
     "execution_count": 17,
     "metadata": {},
     "output_type": "execute_result"
    }
   ],
   "source": [
    "## here AssoProf has been taken as reference and at situations where AsstProf and Prof are 0 those are the locations of AssoProf.\n",
    "df.head()"
   ]
  },
  {
   "cell_type": "code",
   "execution_count": 7,
   "id": "152ad6b5-c58a-4d37-ab1b-1da116affa3c",
   "metadata": {},
   "outputs": [
    {
     "name": "stdout",
     "output_type": "stream",
     "text": [
      "                            OLS Regression Results                            \n",
      "==============================================================================\n",
      "Dep. Variable:                 salary   R-squared:                       0.405\n",
      "Model:                            OLS   Adj. R-squared:                  0.400\n",
      "Method:                 Least Squares   F-statistic:                     71.13\n",
      "Date:                Sun, 09 Jun 2024   Prob (F-statistic):           4.20e-35\n",
      "Time:                        21:57:40   Log-Likelihood:                -3644.0\n",
      "No. Observations:                 317   AIC:                             7296.\n",
      "Df Residuals:                     313   BIC:                             7311.\n",
      "Df Model:                           3                                         \n",
      "Covariance Type:            nonrobust                                         \n",
      "===============================================================================\n",
      "                  coef    std err          t      P>|t|      [0.025      0.975]\n",
      "-------------------------------------------------------------------------------\n",
      "yrs_service  -164.3126    130.198     -1.262      0.208    -420.486      91.861\n",
      "AsstProf    -1.366e+04   4932.376     -2.769      0.006   -2.34e+04   -3955.236\n",
      "Prof         3.695e+04   3986.278      9.269      0.000    2.91e+04    4.48e+04\n",
      "const        9.475e+04   3744.843     25.302      0.000    8.74e+04    1.02e+05\n",
      "==============================================================================\n",
      "Omnibus:                       30.551   Durbin-Watson:                   1.745\n",
      "Prob(Omnibus):                  0.000   Jarque-Bera (JB):               44.702\n",
      "Skew:                           0.643   Prob(JB):                     1.96e-10\n",
      "Kurtosis:                       4.316   Cond. No.                         104.\n",
      "==============================================================================\n",
      "\n",
      "Notes:\n",
      "[1] Standard Errors assume that the covariance matrix of the errors is correctly specified.\n"
     ]
    }
   ],
   "source": [
    "x_train,x_test,y_train,y_test=train_test_split(df.drop('salary',axis=1),df.salary, test_size=0.2)\n",
    "x_train = sm.add_constant(x_train,prepend = False)\n",
    "x_test = sm.add_constant(x_test,prepend=False)\n",
    "mod1 = sm.OLS(y_train,x_train).fit()\n",
    "print(mod1.summary())"
   ]
  },
  {
   "cell_type": "code",
   "execution_count": 19,
   "id": "7bfc2bc4-c6e9-4fb6-b63a-9e0aea0ff3cf",
   "metadata": {},
   "outputs": [],
   "source": [
    "y_pred = mod1.predict(x_test)"
   ]
  },
  {
   "cell_type": "code",
   "execution_count": 20,
   "id": "37ffd749-6903-44a7-9c61-5e864ab98cd3",
   "metadata": {},
   "outputs": [
    {
     "data": {
      "text/html": [
       "<div>\n",
       "<style scoped>\n",
       "    .dataframe tbody tr th:only-of-type {\n",
       "        vertical-align: middle;\n",
       "    }\n",
       "\n",
       "    .dataframe tbody tr th {\n",
       "        vertical-align: top;\n",
       "    }\n",
       "\n",
       "    .dataframe thead th {\n",
       "        text-align: right;\n",
       "    }\n",
       "</style>\n",
       "<table border=\"1\" class=\"dataframe\">\n",
       "  <thead>\n",
       "    <tr style=\"text-align: right;\">\n",
       "      <th></th>\n",
       "      <th>yrs_service</th>\n",
       "      <th>AsstProf</th>\n",
       "      <th>Prof</th>\n",
       "      <th>const</th>\n",
       "    </tr>\n",
       "  </thead>\n",
       "  <tbody>\n",
       "    <tr>\n",
       "      <th>377</th>\n",
       "      <td>3</td>\n",
       "      <td>1</td>\n",
       "      <td>0</td>\n",
       "      <td>1.0</td>\n",
       "    </tr>\n",
       "    <tr>\n",
       "      <th>365</th>\n",
       "      <td>40</td>\n",
       "      <td>0</td>\n",
       "      <td>1</td>\n",
       "      <td>1.0</td>\n",
       "    </tr>\n",
       "    <tr>\n",
       "      <th>239</th>\n",
       "      <td>6</td>\n",
       "      <td>0</td>\n",
       "      <td>1</td>\n",
       "      <td>1.0</td>\n",
       "    </tr>\n",
       "    <tr>\n",
       "      <th>330</th>\n",
       "      <td>60</td>\n",
       "      <td>0</td>\n",
       "      <td>1</td>\n",
       "      <td>1.0</td>\n",
       "    </tr>\n",
       "    <tr>\n",
       "      <th>146</th>\n",
       "      <td>4</td>\n",
       "      <td>1</td>\n",
       "      <td>0</td>\n",
       "      <td>1.0</td>\n",
       "    </tr>\n",
       "  </tbody>\n",
       "</table>\n",
       "</div>"
      ],
      "text/plain": [
       "     yrs_service  AsstProf  Prof  const\n",
       "377            3         1     0    1.0\n",
       "365           40         0     1    1.0\n",
       "239            6         0     1    1.0\n",
       "330           60         0     1    1.0\n",
       "146            4         1     0    1.0"
      ]
     },
     "execution_count": 20,
     "metadata": {},
     "output_type": "execute_result"
    }
   ],
   "source": [
    "x_test.head()"
   ]
  },
  {
   "cell_type": "code",
   "execution_count": 21,
   "id": "ed82bc8b-6314-4ce2-95be-233ce6f57232",
   "metadata": {},
   "outputs": [
    {
     "data": {
      "text/plain": [
       "377     80194.956707\n",
       "365    122714.621514\n",
       "239    127715.100394\n",
       "330    119773.163350\n",
       "146     80047.883798\n",
       "dtype: float64"
      ]
     },
     "execution_count": 21,
     "metadata": {},
     "output_type": "execute_result"
    }
   ],
   "source": [
    "y_pred.head()"
   ]
  },
  {
   "cell_type": "code",
   "execution_count": 22,
   "id": "19aead1e-51b7-4e85-8059-ef0480c3d8c8",
   "metadata": {},
   "outputs": [
    {
     "data": {
      "text/plain": [
       "377     77081\n",
       "365    101036\n",
       "239     96200\n",
       "330    192253\n",
       "146     92000\n",
       "Name: salary, dtype: int64"
      ]
     },
     "execution_count": 22,
     "metadata": {},
     "output_type": "execute_result"
    }
   ],
   "source": [
    "y_test.head()"
   ]
  },
  {
   "cell_type": "code",
   "execution_count": 8,
   "id": "2dcf2923-4729-4410-8185-23fe8e6f3371",
   "metadata": {},
   "outputs": [],
   "source": [
    "mydata = pd.DataFrame([[5,0,0,1],[5,1,0,1],[5,0,1,1]])\n",
    "mydata.columns = x_test.columns\n",
    "mypred = mod1.predict(mydata)"
   ]
  },
  {
   "cell_type": "code",
   "execution_count": 9,
   "id": "7bc43759-0bd8-46e5-b95e-5e65cb0009c5",
   "metadata": {},
   "outputs": [
    {
     "name": "stdout",
     "output_type": "stream",
     "text": [
      "0     93930.008518\n",
      "1     80269.967783\n",
      "2    130878.699206\n",
      "dtype: float64\n"
     ]
    }
   ],
   "source": [
    "print(mypred)"
   ]
  },
  {
   "cell_type": "code",
   "execution_count": 12,
   "id": "22eeed0d-545b-4911-98cd-7827db7cc865",
   "metadata": {},
   "outputs": [
    {
     "data": {
      "text/plain": [
       "130878.437"
      ]
     },
     "execution_count": 12,
     "metadata": {},
     "output_type": "execute_result"
    }
   ],
   "source": [
    "## matching with above mypred data and using the salary(resultant) equation we derived \n",
    "salary  = -164.3126*5+9.475e+04+3.695e+04\n",
    "salary"
   ]
  },
  {
   "cell_type": "code",
   "execution_count": 33,
   "id": "e4d83735-cda5-489b-835b-bb5dd2dcb306",
   "metadata": {},
   "outputs": [
    {
     "data": {
      "text/plain": [
       "0    93690.801616\n",
       "1    93249.582891\n",
       "2    92955.437075\n",
       "dtype: float64"
      ]
     },
     "execution_count": 33,
     "metadata": {},
     "output_type": "execute_result"
    }
   ],
   "source": [
    "## Now ensuring the data from yrs of service \n",
    "\n",
    "ydata = pd.DataFrame([[5,0,0,1],[8,0,0,1],[10,0,0,1]])\n",
    "ydata.columns = x_test.columns\n",
    "mypred = mod1.predict(ydata)\n",
    "mypred"
   ]
  },
  {
   "cell_type": "code",
   "execution_count": 36,
   "id": "b8d59e37-716b-4cb0-a499-cfde261a017b",
   "metadata": {},
   "outputs": [
    {
     "data": {
      "text/plain": [
       "-441.2187249999988"
      ]
     },
     "execution_count": 36,
     "metadata": {},
     "output_type": "execute_result"
    }
   ],
   "source": [
    "#substracting change of years of service for 3 years (5 to 8 )\n",
    "93249.582891-93690.801616"
   ]
  },
  {
   "cell_type": "code",
   "execution_count": 37,
   "id": "8467a87b-2f8c-4618-ae5b-9b2679e8be80",
   "metadata": {},
   "outputs": [
    {
     "data": {
      "text/plain": [
       "-147.07290833333295"
      ]
     },
     "execution_count": 37,
     "metadata": {},
     "output_type": "execute_result"
    }
   ],
   "source": [
    "#now for each year it would be \n",
    "-441.2187249999988/3\n",
    "#this value is same with what the model summarised as coeffecient for yrs of service"
   ]
  },
  {
   "cell_type": "markdown",
   "id": "feea9a1e-3c3d-465d-86d5-4b75bfaadd90",
   "metadata": {},
   "source": [
    "# Start of Linear Regression\n",
    "## Binary Linear Regression"
   ]
  },
  {
   "cell_type": "code",
   "execution_count": 13,
   "id": "f6f1b9f5-21d4-4cc3-a0b4-5965b64c13b1",
   "metadata": {},
   "outputs": [
    {
     "data": {
      "text/html": [
       "<div>\n",
       "<style scoped>\n",
       "    .dataframe tbody tr th:only-of-type {\n",
       "        vertical-align: middle;\n",
       "    }\n",
       "\n",
       "    .dataframe tbody tr th {\n",
       "        vertical-align: top;\n",
       "    }\n",
       "\n",
       "    .dataframe thead th {\n",
       "        text-align: right;\n",
       "    }\n",
       "</style>\n",
       "<table border=\"1\" class=\"dataframe\">\n",
       "  <thead>\n",
       "    <tr style=\"text-align: right;\">\n",
       "      <th></th>\n",
       "      <th>mpg</th>\n",
       "      <th>cyl</th>\n",
       "      <th>disp</th>\n",
       "      <th>hp</th>\n",
       "      <th>drat</th>\n",
       "      <th>wt</th>\n",
       "      <th>qsec</th>\n",
       "      <th>vs</th>\n",
       "      <th>am</th>\n",
       "      <th>gear</th>\n",
       "      <th>carb</th>\n",
       "    </tr>\n",
       "  </thead>\n",
       "  <tbody>\n",
       "    <tr>\n",
       "      <th>0</th>\n",
       "      <td>21.0</td>\n",
       "      <td>6</td>\n",
       "      <td>160.0</td>\n",
       "      <td>110</td>\n",
       "      <td>3.90</td>\n",
       "      <td>2.620</td>\n",
       "      <td>16.46</td>\n",
       "      <td>0</td>\n",
       "      <td>1</td>\n",
       "      <td>4</td>\n",
       "      <td>4</td>\n",
       "    </tr>\n",
       "    <tr>\n",
       "      <th>1</th>\n",
       "      <td>21.0</td>\n",
       "      <td>6</td>\n",
       "      <td>160.0</td>\n",
       "      <td>110</td>\n",
       "      <td>3.90</td>\n",
       "      <td>2.875</td>\n",
       "      <td>17.02</td>\n",
       "      <td>0</td>\n",
       "      <td>1</td>\n",
       "      <td>4</td>\n",
       "      <td>4</td>\n",
       "    </tr>\n",
       "    <tr>\n",
       "      <th>2</th>\n",
       "      <td>22.8</td>\n",
       "      <td>4</td>\n",
       "      <td>108.0</td>\n",
       "      <td>93</td>\n",
       "      <td>3.85</td>\n",
       "      <td>2.320</td>\n",
       "      <td>18.61</td>\n",
       "      <td>1</td>\n",
       "      <td>1</td>\n",
       "      <td>4</td>\n",
       "      <td>1</td>\n",
       "    </tr>\n",
       "    <tr>\n",
       "      <th>3</th>\n",
       "      <td>21.4</td>\n",
       "      <td>6</td>\n",
       "      <td>258.0</td>\n",
       "      <td>110</td>\n",
       "      <td>3.08</td>\n",
       "      <td>3.215</td>\n",
       "      <td>19.44</td>\n",
       "      <td>1</td>\n",
       "      <td>0</td>\n",
       "      <td>3</td>\n",
       "      <td>1</td>\n",
       "    </tr>\n",
       "    <tr>\n",
       "      <th>4</th>\n",
       "      <td>18.7</td>\n",
       "      <td>8</td>\n",
       "      <td>360.0</td>\n",
       "      <td>175</td>\n",
       "      <td>3.15</td>\n",
       "      <td>3.440</td>\n",
       "      <td>17.02</td>\n",
       "      <td>0</td>\n",
       "      <td>0</td>\n",
       "      <td>3</td>\n",
       "      <td>2</td>\n",
       "    </tr>\n",
       "  </tbody>\n",
       "</table>\n",
       "</div>"
      ],
      "text/plain": [
       "    mpg  cyl   disp   hp  drat     wt   qsec  vs  am  gear  carb\n",
       "0  21.0    6  160.0  110  3.90  2.620  16.46   0   1     4     4\n",
       "1  21.0    6  160.0  110  3.90  2.875  17.02   0   1     4     4\n",
       "2  22.8    4  108.0   93  3.85  2.320  18.61   1   1     4     1\n",
       "3  21.4    6  258.0  110  3.08  3.215  19.44   1   0     3     1\n",
       "4  18.7    8  360.0  175  3.15  3.440  17.02   0   0     3     2"
      ]
     },
     "execution_count": 13,
     "metadata": {},
     "output_type": "execute_result"
    }
   ],
   "source": [
    "df = pd.read_excel('CDAC_DataBook.xlsx',sheet_name='mtcars')\n",
    "df.head()"
   ]
  },
  {
   "cell_type": "code",
   "execution_count": 14,
   "id": "aaa38cd5-8ba3-4f65-a1c9-f90ec91a1717",
   "metadata": {},
   "outputs": [],
   "source": [
    "df=df[['hp','wt','am']]"
   ]
  },
  {
   "cell_type": "code",
   "execution_count": 15,
   "id": "33d6506d-bd99-45ee-96b4-b566531a60a3",
   "metadata": {},
   "outputs": [
    {
     "data": {
      "text/html": [
       "<div>\n",
       "<style scoped>\n",
       "    .dataframe tbody tr th:only-of-type {\n",
       "        vertical-align: middle;\n",
       "    }\n",
       "\n",
       "    .dataframe tbody tr th {\n",
       "        vertical-align: top;\n",
       "    }\n",
       "\n",
       "    .dataframe thead th {\n",
       "        text-align: right;\n",
       "    }\n",
       "</style>\n",
       "<table border=\"1\" class=\"dataframe\">\n",
       "  <thead>\n",
       "    <tr style=\"text-align: right;\">\n",
       "      <th></th>\n",
       "      <th>hp</th>\n",
       "      <th>wt</th>\n",
       "      <th>am</th>\n",
       "    </tr>\n",
       "  </thead>\n",
       "  <tbody>\n",
       "    <tr>\n",
       "      <th>0</th>\n",
       "      <td>110</td>\n",
       "      <td>2.620</td>\n",
       "      <td>1</td>\n",
       "    </tr>\n",
       "    <tr>\n",
       "      <th>1</th>\n",
       "      <td>110</td>\n",
       "      <td>2.875</td>\n",
       "      <td>1</td>\n",
       "    </tr>\n",
       "    <tr>\n",
       "      <th>2</th>\n",
       "      <td>93</td>\n",
       "      <td>2.320</td>\n",
       "      <td>1</td>\n",
       "    </tr>\n",
       "    <tr>\n",
       "      <th>3</th>\n",
       "      <td>110</td>\n",
       "      <td>3.215</td>\n",
       "      <td>0</td>\n",
       "    </tr>\n",
       "    <tr>\n",
       "      <th>4</th>\n",
       "      <td>175</td>\n",
       "      <td>3.440</td>\n",
       "      <td>0</td>\n",
       "    </tr>\n",
       "  </tbody>\n",
       "</table>\n",
       "</div>"
      ],
      "text/plain": [
       "    hp     wt  am\n",
       "0  110  2.620   1\n",
       "1  110  2.875   1\n",
       "2   93  2.320   1\n",
       "3  110  3.215   0\n",
       "4  175  3.440   0"
      ]
     },
     "execution_count": 15,
     "metadata": {},
     "output_type": "execute_result"
    }
   ],
   "source": [
    "df.head()"
   ]
  },
  {
   "cell_type": "code",
   "execution_count": 17,
   "id": "76ddb765-05ac-4d20-a286-f8a97ea4d338",
   "metadata": {},
   "outputs": [],
   "source": [
    "x_train = df.iloc[:28]\n",
    "x_test = df.iloc[28:]\n",
    "\n",
    "y_train = x_train.am\n",
    "y_test=x_test.am\n",
    "x_train = x_train.drop('am',axis=1)\n",
    "x_test = x_test.drop('am',axis=1)\n",
    "\n",
    "x_train = sm.add_constant(x_train,prepend=False)\n",
    "x_test = sm.add_constant(x_test,prepend=False)"
   ]
  },
  {
   "cell_type": "code",
   "execution_count": 18,
   "id": "adaa950d-8c1b-4b88-a413-b059b378c1bb",
   "metadata": {},
   "outputs": [
    {
     "name": "stdout",
     "output_type": "stream",
     "text": [
      "Optimization terminated successfully.\n",
      "         Current function value: 0.136274\n",
      "         Iterations 9\n",
      "                           Logit Regression Results                           \n",
      "==============================================================================\n",
      "Dep. Variable:                     am   No. Observations:                   28\n",
      "Model:                          Logit   Df Residuals:                       25\n",
      "Method:                           MLE   Df Model:                            2\n",
      "Date:                Fri, 07 Jun 2024   Pseudo R-squ.:                  0.7830\n",
      "Time:                        13:00:46   Log-Likelihood:                -3.8157\n",
      "converged:                       True   LL-Null:                       -17.582\n",
      "Covariance Type:            nonrobust   LLR p-value:                 1.050e-06\n",
      "==============================================================================\n",
      "                 coef    std err          z      P>|z|      [0.025      0.975]\n",
      "------------------------------------------------------------------------------\n",
      "hp             0.0107      0.039      0.273      0.785      -0.066       0.087\n",
      "wt            -6.1413      3.000     -2.047      0.041     -12.020      -0.262\n",
      "const         15.7377      6.641      2.370      0.018       2.722      28.754\n",
      "==============================================================================\n",
      "\n",
      "Possibly complete quasi-separation: A fraction 0.11 of observations can be\n",
      "perfectly predicted. This might indicate that there is complete\n",
      "quasi-separation. In this case some parameters will not be identified.\n"
     ]
    }
   ],
   "source": [
    "mod2 = sm.Logit(y_train,x_train).fit()\n",
    "print(mod2.summary())"
   ]
  },
  {
   "cell_type": "code",
   "execution_count": 19,
   "id": "fc32dfa1-5db3-4670-a151-618409fd01d4",
   "metadata": {},
   "outputs": [],
   "source": [
    "y_pred = mod2.predict(x_test)"
   ]
  },
  {
   "cell_type": "code",
   "execution_count": 20,
   "id": "bf864cfe-063d-4bab-bb56-861e27a9207b",
   "metadata": {},
   "outputs": [
    {
     "data": {
      "text/plain": [
       "28    0.286330\n",
       "29    0.644190\n",
       "30    0.068357\n",
       "31    0.457093\n",
       "dtype: float64"
      ]
     },
     "execution_count": 20,
     "metadata": {},
     "output_type": "execute_result"
    }
   ],
   "source": [
    "y_pred.head()"
   ]
  },
  {
   "cell_type": "markdown",
   "id": "6eb7ddb4-804b-4fae-bd55-1566648de70c",
   "metadata": {},
   "source": [
    "## Trial for depicting log values"
   ]
  },
  {
   "cell_type": "code",
   "execution_count": 23,
   "id": "77be6bfa-3da0-4d93-9924-b0053409db74",
   "metadata": {},
   "outputs": [
    {
     "data": {
      "text/plain": [
       "1.3862943611198906"
      ]
     },
     "execution_count": 23,
     "metadata": {},
     "output_type": "execute_result"
    }
   ],
   "source": [
    "np.log(4) #log of a number greater than 1 is always +ve >0"
   ]
  },
  {
   "cell_type": "code",
   "execution_count": 24,
   "id": "12a74408-7b20-4d8a-bf0d-e1e17b5296c7",
   "metadata": {},
   "outputs": [
    {
     "data": {
      "text/plain": [
       "-1.3862943611198906"
      ]
     },
     "execution_count": 24,
     "metadata": {},
     "output_type": "execute_result"
    }
   ],
   "source": [
    "np.log(1/4) #log of a number less than 1 is always -ve <0"
   ]
  },
  {
   "cell_type": "markdown",
   "id": "64d8b88f-aa6b-4b5e-bdd8-e9fd4e15414e",
   "metadata": {},
   "source": [
    "## Now depicting how much weight affects transmission as per our model"
   ]
  },
  {
   "cell_type": "code",
   "execution_count": 26,
   "id": "5d372874-8bdf-489a-8322-68a3919398a1",
   "metadata": {},
   "outputs": [
    {
     "data": {
      "text/html": [
       "<div>\n",
       "<style scoped>\n",
       "    .dataframe tbody tr th:only-of-type {\n",
       "        vertical-align: middle;\n",
       "    }\n",
       "\n",
       "    .dataframe tbody tr th {\n",
       "        vertical-align: top;\n",
       "    }\n",
       "\n",
       "    .dataframe thead th {\n",
       "        text-align: right;\n",
       "    }\n",
       "</style>\n",
       "<table border=\"1\" class=\"dataframe\">\n",
       "  <thead>\n",
       "    <tr style=\"text-align: right;\">\n",
       "      <th></th>\n",
       "      <th>hp</th>\n",
       "      <th>wt</th>\n",
       "      <th>const</th>\n",
       "    </tr>\n",
       "  </thead>\n",
       "  <tbody>\n",
       "    <tr>\n",
       "      <th>0</th>\n",
       "      <td>110</td>\n",
       "      <td>2.620</td>\n",
       "      <td>1.0</td>\n",
       "    </tr>\n",
       "    <tr>\n",
       "      <th>1</th>\n",
       "      <td>110</td>\n",
       "      <td>2.875</td>\n",
       "      <td>1.0</td>\n",
       "    </tr>\n",
       "    <tr>\n",
       "      <th>2</th>\n",
       "      <td>93</td>\n",
       "      <td>2.320</td>\n",
       "      <td>1.0</td>\n",
       "    </tr>\n",
       "    <tr>\n",
       "      <th>3</th>\n",
       "      <td>110</td>\n",
       "      <td>3.215</td>\n",
       "      <td>1.0</td>\n",
       "    </tr>\n",
       "    <tr>\n",
       "      <th>4</th>\n",
       "      <td>175</td>\n",
       "      <td>3.440</td>\n",
       "      <td>1.0</td>\n",
       "    </tr>\n",
       "  </tbody>\n",
       "</table>\n",
       "</div>"
      ],
      "text/plain": [
       "    hp     wt  const\n",
       "0  110  2.620    1.0\n",
       "1  110  2.875    1.0\n",
       "2   93  2.320    1.0\n",
       "3  110  3.215    1.0\n",
       "4  175  3.440    1.0"
      ]
     },
     "execution_count": 26,
     "metadata": {},
     "output_type": "execute_result"
    }
   ],
   "source": [
    "x_train.head()"
   ]
  },
  {
   "cell_type": "code",
   "execution_count": 27,
   "id": "b9dce225-47d6-41a4-8c76-fd342ba4f678",
   "metadata": {},
   "outputs": [],
   "source": [
    "mydata = pd.DataFrame([[110,2,1],[110,2.5,1],[110,3,1]])\n",
    "mydata.columns = x_train.columns"
   ]
  },
  {
   "cell_type": "code",
   "execution_count": 29,
   "id": "90695a6d-0310-45d5-9111-b197e22e6dc3",
   "metadata": {},
   "outputs": [],
   "source": [
    "preds = mod2.predict(mydata)"
   ]
  },
  {
   "cell_type": "code",
   "execution_count": 32,
   "id": "a8163cd9-ce15-415b-addd-261a8f40b2ec",
   "metadata": {},
   "outputs": [
    {
     "data": {
      "text/plain": [
       "0    0.990328\n",
       "1    0.826093\n",
       "2    0.180573\n",
       "dtype: float64"
      ]
     },
     "execution_count": 32,
     "metadata": {},
     "output_type": "execute_result"
    }
   ],
   "source": [
    "#here as weight increases probability of predictor value (here it is automatic which is depicted by 1) will decrease\n",
    "# which can also be stated as when weight increase probability of reference value(which would be manual depicted by 0) decreases\n",
    "preds"
   ]
  },
  {
   "cell_type": "code",
   "execution_count": 37,
   "id": "8196695d-272a-4b48-aeb7-f62207026231",
   "metadata": {},
   "outputs": [
    {
     "data": {
      "text/plain": [
       "4.62880108807538"
      ]
     },
     "execution_count": 37,
     "metadata": {},
     "output_type": "execute_result"
    }
   ],
   "source": [
    "#log of odds for 2 { odd ratios for taking place = p/(1-p) }\n",
    "lo2 = np.log(0.990328/(1-0.990328))\n",
    "lo2"
   ]
  },
  {
   "cell_type": "code",
   "execution_count": 36,
   "id": "3222fc79-2216-483a-b9f8-f550943ef29b",
   "metadata": {},
   "outputs": [
    {
     "data": {
      "text/plain": [
       "1.5581866844130583"
      ]
     },
     "execution_count": 36,
     "metadata": {},
     "output_type": "execute_result"
    }
   ],
   "source": [
    "lo25 = np.log(0.826093/(1-0.826093))\n",
    "lo25"
   ]
  },
  {
   "cell_type": "code",
   "execution_count": 40,
   "id": "b09fc797-ab8d-480a-a427-40eede7d29b3",
   "metadata": {},
   "outputs": [
    {
     "data": {
      "text/plain": [
       "-6.1412288073246435"
      ]
     },
     "execution_count": 40,
     "metadata": {},
     "output_type": "execute_result"
    }
   ],
   "source": [
    "# we are dividing by 0.5 because the difference of wieghts here is 0.5 and \n",
    "# we are trying to find the difference of change of log of odds for a unit weight \n",
    "(lo25-lo2)/0.5"
   ]
  },
  {
   "cell_type": "code",
   "execution_count": 2,
   "id": "77c4bf83-7326-43e0-964e-3c07197294e7",
   "metadata": {},
   "outputs": [],
   "source": [
    "# this (-6.1412288073246435) is the change in the log of odds ratio for automatic transmission (1) when the weight increase by a unit (1) tonne\n",
    "# change of log of odds gives us the order/degree of impact a factor/predictor has on an event/response occuring\n",
    "# as the magnitude of the difference increases  the impact also increases\n",
    "# if this change is equal then probability of both the events occuring is 0 then null hypothesis would not get rejected\n",
    "#extra\n",
    "# log x = y\n",
    "# e**x = y\n",
    "\n",
    "# log(p1/(1-p1)) - log(p2/(1-p2))\n",
    "# If the prob of auto at wt 2 is 0.8\n",
    "# find the prob of auto at wt 2.5"
   ]
  },
  {
   "cell_type": "code",
   "execution_count": null,
   "id": "3f98c5ff-6f6c-44d1-8466-64b639aa2df6",
   "metadata": {},
   "outputs": [],
   "source": []
  }
 ],
 "metadata": {
  "kernelspec": {
   "display_name": "Python 3 (ipykernel)",
   "language": "python",
   "name": "python3"
  },
  "language_info": {
   "codemirror_mode": {
    "name": "ipython",
    "version": 3
   },
   "file_extension": ".py",
   "mimetype": "text/x-python",
   "name": "python",
   "nbconvert_exporter": "python",
   "pygments_lexer": "ipython3",
   "version": "3.12.2"
  }
 },
 "nbformat": 4,
 "nbformat_minor": 5
}
