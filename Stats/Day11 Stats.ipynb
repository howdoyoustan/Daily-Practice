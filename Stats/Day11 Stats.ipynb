{
 "cells": [
  {
   "cell_type": "code",
   "execution_count": 1,
   "id": "a5bd15b4-0972-49b3-a53c-e6a3a0d3cbda",
   "metadata": {},
   "outputs": [],
   "source": [
    "import statsmodels\n",
    "from statsmodels import stats\n",
    "from statsmodels.stats import weightstats\n",
    "from scipy.stats import t,norm\n",
    "import numpy as np\n",
    "import pandas as pd\n",
    "import  statsmodels.api as sm\n",
    "from statsmodels.formula.api import ols\n",
    "import statsmodels.stats.multicomp\n",
    "from statsmodels.stats.multicomp import pairwise_tukeyhsd\n",
    "from statsmodels.stats import proportion\n",
    "from scipy.stats import chisquare,chi2_contingency\n",
    "import scipy\n",
    "from scipy import stats\n",
    "import pylab\n",
    "from pylab import plot,show,legend,title,xlabel,ylabel\n",
    "import matplotlib.pyplot as plt\n",
    "\n",
    "import sklearn\n",
    "from sklearn.model_selection import train_test_split"
   ]
  },
  {
   "cell_type": "code",
   "execution_count": 5,
   "id": "4811d7ac-7023-4061-a460-56b230430636",
   "metadata": {},
   "outputs": [],
   "source": [
    "df = pd.read_excel(r'E:\\dbda khargar\\Stats and R\\diabetes.xlsx')"
   ]
  },
  {
   "cell_type": "code",
   "execution_count": 26,
   "id": "16d93237-19c4-47ef-ba7f-5556d824a1e0",
   "metadata": {},
   "outputs": [
    {
     "data": {
      "text/html": [
       "<div>\n",
       "<style scoped>\n",
       "    .dataframe tbody tr th:only-of-type {\n",
       "        vertical-align: middle;\n",
       "    }\n",
       "\n",
       "    .dataframe tbody tr th {\n",
       "        vertical-align: top;\n",
       "    }\n",
       "\n",
       "    .dataframe thead th {\n",
       "        text-align: right;\n",
       "    }\n",
       "</style>\n",
       "<table border=\"1\" class=\"dataframe\">\n",
       "  <thead>\n",
       "    <tr style=\"text-align: right;\">\n",
       "      <th></th>\n",
       "      <th>Glucose</th>\n",
       "      <th>BloodPressure</th>\n",
       "      <th>SkinThickness</th>\n",
       "      <th>Insulin</th>\n",
       "      <th>BMI</th>\n",
       "      <th>DiabetesPedigreeFunction</th>\n",
       "      <th>Age</th>\n",
       "      <th>Outcome</th>\n",
       "      <th>DietType</th>\n",
       "    </tr>\n",
       "  </thead>\n",
       "  <tbody>\n",
       "    <tr>\n",
       "      <th>0</th>\n",
       "      <td>148</td>\n",
       "      <td>72</td>\n",
       "      <td>35</td>\n",
       "      <td>0</td>\n",
       "      <td>33.6</td>\n",
       "      <td>0.63</td>\n",
       "      <td>50</td>\n",
       "      <td>1</td>\n",
       "      <td>1</td>\n",
       "    </tr>\n",
       "    <tr>\n",
       "      <th>1</th>\n",
       "      <td>85</td>\n",
       "      <td>66</td>\n",
       "      <td>29</td>\n",
       "      <td>0</td>\n",
       "      <td>26.6</td>\n",
       "      <td>0.35</td>\n",
       "      <td>31</td>\n",
       "      <td>0</td>\n",
       "      <td>2</td>\n",
       "    </tr>\n",
       "    <tr>\n",
       "      <th>2</th>\n",
       "      <td>183</td>\n",
       "      <td>64</td>\n",
       "      <td>0</td>\n",
       "      <td>0</td>\n",
       "      <td>23.3</td>\n",
       "      <td>0.67</td>\n",
       "      <td>32</td>\n",
       "      <td>1</td>\n",
       "      <td>1</td>\n",
       "    </tr>\n",
       "    <tr>\n",
       "      <th>3</th>\n",
       "      <td>89</td>\n",
       "      <td>66</td>\n",
       "      <td>23</td>\n",
       "      <td>94</td>\n",
       "      <td>28.1</td>\n",
       "      <td>0.17</td>\n",
       "      <td>21</td>\n",
       "      <td>0</td>\n",
       "      <td>1</td>\n",
       "    </tr>\n",
       "    <tr>\n",
       "      <th>4</th>\n",
       "      <td>137</td>\n",
       "      <td>40</td>\n",
       "      <td>35</td>\n",
       "      <td>168</td>\n",
       "      <td>43.1</td>\n",
       "      <td>2.29</td>\n",
       "      <td>33</td>\n",
       "      <td>1</td>\n",
       "      <td>1</td>\n",
       "    </tr>\n",
       "  </tbody>\n",
       "</table>\n",
       "</div>"
      ],
      "text/plain": [
       "   Glucose  BloodPressure  SkinThickness  Insulin   BMI  \\\n",
       "0      148             72             35        0  33.6   \n",
       "1       85             66             29        0  26.6   \n",
       "2      183             64              0        0  23.3   \n",
       "3       89             66             23       94  28.1   \n",
       "4      137             40             35      168  43.1   \n",
       "\n",
       "   DiabetesPedigreeFunction  Age  Outcome  DietType  \n",
       "0                      0.63   50        1         1  \n",
       "1                      0.35   31        0         2  \n",
       "2                      0.67   32        1         1  \n",
       "3                      0.17   21        0         1  \n",
       "4                      2.29   33        1         1  "
      ]
     },
     "execution_count": 26,
     "metadata": {},
     "output_type": "execute_result"
    }
   ],
   "source": [
    "df.head()"
   ]
  },
  {
   "cell_type": "code",
   "execution_count": 8,
   "id": "a7551f79-55b6-4886-bc68-d8dfd1ff7076",
   "metadata": {},
   "outputs": [
    {
     "data": {
      "text/plain": [
       "(768, 9)"
      ]
     },
     "execution_count": 8,
     "metadata": {},
     "output_type": "execute_result"
    }
   ],
   "source": [
    "df.shape"
   ]
  },
  {
   "cell_type": "code",
   "execution_count": 6,
   "id": "dcbe27f1-f4e1-4bab-82b4-ec41acd1d37d",
   "metadata": {},
   "outputs": [],
   "source": [
    "df = df[['Glucose','DietType','Outcome']]"
   ]
  },
  {
   "cell_type": "code",
   "execution_count": 10,
   "id": "9ab6c3ad-e028-4671-8ca2-6ab9be886f57",
   "metadata": {},
   "outputs": [
    {
     "data": {
      "text/html": [
       "<div>\n",
       "<style scoped>\n",
       "    .dataframe tbody tr th:only-of-type {\n",
       "        vertical-align: middle;\n",
       "    }\n",
       "\n",
       "    .dataframe tbody tr th {\n",
       "        vertical-align: top;\n",
       "    }\n",
       "\n",
       "    .dataframe thead th {\n",
       "        text-align: right;\n",
       "    }\n",
       "</style>\n",
       "<table border=\"1\" class=\"dataframe\">\n",
       "  <thead>\n",
       "    <tr style=\"text-align: right;\">\n",
       "      <th></th>\n",
       "      <th>Glucose</th>\n",
       "      <th>DietType</th>\n",
       "      <th>Outcome</th>\n",
       "    </tr>\n",
       "  </thead>\n",
       "  <tbody>\n",
       "    <tr>\n",
       "      <th>0</th>\n",
       "      <td>148</td>\n",
       "      <td>1</td>\n",
       "      <td>1</td>\n",
       "    </tr>\n",
       "    <tr>\n",
       "      <th>1</th>\n",
       "      <td>85</td>\n",
       "      <td>2</td>\n",
       "      <td>0</td>\n",
       "    </tr>\n",
       "    <tr>\n",
       "      <th>2</th>\n",
       "      <td>183</td>\n",
       "      <td>1</td>\n",
       "      <td>1</td>\n",
       "    </tr>\n",
       "    <tr>\n",
       "      <th>3</th>\n",
       "      <td>89</td>\n",
       "      <td>1</td>\n",
       "      <td>0</td>\n",
       "    </tr>\n",
       "    <tr>\n",
       "      <th>4</th>\n",
       "      <td>137</td>\n",
       "      <td>1</td>\n",
       "      <td>1</td>\n",
       "    </tr>\n",
       "  </tbody>\n",
       "</table>\n",
       "</div>"
      ],
      "text/plain": [
       "   Glucose  DietType  Outcome\n",
       "0      148         1        1\n",
       "1       85         2        0\n",
       "2      183         1        1\n",
       "3       89         1        0\n",
       "4      137         1        1"
      ]
     },
     "execution_count": 10,
     "metadata": {},
     "output_type": "execute_result"
    }
   ],
   "source": [
    "df.head()"
   ]
  },
  {
   "cell_type": "code",
   "execution_count": 7,
   "id": "4ace7922-bfd5-44a1-8645-038147cf7602",
   "metadata": {},
   "outputs": [],
   "source": [
    "diet_dummy = pd.get_dummies(df['DietType'],drop_first=True).astype(int)\n",
    "df = df.drop(['DietType'],axis=1)\n",
    "df = pd.concat([df,diet_dummy],axis=1)\n",
    "x_train,x_test,y_train,y_test=train_test_split(df.drop('Outcome',axis=1),df.Outcome,test_size=0.2)"
   ]
  },
  {
   "cell_type": "code",
   "execution_count": 24,
   "id": "c9f5957a-814f-4735-9a38-3f5bf711482c",
   "metadata": {},
   "outputs": [
    {
     "data": {
      "text/html": [
       "<div>\n",
       "<style scoped>\n",
       "    .dataframe tbody tr th:only-of-type {\n",
       "        vertical-align: middle;\n",
       "    }\n",
       "\n",
       "    .dataframe tbody tr th {\n",
       "        vertical-align: top;\n",
       "    }\n",
       "\n",
       "    .dataframe thead th {\n",
       "        text-align: right;\n",
       "    }\n",
       "</style>\n",
       "<table border=\"1\" class=\"dataframe\">\n",
       "  <thead>\n",
       "    <tr style=\"text-align: right;\">\n",
       "      <th></th>\n",
       "      <th>Glucose</th>\n",
       "      <th>Outcome</th>\n",
       "      <th>2</th>\n",
       "      <th>3</th>\n",
       "    </tr>\n",
       "  </thead>\n",
       "  <tbody>\n",
       "    <tr>\n",
       "      <th>0</th>\n",
       "      <td>148</td>\n",
       "      <td>1</td>\n",
       "      <td>False</td>\n",
       "      <td>False</td>\n",
       "    </tr>\n",
       "    <tr>\n",
       "      <th>1</th>\n",
       "      <td>85</td>\n",
       "      <td>0</td>\n",
       "      <td>True</td>\n",
       "      <td>False</td>\n",
       "    </tr>\n",
       "    <tr>\n",
       "      <th>2</th>\n",
       "      <td>183</td>\n",
       "      <td>1</td>\n",
       "      <td>False</td>\n",
       "      <td>False</td>\n",
       "    </tr>\n",
       "    <tr>\n",
       "      <th>3</th>\n",
       "      <td>89</td>\n",
       "      <td>0</td>\n",
       "      <td>False</td>\n",
       "      <td>False</td>\n",
       "    </tr>\n",
       "    <tr>\n",
       "      <th>4</th>\n",
       "      <td>137</td>\n",
       "      <td>1</td>\n",
       "      <td>False</td>\n",
       "      <td>False</td>\n",
       "    </tr>\n",
       "  </tbody>\n",
       "</table>\n",
       "</div>"
      ],
      "text/plain": [
       "   Glucose  Outcome      2      3\n",
       "0      148        1  False  False\n",
       "1       85        0   True  False\n",
       "2      183        1  False  False\n",
       "3       89        0  False  False\n",
       "4      137        1  False  False"
      ]
     },
     "execution_count": 24,
     "metadata": {},
     "output_type": "execute_result"
    }
   ],
   "source": [
    "df.head()"
   ]
  },
  {
   "cell_type": "code",
   "execution_count": 8,
   "id": "f649a2c4-514b-42f2-a3cf-fe6db8fa8b80",
   "metadata": {},
   "outputs": [
    {
     "name": "stdout",
     "output_type": "stream",
     "text": [
      "Optimization terminated successfully.\n",
      "         Current function value: 0.322803\n",
      "         Iterations 7\n",
      "                           Logit Regression Results                           \n",
      "==============================================================================\n",
      "Dep. Variable:                Outcome   No. Observations:                  614\n",
      "Model:                          Logit   Df Residuals:                      610\n",
      "Method:                           MLE   Df Model:                            3\n",
      "Date:                Sat, 08 Jun 2024   Pseudo R-squ.:                  0.5023\n",
      "Time:                        10:31:35   Log-Likelihood:                -198.20\n",
      "converged:                       True   LL-Null:                       -398.21\n",
      "Covariance Type:            nonrobust   LLR p-value:                 2.197e-86\n",
      "==============================================================================\n",
      "                 coef    std err          z      P>|z|      [0.025      0.975]\n",
      "------------------------------------------------------------------------------\n",
      "Glucose        0.0400      0.005      8.360      0.000       0.031       0.049\n",
      "2             -4.0234      0.321    -12.521      0.000      -4.653      -3.394\n",
      "3             -2.7209      0.339     -8.021      0.000      -3.386      -2.056\n",
      "const         -3.3078      0.598     -5.531      0.000      -4.480      -2.136\n",
      "==============================================================================\n"
     ]
    }
   ],
   "source": [
    "x_train = sm.add_constant(x_train, prepend = False)\n",
    "x_test = sm.add_constant(x_test, prepend=False)\n",
    "mod1 = sm.Logit(y_train,x_train).fit()\n",
    "print(mod1.summary())"
   ]
  },
  {
   "cell_type": "code",
   "execution_count": 9,
   "id": "e9872b37-ad68-4ce3-889e-09715d4c7058",
   "metadata": {},
   "outputs": [],
   "source": [
    "mypred = mod1.predict(x_test)"
   ]
  },
  {
   "cell_type": "code",
   "execution_count": 10,
   "id": "484287c5-af77-4114-9e55-69bf4ab6e733",
   "metadata": {},
   "outputs": [],
   "source": [
    "y_pred= []\n",
    "for ctr in mypred:\n",
    "    if ctr>=0.5:\n",
    "        y_pred.append(1)\n",
    "    else:\n",
    "        y_pred.append(0)"
   ]
  },
  {
   "cell_type": "code",
   "execution_count": 11,
   "id": "428a32b1-85bb-4a3c-b252-d5cad4ced106",
   "metadata": {},
   "outputs": [],
   "source": [
    "from sklearn.metrics import confusion_matrix\n",
    "#this helps plot y_test against y_prod"
   ]
  },
  {
   "cell_type": "code",
   "execution_count": 13,
   "id": "d7fb3f72-5333-4089-887b-c6b31d58a872",
   "metadata": {},
   "outputs": [
    {
     "name": "stdout",
     "output_type": "stream",
     "text": [
      "[[97  5]\n",
      " [16 36]]\n"
     ]
    }
   ],
   "source": [
    "print(confusion_matrix(y_test,y_pred))"
   ]
  },
  {
   "cell_type": "code",
   "execution_count": 22,
   "id": "b6ae346c-0d97-40e3-91f3-9c9dea4f0a44",
   "metadata": {},
   "outputs": [
    {
     "data": {
      "text/plain": [
       "86.36363636363636"
      ]
     },
     "execution_count": 22,
     "metadata": {},
     "output_type": "execute_result"
    }
   ],
   "source": [
    "#accuracy of model \n",
    "100*((97+36)/((97+5)+(16+36)))"
   ]
  },
  {
   "cell_type": "markdown",
   "id": "157df54e-a287-419c-a957-cc5a8c2dbcbc",
   "metadata": {},
   "source": [
    "## Precison, Recall and f1 Score"
   ]
  },
  {
   "cell_type": "code",
   "execution_count": 27,
   "id": "2d92b170-fffe-4e13-a145-05d9050a1f76",
   "metadata": {},
   "outputs": [
    {
     "name": "stdout",
     "output_type": "stream",
     "text": [
      "0.8780487804878049 0.8584070796460177 0.8780487804878049 0.9509803921568627\n"
     ]
    }
   ],
   "source": [
    "#Accuracy is not a right test for a model instead to test the values we have precision\n",
    "# when someone is falsifying the info\n",
    "# We have precision for positive and precision for negative\n",
    "# Precision for positive = TP / (TP + FP) , Precision for negative = TN / (TN + FN)\n",
    "prec_p = 36/(36+5)\n",
    "prec_n = 97/(16+97)\n",
    "#Recall for positive = TP / (TP + FN), Recall for negative = TN / (TN + FP)\n",
    "rec_p = 36/(36+5)\n",
    "rec_n = 97/(97+5)\n",
    "print(prec_p,prec_n,rec_p,rec_n)\n"
   ]
  },
  {
   "cell_type": "code",
   "execution_count": null,
   "id": "72d8cb23-4c9d-46b4-93c5-93dfb319f13a",
   "metadata": {},
   "outputs": [],
   "source": []
  },
  {
   "cell_type": "code",
   "execution_count": 26,
   "id": "90c294f6-bd6c-4b40-b8e8-1eaa75479c65",
   "metadata": {},
   "outputs": [
    {
     "name": "stdout",
     "output_type": "stream",
     "text": [
      "              precision    recall  f1-score   support\n",
      "\n",
      "           0       0.86      0.95      0.90       102\n",
      "           1       0.88      0.69      0.77        52\n",
      "\n",
      "    accuracy                           0.86       154\n",
      "   macro avg       0.87      0.82      0.84       154\n",
      "weighted avg       0.87      0.86      0.86       154\n",
      "\n"
     ]
    }
   ],
   "source": [
    "# for calculation of precions and recalls \n",
    "from sklearn.metrics import classification_report\n",
    "print(classification_report(y_test,y_pred))"
   ]
  },
  {
   "cell_type": "code",
   "execution_count": 28,
   "id": "12091230-fdd6-43a4-b1a9-dafd65cbdcaf",
   "metadata": {},
   "outputs": [],
   "source": [
    "#F1 score = 2*precision*recall/(precision+recall)\n"
   ]
  },
  {
   "cell_type": "markdown",
   "id": "ff9722e2-b4bb-4c18-ba45-c1a475ec039a",
   "metadata": {},
   "source": [
    "# Nominal Logistic Regression\n"
   ]
  },
  {
   "cell_type": "markdown",
   "id": "1b958e78-784a-4eb5-9b7c-476bc5293f30",
   "metadata": {},
   "source": [
    "## response in nominal scale so we use nominal logistic regression"
   ]
  },
  {
   "cell_type": "code",
   "execution_count": 2,
   "id": "b06078c0-d259-43d5-885d-d6f5112b4865",
   "metadata": {},
   "outputs": [],
   "source": [
    "df = pd.read_excel('CDAC_DataBook.xlsx',sheet_name='nominal')"
   ]
  },
  {
   "cell_type": "code",
   "execution_count": 3,
   "id": "589d9b4e-dd66-4c42-aa35-26c6450664b9",
   "metadata": {},
   "outputs": [
    {
     "data": {
      "text/html": [
       "<div>\n",
       "<style scoped>\n",
       "    .dataframe tbody tr th:only-of-type {\n",
       "        vertical-align: middle;\n",
       "    }\n",
       "\n",
       "    .dataframe tbody tr th {\n",
       "        vertical-align: top;\n",
       "    }\n",
       "\n",
       "    .dataframe thead th {\n",
       "        text-align: right;\n",
       "    }\n",
       "</style>\n",
       "<table border=\"1\" class=\"dataframe\">\n",
       "  <thead>\n",
       "    <tr style=\"text-align: right;\">\n",
       "      <th></th>\n",
       "      <th>ses</th>\n",
       "      <th>math</th>\n",
       "      <th>prog</th>\n",
       "    </tr>\n",
       "  </thead>\n",
       "  <tbody>\n",
       "    <tr>\n",
       "      <th>0</th>\n",
       "      <td>1</td>\n",
       "      <td>41</td>\n",
       "      <td>1</td>\n",
       "    </tr>\n",
       "    <tr>\n",
       "      <th>1</th>\n",
       "      <td>2</td>\n",
       "      <td>41</td>\n",
       "      <td>2</td>\n",
       "    </tr>\n",
       "    <tr>\n",
       "      <th>2</th>\n",
       "      <td>3</td>\n",
       "      <td>44</td>\n",
       "      <td>3</td>\n",
       "    </tr>\n",
       "    <tr>\n",
       "      <th>3</th>\n",
       "      <td>1</td>\n",
       "      <td>42</td>\n",
       "      <td>1</td>\n",
       "    </tr>\n",
       "    <tr>\n",
       "      <th>4</th>\n",
       "      <td>2</td>\n",
       "      <td>40</td>\n",
       "      <td>2</td>\n",
       "    </tr>\n",
       "  </tbody>\n",
       "</table>\n",
       "</div>"
      ],
      "text/plain": [
       "   ses  math  prog\n",
       "0    1    41     1\n",
       "1    2    41     2\n",
       "2    3    44     3\n",
       "3    1    42     1\n",
       "4    2    40     2"
      ]
     },
     "execution_count": 3,
     "metadata": {},
     "output_type": "execute_result"
    }
   ],
   "source": [
    "df=df[['ses','math','prog']]\n",
    "df.head()"
   ]
  },
  {
   "cell_type": "code",
   "execution_count": 4,
   "id": "450fd401-c801-49b9-b4a4-d335124fe3c4",
   "metadata": {},
   "outputs": [
    {
     "name": "stdout",
     "output_type": "stream",
     "text": [
      "Optimization terminated successfully.\n",
      "         Current function value: 0.682969\n",
      "         Iterations 7\n",
      "                          MNLogit Regression Results                          \n",
      "==============================================================================\n",
      "Dep. Variable:                   prog   No. Observations:                  160\n",
      "Model:                        MNLogit   Df Residuals:                      152\n",
      "Method:                           MLE   Df Model:                            6\n",
      "Date:                Mon, 10 Jun 2024   Pseudo R-squ.:                  0.3477\n",
      "Time:                        09:51:42   Log-Likelihood:                -109.28\n",
      "converged:                       True   LL-Null:                       -167.52\n",
      "Covariance Type:            nonrobust   LLR p-value:                 8.913e-23\n",
      "==============================================================================\n",
      "    prog=2       coef    std err          z      P>|z|      [0.025      0.975]\n",
      "------------------------------------------------------------------------------\n",
      "math           0.0046      0.033      0.139      0.890      -0.061       0.070\n",
      "2              2.8929      0.586      4.936      0.000       1.744       4.042\n",
      "3              2.9696      1.138      2.610      0.009       0.740       5.200\n",
      "const         -1.2466      1.669     -0.747      0.455      -4.518       2.025\n",
      "------------------------------------------------------------------------------\n",
      "    prog=3       coef    std err          z      P>|z|      [0.025      0.975]\n",
      "------------------------------------------------------------------------------\n",
      "math           0.1187      0.037      3.188      0.001       0.046       0.192\n",
      "2              4.3825      0.938      4.673      0.000       2.544       6.221\n",
      "3              6.3711      1.325      4.809      0.000       3.774       8.968\n",
      "const         -8.9612      2.272     -3.944      0.000     -13.415      -4.508\n",
      "==============================================================================\n"
     ]
    }
   ],
   "source": [
    "ses_dummy = pd.get_dummies(df['ses'],drop_first=True).astype(int)\n",
    "df = df.drop(['ses'],axis=1)\n",
    "df = pd.concat([df,ses_dummy],axis=1)\n",
    "x_train,x_test,y_train,y_test=train_test_split(df.drop('prog',axis=1),df.prog,test_size=0.2)\n",
    "x_train = sm.add_constant(x_train, prepend = False)\n",
    "x_test = sm.add_constant(x_test, prepend = False)\n",
    "\n",
    "from statsmodels.discrete import discrete_model\n",
    "from statsmodels.discrete.discrete_model import MNLogit\n",
    "\n",
    "mod2 = sm.MNLogit(y_train,x_train).fit()\n",
    "print(mod2.summary())"
   ]
  },
  {
   "cell_type": "code",
   "execution_count": 118,
   "id": "f88d8915-6d62-4e94-843a-1d8e04069051",
   "metadata": {},
   "outputs": [
    {
     "data": {
      "text/html": [
       "<div>\n",
       "<style scoped>\n",
       "    .dataframe tbody tr th:only-of-type {\n",
       "        vertical-align: middle;\n",
       "    }\n",
       "\n",
       "    .dataframe tbody tr th {\n",
       "        vertical-align: top;\n",
       "    }\n",
       "\n",
       "    .dataframe thead th {\n",
       "        text-align: right;\n",
       "    }\n",
       "</style>\n",
       "<table border=\"1\" class=\"dataframe\">\n",
       "  <thead>\n",
       "    <tr style=\"text-align: right;\">\n",
       "      <th></th>\n",
       "      <th>math</th>\n",
       "      <th>2</th>\n",
       "      <th>3</th>\n",
       "      <th>const</th>\n",
       "    </tr>\n",
       "  </thead>\n",
       "  <tbody>\n",
       "    <tr>\n",
       "      <th>80</th>\n",
       "      <td>54</td>\n",
       "      <td>0</td>\n",
       "      <td>0</td>\n",
       "      <td>1.0</td>\n",
       "    </tr>\n",
       "    <tr>\n",
       "      <th>156</th>\n",
       "      <td>61</td>\n",
       "      <td>0</td>\n",
       "      <td>1</td>\n",
       "      <td>1.0</td>\n",
       "    </tr>\n",
       "    <tr>\n",
       "      <th>97</th>\n",
       "      <td>53</td>\n",
       "      <td>1</td>\n",
       "      <td>0</td>\n",
       "      <td>1.0</td>\n",
       "    </tr>\n",
       "    <tr>\n",
       "      <th>94</th>\n",
       "      <td>41</td>\n",
       "      <td>1</td>\n",
       "      <td>0</td>\n",
       "      <td>1.0</td>\n",
       "    </tr>\n",
       "    <tr>\n",
       "      <th>14</th>\n",
       "      <td>40</td>\n",
       "      <td>0</td>\n",
       "      <td>0</td>\n",
       "      <td>1.0</td>\n",
       "    </tr>\n",
       "  </tbody>\n",
       "</table>\n",
       "</div>"
      ],
      "text/plain": [
       "     math  2  3  const\n",
       "80     54  0  0    1.0\n",
       "156    61  0  1    1.0\n",
       "97     53  1  0    1.0\n",
       "94     41  1  0    1.0\n",
       "14     40  0  0    1.0"
      ]
     },
     "execution_count": 118,
     "metadata": {},
     "output_type": "execute_result"
    }
   ],
   "source": [
    "x_train.head()"
   ]
  },
  {
   "cell_type": "code",
   "execution_count": 120,
   "id": "1c0d928c-47be-4158-939e-48a2e75a0f9e",
   "metadata": {},
   "outputs": [
    {
     "data": {
      "text/html": [
       "<div>\n",
       "<style scoped>\n",
       "    .dataframe tbody tr th:only-of-type {\n",
       "        vertical-align: middle;\n",
       "    }\n",
       "\n",
       "    .dataframe tbody tr th {\n",
       "        vertical-align: top;\n",
       "    }\n",
       "\n",
       "    .dataframe thead th {\n",
       "        text-align: right;\n",
       "    }\n",
       "</style>\n",
       "<table border=\"1\" class=\"dataframe\">\n",
       "  <thead>\n",
       "    <tr style=\"text-align: right;\">\n",
       "      <th></th>\n",
       "      <th>0</th>\n",
       "      <th>1</th>\n",
       "      <th>2</th>\n",
       "    </tr>\n",
       "  </thead>\n",
       "  <tbody>\n",
       "    <tr>\n",
       "      <th>0</th>\n",
       "      <td>0.053422</td>\n",
       "      <td>0.421774</td>\n",
       "      <td>0.524804</td>\n",
       "    </tr>\n",
       "    <tr>\n",
       "      <th>1</th>\n",
       "      <td>0.009574</td>\n",
       "      <td>0.077878</td>\n",
       "      <td>0.912549</td>\n",
       "    </tr>\n",
       "    <tr>\n",
       "      <th>2</th>\n",
       "      <td>0.001070</td>\n",
       "      <td>0.008971</td>\n",
       "      <td>0.989958</td>\n",
       "    </tr>\n",
       "  </tbody>\n",
       "</table>\n",
       "</div>"
      ],
      "text/plain": [
       "          0         1         2\n",
       "0  0.053422  0.421774  0.524804\n",
       "1  0.009574  0.077878  0.912549\n",
       "2  0.001070  0.008971  0.989958"
      ]
     },
     "execution_count": 120,
     "metadata": {},
     "output_type": "execute_result"
    }
   ],
   "source": [
    "mydata = pd.DataFrame([[40,0,1,1],[60,0,1,1],[80,0,1,1]])\n",
    "mydata.columns = x_train.columns\n",
    "mod2.predict(mydata)"
   ]
  },
  {
   "cell_type": "code",
   "execution_count": 121,
   "id": "09f38550-b734-4181-ae1d-0d4a4040d7e3",
   "metadata": {},
   "outputs": [
    {
     "data": {
      "text/html": [
       "<div>\n",
       "<style scoped>\n",
       "    .dataframe tbody tr th:only-of-type {\n",
       "        vertical-align: middle;\n",
       "    }\n",
       "\n",
       "    .dataframe tbody tr th {\n",
       "        vertical-align: top;\n",
       "    }\n",
       "\n",
       "    .dataframe thead th {\n",
       "        text-align: right;\n",
       "    }\n",
       "</style>\n",
       "<table border=\"1\" class=\"dataframe\">\n",
       "  <thead>\n",
       "    <tr style=\"text-align: right;\">\n",
       "      <th></th>\n",
       "      <th>0</th>\n",
       "      <th>1</th>\n",
       "      <th>2</th>\n",
       "    </tr>\n",
       "  </thead>\n",
       "  <tbody>\n",
       "    <tr>\n",
       "      <th>0</th>\n",
       "      <td>0.653109</td>\n",
       "      <td>0.335452</td>\n",
       "      <td>0.011439</td>\n",
       "    </tr>\n",
       "    <tr>\n",
       "      <th>1</th>\n",
       "      <td>0.588528</td>\n",
       "      <td>0.311455</td>\n",
       "      <td>0.100018</td>\n",
       "    </tr>\n",
       "    <tr>\n",
       "      <th>2</th>\n",
       "      <td>0.313061</td>\n",
       "      <td>0.170703</td>\n",
       "      <td>0.516236</td>\n",
       "    </tr>\n",
       "  </tbody>\n",
       "</table>\n",
       "</div>"
      ],
      "text/plain": [
       "          0         1         2\n",
       "0  0.653109  0.335452  0.011439\n",
       "1  0.588528  0.311455  0.100018\n",
       "2  0.313061  0.170703  0.516236"
      ]
     },
     "execution_count": 121,
     "metadata": {},
     "output_type": "execute_result"
    }
   ],
   "source": [
    "mydata = pd.DataFrame([[40,0,0,1],[60,0,0,1],[80,0,0,1]])\n",
    "mod2.predict(mydata)"
   ]
  },
  {
   "cell_type": "markdown",
   "id": "885d5f10-f493-4836-bcfc-6d3814d9ded0",
   "metadata": {},
   "source": [
    "## When marks are same but you vary from ses 0 (low) to 1 (medium) to 2 (high)"
   ]
  },
  {
   "cell_type": "code",
   "execution_count": 17,
   "id": "ce072d92-38bc-4ceb-b567-24ea8579def2",
   "metadata": {},
   "outputs": [
    {
     "data": {
      "text/html": [
       "<div>\n",
       "<style scoped>\n",
       "    .dataframe tbody tr th:only-of-type {\n",
       "        vertical-align: middle;\n",
       "    }\n",
       "\n",
       "    .dataframe tbody tr th {\n",
       "        vertical-align: top;\n",
       "    }\n",
       "\n",
       "    .dataframe thead th {\n",
       "        text-align: right;\n",
       "    }\n",
       "</style>\n",
       "<table border=\"1\" class=\"dataframe\">\n",
       "  <thead>\n",
       "    <tr style=\"text-align: right;\">\n",
       "      <th></th>\n",
       "      <th>0</th>\n",
       "      <th>1</th>\n",
       "      <th>2</th>\n",
       "    </tr>\n",
       "  </thead>\n",
       "  <tbody>\n",
       "    <tr>\n",
       "      <th>0</th>\n",
       "      <td>0.521766</td>\n",
       "      <td>0.207149</td>\n",
       "      <td>0.271085</td>\n",
       "    </tr>\n",
       "    <tr>\n",
       "      <th>1</th>\n",
       "      <td>0.020102</td>\n",
       "      <td>0.144021</td>\n",
       "      <td>0.835878</td>\n",
       "    </tr>\n",
       "    <tr>\n",
       "      <th>2</th>\n",
       "      <td>0.003200</td>\n",
       "      <td>0.024753</td>\n",
       "      <td>0.972047</td>\n",
       "    </tr>\n",
       "  </tbody>\n",
       "</table>\n",
       "</div>"
      ],
      "text/plain": [
       "          0         1         2\n",
       "0  0.521766  0.207149  0.271085\n",
       "1  0.020102  0.144021  0.835878\n",
       "2  0.003200  0.024753  0.972047"
      ]
     },
     "execution_count": 17,
     "metadata": {},
     "output_type": "execute_result"
    }
   ],
   "source": [
    "mydata = pd.DataFrame([[70,0,0,1],[70,1,0,1],[70,0,1,1]])\n",
    "mydata.columns=x_train.columns\n",
    "mod2.predict(mydata)"
   ]
  },
  {
   "cell_type": "code",
   "execution_count": 9,
   "id": "57eda8e4-3102-4f63-a934-5e0fb7937af7",
   "metadata": {},
   "outputs": [
    {
     "data": {
      "text/html": [
       "<div>\n",
       "<style scoped>\n",
       "    .dataframe tbody tr th:only-of-type {\n",
       "        vertical-align: middle;\n",
       "    }\n",
       "\n",
       "    .dataframe tbody tr th {\n",
       "        vertical-align: top;\n",
       "    }\n",
       "\n",
       "    .dataframe thead th {\n",
       "        text-align: right;\n",
       "    }\n",
       "</style>\n",
       "<table border=\"1\" class=\"dataframe\">\n",
       "  <thead>\n",
       "    <tr style=\"text-align: right;\">\n",
       "      <th></th>\n",
       "      <th>math</th>\n",
       "      <th>2</th>\n",
       "      <th>3</th>\n",
       "      <th>const</th>\n",
       "    </tr>\n",
       "  </thead>\n",
       "  <tbody>\n",
       "    <tr>\n",
       "      <th>0</th>\n",
       "      <td>70</td>\n",
       "      <td>0</td>\n",
       "      <td>0</td>\n",
       "      <td>1</td>\n",
       "    </tr>\n",
       "    <tr>\n",
       "      <th>1</th>\n",
       "      <td>70</td>\n",
       "      <td>0</td>\n",
       "      <td>1</td>\n",
       "      <td>1</td>\n",
       "    </tr>\n",
       "    <tr>\n",
       "      <th>2</th>\n",
       "      <td>70</td>\n",
       "      <td>0</td>\n",
       "      <td>0</td>\n",
       "      <td>1</td>\n",
       "    </tr>\n",
       "  </tbody>\n",
       "</table>\n",
       "</div>"
      ],
      "text/plain": [
       "   math  2  3  const\n",
       "0    70  0  0      1\n",
       "1    70  0  1      1\n",
       "2    70  0  0      1"
      ]
     },
     "execution_count": 9,
     "metadata": {},
     "output_type": "execute_result"
    }
   ],
   "source": [
    "mydata"
   ]
  },
  {
   "cell_type": "code",
   "execution_count": 16,
   "id": "1b41332c-6464-4b5a-ae3f-14f2f16eef5d",
   "metadata": {},
   "outputs": [
    {
     "data": {
      "text/plain": [
       "6.371040134072748"
      ]
     },
     "execution_count": 16,
     "metadata": {},
     "output_type": "execute_result"
    }
   ],
   "source": [
    "np.log(0.972047/0.003200)-np.log(0.271085/0.521766)"
   ]
  },
  {
   "cell_type": "code",
   "execution_count": null,
   "id": "29d5ae97-7ac8-4924-9665-a5ab01b2b962",
   "metadata": {},
   "outputs": [],
   "source": []
  }
 ],
 "metadata": {
  "kernelspec": {
   "display_name": "Python 3 (ipykernel)",
   "language": "python",
   "name": "python3"
  },
  "language_info": {
   "codemirror_mode": {
    "name": "ipython",
    "version": 3
   },
   "file_extension": ".py",
   "mimetype": "text/x-python",
   "name": "python",
   "nbconvert_exporter": "python",
   "pygments_lexer": "ipython3",
   "version": "3.12.2"
  }
 },
 "nbformat": 4,
 "nbformat_minor": 5
}
