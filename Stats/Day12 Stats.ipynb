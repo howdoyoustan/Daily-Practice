{
 "cells": [
  {
   "cell_type": "code",
   "execution_count": 89,
   "id": "d7fdc5c4-8f95-4653-9355-304b1274ae4b",
   "metadata": {},
   "outputs": [],
   "source": [
    "import statsmodels\n",
    "from statsmodels import stats\n",
    "from statsmodels.stats import weightstats\n",
    "from scipy.stats import t,norm\n",
    "import numpy as np\n",
    "import pandas as pd\n",
    "import  statsmodels.api as sm\n",
    "from statsmodels.formula.api import ols\n",
    "import statsmodels.stats.multicomp\n",
    "from statsmodels.stats.multicomp import pairwise_tukeyhsd\n",
    "from statsmodels.stats import proportion\n",
    "from scipy.stats import chisquare,chi2_contingency\n",
    "import scipy\n",
    "from scipy import stats\n",
    "import pylab\n",
    "from pylab import plot,show,legend,title,xlabel,ylabel\n",
    "import matplotlib.pyplot as plt\n",
    "\n",
    "import sklearn\n",
    "from sklearn.model_selection import train_test_split\n",
    "from mord import LogisticAT"
   ]
  },
  {
   "cell_type": "markdown",
   "id": "0c97e5fc-bab1-4bf4-b7e7-3118b67b871d",
   "metadata": {},
   "source": [
    "# Ordinal Logistic Regression"
   ]
  },
  {
   "cell_type": "code",
   "execution_count": 90,
   "id": "82c076c1-bdec-41ff-87fc-31c1791e42ef",
   "metadata": {},
   "outputs": [
    {
     "name": "stdout",
     "output_type": "stream",
     "text": [
      "Requirement already satisfied: mord in c:\\users\\dheem\\appdata\\local\\programs\\python\\python312\\lib\\site-packages (0.7)\n",
      "Note: you may need to restart the kernel to use updated packages.\n"
     ]
    }
   ],
   "source": [
    "pip install mord"
   ]
  },
  {
   "cell_type": "code",
   "execution_count": 91,
   "id": "67f749ec-8ae3-4651-8d7c-5958582371cd",
   "metadata": {},
   "outputs": [],
   "source": [
    "df = pd.read_excel(\"CDAC_DataBook.xlsx\",sheet_name='ordinal')"
   ]
  },
  {
   "cell_type": "code",
   "execution_count": 92,
   "id": "3058088a-86b1-4879-9b7c-b08c371097b9",
   "metadata": {},
   "outputs": [],
   "source": [
    "reg_dummy = pd.get_dummies(df['Region'],drop_first=True).astype(int)\n",
    "df=df.drop(['Region'],axis=1)\n",
    "df = pd.concat([df,reg_dummy],axis=1)"
   ]
  },
  {
   "cell_type": "code",
   "execution_count": 93,
   "id": "d36444e1-88cf-447a-88e9-f9c93c673c6d",
   "metadata": {},
   "outputs": [],
   "source": [
    "x_train,x_test,y_train,y_test = train_test_split(df.drop('Survival',axis=1),df.Survival,test_size=0.2)"
   ]
  },
  {
   "cell_type": "code",
   "execution_count": 94,
   "id": "46b27363-43f5-4b63-a11a-fc490ddf0ff5",
   "metadata": {},
   "outputs": [],
   "source": [
    "x_train = sm.add_constant(x_train,prepend = False)\n",
    "x_test = sm.add_constant(x_test,prepend = False)"
   ]
  },
  {
   "cell_type": "code",
   "execution_count": 95,
   "id": "a1798b17-0df3-4f49-a7fd-0d4dd03fc48d",
   "metadata": {},
   "outputs": [],
   "source": [
    "mod3 = LogisticAT().fit(x_train,y_train)"
   ]
  },
  {
   "cell_type": "code",
   "execution_count": 15,
   "id": "a63b65c3-e652-4f06-a27f-fb4275b70d8d",
   "metadata": {},
   "outputs": [
    {
     "data": {
      "text/html": [
       "<div>\n",
       "<style scoped>\n",
       "    .dataframe tbody tr th:only-of-type {\n",
       "        vertical-align: middle;\n",
       "    }\n",
       "\n",
       "    .dataframe tbody tr th {\n",
       "        vertical-align: top;\n",
       "    }\n",
       "\n",
       "    .dataframe thead th {\n",
       "        text-align: right;\n",
       "    }\n",
       "</style>\n",
       "<table border=\"1\" class=\"dataframe\">\n",
       "  <thead>\n",
       "    <tr style=\"text-align: right;\">\n",
       "      <th></th>\n",
       "      <th>ToxicLevel</th>\n",
       "      <th>2</th>\n",
       "      <th>const</th>\n",
       "    </tr>\n",
       "  </thead>\n",
       "  <tbody>\n",
       "    <tr>\n",
       "      <th>3</th>\n",
       "      <td>32.0</td>\n",
       "      <td>1</td>\n",
       "      <td>1.0</td>\n",
       "    </tr>\n",
       "    <tr>\n",
       "      <th>15</th>\n",
       "      <td>56.0</td>\n",
       "      <td>0</td>\n",
       "      <td>1.0</td>\n",
       "    </tr>\n",
       "    <tr>\n",
       "      <th>57</th>\n",
       "      <td>38.5</td>\n",
       "      <td>1</td>\n",
       "      <td>1.0</td>\n",
       "    </tr>\n",
       "    <tr>\n",
       "      <th>55</th>\n",
       "      <td>42.0</td>\n",
       "      <td>1</td>\n",
       "      <td>1.0</td>\n",
       "    </tr>\n",
       "    <tr>\n",
       "      <th>36</th>\n",
       "      <td>40.0</td>\n",
       "      <td>1</td>\n",
       "      <td>1.0</td>\n",
       "    </tr>\n",
       "  </tbody>\n",
       "</table>\n",
       "</div>"
      ],
      "text/plain": [
       "    ToxicLevel  2  const\n",
       "3         32.0  1    1.0\n",
       "15        56.0  0    1.0\n",
       "57        38.5  1    1.0\n",
       "55        42.0  1    1.0\n",
       "36        40.0  1    1.0"
      ]
     },
     "execution_count": 15,
     "metadata": {},
     "output_type": "execute_result"
    }
   ],
   "source": [
    "x_train.head()"
   ]
  },
  {
   "cell_type": "markdown",
   "id": "db6c00f9-449e-438a-83e8-93599e32e263",
   "metadata": {},
   "source": [
    "## When toxicity level increase in the same region survival rate changes "
   ]
  },
  {
   "cell_type": "code",
   "execution_count": 18,
   "id": "709de993-4564-4c50-890b-05dd47602f7c",
   "metadata": {},
   "outputs": [],
   "source": [
    "mydata = pd.DataFrame([[20,0,1],[40,0,1],[60,0,1],[80,0,1]])\n",
    "mydata.columns = x_train.columns"
   ]
  },
  {
   "cell_type": "code",
   "execution_count": 19,
   "id": "b5c73afa-3bc2-4adf-b1f0-4b53e1be3cf1",
   "metadata": {},
   "outputs": [
    {
     "data": {
      "text/plain": [
       "array([3, 2, 1, 1])"
      ]
     },
     "execution_count": 19,
     "metadata": {},
     "output_type": "execute_result"
    }
   ],
   "source": [
    "mod3.predict(mydata)"
   ]
  },
  {
   "cell_type": "code",
   "execution_count": 20,
   "id": "64ce41a4-6265-4570-86b9-0b92ab8841cf",
   "metadata": {},
   "outputs": [
    {
     "data": {
      "text/plain": [
       "array([3, 2, 1, 1])"
      ]
     },
     "execution_count": 20,
     "metadata": {},
     "output_type": "execute_result"
    }
   ],
   "source": [
    "mydata1 = pd.DataFrame([[20,1,1],[40,1,1],[60,1,1],[80,1,1]])\n",
    "mydata1.columns = x_train.columns\n",
    "mod3.predict(mydata1)"
   ]
  },
  {
   "cell_type": "markdown",
   "id": "49ea7b54-d18d-4f5f-ac9b-ae18fbffd5d9",
   "metadata": {},
   "source": [
    "## When region changes survival rating does not change (Null Hypothesis)"
   ]
  },
  {
   "cell_type": "code",
   "execution_count": 22,
   "id": "877a3787-0f03-4e76-9d3a-60e486b599be",
   "metadata": {},
   "outputs": [
    {
     "data": {
      "text/plain": [
       "array([3, 3, 2, 2, 1, 1])"
      ]
     },
     "execution_count": 22,
     "metadata": {},
     "output_type": "execute_result"
    }
   ],
   "source": [
    "mydata2 = pd.DataFrame([[20,0,1],[20,1,1],[40,0,1],[40,1,1],[60,0,1],[60,1,1]])\n",
    "mydata2.columns = x_train.columns\n",
    "mod3.predict(mydata2)"
   ]
  },
  {
   "cell_type": "markdown",
   "id": "2e4da9f0-266c-41f2-8695-d65897dbb1d9",
   "metadata": {},
   "source": [
    "# Count Models"
   ]
  },
  {
   "cell_type": "code",
   "execution_count": 23,
   "id": "c412550d-79c4-47ea-aed5-0f972dc7f55f",
   "metadata": {},
   "outputs": [],
   "source": [
    "# Poisson and Negative Binomial when discrete data"
   ]
  },
  {
   "cell_type": "code",
   "execution_count": 27,
   "id": "69700019-fc96-4515-a3ba-1d0ccd716ea0",
   "metadata": {},
   "outputs": [],
   "source": [
    "#For possion when numbers are discrete but not as much variation for respones \n",
    "# Example of number of placements for our batch(maths marks,no_placement,program), this situation is called underdisperesed situation \n",
    "#(difference in maximum and minimum is v little) we use poission\n",
    "# When variation of maximum and minimum is high we call it overdispersed then we use negative binomial"
   ]
  },
  {
   "cell_type": "code",
   "execution_count": 31,
   "id": "d1c7fefb-9ae5-40ac-ab10-23a0482d5da4",
   "metadata": {},
   "outputs": [],
   "source": [
    "import statsmodels.formula.api as smf\n",
    "from statsmodels.discrete.discrete_model import Poisson as psn\n",
    "from statsmodels.discrete.discrete_model import NegativeBinomial as nbm"
   ]
  },
  {
   "cell_type": "code",
   "execution_count": 33,
   "id": "2ecc6ccc-3a1c-4233-8a3c-b55786655ccb",
   "metadata": {},
   "outputs": [
    {
     "data": {
      "text/html": [
       "<div>\n",
       "<style scoped>\n",
       "    .dataframe tbody tr th:only-of-type {\n",
       "        vertical-align: middle;\n",
       "    }\n",
       "\n",
       "    .dataframe tbody tr th {\n",
       "        vertical-align: top;\n",
       "    }\n",
       "\n",
       "    .dataframe thead th {\n",
       "        text-align: right;\n",
       "    }\n",
       "</style>\n",
       "<table border=\"1\" class=\"dataframe\">\n",
       "  <thead>\n",
       "    <tr style=\"text-align: right;\">\n",
       "      <th></th>\n",
       "      <th>num_awards</th>\n",
       "      <th>prog</th>\n",
       "      <th>math</th>\n",
       "    </tr>\n",
       "  </thead>\n",
       "  <tbody>\n",
       "    <tr>\n",
       "      <th>0</th>\n",
       "      <td>0</td>\n",
       "      <td>3</td>\n",
       "      <td>41</td>\n",
       "    </tr>\n",
       "    <tr>\n",
       "      <th>1</th>\n",
       "      <td>0</td>\n",
       "      <td>1</td>\n",
       "      <td>41</td>\n",
       "    </tr>\n",
       "    <tr>\n",
       "      <th>2</th>\n",
       "      <td>0</td>\n",
       "      <td>3</td>\n",
       "      <td>44</td>\n",
       "    </tr>\n",
       "    <tr>\n",
       "      <th>3</th>\n",
       "      <td>0</td>\n",
       "      <td>3</td>\n",
       "      <td>42</td>\n",
       "    </tr>\n",
       "    <tr>\n",
       "      <th>4</th>\n",
       "      <td>0</td>\n",
       "      <td>3</td>\n",
       "      <td>40</td>\n",
       "    </tr>\n",
       "  </tbody>\n",
       "</table>\n",
       "</div>"
      ],
      "text/plain": [
       "   num_awards  prog  math\n",
       "0           0     3    41\n",
       "1           0     1    41\n",
       "2           0     3    44\n",
       "3           0     3    42\n",
       "4           0     3    40"
      ]
     },
     "execution_count": 33,
     "metadata": {},
     "output_type": "execute_result"
    }
   ],
   "source": [
    "df = pd.read_excel('CDAC_DataBook.xlsx',sheet_name='poisson')\n",
    "df.head()"
   ]
  },
  {
   "cell_type": "code",
   "execution_count": 34,
   "id": "232ebb9c-eb58-4507-af71-0fa18e5d0225",
   "metadata": {},
   "outputs": [],
   "source": [
    "prog_dummy = pd.get_dummies(df['prog'],drop_first=True).astype(int)\n",
    "df=df.drop(['prog'],axis=1)\n",
    "df = pd.concat([df,prog_dummy],axis=1)"
   ]
  },
  {
   "cell_type": "code",
   "execution_count": 35,
   "id": "928d1dde-41b9-45cf-8065-b54790aeb0d4",
   "metadata": {},
   "outputs": [],
   "source": [
    "x_train,x_test,y_train,y_test = train_test_split(df.drop('num_awards',axis=1),df.num_awards,test_size=0.2)\n",
    "x_train=sm.add_constant(x_train,prepend=False)\n",
    "x_test=sm.add_constant(x_test, prepend=False)"
   ]
  },
  {
   "cell_type": "code",
   "execution_count": 36,
   "id": "9cd4c321-ce2c-4d44-9c82-f1b5ae828a7d",
   "metadata": {},
   "outputs": [],
   "source": [
    "df_train = pd.concat([x_train,y_train],axis=1)\n",
    "df_test = pd.concat([x_test,y_test],axis=1)"
   ]
  },
  {
   "cell_type": "code",
   "execution_count": 37,
   "id": "16057e93-5396-49ca-8084-1f5ce8cbfc51",
   "metadata": {},
   "outputs": [
    {
     "name": "stdout",
     "output_type": "stream",
     "text": [
      "Optimization terminated successfully.\n",
      "         Current function value: 0.866435\n",
      "         Iterations 7\n"
     ]
    }
   ],
   "source": [
    "df_train.columns = ['math','prog2','prog3','const','num_awards']\n",
    "mod4 = psn.from_formula('num_awards~math+prog2+prog3', data=df_train).fit()"
   ]
  },
  {
   "cell_type": "code",
   "execution_count": 38,
   "id": "656b8319-6585-4853-a70e-facabed44307",
   "metadata": {},
   "outputs": [
    {
     "name": "stdout",
     "output_type": "stream",
     "text": [
      "                          Poisson Regression Results                          \n",
      "==============================================================================\n",
      "Dep. Variable:             num_awards   No. Observations:                  160\n",
      "Model:                        Poisson   Df Residuals:                      156\n",
      "Method:                           MLE   Df Model:                            3\n",
      "Date:                Mon, 10 Jun 2024   Pseudo R-squ.:                  0.2060\n",
      "Time:                        11:25:45   Log-Likelihood:                -138.63\n",
      "converged:                       True   LL-Null:                       -174.59\n",
      "Covariance Type:            nonrobust   LLR p-value:                 1.659e-15\n",
      "==============================================================================\n",
      "                 coef    std err          z      P>|z|      [0.025      0.975]\n",
      "------------------------------------------------------------------------------\n",
      "Intercept     -5.5281      0.779     -7.098      0.000      -7.055      -4.002\n",
      "math           0.0704      0.012      5.725      0.000       0.046       0.094\n",
      "prog2          1.3230      0.433      3.055      0.002       0.474       2.172\n",
      "prog3          0.7941      0.508      1.564      0.118      -0.201       1.789\n",
      "==============================================================================\n"
     ]
    }
   ],
   "source": [
    "print(mod4.summary())"
   ]
  },
  {
   "cell_type": "code",
   "execution_count": 45,
   "id": "891e6335-c534-45a7-87c0-bb848fe30ffa",
   "metadata": {},
   "outputs": [
    {
     "data": {
      "text/plain": [
       "1.056"
      ]
     },
     "execution_count": 45,
     "metadata": {},
     "output_type": "execute_result"
    }
   ],
   "source": [
    "15*0.0704"
   ]
  },
  {
   "cell_type": "code",
   "execution_count": 46,
   "id": "f367fbd0-9ca9-4a47-849c-d0857cf5e7f3",
   "metadata": {},
   "outputs": [],
   "source": [
    "#The above number indicates when your program doesnt change (Prog1) as your math marks \n",
    "#increases for every 15marks your probability for getting an award increase"
   ]
  },
  {
   "cell_type": "code",
   "execution_count": 47,
   "id": "338d0f4a-e59a-498a-96d7-16f22813ff7c",
   "metadata": {},
   "outputs": [],
   "source": [
    "#Because prog3's interval has a chance of 0 existing in between and also because prog3's P>0.118 Null hypothesis doesn't get rejected"
   ]
  },
  {
   "cell_type": "code",
   "execution_count": 48,
   "id": "eb46e8e6-7d09-473a-aebf-59f94913c696",
   "metadata": {},
   "outputs": [],
   "source": [
    "#Null Hypothese for math and prog2 get rejected"
   ]
  },
  {
   "cell_type": "markdown",
   "id": "ef9ed04f-b115-40a4-af33-9dffce017d45",
   "metadata": {},
   "source": [
    "## Calculating how many num of awards you get when your math marks are 70"
   ]
  },
  {
   "cell_type": "code",
   "execution_count": 56,
   "id": "1caa1e12-4493-42a1-8ab0-a0a1f990a6a9",
   "metadata": {},
   "outputs": [
    {
     "data": {
      "text/html": [
       "<div>\n",
       "<style scoped>\n",
       "    .dataframe tbody tr th:only-of-type {\n",
       "        vertical-align: middle;\n",
       "    }\n",
       "\n",
       "    .dataframe tbody tr th {\n",
       "        vertical-align: top;\n",
       "    }\n",
       "\n",
       "    .dataframe thead th {\n",
       "        text-align: right;\n",
       "    }\n",
       "</style>\n",
       "<table border=\"1\" class=\"dataframe\">\n",
       "  <thead>\n",
       "    <tr style=\"text-align: right;\">\n",
       "      <th></th>\n",
       "      <th>math</th>\n",
       "      <th>prog2</th>\n",
       "      <th>prog3</th>\n",
       "      <th>const</th>\n",
       "    </tr>\n",
       "  </thead>\n",
       "  <tbody>\n",
       "    <tr>\n",
       "      <th>0</th>\n",
       "      <td>70</td>\n",
       "      <td>0</td>\n",
       "      <td>0</td>\n",
       "      <td>1</td>\n",
       "    </tr>\n",
       "    <tr>\n",
       "      <th>1</th>\n",
       "      <td>70</td>\n",
       "      <td>1</td>\n",
       "      <td>0</td>\n",
       "      <td>1</td>\n",
       "    </tr>\n",
       "    <tr>\n",
       "      <th>2</th>\n",
       "      <td>70</td>\n",
       "      <td>0</td>\n",
       "      <td>1</td>\n",
       "      <td>1</td>\n",
       "    </tr>\n",
       "  </tbody>\n",
       "</table>\n",
       "</div>"
      ],
      "text/plain": [
       "   math  prog2  prog3  const\n",
       "0    70      0      0      1\n",
       "1    70      1      0      1\n",
       "2    70      0      1      1"
      ]
     },
     "execution_count": 56,
     "metadata": {},
     "output_type": "execute_result"
    }
   ],
   "source": [
    "mydata3=pd.DataFrame([[70,0,0,1],[70,1,0,1],[70,0,1,1]], columns = ['math','prog2','prog3','const'])\n",
    "mydata3"
   ]
  },
  {
   "cell_type": "code",
   "execution_count": 57,
   "id": "e04fcea3-3eba-4462-b26b-bddc5d9d498b",
   "metadata": {},
   "outputs": [
    {
     "data": {
      "text/plain": [
       "0    0.548455\n",
       "1    2.059365\n",
       "2    1.213438\n",
       "dtype: float64"
      ]
     },
     "execution_count": 57,
     "metadata": {},
     "output_type": "execute_result"
    }
   ],
   "source": [
    "mod4.predict(mydata3)"
   ]
  },
  {
   "cell_type": "code",
   "execution_count": 71,
   "id": "a6b70fb2-ae91-4017-a9c2-6b28bb5f2ddb",
   "metadata": {},
   "outputs": [],
   "source": [
    "# We conclude that prog2 has highest chances to get awards more than prog 3"
   ]
  },
  {
   "cell_type": "markdown",
   "id": "1245d7df-588e-42a3-a2d8-b2540690d384",
   "metadata": {},
   "source": [
    "## Calculating minimum marks you need for program 2 to get an award"
   ]
  },
  {
   "cell_type": "code",
   "execution_count": 70,
   "id": "69384182-3374-4651-8717-eac2626dfb4a",
   "metadata": {},
   "outputs": [
    {
     "data": {
      "text/plain": [
       "0    0.060982\n",
       "1    0.123284\n",
       "2    0.249238\n",
       "3    0.503873\n",
       "4    0.716430\n",
       "5    1.000181\n",
       "6    1.018655\n",
       "dtype: float64"
      ]
     },
     "execution_count": 70,
     "metadata": {},
     "output_type": "execute_result"
    }
   ],
   "source": [
    "mydata4=pd.DataFrame([[20,1,0,1],[30,1,0,1],[40,1,0,1],[50,1,0,1],[55,1,0,1],[59.74,1,0,1],[60,1,0,1]], columns = ['math','prog2','prog3','const'])\n",
    "mod4.predict(mydata4)"
   ]
  },
  {
   "cell_type": "markdown",
   "id": "6ef66d98-6db2-4567-b959-9264bcfa70b2",
   "metadata": {},
   "source": [
    "# Negative Binominal "
   ]
  },
  {
   "cell_type": "code",
   "execution_count": 83,
   "id": "10173eb1-a968-43cf-8470-91715e8eb3cc",
   "metadata": {},
   "outputs": [],
   "source": [
    "df = pd.read_excel('CDAC_DataBook.xlsx',sheet_name='neg_bin')"
   ]
  },
  {
   "cell_type": "code",
   "execution_count": 84,
   "id": "00e2ed7a-0565-4a82-8407-f0df0a7bbae5",
   "metadata": {},
   "outputs": [],
   "source": [
    "prog_dummy = pd.get_dummies(df['prog'],drop_first=True)\n",
    "df=df.drop(['prog'],axis=1)\n",
    "df = pd.concat([df,prog_dummy],axis=1)"
   ]
  },
  {
   "cell_type": "code",
   "execution_count": 85,
   "id": "23ca875f-cfa3-4e12-abf8-f7bf291f35fb",
   "metadata": {},
   "outputs": [],
   "source": [
    "x_train,x_test,y_train,y_test = train_test_split(df.drop('daysabs',axis=1),df.daysabs,test_size=0.2)\n",
    "x_train=sm.add_constant(x_train,prepend=False)\n",
    "x_test=sm.add_constant(x_test, prepend=False)"
   ]
  },
  {
   "cell_type": "code",
   "execution_count": 86,
   "id": "7c5db4f6-0b12-4953-8684-430b15b63cbc",
   "metadata": {},
   "outputs": [],
   "source": [
    "df_train = pd.concat([x_train,y_train],axis=1)\n",
    "df_test = pd.concat([x_test,y_test],axis=1)"
   ]
  },
  {
   "cell_type": "code",
   "execution_count": 88,
   "id": "d76d701e-2a6c-47cc-ba8e-8b70cbd5ae7e",
   "metadata": {},
   "outputs": [
    {
     "name": "stdout",
     "output_type": "stream",
     "text": [
      "Optimization terminated successfully.\n",
      "         Current function value: 2.755545\n",
      "         Iterations: 21\n",
      "         Function evaluations: 24\n",
      "         Gradient evaluations: 24\n",
      "                     NegativeBinomial Regression Results                      \n",
      "==============================================================================\n",
      "Dep. Variable:                daysabs   No. Observations:                  251\n",
      "Model:               NegativeBinomial   Df Residuals:                      247\n",
      "Method:                           MLE   Df Model:                            3\n",
      "Date:                Mon, 10 Jun 2024   Pseudo R-squ.:                 0.02827\n",
      "Time:                        12:21:41   Log-Likelihood:                -691.64\n",
      "converged:                       True   LL-Null:                       -711.77\n",
      "Covariance Type:            nonrobust   LLR p-value:                 9.439e-09\n",
      "======================================================================================\n",
      "                         coef    std err          z      P>|z|      [0.025      0.975]\n",
      "--------------------------------------------------------------------------------------\n",
      "Intercept              2.1029      0.153     13.747      0.000       1.803       2.403\n",
      "General[T.True]        0.4399      0.203      2.168      0.030       0.042       0.837\n",
      "Vocational[T.True]    -0.7343      0.161     -4.555      0.000      -1.050      -0.418\n",
      "math                  -0.0052      0.003     -1.803      0.071      -0.011       0.000\n",
      "alpha                  0.9518      0.110      8.650      0.000       0.736       1.168\n",
      "======================================================================================\n"
     ]
    }
   ],
   "source": [
    "mod4 = nbm.from_formula('daysabs ~ math + General + Vocational',data = df_train).fit()\n",
    "print(mod4.summary())"
   ]
  },
  {
   "cell_type": "code",
   "execution_count": null,
   "id": "a2bbb7f6-9f11-4c32-8a5b-dcfa405d4d20",
   "metadata": {},
   "outputs": [],
   "source": []
  }
 ],
 "metadata": {
  "kernelspec": {
   "display_name": "Python 3 (ipykernel)",
   "language": "python",
   "name": "python3"
  },
  "language_info": {
   "codemirror_mode": {
    "name": "ipython",
    "version": 3
   },
   "file_extension": ".py",
   "mimetype": "text/x-python",
   "name": "python",
   "nbconvert_exporter": "python",
   "pygments_lexer": "ipython3",
   "version": "3.12.2"
  }
 },
 "nbformat": 4,
 "nbformat_minor": 5
}
