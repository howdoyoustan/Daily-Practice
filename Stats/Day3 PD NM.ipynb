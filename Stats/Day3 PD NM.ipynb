{
 "cells": [
  {
   "cell_type": "code",
   "execution_count": 244,
   "id": "48dea42a-9196-4038-aff6-44b9c61af5ee",
   "metadata": {},
   "outputs": [],
   "source": [
    "import pandas as pd \n",
    "import numpy as np"
   ]
  },
  {
   "cell_type": "code",
   "execution_count": 245,
   "id": "0118ddb7-6029-41f4-9378-688cf20844d7",
   "metadata": {},
   "outputs": [],
   "source": [
    "df = pd.read_excel(\"CDAC_DataBook.xlsx\",sheet_name=\"ERPData\")"
   ]
  },
  {
   "cell_type": "code",
   "execution_count": 6,
   "id": "9331e34f-5d8f-4fae-b6d7-bf8688d84e1c",
   "metadata": {},
   "outputs": [],
   "source": [
    "#Q axcp78 in mwh-2 or 3"
   ]
  },
  {
   "cell_type": "code",
   "execution_count": 140,
   "id": "0826a64e-e8ad-4c7c-8e72-46a4b4c4e9d9",
   "metadata": {},
   "outputs": [],
   "source": [
    "new1=df[((df.Location==\"MWH-2\") | (df.Location==\"MWH-3\")) & (df.MaterialID==\"AXCP-78\")]"
   ]
  },
  {
   "cell_type": "code",
   "execution_count": 141,
   "id": "ed2cdf37-4ae2-476f-aba2-a04c61f2743e",
   "metadata": {},
   "outputs": [
    {
     "name": "stdout",
     "output_type": "stream",
     "text": [
      "<class 'pandas.core.frame.DataFrame'>\n"
     ]
    }
   ],
   "source": [
    "print(type(new1))"
   ]
  },
  {
   "cell_type": "code",
   "execution_count": 24,
   "id": "a8c5283b-daeb-48e7-b5e2-dea416a82ff6",
   "metadata": {},
   "outputs": [
    {
     "data": {
      "text/html": [
       "<div>\n",
       "<style scoped>\n",
       "    .dataframe tbody tr th:only-of-type {\n",
       "        vertical-align: middle;\n",
       "    }\n",
       "\n",
       "    .dataframe tbody tr th {\n",
       "        vertical-align: top;\n",
       "    }\n",
       "\n",
       "    .dataframe thead th {\n",
       "        text-align: right;\n",
       "    }\n",
       "</style>\n",
       "<table border=\"1\" class=\"dataframe\">\n",
       "  <thead>\n",
       "    <tr style=\"text-align: right;\">\n",
       "      <th></th>\n",
       "      <th>MaterialID</th>\n",
       "      <th>Location</th>\n",
       "      <th>Quantity</th>\n",
       "    </tr>\n",
       "  </thead>\n",
       "  <tbody>\n",
       "    <tr>\n",
       "      <th>46</th>\n",
       "      <td>AXCP-78</td>\n",
       "      <td>MWH-2</td>\n",
       "      <td>85</td>\n",
       "    </tr>\n",
       "    <tr>\n",
       "      <th>47</th>\n",
       "      <td>AXCP-78</td>\n",
       "      <td>MWH-3</td>\n",
       "      <td>29</td>\n",
       "    </tr>\n",
       "  </tbody>\n",
       "</table>\n",
       "</div>"
      ],
      "text/plain": [
       "   MaterialID Location  Quantity\n",
       "46    AXCP-78    MWH-2        85\n",
       "47    AXCP-78    MWH-3        29"
      ]
     },
     "execution_count": 24,
     "metadata": {},
     "output_type": "execute_result"
    }
   ],
   "source": [
    "new1"
   ]
  },
  {
   "cell_type": "markdown",
   "id": "5fbf91c8-5057-4d59-aaf1-fc62048ca561",
   "metadata": {},
   "source": [
    "## numpy solution\n"
   ]
  },
  {
   "cell_type": "code",
   "execution_count": 246,
   "id": "8a065c58-d67f-44ea-ac7a-25fe072fe326",
   "metadata": {},
   "outputs": [
    {
     "data": {
      "text/html": [
       "<div>\n",
       "<style scoped>\n",
       "    .dataframe tbody tr th:only-of-type {\n",
       "        vertical-align: middle;\n",
       "    }\n",
       "\n",
       "    .dataframe tbody tr th {\n",
       "        vertical-align: top;\n",
       "    }\n",
       "\n",
       "    .dataframe thead th {\n",
       "        text-align: right;\n",
       "    }\n",
       "</style>\n",
       "<table border=\"1\" class=\"dataframe\">\n",
       "  <thead>\n",
       "    <tr style=\"text-align: right;\">\n",
       "      <th></th>\n",
       "      <th>MaterialID</th>\n",
       "      <th>Location</th>\n",
       "      <th>Quantity</th>\n",
       "    </tr>\n",
       "  </thead>\n",
       "  <tbody>\n",
       "    <tr>\n",
       "      <th>46</th>\n",
       "      <td>AXCP-78</td>\n",
       "      <td>MWH-2</td>\n",
       "      <td>85</td>\n",
       "    </tr>\n",
       "    <tr>\n",
       "      <th>47</th>\n",
       "      <td>AXCP-78</td>\n",
       "      <td>MWH-3</td>\n",
       "      <td>29</td>\n",
       "    </tr>\n",
       "  </tbody>\n",
       "</table>\n",
       "</div>"
      ],
      "text/plain": [
       "   MaterialID Location  Quantity\n",
       "46    AXCP-78    MWH-2        85\n",
       "47    AXCP-78    MWH-3        29"
      ]
     },
     "execution_count": 246,
     "metadata": {},
     "output_type": "execute_result"
    }
   ],
   "source": [
    "t2= np.where(((df.Location==\"MWH-2\")|(df.Location==\"MWH-3\"))&(df.MaterialID==\"AXCP-78\"))\n",
    "df.iloc[t2]\n"
   ]
  },
  {
   "cell_type": "code",
   "execution_count": 248,
   "id": "158172f0-4767-4f06-b7bd-dcf481da63b7",
   "metadata": {},
   "outputs": [
    {
     "data": {
      "text/plain": [
       "(array([46, 47], dtype=int64),)"
      ]
     },
     "execution_count": 248,
     "metadata": {},
     "output_type": "execute_result"
    }
   ],
   "source": [
    "t2"
   ]
  },
  {
   "cell_type": "code",
   "execution_count": 247,
   "id": "e1ae5d62-63db-49ff-b032-03664f626b50",
   "metadata": {},
   "outputs": [
    {
     "name": "stdout",
     "output_type": "stream",
     "text": [
      "<class 'tuple'>\n"
     ]
    }
   ],
   "source": [
    "print(type(t2))"
   ]
  },
  {
   "cell_type": "code",
   "execution_count": 181,
   "id": "10c5620a-999b-456e-8c3a-73efd108dc90",
   "metadata": {},
   "outputs": [
    {
     "data": {
      "text/html": [
       "<div>\n",
       "<style scoped>\n",
       "    .dataframe tbody tr th:only-of-type {\n",
       "        vertical-align: middle;\n",
       "    }\n",
       "\n",
       "    .dataframe tbody tr th {\n",
       "        vertical-align: top;\n",
       "    }\n",
       "\n",
       "    .dataframe thead th {\n",
       "        text-align: right;\n",
       "    }\n",
       "</style>\n",
       "<table border=\"1\" class=\"dataframe\">\n",
       "  <thead>\n",
       "    <tr style=\"text-align: right;\">\n",
       "      <th></th>\n",
       "      <th>Name</th>\n",
       "      <th>EmpID</th>\n",
       "      <th>Deptt</th>\n",
       "      <th>Passport</th>\n",
       "    </tr>\n",
       "  </thead>\n",
       "  <tbody>\n",
       "    <tr>\n",
       "      <th>0</th>\n",
       "      <td>Sudeep</td>\n",
       "      <td>A342</td>\n",
       "      <td>Quality</td>\n",
       "      <td>DF453278</td>\n",
       "    </tr>\n",
       "    <tr>\n",
       "      <th>1</th>\n",
       "      <td>Ruchika</td>\n",
       "      <td>C578</td>\n",
       "      <td>Sales</td>\n",
       "      <td>CA567657</td>\n",
       "    </tr>\n",
       "    <tr>\n",
       "      <th>2</th>\n",
       "      <td>NaN</td>\n",
       "      <td>J436</td>\n",
       "      <td>Admin</td>\n",
       "      <td>DF453278</td>\n",
       "    </tr>\n",
       "    <tr>\n",
       "      <th>3</th>\n",
       "      <td>Arjun</td>\n",
       "      <td>A342</td>\n",
       "      <td>NaN</td>\n",
       "      <td>RF453432</td>\n",
       "    </tr>\n",
       "    <tr>\n",
       "      <th>4</th>\n",
       "      <td>Rishi</td>\n",
       "      <td>R475</td>\n",
       "      <td>Prodn</td>\n",
       "      <td>DF453278</td>\n",
       "    </tr>\n",
       "    <tr>\n",
       "      <th>5</th>\n",
       "      <td>Chetan</td>\n",
       "      <td>NaN</td>\n",
       "      <td>NaN</td>\n",
       "      <td>ER534867</td>\n",
       "    </tr>\n",
       "    <tr>\n",
       "      <th>6</th>\n",
       "      <td>Deepak</td>\n",
       "      <td>NaN</td>\n",
       "      <td>Quality</td>\n",
       "      <td>RF453432</td>\n",
       "    </tr>\n",
       "  </tbody>\n",
       "</table>\n",
       "</div>"
      ],
      "text/plain": [
       "      Name EmpID    Deptt  Passport\n",
       "0   Sudeep  A342  Quality  DF453278\n",
       "1  Ruchika  C578    Sales  CA567657\n",
       "2      NaN  J436    Admin  DF453278\n",
       "3    Arjun  A342      NaN  RF453432\n",
       "4    Rishi  R475    Prodn  DF453278\n",
       "5   Chetan   NaN      NaN  ER534867\n",
       "6   Deepak   NaN  Quality  RF453432"
      ]
     },
     "execution_count": 181,
     "metadata": {},
     "output_type": "execute_result"
    }
   ],
   "source": [
    "df1 = pd.read_excel(\"PandasExamples.xlsx\",sheet_name=\"EmpInfo\")\n",
    "df1"
   ]
  },
  {
   "cell_type": "markdown",
   "id": "cf20798a-9083-426a-9fe3-d7699a68c9af",
   "metadata": {},
   "source": [
    "# DATA CLEANING"
   ]
  },
  {
   "cell_type": "code",
   "execution_count": 63,
   "id": "6c73c6a5-e77a-49d3-9fe8-4d5494fea6a4",
   "metadata": {},
   "outputs": [
    {
     "data": {
      "text/plain": [
       "(array([2, 3, 5, 5, 6], dtype=int64), array([0, 2, 1, 2, 1], dtype=int64))"
      ]
     },
     "execution_count": 63,
     "metadata": {},
     "output_type": "execute_result"
    }
   ],
   "source": [
    "df2=np.where(pd.isnull(df1))\n",
    "df2"
   ]
  },
  {
   "cell_type": "code",
   "execution_count": 64,
   "id": "b2eba018-23de-4da2-82c7-ebef985cebfc",
   "metadata": {},
   "outputs": [
    {
     "data": {
      "text/html": [
       "<div>\n",
       "<style scoped>\n",
       "    .dataframe tbody tr th:only-of-type {\n",
       "        vertical-align: middle;\n",
       "    }\n",
       "\n",
       "    .dataframe tbody tr th {\n",
       "        vertical-align: top;\n",
       "    }\n",
       "\n",
       "    .dataframe thead th {\n",
       "        text-align: right;\n",
       "    }\n",
       "</style>\n",
       "<table border=\"1\" class=\"dataframe\">\n",
       "  <thead>\n",
       "    <tr style=\"text-align: right;\">\n",
       "      <th></th>\n",
       "      <th>Name</th>\n",
       "      <th>Deptt</th>\n",
       "      <th>EmpID</th>\n",
       "      <th>Deptt</th>\n",
       "      <th>EmpID</th>\n",
       "    </tr>\n",
       "  </thead>\n",
       "  <tbody>\n",
       "    <tr>\n",
       "      <th>2</th>\n",
       "      <td>NaN</td>\n",
       "      <td>Admin</td>\n",
       "      <td>J436</td>\n",
       "      <td>Admin</td>\n",
       "      <td>J436</td>\n",
       "    </tr>\n",
       "    <tr>\n",
       "      <th>3</th>\n",
       "      <td>Arjun</td>\n",
       "      <td>NaN</td>\n",
       "      <td>A342</td>\n",
       "      <td>NaN</td>\n",
       "      <td>A342</td>\n",
       "    </tr>\n",
       "    <tr>\n",
       "      <th>5</th>\n",
       "      <td>Chetan</td>\n",
       "      <td>NaN</td>\n",
       "      <td>NaN</td>\n",
       "      <td>NaN</td>\n",
       "      <td>NaN</td>\n",
       "    </tr>\n",
       "    <tr>\n",
       "      <th>5</th>\n",
       "      <td>Chetan</td>\n",
       "      <td>NaN</td>\n",
       "      <td>NaN</td>\n",
       "      <td>NaN</td>\n",
       "      <td>NaN</td>\n",
       "    </tr>\n",
       "    <tr>\n",
       "      <th>6</th>\n",
       "      <td>Deepak</td>\n",
       "      <td>Quality</td>\n",
       "      <td>NaN</td>\n",
       "      <td>Quality</td>\n",
       "      <td>NaN</td>\n",
       "    </tr>\n",
       "  </tbody>\n",
       "</table>\n",
       "</div>"
      ],
      "text/plain": [
       "     Name    Deptt EmpID    Deptt EmpID\n",
       "2     NaN    Admin  J436    Admin  J436\n",
       "3   Arjun      NaN  A342      NaN  A342\n",
       "5  Chetan      NaN   NaN      NaN   NaN\n",
       "5  Chetan      NaN   NaN      NaN   NaN\n",
       "6  Deepak  Quality   NaN  Quality   NaN"
      ]
     },
     "execution_count": 64,
     "metadata": {},
     "output_type": "execute_result"
    }
   ],
   "source": [
    "df1.iloc[df2]"
   ]
  },
  {
   "cell_type": "code",
   "execution_count": 47,
   "id": "ab84fbd8-84d9-4bb1-8ee4-e96b93182d20",
   "metadata": {},
   "outputs": [
    {
     "data": {
      "text/plain": [
       "(array([3, 5], dtype=int64),)"
      ]
     },
     "execution_count": 47,
     "metadata": {},
     "output_type": "execute_result"
    }
   ],
   "source": [
    "t1 = np.where(df1['Deptt'].isnull())\n",
    "t1"
   ]
  },
  {
   "cell_type": "code",
   "execution_count": 50,
   "id": "cce9379a-e19e-4928-97fd-e0cef7b6b095",
   "metadata": {},
   "outputs": [
    {
     "data": {
      "text/html": [
       "<div>\n",
       "<style scoped>\n",
       "    .dataframe tbody tr th:only-of-type {\n",
       "        vertical-align: middle;\n",
       "    }\n",
       "\n",
       "    .dataframe tbody tr th {\n",
       "        vertical-align: top;\n",
       "    }\n",
       "\n",
       "    .dataframe thead th {\n",
       "        text-align: right;\n",
       "    }\n",
       "</style>\n",
       "<table border=\"1\" class=\"dataframe\">\n",
       "  <thead>\n",
       "    <tr style=\"text-align: right;\">\n",
       "      <th></th>\n",
       "      <th>Name</th>\n",
       "      <th>EmpID</th>\n",
       "      <th>Deptt</th>\n",
       "      <th>Passport</th>\n",
       "    </tr>\n",
       "  </thead>\n",
       "  <tbody>\n",
       "    <tr>\n",
       "      <th>5</th>\n",
       "      <td>Chetan</td>\n",
       "      <td>NaN</td>\n",
       "      <td>NaN</td>\n",
       "      <td>ER534867</td>\n",
       "    </tr>\n",
       "  </tbody>\n",
       "</table>\n",
       "</div>"
      ],
      "text/plain": [
       "     Name EmpID Deptt  Passport\n",
       "5  Chetan   NaN   NaN  ER534867"
      ]
     },
     "execution_count": 50,
     "metadata": {},
     "output_type": "execute_result"
    }
   ],
   "source": [
    "t1 = np.where((df1['Deptt'].isnull()) & (df1['EmpID'].isnull()))\n",
    "df1.iloc[t1]"
   ]
  },
  {
   "cell_type": "code",
   "execution_count": 57,
   "id": "6e9a5857-6633-4996-894f-dbda7d27c1e4",
   "metadata": {},
   "outputs": [],
   "source": [
    "df2=df1.drop(5)"
   ]
  },
  {
   "cell_type": "code",
   "execution_count": 58,
   "id": "5d166488-4cb6-4946-a649-33737d7b0d44",
   "metadata": {},
   "outputs": [
    {
     "data": {
      "text/html": [
       "<div>\n",
       "<style scoped>\n",
       "    .dataframe tbody tr th:only-of-type {\n",
       "        vertical-align: middle;\n",
       "    }\n",
       "\n",
       "    .dataframe tbody tr th {\n",
       "        vertical-align: top;\n",
       "    }\n",
       "\n",
       "    .dataframe thead th {\n",
       "        text-align: right;\n",
       "    }\n",
       "</style>\n",
       "<table border=\"1\" class=\"dataframe\">\n",
       "  <thead>\n",
       "    <tr style=\"text-align: right;\">\n",
       "      <th></th>\n",
       "      <th>Name</th>\n",
       "      <th>EmpID</th>\n",
       "      <th>Deptt</th>\n",
       "      <th>Passport</th>\n",
       "    </tr>\n",
       "  </thead>\n",
       "  <tbody>\n",
       "    <tr>\n",
       "      <th>0</th>\n",
       "      <td>Sudeep</td>\n",
       "      <td>A342</td>\n",
       "      <td>Quality</td>\n",
       "      <td>DF453278</td>\n",
       "    </tr>\n",
       "    <tr>\n",
       "      <th>1</th>\n",
       "      <td>Ruchika</td>\n",
       "      <td>C578</td>\n",
       "      <td>Sales</td>\n",
       "      <td>CA567657</td>\n",
       "    </tr>\n",
       "    <tr>\n",
       "      <th>2</th>\n",
       "      <td>NaN</td>\n",
       "      <td>J436</td>\n",
       "      <td>Admin</td>\n",
       "      <td>DF453278</td>\n",
       "    </tr>\n",
       "    <tr>\n",
       "      <th>3</th>\n",
       "      <td>Arjun</td>\n",
       "      <td>A342</td>\n",
       "      <td>NaN</td>\n",
       "      <td>RF453432</td>\n",
       "    </tr>\n",
       "    <tr>\n",
       "      <th>4</th>\n",
       "      <td>Rishi</td>\n",
       "      <td>R475</td>\n",
       "      <td>Prodn</td>\n",
       "      <td>DF453278</td>\n",
       "    </tr>\n",
       "    <tr>\n",
       "      <th>6</th>\n",
       "      <td>Deepak</td>\n",
       "      <td>NaN</td>\n",
       "      <td>Quality</td>\n",
       "      <td>RF453432</td>\n",
       "    </tr>\n",
       "  </tbody>\n",
       "</table>\n",
       "</div>"
      ],
      "text/plain": [
       "      Name EmpID    Deptt  Passport\n",
       "0   Sudeep  A342  Quality  DF453278\n",
       "1  Ruchika  C578    Sales  CA567657\n",
       "2      NaN  J436    Admin  DF453278\n",
       "3    Arjun  A342      NaN  RF453432\n",
       "4    Rishi  R475    Prodn  DF453278\n",
       "6   Deepak   NaN  Quality  RF453432"
      ]
     },
     "execution_count": 58,
     "metadata": {},
     "output_type": "execute_result"
    }
   ],
   "source": [
    "df2"
   ]
  },
  {
   "cell_type": "code",
   "execution_count": 60,
   "id": "8dfea1cd-677d-4206-a999-3c2fe5cf4a1b",
   "metadata": {},
   "outputs": [
    {
     "data": {
      "text/html": [
       "<div>\n",
       "<style scoped>\n",
       "    .dataframe tbody tr th:only-of-type {\n",
       "        vertical-align: middle;\n",
       "    }\n",
       "\n",
       "    .dataframe tbody tr th {\n",
       "        vertical-align: top;\n",
       "    }\n",
       "\n",
       "    .dataframe thead th {\n",
       "        text-align: right;\n",
       "    }\n",
       "</style>\n",
       "<table border=\"1\" class=\"dataframe\">\n",
       "  <thead>\n",
       "    <tr style=\"text-align: right;\">\n",
       "      <th></th>\n",
       "      <th>Name</th>\n",
       "      <th>EmpID</th>\n",
       "      <th>Deptt</th>\n",
       "      <th>Passport</th>\n",
       "    </tr>\n",
       "  </thead>\n",
       "  <tbody>\n",
       "    <tr>\n",
       "      <th>0</th>\n",
       "      <td>Sudeep</td>\n",
       "      <td>A342</td>\n",
       "      <td>Quality</td>\n",
       "      <td>DF453278</td>\n",
       "    </tr>\n",
       "    <tr>\n",
       "      <th>1</th>\n",
       "      <td>Ruchika</td>\n",
       "      <td>C578</td>\n",
       "      <td>Sales</td>\n",
       "      <td>CA567657</td>\n",
       "    </tr>\n",
       "    <tr>\n",
       "      <th>4</th>\n",
       "      <td>Rishi</td>\n",
       "      <td>R475</td>\n",
       "      <td>Prodn</td>\n",
       "      <td>DF453278</td>\n",
       "    </tr>\n",
       "  </tbody>\n",
       "</table>\n",
       "</div>"
      ],
      "text/plain": [
       "      Name EmpID    Deptt  Passport\n",
       "0   Sudeep  A342  Quality  DF453278\n",
       "1  Ruchika  C578    Sales  CA567657\n",
       "4    Rishi  R475    Prodn  DF453278"
      ]
     },
     "execution_count": 60,
     "metadata": {},
     "output_type": "execute_result"
    }
   ],
   "source": [
    "mdf = df1.dropna()\n",
    "mdf"
   ]
  },
  {
   "cell_type": "markdown",
   "id": "142fa5fa-996a-4a5d-8cff-699907cfdcfe",
   "metadata": {},
   "source": [
    "## dropping all null values"
   ]
  },
  {
   "cell_type": "code",
   "execution_count": 88,
   "id": "4faec117-0d04-40ee-a379-2e998376d28f",
   "metadata": {},
   "outputs": [
    {
     "data": {
      "text/html": [
       "<div>\n",
       "<style scoped>\n",
       "    .dataframe tbody tr th:only-of-type {\n",
       "        vertical-align: middle;\n",
       "    }\n",
       "\n",
       "    .dataframe tbody tr th {\n",
       "        vertical-align: top;\n",
       "    }\n",
       "\n",
       "    .dataframe thead th {\n",
       "        text-align: right;\n",
       "    }\n",
       "</style>\n",
       "<table border=\"1\" class=\"dataframe\">\n",
       "  <thead>\n",
       "    <tr style=\"text-align: right;\">\n",
       "      <th></th>\n",
       "      <th>Name</th>\n",
       "      <th>EmpID</th>\n",
       "      <th>Deptt</th>\n",
       "      <th>Passport</th>\n",
       "    </tr>\n",
       "  </thead>\n",
       "  <tbody>\n",
       "    <tr>\n",
       "      <th>0</th>\n",
       "      <td>Sudeep</td>\n",
       "      <td>A342</td>\n",
       "      <td>Quality</td>\n",
       "      <td>DF453278</td>\n",
       "    </tr>\n",
       "    <tr>\n",
       "      <th>1</th>\n",
       "      <td>Ruchika</td>\n",
       "      <td>C578</td>\n",
       "      <td>Sales</td>\n",
       "      <td>CA567657</td>\n",
       "    </tr>\n",
       "    <tr>\n",
       "      <th>4</th>\n",
       "      <td>Rishi</td>\n",
       "      <td>R475</td>\n",
       "      <td>Prodn</td>\n",
       "      <td>DF453278</td>\n",
       "    </tr>\n",
       "  </tbody>\n",
       "</table>\n",
       "</div>"
      ],
      "text/plain": [
       "      Name EmpID    Deptt  Passport\n",
       "0   Sudeep  A342  Quality  DF453278\n",
       "1  Ruchika  C578    Sales  CA567657\n",
       "4    Rishi  R475    Prodn  DF453278"
      ]
     },
     "execution_count": 88,
     "metadata": {},
     "output_type": "execute_result"
    }
   ],
   "source": [
    "nonull =df1.dropna()\n",
    "nonull"
   ]
  },
  {
   "cell_type": "markdown",
   "id": "3e203c3f-b823-4a74-b9e7-b3a74c056760",
   "metadata": {},
   "source": [
    "## splitting when empid is null"
   ]
  },
  {
   "cell_type": "code",
   "execution_count": 93,
   "id": "c6f71293-b758-415a-a75b-e9d0f8b937f6",
   "metadata": {},
   "outputs": [
    {
     "data": {
      "text/plain": [
       "(array([5, 6], dtype=int64),)"
      ]
     },
     "execution_count": 93,
     "metadata": {},
     "output_type": "execute_result"
    }
   ],
   "source": [
    "empnull = np.where(df1['EmpID'].isnull())\n",
    "empnull"
   ]
  },
  {
   "cell_type": "code",
   "execution_count": 100,
   "id": "b867175d-b687-4a06-84d4-4fe74f044a24",
   "metadata": {},
   "outputs": [
    {
     "data": {
      "text/html": [
       "<div>\n",
       "<style scoped>\n",
       "    .dataframe tbody tr th:only-of-type {\n",
       "        vertical-align: middle;\n",
       "    }\n",
       "\n",
       "    .dataframe tbody tr th {\n",
       "        vertical-align: top;\n",
       "    }\n",
       "\n",
       "    .dataframe thead th {\n",
       "        text-align: right;\n",
       "    }\n",
       "</style>\n",
       "<table border=\"1\" class=\"dataframe\">\n",
       "  <thead>\n",
       "    <tr style=\"text-align: right;\">\n",
       "      <th></th>\n",
       "      <th>Name</th>\n",
       "      <th>EmpID</th>\n",
       "      <th>Deptt</th>\n",
       "      <th>Passport</th>\n",
       "    </tr>\n",
       "  </thead>\n",
       "  <tbody>\n",
       "    <tr>\n",
       "      <th>5</th>\n",
       "      <td>Chetan</td>\n",
       "      <td>NaN</td>\n",
       "      <td>NaN</td>\n",
       "      <td>ER534867</td>\n",
       "    </tr>\n",
       "    <tr>\n",
       "      <th>6</th>\n",
       "      <td>Deepak</td>\n",
       "      <td>NaN</td>\n",
       "      <td>Quality</td>\n",
       "      <td>RF453432</td>\n",
       "    </tr>\n",
       "  </tbody>\n",
       "</table>\n",
       "</div>"
      ],
      "text/plain": [
       "     Name EmpID    Deptt  Passport\n",
       "5  Chetan   NaN      NaN  ER534867\n",
       "6  Deepak   NaN  Quality  RF453432"
      ]
     },
     "execution_count": 100,
     "metadata": {},
     "output_type": "execute_result"
    }
   ],
   "source": [
    "#where empid has null values\n",
    "df1.iloc[empnull[0]]"
   ]
  },
  {
   "cell_type": "code",
   "execution_count": 98,
   "id": "42de4c90-d7c8-490b-9582-422787cd9839",
   "metadata": {},
   "outputs": [
    {
     "data": {
      "text/html": [
       "<div>\n",
       "<style scoped>\n",
       "    .dataframe tbody tr th:only-of-type {\n",
       "        vertical-align: middle;\n",
       "    }\n",
       "\n",
       "    .dataframe tbody tr th {\n",
       "        vertical-align: top;\n",
       "    }\n",
       "\n",
       "    .dataframe thead th {\n",
       "        text-align: right;\n",
       "    }\n",
       "</style>\n",
       "<table border=\"1\" class=\"dataframe\">\n",
       "  <thead>\n",
       "    <tr style=\"text-align: right;\">\n",
       "      <th></th>\n",
       "      <th>Name</th>\n",
       "      <th>EmpID</th>\n",
       "      <th>Deptt</th>\n",
       "      <th>Passport</th>\n",
       "    </tr>\n",
       "  </thead>\n",
       "  <tbody>\n",
       "    <tr>\n",
       "      <th>0</th>\n",
       "      <td>Sudeep</td>\n",
       "      <td>A342</td>\n",
       "      <td>Quality</td>\n",
       "      <td>DF453278</td>\n",
       "    </tr>\n",
       "    <tr>\n",
       "      <th>1</th>\n",
       "      <td>Ruchika</td>\n",
       "      <td>C578</td>\n",
       "      <td>Sales</td>\n",
       "      <td>CA567657</td>\n",
       "    </tr>\n",
       "    <tr>\n",
       "      <th>2</th>\n",
       "      <td>NaN</td>\n",
       "      <td>J436</td>\n",
       "      <td>Admin</td>\n",
       "      <td>DF453278</td>\n",
       "    </tr>\n",
       "    <tr>\n",
       "      <th>3</th>\n",
       "      <td>Arjun</td>\n",
       "      <td>A342</td>\n",
       "      <td>NaN</td>\n",
       "      <td>RF453432</td>\n",
       "    </tr>\n",
       "    <tr>\n",
       "      <th>4</th>\n",
       "      <td>Rishi</td>\n",
       "      <td>R475</td>\n",
       "      <td>Prodn</td>\n",
       "      <td>DF453278</td>\n",
       "    </tr>\n",
       "  </tbody>\n",
       "</table>\n",
       "</div>"
      ],
      "text/plain": [
       "      Name EmpID    Deptt  Passport\n",
       "0   Sudeep  A342  Quality  DF453278\n",
       "1  Ruchika  C578    Sales  CA567657\n",
       "2      NaN  J436    Admin  DF453278\n",
       "3    Arjun  A342      NaN  RF453432\n",
       "4    Rishi  R475    Prodn  DF453278"
      ]
     },
     "execution_count": 98,
     "metadata": {},
     "output_type": "execute_result"
    }
   ],
   "source": [
    "#dropping them now \n",
    "nulle = df1.drop(empnull[0],axis=0)\n",
    "nulle"
   ]
  },
  {
   "cell_type": "markdown",
   "id": "5c2e0523-ac6d-44c1-a602-a1670a45c0f4",
   "metadata": {},
   "source": [
    "split df into 2 parts where dept is null and other part"
   ]
  },
  {
   "cell_type": "code",
   "execution_count": 70,
   "id": "2747b038-cf35-40f4-a0a8-0b61cc7ccff4",
   "metadata": {},
   "outputs": [
    {
     "data": {
      "text/html": [
       "<div>\n",
       "<style scoped>\n",
       "    .dataframe tbody tr th:only-of-type {\n",
       "        vertical-align: middle;\n",
       "    }\n",
       "\n",
       "    .dataframe tbody tr th {\n",
       "        vertical-align: top;\n",
       "    }\n",
       "\n",
       "    .dataframe thead th {\n",
       "        text-align: right;\n",
       "    }\n",
       "</style>\n",
       "<table border=\"1\" class=\"dataframe\">\n",
       "  <thead>\n",
       "    <tr style=\"text-align: right;\">\n",
       "      <th></th>\n",
       "      <th>Name</th>\n",
       "      <th>EmpID</th>\n",
       "      <th>Deptt</th>\n",
       "      <th>Passport</th>\n",
       "    </tr>\n",
       "  </thead>\n",
       "  <tbody>\n",
       "    <tr>\n",
       "      <th>3</th>\n",
       "      <td>Arjun</td>\n",
       "      <td>A342</td>\n",
       "      <td>NaN</td>\n",
       "      <td>RF453432</td>\n",
       "    </tr>\n",
       "    <tr>\n",
       "      <th>5</th>\n",
       "      <td>Chetan</td>\n",
       "      <td>NaN</td>\n",
       "      <td>NaN</td>\n",
       "      <td>ER534867</td>\n",
       "    </tr>\n",
       "  </tbody>\n",
       "</table>\n",
       "</div>"
      ],
      "text/plain": [
       "     Name EmpID Deptt  Passport\n",
       "3   Arjun  A342   NaN  RF453432\n",
       "5  Chetan   NaN   NaN  ER534867"
      ]
     },
     "execution_count": 70,
     "metadata": {},
     "output_type": "execute_result"
    }
   ],
   "source": [
    "t2 = np.where(df1['Deptt'].isnull())\n",
    "depnull=df1.iloc[t2]\n",
    "depnull"
   ]
  },
  {
   "cell_type": "code",
   "execution_count": 86,
   "id": "55c1e15e-fe9c-48f2-b0b8-72df83b4c7cc",
   "metadata": {},
   "outputs": [
    {
     "data": {
      "text/html": [
       "<div>\n",
       "<style scoped>\n",
       "    .dataframe tbody tr th:only-of-type {\n",
       "        vertical-align: middle;\n",
       "    }\n",
       "\n",
       "    .dataframe tbody tr th {\n",
       "        vertical-align: top;\n",
       "    }\n",
       "\n",
       "    .dataframe thead th {\n",
       "        text-align: right;\n",
       "    }\n",
       "</style>\n",
       "<table border=\"1\" class=\"dataframe\">\n",
       "  <thead>\n",
       "    <tr style=\"text-align: right;\">\n",
       "      <th></th>\n",
       "      <th>Name</th>\n",
       "      <th>EmpID</th>\n",
       "      <th>Deptt</th>\n",
       "      <th>Passport</th>\n",
       "    </tr>\n",
       "  </thead>\n",
       "  <tbody>\n",
       "    <tr>\n",
       "      <th>0</th>\n",
       "      <td>Sudeep</td>\n",
       "      <td>A342</td>\n",
       "      <td>Quality</td>\n",
       "      <td>DF453278</td>\n",
       "    </tr>\n",
       "    <tr>\n",
       "      <th>1</th>\n",
       "      <td>Ruchika</td>\n",
       "      <td>C578</td>\n",
       "      <td>Sales</td>\n",
       "      <td>CA567657</td>\n",
       "    </tr>\n",
       "    <tr>\n",
       "      <th>2</th>\n",
       "      <td>NaN</td>\n",
       "      <td>J436</td>\n",
       "      <td>Admin</td>\n",
       "      <td>DF453278</td>\n",
       "    </tr>\n",
       "    <tr>\n",
       "      <th>4</th>\n",
       "      <td>Rishi</td>\n",
       "      <td>R475</td>\n",
       "      <td>Prodn</td>\n",
       "      <td>DF453278</td>\n",
       "    </tr>\n",
       "    <tr>\n",
       "      <th>6</th>\n",
       "      <td>Deepak</td>\n",
       "      <td>NaN</td>\n",
       "      <td>Quality</td>\n",
       "      <td>RF453432</td>\n",
       "    </tr>\n",
       "  </tbody>\n",
       "</table>\n",
       "</div>"
      ],
      "text/plain": [
       "      Name EmpID    Deptt  Passport\n",
       "0   Sudeep  A342  Quality  DF453278\n",
       "1  Ruchika  C578    Sales  CA567657\n",
       "2      NaN  J436    Admin  DF453278\n",
       "4    Rishi  R475    Prodn  DF453278\n",
       "6   Deepak   NaN  Quality  RF453432"
      ]
     },
     "execution_count": 86,
     "metadata": {},
     "output_type": "execute_result"
    }
   ],
   "source": [
    "t3=np.where(df1['Deptt'].isnull())[0]\n",
    "t3\n",
    "depnotnull = df1.drop(t3,axis=0)\n",
    "depnotnull\n",
    "#t3"
   ]
  },
  {
   "cell_type": "markdown",
   "id": "334bf6a0-9732-44bf-9b20-362bc549f372",
   "metadata": {},
   "source": [
    "## Removal of duplicate values"
   ]
  },
  {
   "cell_type": "code",
   "execution_count": 106,
   "id": "5bfc376a-05ed-4a7d-8af9-5cb34dbe3db7",
   "metadata": {},
   "outputs": [
    {
     "data": {
      "text/plain": [
       "(array([0, 2, 3, 4, 6], dtype=int64),)"
      ]
     },
     "execution_count": 106,
     "metadata": {},
     "output_type": "execute_result"
    }
   ],
   "source": [
    "t4 = np.where(df1['Passport'].duplicated(keep=False))\n",
    "t4"
   ]
  },
  {
   "cell_type": "code",
   "execution_count": 108,
   "id": "3ea38d0f-19cb-4145-8243-50de13311537",
   "metadata": {},
   "outputs": [
    {
     "data": {
      "text/plain": [
       "(array([1, 5], dtype=int64),)"
      ]
     },
     "execution_count": 108,
     "metadata": {},
     "output_type": "execute_result"
    }
   ],
   "source": [
    "t5 = np.where(~df1['Passport'].duplicated(keep=False))\n",
    "t5"
   ]
  },
  {
   "cell_type": "code",
   "execution_count": 114,
   "id": "6153d9e8-b1ff-4091-802f-635f86f45174",
   "metadata": {},
   "outputs": [
    {
     "data": {
      "text/html": [
       "<div>\n",
       "<style scoped>\n",
       "    .dataframe tbody tr th:only-of-type {\n",
       "        vertical-align: middle;\n",
       "    }\n",
       "\n",
       "    .dataframe tbody tr th {\n",
       "        vertical-align: top;\n",
       "    }\n",
       "\n",
       "    .dataframe thead th {\n",
       "        text-align: right;\n",
       "    }\n",
       "</style>\n",
       "<table border=\"1\" class=\"dataframe\">\n",
       "  <thead>\n",
       "    <tr style=\"text-align: right;\">\n",
       "      <th></th>\n",
       "      <th>Name</th>\n",
       "      <th>EmpID</th>\n",
       "      <th>Deptt</th>\n",
       "      <th>Passport</th>\n",
       "    </tr>\n",
       "  </thead>\n",
       "  <tbody>\n",
       "    <tr>\n",
       "      <th>0</th>\n",
       "      <td>Sudeep</td>\n",
       "      <td>A342</td>\n",
       "      <td>Quality</td>\n",
       "      <td>DF453278</td>\n",
       "    </tr>\n",
       "    <tr>\n",
       "      <th>2</th>\n",
       "      <td>NaN</td>\n",
       "      <td>J436</td>\n",
       "      <td>Admin</td>\n",
       "      <td>DF453278</td>\n",
       "    </tr>\n",
       "    <tr>\n",
       "      <th>3</th>\n",
       "      <td>Arjun</td>\n",
       "      <td>A342</td>\n",
       "      <td>NaN</td>\n",
       "      <td>RF453432</td>\n",
       "    </tr>\n",
       "    <tr>\n",
       "      <th>4</th>\n",
       "      <td>Rishi</td>\n",
       "      <td>R475</td>\n",
       "      <td>Prodn</td>\n",
       "      <td>DF453278</td>\n",
       "    </tr>\n",
       "    <tr>\n",
       "      <th>6</th>\n",
       "      <td>Deepak</td>\n",
       "      <td>NaN</td>\n",
       "      <td>Quality</td>\n",
       "      <td>RF453432</td>\n",
       "    </tr>\n",
       "  </tbody>\n",
       "</table>\n",
       "</div>"
      ],
      "text/plain": [
       "     Name EmpID    Deptt  Passport\n",
       "0  Sudeep  A342  Quality  DF453278\n",
       "2     NaN  J436    Admin  DF453278\n",
       "3   Arjun  A342      NaN  RF453432\n",
       "4   Rishi  R475    Prodn  DF453278\n",
       "6  Deepak   NaN  Quality  RF453432"
      ]
     },
     "execution_count": 114,
     "metadata": {},
     "output_type": "execute_result"
    }
   ],
   "source": [
    "df1.iloc[t4[0]]"
   ]
  },
  {
   "cell_type": "code",
   "execution_count": 115,
   "id": "e1df10e3-2739-4029-b6f1-55da4a4c7ab1",
   "metadata": {},
   "outputs": [
    {
     "data": {
      "text/html": [
       "<div>\n",
       "<style scoped>\n",
       "    .dataframe tbody tr th:only-of-type {\n",
       "        vertical-align: middle;\n",
       "    }\n",
       "\n",
       "    .dataframe tbody tr th {\n",
       "        vertical-align: top;\n",
       "    }\n",
       "\n",
       "    .dataframe thead th {\n",
       "        text-align: right;\n",
       "    }\n",
       "</style>\n",
       "<table border=\"1\" class=\"dataframe\">\n",
       "  <thead>\n",
       "    <tr style=\"text-align: right;\">\n",
       "      <th></th>\n",
       "      <th>Name</th>\n",
       "      <th>EmpID</th>\n",
       "      <th>Deptt</th>\n",
       "      <th>Passport</th>\n",
       "    </tr>\n",
       "  </thead>\n",
       "  <tbody>\n",
       "    <tr>\n",
       "      <th>1</th>\n",
       "      <td>Ruchika</td>\n",
       "      <td>C578</td>\n",
       "      <td>Sales</td>\n",
       "      <td>CA567657</td>\n",
       "    </tr>\n",
       "    <tr>\n",
       "      <th>5</th>\n",
       "      <td>Chetan</td>\n",
       "      <td>NaN</td>\n",
       "      <td>NaN</td>\n",
       "      <td>ER534867</td>\n",
       "    </tr>\n",
       "  </tbody>\n",
       "</table>\n",
       "</div>"
      ],
      "text/plain": [
       "      Name EmpID  Deptt  Passport\n",
       "1  Ruchika  C578  Sales  CA567657\n",
       "5   Chetan   NaN    NaN  ER534867"
      ]
     },
     "execution_count": 115,
     "metadata": {},
     "output_type": "execute_result"
    }
   ],
   "source": [
    "df1.iloc[t5]"
   ]
  },
  {
   "cell_type": "markdown",
   "id": "7ad139d0-ecdb-4c75-961a-85466eb25fa9",
   "metadata": {},
   "source": [
    "## data validation ensure that data follows certain contraints \n"
   ]
  },
  {
   "cell_type": "code",
   "execution_count": 116,
   "id": "bb24a301-2b92-4e29-8bc1-67e92331850e",
   "metadata": {},
   "outputs": [
    {
     "ename": "SyntaxError",
     "evalue": "invalid syntax (610349507.py, line 1)",
     "output_type": "error",
     "traceback": [
      "\u001b[1;36m  Cell \u001b[1;32mIn[116], line 1\u001b[1;36m\u001b[0m\n\u001b[1;33m    values where quantity less than 50 and greater than 100\u001b[0m\n\u001b[1;37m           ^\u001b[0m\n\u001b[1;31mSyntaxError\u001b[0m\u001b[1;31m:\u001b[0m invalid syntax\n"
     ]
    }
   ],
   "source": [
    "##values where quantity less than 50 and greater than 100"
   ]
  },
  {
   "cell_type": "code",
   "execution_count": 117,
   "id": "03cc5c5b-9c86-47fc-8d32-c7a26d5a7eb6",
   "metadata": {},
   "outputs": [],
   "source": [
    "erp = pd.read_excel(\"CDAC_DataBook.xlsx\",sheet_name=\"ERPData\")\n"
   ]
  },
  {
   "cell_type": "code",
   "execution_count": 136,
   "id": "adca2876-8cae-4dd9-a593-b15390bdac5f",
   "metadata": {},
   "outputs": [],
   "source": [
    "t6= np.where((df.Quantity<=50)|(df.Quantity>=100))\n",
    "derp1 = df.iloc[t6]"
   ]
  },
  {
   "cell_type": "code",
   "execution_count": 137,
   "id": "102049ec-7cb4-4465-a33e-6ae4adf132a9",
   "metadata": {},
   "outputs": [
    {
     "data": {
      "text/plain": [
       "30"
      ]
     },
     "execution_count": 137,
     "metadata": {},
     "output_type": "execute_result"
    }
   ],
   "source": [
    "len(t6[0])"
   ]
  },
  {
   "cell_type": "markdown",
   "id": "02327a5c-8c8d-4aaf-9a8f-cfd5b1c9a5c9",
   "metadata": {},
   "source": [
    "## group bys\n"
   ]
  },
  {
   "cell_type": "code",
   "execution_count": 209,
   "id": "b27dbf3f-e652-4147-af50-a9a846d33267",
   "metadata": {},
   "outputs": [
    {
     "data": {
      "text/plain": [
       "{'MWH-1': [1, 9, 10, 24, 25, 26, 39, 40, 41, 48, 49], 'MWH-2': [2, 7, 8, 15, 35, 36, 42, 45, 46], 'MWH-3': [14, 43, 44, 47], 'MWH-4': [0, 4, 5, 6, 11, 12, 13, 18, 19, 20, 21, 22, 30, 31, 32], 'MWH-5': [3, 16, 17, 23, 27, 28, 29, 33, 34, 37, 38]}"
      ]
     },
     "execution_count": 209,
     "metadata": {},
     "output_type": "execute_result"
    }
   ],
   "source": [
    "testgrp = df.groupby(['Location'])\n",
    "testgrp.groups"
   ]
  },
  {
   "cell_type": "code",
   "execution_count": 151,
   "id": "b2729c3d-d9da-4760-bf11-537273865524",
   "metadata": {},
   "outputs": [
    {
     "data": {
      "text/plain": [
       "<pandas.core.groupby.generic.DataFrameGroupBy object at 0x0000011E3BBE82F0>"
      ]
     },
     "execution_count": 151,
     "metadata": {},
     "output_type": "execute_result"
    }
   ],
   "source": [
    "grp1 = df.groupby('Location')\n",
    "grp1"
   ]
  },
  {
   "cell_type": "code",
   "execution_count": 152,
   "id": "297154a3-6221-42ea-b41b-b61aeeb5a937",
   "metadata": {},
   "outputs": [
    {
     "data": {
      "text/plain": [
       "{'MWH-1': [1, 9, 10, 24, 25, 26, 39, 40, 41, 48, 49], 'MWH-2': [2, 7, 8, 15, 35, 36, 42, 45, 46], 'MWH-3': [14, 43, 44, 47], 'MWH-4': [0, 4, 5, 6, 11, 12, 13, 18, 19, 20, 21, 22, 30, 31, 32], 'MWH-5': [3, 16, 17, 23, 27, 28, 29, 33, 34, 37, 38]}"
      ]
     },
     "execution_count": 152,
     "metadata": {},
     "output_type": "execute_result"
    }
   ],
   "source": [
    "grp1.groups"
   ]
  },
  {
   "cell_type": "code",
   "execution_count": 173,
   "id": "b2739ee0-f67b-4246-8b93-0388fa80c4b8",
   "metadata": {},
   "outputs": [
    {
     "name": "stdout",
     "output_type": "stream",
     "text": [
      "MWH-1\n",
      "   MaterialID Location  Quantity\n",
      "1     AXCP-78    MWH-1        67\n",
      "9     TMI-43T    MWH-1       120\n",
      "10    SDRT-67    MWH-1        34\n",
      "24    AXCP-78    MWH-1       152\n",
      "25    AXCP-78    MWH-1       109\n",
      "26    DDBN-89    MWH-1        57\n",
      "39    AXCP-78    MWH-1       145\n",
      "40    DDBN-89    MWH-1        34\n",
      "41    SDRT-67    MWH-1        57\n",
      "48    AXCP-78    MWH-1        75\n",
      "49    DDBN-89    MWH-1        39\n",
      "MWH-2\n",
      "   MaterialID Location  Quantity\n",
      "2     LXCV-21    MWH-2        27\n",
      "7     TMI-43T    MWH-2        29\n",
      "8     GCVB-79    MWH-2        10\n",
      "15    GCVB-79    MWH-2        87\n",
      "35    GCVB-79    MWH-2        31\n",
      "36    GCVB-79    MWH-2        28\n",
      "42    SDRT-67    MWH-2        31\n",
      "45    DDBN-89    MWH-2        69\n",
      "46    AXCP-78    MWH-2        85\n",
      "MWH-3\n",
      "   MaterialID Location  Quantity\n",
      "14    TMI-43T    MWH-3        65\n",
      "43    DDBN-89    MWH-3        38\n",
      "44    LXCV-21    MWH-3        42\n",
      "47    AXCP-78    MWH-3        29\n",
      "MWH-4\n",
      "   MaterialID Location  Quantity\n",
      "0     TMI-43T    MWH-4        34\n",
      "4     AXCP-78    MWH-4        36\n",
      "5     TMI-43T    MWH-4        78\n",
      "6     TMI-43T    MWH-4        31\n",
      "11    SDRT-67    MWH-4        58\n",
      "12    TMI-43T    MWH-4        76\n",
      "13    TMI-43T    MWH-4        32\n",
      "18    TMI-43T    MWH-4        34\n",
      "19    TMI-43T    MWH-4        52\n",
      "20    TMI-43T    MWH-4        39\n",
      "21    TMI-43T    MWH-4        75\n",
      "22    DDBN-89    MWH-4        48\n",
      "30    DDBN-89    MWH-4        27\n",
      "31    TMI-43T    MWH-4        65\n",
      "32    TMI-43T    MWH-4        43\n",
      "MWH-5\n",
      "   MaterialID Location  Quantity\n",
      "3     AXCP-78    MWH-5        65\n",
      "16    SDRT-67    MWH-5        12\n",
      "17    SDRT-67    MWH-5       102\n",
      "23    DDBN-89    MWH-5        71\n",
      "27    LXCV-21    MWH-5        83\n",
      "28    LXCV-21    MWH-5        34\n",
      "29    LXCV-21    MWH-5        57\n",
      "33    TMI-43T    MWH-5       112\n",
      "34    GCVB-79    MWH-5        26\n",
      "37    AXCP-78    MWH-5        65\n",
      "38    AXCP-78    MWH-5        70\n"
     ]
    }
   ],
   "source": [
    "for p1,p2 in grp1:\n",
    "    print(p1)\n",
    "    print(p2)"
   ]
  },
  {
   "cell_type": "code",
   "execution_count": 183,
   "id": "422c4430-c2e8-45f3-827b-120619557ff6",
   "metadata": {},
   "outputs": [
    {
     "data": {
      "text/html": [
       "<div>\n",
       "<style scoped>\n",
       "    .dataframe tbody tr th:only-of-type {\n",
       "        vertical-align: middle;\n",
       "    }\n",
       "\n",
       "    .dataframe tbody tr th {\n",
       "        vertical-align: top;\n",
       "    }\n",
       "\n",
       "    .dataframe thead th {\n",
       "        text-align: right;\n",
       "    }\n",
       "</style>\n",
       "<table border=\"1\" class=\"dataframe\">\n",
       "  <thead>\n",
       "    <tr style=\"text-align: right;\">\n",
       "      <th></th>\n",
       "      <th>MaterialID</th>\n",
       "      <th>Location</th>\n",
       "      <th>Quantity</th>\n",
       "    </tr>\n",
       "  </thead>\n",
       "  <tbody>\n",
       "    <tr>\n",
       "      <th>2</th>\n",
       "      <td>LXCV-21</td>\n",
       "      <td>MWH-2</td>\n",
       "      <td>27</td>\n",
       "    </tr>\n",
       "    <tr>\n",
       "      <th>7</th>\n",
       "      <td>TMI-43T</td>\n",
       "      <td>MWH-2</td>\n",
       "      <td>29</td>\n",
       "    </tr>\n",
       "    <tr>\n",
       "      <th>8</th>\n",
       "      <td>GCVB-79</td>\n",
       "      <td>MWH-2</td>\n",
       "      <td>10</td>\n",
       "    </tr>\n",
       "    <tr>\n",
       "      <th>15</th>\n",
       "      <td>GCVB-79</td>\n",
       "      <td>MWH-2</td>\n",
       "      <td>87</td>\n",
       "    </tr>\n",
       "    <tr>\n",
       "      <th>35</th>\n",
       "      <td>GCVB-79</td>\n",
       "      <td>MWH-2</td>\n",
       "      <td>31</td>\n",
       "    </tr>\n",
       "    <tr>\n",
       "      <th>36</th>\n",
       "      <td>GCVB-79</td>\n",
       "      <td>MWH-2</td>\n",
       "      <td>28</td>\n",
       "    </tr>\n",
       "    <tr>\n",
       "      <th>42</th>\n",
       "      <td>SDRT-67</td>\n",
       "      <td>MWH-2</td>\n",
       "      <td>31</td>\n",
       "    </tr>\n",
       "    <tr>\n",
       "      <th>45</th>\n",
       "      <td>DDBN-89</td>\n",
       "      <td>MWH-2</td>\n",
       "      <td>69</td>\n",
       "    </tr>\n",
       "    <tr>\n",
       "      <th>46</th>\n",
       "      <td>AXCP-78</td>\n",
       "      <td>MWH-2</td>\n",
       "      <td>85</td>\n",
       "    </tr>\n",
       "  </tbody>\n",
       "</table>\n",
       "</div>"
      ],
      "text/plain": [
       "   MaterialID Location  Quantity\n",
       "2     LXCV-21    MWH-2        27\n",
       "7     TMI-43T    MWH-2        29\n",
       "8     GCVB-79    MWH-2        10\n",
       "15    GCVB-79    MWH-2        87\n",
       "35    GCVB-79    MWH-2        31\n",
       "36    GCVB-79    MWH-2        28\n",
       "42    SDRT-67    MWH-2        31\n",
       "45    DDBN-89    MWH-2        69\n",
       "46    AXCP-78    MWH-2        85"
      ]
     },
     "execution_count": 183,
     "metadata": {},
     "output_type": "execute_result"
    }
   ],
   "source": [
    "grp1.get_group(\"MWH-2\")"
   ]
  },
  {
   "cell_type": "code",
   "execution_count": 188,
   "id": "49702948-46d6-4d40-a53e-14cc11e03255",
   "metadata": {},
   "outputs": [
    {
     "data": {
      "text/html": [
       "<div>\n",
       "<style scoped>\n",
       "    .dataframe tbody tr th:only-of-type {\n",
       "        vertical-align: middle;\n",
       "    }\n",
       "\n",
       "    .dataframe tbody tr th {\n",
       "        vertical-align: top;\n",
       "    }\n",
       "\n",
       "    .dataframe thead th {\n",
       "        text-align: right;\n",
       "    }\n",
       "</style>\n",
       "<table border=\"1\" class=\"dataframe\">\n",
       "  <thead>\n",
       "    <tr style=\"text-align: right;\">\n",
       "      <th></th>\n",
       "      <th>MaterialID</th>\n",
       "      <th>Quantity</th>\n",
       "    </tr>\n",
       "    <tr>\n",
       "      <th>Location</th>\n",
       "      <th></th>\n",
       "      <th></th>\n",
       "    </tr>\n",
       "  </thead>\n",
       "  <tbody>\n",
       "    <tr>\n",
       "      <th>MWH-1</th>\n",
       "      <td>11</td>\n",
       "      <td>11</td>\n",
       "    </tr>\n",
       "    <tr>\n",
       "      <th>MWH-2</th>\n",
       "      <td>9</td>\n",
       "      <td>9</td>\n",
       "    </tr>\n",
       "    <tr>\n",
       "      <th>MWH-3</th>\n",
       "      <td>4</td>\n",
       "      <td>4</td>\n",
       "    </tr>\n",
       "    <tr>\n",
       "      <th>MWH-4</th>\n",
       "      <td>15</td>\n",
       "      <td>15</td>\n",
       "    </tr>\n",
       "    <tr>\n",
       "      <th>MWH-5</th>\n",
       "      <td>11</td>\n",
       "      <td>11</td>\n",
       "    </tr>\n",
       "  </tbody>\n",
       "</table>\n",
       "</div>"
      ],
      "text/plain": [
       "          MaterialID  Quantity\n",
       "Location                      \n",
       "MWH-1             11        11\n",
       "MWH-2              9         9\n",
       "MWH-3              4         4\n",
       "MWH-4             15        15\n",
       "MWH-5             11        11"
      ]
     },
     "execution_count": 188,
     "metadata": {},
     "output_type": "execute_result"
    }
   ],
   "source": [
    "grp1.agg(np.size)"
   ]
  },
  {
   "cell_type": "code",
   "execution_count": 196,
   "id": "76f91094-b9e1-4401-90a4-7789cb6e43eb",
   "metadata": {},
   "outputs": [
    {
     "name": "stderr",
     "output_type": "stream",
     "text": [
      "C:\\Users\\dheem\\AppData\\Local\\Temp\\ipykernel_15652\\3474537928.py:1: FutureWarning: The provided callable <built-in function sum> is currently using SeriesGroupBy.sum. In a future version of pandas, the provided callable will be used directly. To keep current behavior pass the string \"sum\" instead.\n",
      "  grp1['Quantity'].agg(sum)\n"
     ]
    },
    {
     "data": {
      "text/plain": [
       "Location\n",
       "MWH-1    889\n",
       "MWH-2    397\n",
       "MWH-3    174\n",
       "MWH-4    728\n",
       "MWH-5    697\n",
       "Name: Quantity, dtype: int64"
      ]
     },
     "execution_count": 196,
     "metadata": {},
     "output_type": "execute_result"
    }
   ],
   "source": [
    "grp1['Quantity'].agg(sum)"
   ]
  },
  {
   "cell_type": "code",
   "execution_count": 202,
   "id": "fff277f2-de07-450d-8ac5-2a67f66a42e6",
   "metadata": {},
   "outputs": [
    {
     "name": "stderr",
     "output_type": "stream",
     "text": [
      "C:\\Users\\dheem\\AppData\\Local\\Temp\\ipykernel_15652\\779047664.py:1: FutureWarning: The provided callable <function sum at 0x0000011E32CC62A0> is currently using SeriesGroupBy.sum. In a future version of pandas, the provided callable will be used directly. To keep current behavior pass the string \"sum\" instead.\n",
      "  mdf = grp1['Quantity'].agg([np.sum,np.mean])\n",
      "C:\\Users\\dheem\\AppData\\Local\\Temp\\ipykernel_15652\\779047664.py:1: FutureWarning: The provided callable <function mean at 0x0000011E32CC7380> is currently using SeriesGroupBy.mean. In a future version of pandas, the provided callable will be used directly. To keep current behavior pass the string \"mean\" instead.\n",
      "  mdf = grp1['Quantity'].agg([np.sum,np.mean])\n"
     ]
    },
    {
     "data": {
      "text/html": [
       "<div>\n",
       "<style scoped>\n",
       "    .dataframe tbody tr th:only-of-type {\n",
       "        vertical-align: middle;\n",
       "    }\n",
       "\n",
       "    .dataframe tbody tr th {\n",
       "        vertical-align: top;\n",
       "    }\n",
       "\n",
       "    .dataframe thead th {\n",
       "        text-align: right;\n",
       "    }\n",
       "</style>\n",
       "<table border=\"1\" class=\"dataframe\">\n",
       "  <thead>\n",
       "    <tr style=\"text-align: right;\">\n",
       "      <th></th>\n",
       "      <th>sum</th>\n",
       "      <th>mean</th>\n",
       "    </tr>\n",
       "    <tr>\n",
       "      <th>Location</th>\n",
       "      <th></th>\n",
       "      <th></th>\n",
       "    </tr>\n",
       "  </thead>\n",
       "  <tbody>\n",
       "    <tr>\n",
       "      <th>MWH-1</th>\n",
       "      <td>889</td>\n",
       "      <td>80.818182</td>\n",
       "    </tr>\n",
       "    <tr>\n",
       "      <th>MWH-2</th>\n",
       "      <td>397</td>\n",
       "      <td>44.111111</td>\n",
       "    </tr>\n",
       "    <tr>\n",
       "      <th>MWH-3</th>\n",
       "      <td>174</td>\n",
       "      <td>43.500000</td>\n",
       "    </tr>\n",
       "    <tr>\n",
       "      <th>MWH-4</th>\n",
       "      <td>728</td>\n",
       "      <td>48.533333</td>\n",
       "    </tr>\n",
       "    <tr>\n",
       "      <th>MWH-5</th>\n",
       "      <td>697</td>\n",
       "      <td>63.363636</td>\n",
       "    </tr>\n",
       "  </tbody>\n",
       "</table>\n",
       "</div>"
      ],
      "text/plain": [
       "          sum       mean\n",
       "Location                \n",
       "MWH-1     889  80.818182\n",
       "MWH-2     397  44.111111\n",
       "MWH-3     174  43.500000\n",
       "MWH-4     728  48.533333\n",
       "MWH-5     697  63.363636"
      ]
     },
     "execution_count": 202,
     "metadata": {},
     "output_type": "execute_result"
    }
   ],
   "source": [
    "mdf = grp1['Quantity'].agg([np.sum,np.mean])\n",
    "mdf"
   ]
  },
  {
   "cell_type": "code",
   "execution_count": 203,
   "id": "0d533258-88c5-41c6-825d-a1187b91cf9d",
   "metadata": {},
   "outputs": [
    {
     "data": {
      "text/html": [
       "<div>\n",
       "<style scoped>\n",
       "    .dataframe tbody tr th:only-of-type {\n",
       "        vertical-align: middle;\n",
       "    }\n",
       "\n",
       "    .dataframe tbody tr th {\n",
       "        vertical-align: top;\n",
       "    }\n",
       "\n",
       "    .dataframe thead th {\n",
       "        text-align: right;\n",
       "    }\n",
       "</style>\n",
       "<table border=\"1\" class=\"dataframe\">\n",
       "  <thead>\n",
       "    <tr style=\"text-align: right;\">\n",
       "      <th></th>\n",
       "      <th>sum</th>\n",
       "      <th>mean</th>\n",
       "    </tr>\n",
       "    <tr>\n",
       "      <th>Location</th>\n",
       "      <th></th>\n",
       "      <th></th>\n",
       "    </tr>\n",
       "  </thead>\n",
       "  <tbody>\n",
       "    <tr>\n",
       "      <th>MWH-4</th>\n",
       "      <td>728</td>\n",
       "      <td>48.533333</td>\n",
       "    </tr>\n",
       "  </tbody>\n",
       "</table>\n",
       "</div>"
      ],
      "text/plain": [
       "          sum       mean\n",
       "Location                \n",
       "MWH-4     728  48.533333"
      ]
     },
     "execution_count": 203,
     "metadata": {},
     "output_type": "execute_result"
    }
   ],
   "source": [
    "mdf.iloc[np.where(mdf.index==\"MWH-4\")]"
   ]
  },
  {
   "cell_type": "code",
   "execution_count": 204,
   "id": "57dac7fa-edb9-4224-bbb7-4dab8b8fb2d5",
   "metadata": {},
   "outputs": [
    {
     "data": {
      "text/plain": [
       "{('MWH-1', 'AXCP-78'): [1, 24, 25, 39, 48], ('MWH-1', 'DDBN-89'): [26, 40, 49], ('MWH-1', 'SDRT-67'): [10, 41], ('MWH-1', 'TMI-43T'): [9], ('MWH-2', 'AXCP-78'): [46], ('MWH-2', 'DDBN-89'): [45], ('MWH-2', 'GCVB-79'): [8, 15, 35, 36], ('MWH-2', 'LXCV-21'): [2], ('MWH-2', 'SDRT-67'): [42], ('MWH-2', 'TMI-43T'): [7], ('MWH-3', 'AXCP-78'): [47], ('MWH-3', 'DDBN-89'): [43], ('MWH-3', 'LXCV-21'): [44], ('MWH-3', 'TMI-43T'): [14], ('MWH-4', 'AXCP-78'): [4], ('MWH-4', 'DDBN-89'): [22, 30], ('MWH-4', 'SDRT-67'): [11], ('MWH-4', 'TMI-43T'): [0, 5, 6, 12, 13, 18, 19, 20, 21, 31, 32], ('MWH-5', 'AXCP-78'): [3, 37, 38], ('MWH-5', 'DDBN-89'): [23], ('MWH-5', 'GCVB-79'): [34], ('MWH-5', 'LXCV-21'): [27, 28, 29], ('MWH-5', 'SDRT-67'): [16, 17], ('MWH-5', 'TMI-43T'): [33]}"
      ]
     },
     "execution_count": 204,
     "metadata": {},
     "output_type": "execute_result"
    }
   ],
   "source": [
    "grp2 = df.groupby(['Location','MaterialID'])\n",
    "grp2.groups"
   ]
  },
  {
   "cell_type": "code",
   "execution_count": 210,
   "id": "baf47a53-2570-4ccb-94b9-f86c137b0495",
   "metadata": {},
   "outputs": [
    {
     "data": {
      "text/plain": [
       "{('AXCP-78', 'MWH-1'): [1, 24, 25, 39, 48], ('AXCP-78', 'MWH-2'): [46], ('AXCP-78', 'MWH-3'): [47], ('AXCP-78', 'MWH-4'): [4], ('AXCP-78', 'MWH-5'): [3, 37, 38], ('DDBN-89', 'MWH-1'): [26, 40, 49], ('DDBN-89', 'MWH-2'): [45], ('DDBN-89', 'MWH-3'): [43], ('DDBN-89', 'MWH-4'): [22, 30], ('DDBN-89', 'MWH-5'): [23], ('GCVB-79', 'MWH-2'): [8, 15, 35, 36], ('GCVB-79', 'MWH-5'): [34], ('LXCV-21', 'MWH-2'): [2], ('LXCV-21', 'MWH-3'): [44], ('LXCV-21', 'MWH-5'): [27, 28, 29], ('SDRT-67', 'MWH-1'): [10, 41], ('SDRT-67', 'MWH-2'): [42], ('SDRT-67', 'MWH-4'): [11], ('SDRT-67', 'MWH-5'): [16, 17], ('TMI-43T', 'MWH-1'): [9], ('TMI-43T', 'MWH-2'): [7], ('TMI-43T', 'MWH-3'): [14], ('TMI-43T', 'MWH-4'): [0, 5, 6, 12, 13, 18, 19, 20, 21, 31, 32], ('TMI-43T', 'MWH-5'): [33]}"
      ]
     },
     "execution_count": 210,
     "metadata": {},
     "output_type": "execute_result"
    }
   ],
   "source": [
    "grp3 = df.groupby(['MaterialID','Location'])\n",
    "grp3.groups"
   ]
  },
  {
   "cell_type": "code",
   "execution_count": 213,
   "id": "7b55e157-c848-4d64-8fad-27d26b18525b",
   "metadata": {},
   "outputs": [
    {
     "name": "stderr",
     "output_type": "stream",
     "text": [
      "C:\\Users\\dheem\\AppData\\Local\\Temp\\ipykernel_15652\\481331680.py:1: FutureWarning: The provided callable <function sum at 0x0000011E32CC62A0> is currently using DataFrameGroupBy.sum. In a future version of pandas, the provided callable will be used directly. To keep current behavior pass the string \"sum\" instead.\n",
      "  grp2.agg(np.sum)\n"
     ]
    },
    {
     "data": {
      "text/html": [
       "<div>\n",
       "<style scoped>\n",
       "    .dataframe tbody tr th:only-of-type {\n",
       "        vertical-align: middle;\n",
       "    }\n",
       "\n",
       "    .dataframe tbody tr th {\n",
       "        vertical-align: top;\n",
       "    }\n",
       "\n",
       "    .dataframe thead th {\n",
       "        text-align: right;\n",
       "    }\n",
       "</style>\n",
       "<table border=\"1\" class=\"dataframe\">\n",
       "  <thead>\n",
       "    <tr style=\"text-align: right;\">\n",
       "      <th></th>\n",
       "      <th></th>\n",
       "      <th>Quantity</th>\n",
       "    </tr>\n",
       "    <tr>\n",
       "      <th>Location</th>\n",
       "      <th>MaterialID</th>\n",
       "      <th></th>\n",
       "    </tr>\n",
       "  </thead>\n",
       "  <tbody>\n",
       "    <tr>\n",
       "      <th rowspan=\"4\" valign=\"top\">MWH-1</th>\n",
       "      <th>AXCP-78</th>\n",
       "      <td>548</td>\n",
       "    </tr>\n",
       "    <tr>\n",
       "      <th>DDBN-89</th>\n",
       "      <td>130</td>\n",
       "    </tr>\n",
       "    <tr>\n",
       "      <th>SDRT-67</th>\n",
       "      <td>91</td>\n",
       "    </tr>\n",
       "    <tr>\n",
       "      <th>TMI-43T</th>\n",
       "      <td>120</td>\n",
       "    </tr>\n",
       "    <tr>\n",
       "      <th rowspan=\"6\" valign=\"top\">MWH-2</th>\n",
       "      <th>AXCP-78</th>\n",
       "      <td>85</td>\n",
       "    </tr>\n",
       "    <tr>\n",
       "      <th>DDBN-89</th>\n",
       "      <td>69</td>\n",
       "    </tr>\n",
       "    <tr>\n",
       "      <th>GCVB-79</th>\n",
       "      <td>156</td>\n",
       "    </tr>\n",
       "    <tr>\n",
       "      <th>LXCV-21</th>\n",
       "      <td>27</td>\n",
       "    </tr>\n",
       "    <tr>\n",
       "      <th>SDRT-67</th>\n",
       "      <td>31</td>\n",
       "    </tr>\n",
       "    <tr>\n",
       "      <th>TMI-43T</th>\n",
       "      <td>29</td>\n",
       "    </tr>\n",
       "    <tr>\n",
       "      <th rowspan=\"4\" valign=\"top\">MWH-3</th>\n",
       "      <th>AXCP-78</th>\n",
       "      <td>29</td>\n",
       "    </tr>\n",
       "    <tr>\n",
       "      <th>DDBN-89</th>\n",
       "      <td>38</td>\n",
       "    </tr>\n",
       "    <tr>\n",
       "      <th>LXCV-21</th>\n",
       "      <td>42</td>\n",
       "    </tr>\n",
       "    <tr>\n",
       "      <th>TMI-43T</th>\n",
       "      <td>65</td>\n",
       "    </tr>\n",
       "    <tr>\n",
       "      <th rowspan=\"4\" valign=\"top\">MWH-4</th>\n",
       "      <th>AXCP-78</th>\n",
       "      <td>36</td>\n",
       "    </tr>\n",
       "    <tr>\n",
       "      <th>DDBN-89</th>\n",
       "      <td>75</td>\n",
       "    </tr>\n",
       "    <tr>\n",
       "      <th>SDRT-67</th>\n",
       "      <td>58</td>\n",
       "    </tr>\n",
       "    <tr>\n",
       "      <th>TMI-43T</th>\n",
       "      <td>559</td>\n",
       "    </tr>\n",
       "    <tr>\n",
       "      <th rowspan=\"6\" valign=\"top\">MWH-5</th>\n",
       "      <th>AXCP-78</th>\n",
       "      <td>200</td>\n",
       "    </tr>\n",
       "    <tr>\n",
       "      <th>DDBN-89</th>\n",
       "      <td>71</td>\n",
       "    </tr>\n",
       "    <tr>\n",
       "      <th>GCVB-79</th>\n",
       "      <td>26</td>\n",
       "    </tr>\n",
       "    <tr>\n",
       "      <th>LXCV-21</th>\n",
       "      <td>174</td>\n",
       "    </tr>\n",
       "    <tr>\n",
       "      <th>SDRT-67</th>\n",
       "      <td>114</td>\n",
       "    </tr>\n",
       "    <tr>\n",
       "      <th>TMI-43T</th>\n",
       "      <td>112</td>\n",
       "    </tr>\n",
       "  </tbody>\n",
       "</table>\n",
       "</div>"
      ],
      "text/plain": [
       "                     Quantity\n",
       "Location MaterialID          \n",
       "MWH-1    AXCP-78          548\n",
       "         DDBN-89          130\n",
       "         SDRT-67           91\n",
       "         TMI-43T          120\n",
       "MWH-2    AXCP-78           85\n",
       "         DDBN-89           69\n",
       "         GCVB-79          156\n",
       "         LXCV-21           27\n",
       "         SDRT-67           31\n",
       "         TMI-43T           29\n",
       "MWH-3    AXCP-78           29\n",
       "         DDBN-89           38\n",
       "         LXCV-21           42\n",
       "         TMI-43T           65\n",
       "MWH-4    AXCP-78           36\n",
       "         DDBN-89           75\n",
       "         SDRT-67           58\n",
       "         TMI-43T          559\n",
       "MWH-5    AXCP-78          200\n",
       "         DDBN-89           71\n",
       "         GCVB-79           26\n",
       "         LXCV-21          174\n",
       "         SDRT-67          114\n",
       "         TMI-43T          112"
      ]
     },
     "execution_count": 213,
     "metadata": {},
     "output_type": "execute_result"
    }
   ],
   "source": [
    "grp2.agg(np.sum)"
   ]
  },
  {
   "cell_type": "markdown",
   "id": "ee52e22b-4fdf-402a-aa23-148718c4032a",
   "metadata": {},
   "source": [
    "# Merging DF's"
   ]
  },
  {
   "cell_type": "code",
   "execution_count": 215,
   "id": "42e4ad50-4dfe-4dd4-b653-b40b2f67976f",
   "metadata": {},
   "outputs": [],
   "source": [
    "df1 = pd.read_excel(\"PandasExamples.xlsx\",sheet_name=\"Pune\")\n",
    "df2 = pd.read_excel(\"PandasExamples.xlsx\",sheet_name=\"Mumbai\")"
   ]
  },
  {
   "cell_type": "code",
   "execution_count": 216,
   "id": "6d2a1457-3c26-4ce2-9a2b-94fe5c455b40",
   "metadata": {},
   "outputs": [
    {
     "data": {
      "text/html": [
       "<div>\n",
       "<style scoped>\n",
       "    .dataframe tbody tr th:only-of-type {\n",
       "        vertical-align: middle;\n",
       "    }\n",
       "\n",
       "    .dataframe tbody tr th {\n",
       "        vertical-align: top;\n",
       "    }\n",
       "\n",
       "    .dataframe thead th {\n",
       "        text-align: right;\n",
       "    }\n",
       "</style>\n",
       "<table border=\"1\" class=\"dataframe\">\n",
       "  <thead>\n",
       "    <tr style=\"text-align: right;\">\n",
       "      <th></th>\n",
       "      <th>Name</th>\n",
       "      <th>Subject</th>\n",
       "      <th>Grade</th>\n",
       "    </tr>\n",
       "  </thead>\n",
       "  <tbody>\n",
       "    <tr>\n",
       "      <th>0</th>\n",
       "      <td>Rakesh</td>\n",
       "      <td>Python</td>\n",
       "      <td>A</td>\n",
       "    </tr>\n",
       "    <tr>\n",
       "      <th>1</th>\n",
       "      <td>Manoj</td>\n",
       "      <td>MLPython</td>\n",
       "      <td>C</td>\n",
       "    </tr>\n",
       "    <tr>\n",
       "      <th>2</th>\n",
       "      <td>Vaibhav</td>\n",
       "      <td>Statistics</td>\n",
       "      <td>B</td>\n",
       "    </tr>\n",
       "    <tr>\n",
       "      <th>3</th>\n",
       "      <td>Hitesh</td>\n",
       "      <td>CommSkills</td>\n",
       "      <td>A</td>\n",
       "    </tr>\n",
       "    <tr>\n",
       "      <th>4</th>\n",
       "      <td>Suyash</td>\n",
       "      <td>ProjectMgmt</td>\n",
       "      <td>B</td>\n",
       "    </tr>\n",
       "  </tbody>\n",
       "</table>\n",
       "</div>"
      ],
      "text/plain": [
       "      Name      Subject Grade\n",
       "0   Rakesh       Python     A\n",
       "1    Manoj     MLPython     C\n",
       "2  Vaibhav   Statistics     B\n",
       "3   Hitesh   CommSkills     A\n",
       "4   Suyash  ProjectMgmt     B"
      ]
     },
     "execution_count": 216,
     "metadata": {},
     "output_type": "execute_result"
    }
   ],
   "source": [
    "df1"
   ]
  },
  {
   "cell_type": "code",
   "execution_count": 217,
   "id": "d7724661-463f-4e4e-8c32-5f9e75eb8445",
   "metadata": {},
   "outputs": [
    {
     "data": {
      "text/html": [
       "<div>\n",
       "<style scoped>\n",
       "    .dataframe tbody tr th:only-of-type {\n",
       "        vertical-align: middle;\n",
       "    }\n",
       "\n",
       "    .dataframe tbody tr th {\n",
       "        vertical-align: top;\n",
       "    }\n",
       "\n",
       "    .dataframe thead th {\n",
       "        text-align: right;\n",
       "    }\n",
       "</style>\n",
       "<table border=\"1\" class=\"dataframe\">\n",
       "  <thead>\n",
       "    <tr style=\"text-align: right;\">\n",
       "      <th></th>\n",
       "      <th>Name</th>\n",
       "      <th>Subject</th>\n",
       "      <th>Grade</th>\n",
       "    </tr>\n",
       "  </thead>\n",
       "  <tbody>\n",
       "    <tr>\n",
       "      <th>0</th>\n",
       "      <td>Vaibhav</td>\n",
       "      <td>Six Sigma</td>\n",
       "      <td>A</td>\n",
       "    </tr>\n",
       "    <tr>\n",
       "      <th>1</th>\n",
       "      <td>Deepika</td>\n",
       "      <td>Statistics</td>\n",
       "      <td>B</td>\n",
       "    </tr>\n",
       "    <tr>\n",
       "      <th>2</th>\n",
       "      <td>Arjun</td>\n",
       "      <td>CommSkills</td>\n",
       "      <td>A</td>\n",
       "    </tr>\n",
       "    <tr>\n",
       "      <th>3</th>\n",
       "      <td>Chetan</td>\n",
       "      <td>Python</td>\n",
       "      <td>A</td>\n",
       "    </tr>\n",
       "    <tr>\n",
       "      <th>4</th>\n",
       "      <td>Abhishek</td>\n",
       "      <td>MLPython</td>\n",
       "      <td>B</td>\n",
       "    </tr>\n",
       "  </tbody>\n",
       "</table>\n",
       "</div>"
      ],
      "text/plain": [
       "       Name     Subject Grade\n",
       "0   Vaibhav   Six Sigma     A\n",
       "1   Deepika  Statistics     B\n",
       "2     Arjun  CommSkills     A\n",
       "3    Chetan      Python     A\n",
       "4  Abhishek    MLPython     B"
      ]
     },
     "execution_count": 217,
     "metadata": {},
     "output_type": "execute_result"
    }
   ],
   "source": [
    "df2"
   ]
  },
  {
   "cell_type": "code",
   "execution_count": 230,
   "id": "d2641c2e-98bb-4c9d-8156-08ddbeb8452d",
   "metadata": {},
   "outputs": [
    {
     "data": {
      "text/html": [
       "<div>\n",
       "<style scoped>\n",
       "    .dataframe tbody tr th:only-of-type {\n",
       "        vertical-align: middle;\n",
       "    }\n",
       "\n",
       "    .dataframe tbody tr th {\n",
       "        vertical-align: top;\n",
       "    }\n",
       "\n",
       "    .dataframe thead th {\n",
       "        text-align: right;\n",
       "    }\n",
       "</style>\n",
       "<table border=\"1\" class=\"dataframe\">\n",
       "  <thead>\n",
       "    <tr style=\"text-align: right;\">\n",
       "      <th></th>\n",
       "      <th>Name_x</th>\n",
       "      <th>Subject</th>\n",
       "      <th>Grade_x</th>\n",
       "      <th>Name_y</th>\n",
       "      <th>Grade_y</th>\n",
       "    </tr>\n",
       "  </thead>\n",
       "  <tbody>\n",
       "    <tr>\n",
       "      <th>0</th>\n",
       "      <td>Hitesh</td>\n",
       "      <td>CommSkills</td>\n",
       "      <td>A</td>\n",
       "      <td>Arjun</td>\n",
       "      <td>A</td>\n",
       "    </tr>\n",
       "    <tr>\n",
       "      <th>1</th>\n",
       "      <td>Manoj</td>\n",
       "      <td>MLPython</td>\n",
       "      <td>C</td>\n",
       "      <td>Abhishek</td>\n",
       "      <td>B</td>\n",
       "    </tr>\n",
       "    <tr>\n",
       "      <th>2</th>\n",
       "      <td>Suyash</td>\n",
       "      <td>ProjectMgmt</td>\n",
       "      <td>B</td>\n",
       "      <td>NaN</td>\n",
       "      <td>NaN</td>\n",
       "    </tr>\n",
       "    <tr>\n",
       "      <th>3</th>\n",
       "      <td>Rakesh</td>\n",
       "      <td>Python</td>\n",
       "      <td>A</td>\n",
       "      <td>Chetan</td>\n",
       "      <td>A</td>\n",
       "    </tr>\n",
       "    <tr>\n",
       "      <th>4</th>\n",
       "      <td>NaN</td>\n",
       "      <td>Six Sigma</td>\n",
       "      <td>NaN</td>\n",
       "      <td>Vaibhav</td>\n",
       "      <td>A</td>\n",
       "    </tr>\n",
       "    <tr>\n",
       "      <th>5</th>\n",
       "      <td>Vaibhav</td>\n",
       "      <td>Statistics</td>\n",
       "      <td>B</td>\n",
       "      <td>Deepika</td>\n",
       "      <td>B</td>\n",
       "    </tr>\n",
       "  </tbody>\n",
       "</table>\n",
       "</div>"
      ],
      "text/plain": [
       "    Name_x      Subject Grade_x    Name_y Grade_y\n",
       "0   Hitesh   CommSkills       A     Arjun       A\n",
       "1    Manoj     MLPython       C  Abhishek       B\n",
       "2   Suyash  ProjectMgmt       B       NaN     NaN\n",
       "3   Rakesh       Python       A    Chetan       A\n",
       "4      NaN    Six Sigma     NaN   Vaibhav       A\n",
       "5  Vaibhav   Statistics       B   Deepika       B"
      ]
     },
     "execution_count": 230,
     "metadata": {},
     "output_type": "execute_result"
    }
   ],
   "source": [
    "pd.merge(df1,df2,how='outer',on='Subject') ##outer means union"
   ]
  },
  {
   "cell_type": "code",
   "execution_count": 232,
   "id": "1b6b671a-92c5-473d-a6f4-f74c99749894",
   "metadata": {},
   "outputs": [
    {
     "data": {
      "text/html": [
       "<div>\n",
       "<style scoped>\n",
       "    .dataframe tbody tr th:only-of-type {\n",
       "        vertical-align: middle;\n",
       "    }\n",
       "\n",
       "    .dataframe tbody tr th {\n",
       "        vertical-align: top;\n",
       "    }\n",
       "\n",
       "    .dataframe thead th {\n",
       "        text-align: right;\n",
       "    }\n",
       "</style>\n",
       "<table border=\"1\" class=\"dataframe\">\n",
       "  <thead>\n",
       "    <tr style=\"text-align: right;\">\n",
       "      <th></th>\n",
       "      <th>Name_x</th>\n",
       "      <th>Subject</th>\n",
       "      <th>Grade</th>\n",
       "      <th>Name_y</th>\n",
       "    </tr>\n",
       "  </thead>\n",
       "  <tbody>\n",
       "    <tr>\n",
       "      <th>0</th>\n",
       "      <td>Rakesh</td>\n",
       "      <td>Python</td>\n",
       "      <td>A</td>\n",
       "      <td>Chetan</td>\n",
       "    </tr>\n",
       "    <tr>\n",
       "      <th>1</th>\n",
       "      <td>Vaibhav</td>\n",
       "      <td>Statistics</td>\n",
       "      <td>B</td>\n",
       "      <td>Deepika</td>\n",
       "    </tr>\n",
       "    <tr>\n",
       "      <th>2</th>\n",
       "      <td>Hitesh</td>\n",
       "      <td>CommSkills</td>\n",
       "      <td>A</td>\n",
       "      <td>Arjun</td>\n",
       "    </tr>\n",
       "  </tbody>\n",
       "</table>\n",
       "</div>"
      ],
      "text/plain": [
       "    Name_x     Subject Grade   Name_y\n",
       "0   Rakesh      Python     A   Chetan\n",
       "1  Vaibhav  Statistics     B  Deepika\n",
       "2   Hitesh  CommSkills     A    Arjun"
      ]
     },
     "execution_count": 232,
     "metadata": {},
     "output_type": "execute_result"
    }
   ],
   "source": [
    "pd.merge(df1,df2,on=['Subject','Grade'],how='inner')"
   ]
  },
  {
   "cell_type": "code",
   "execution_count": 249,
   "id": "557fec0b-096e-4f07-b265-77b3a1935c5d",
   "metadata": {},
   "outputs": [
    {
     "data": {
      "text/html": [
       "<div>\n",
       "<style scoped>\n",
       "    .dataframe tbody tr th:only-of-type {\n",
       "        vertical-align: middle;\n",
       "    }\n",
       "\n",
       "    .dataframe tbody tr th {\n",
       "        vertical-align: top;\n",
       "    }\n",
       "\n",
       "    .dataframe thead th {\n",
       "        text-align: right;\n",
       "    }\n",
       "</style>\n",
       "<table border=\"1\" class=\"dataframe\">\n",
       "  <thead>\n",
       "    <tr style=\"text-align: right;\">\n",
       "      <th></th>\n",
       "      <th>Name_x</th>\n",
       "      <th>Subject</th>\n",
       "      <th>Grade</th>\n",
       "      <th>Name_y</th>\n",
       "    </tr>\n",
       "  </thead>\n",
       "  <tbody>\n",
       "    <tr>\n",
       "      <th>0</th>\n",
       "      <td>Hitesh</td>\n",
       "      <td>CommSkills</td>\n",
       "      <td>A</td>\n",
       "      <td>Arjun</td>\n",
       "    </tr>\n",
       "    <tr>\n",
       "      <th>1</th>\n",
       "      <td>NaN</td>\n",
       "      <td>MLPython</td>\n",
       "      <td>B</td>\n",
       "      <td>Abhishek</td>\n",
       "    </tr>\n",
       "    <tr>\n",
       "      <th>2</th>\n",
       "      <td>Manoj</td>\n",
       "      <td>MLPython</td>\n",
       "      <td>C</td>\n",
       "      <td>NaN</td>\n",
       "    </tr>\n",
       "    <tr>\n",
       "      <th>3</th>\n",
       "      <td>Suyash</td>\n",
       "      <td>ProjectMgmt</td>\n",
       "      <td>B</td>\n",
       "      <td>NaN</td>\n",
       "    </tr>\n",
       "    <tr>\n",
       "      <th>4</th>\n",
       "      <td>Rakesh</td>\n",
       "      <td>Python</td>\n",
       "      <td>A</td>\n",
       "      <td>Chetan</td>\n",
       "    </tr>\n",
       "    <tr>\n",
       "      <th>5</th>\n",
       "      <td>NaN</td>\n",
       "      <td>Six Sigma</td>\n",
       "      <td>A</td>\n",
       "      <td>Vaibhav</td>\n",
       "    </tr>\n",
       "    <tr>\n",
       "      <th>6</th>\n",
       "      <td>Vaibhav</td>\n",
       "      <td>Statistics</td>\n",
       "      <td>B</td>\n",
       "      <td>Deepika</td>\n",
       "    </tr>\n",
       "  </tbody>\n",
       "</table>\n",
       "</div>"
      ],
      "text/plain": [
       "    Name_x      Subject Grade    Name_y\n",
       "0   Hitesh   CommSkills     A     Arjun\n",
       "1      NaN     MLPython     B  Abhishek\n",
       "2    Manoj     MLPython     C       NaN\n",
       "3   Suyash  ProjectMgmt     B       NaN\n",
       "4   Rakesh       Python     A    Chetan\n",
       "5      NaN    Six Sigma     A   Vaibhav\n",
       "6  Vaibhav   Statistics     B   Deepika"
      ]
     },
     "execution_count": 249,
     "metadata": {},
     "output_type": "execute_result"
    }
   ],
   "source": [
    "pd.merge(df1,df2,on=['Subject','Grade'],how='outer') ##means union"
   ]
  },
  {
   "cell_type": "code",
   "execution_count": 236,
   "id": "7dedfe8d-e661-4dcc-aa3b-62bdd203aeb0",
   "metadata": {},
   "outputs": [
    {
     "data": {
      "text/html": [
       "<div>\n",
       "<style scoped>\n",
       "    .dataframe tbody tr th:only-of-type {\n",
       "        vertical-align: middle;\n",
       "    }\n",
       "\n",
       "    .dataframe tbody tr th {\n",
       "        vertical-align: top;\n",
       "    }\n",
       "\n",
       "    .dataframe thead th {\n",
       "        text-align: right;\n",
       "    }\n",
       "</style>\n",
       "<table border=\"1\" class=\"dataframe\">\n",
       "  <thead>\n",
       "    <tr style=\"text-align: right;\">\n",
       "      <th></th>\n",
       "      <th>Name_x</th>\n",
       "      <th>Subject</th>\n",
       "      <th>Grade_x</th>\n",
       "      <th>Name_y</th>\n",
       "      <th>Grade_y</th>\n",
       "    </tr>\n",
       "  </thead>\n",
       "  <tbody>\n",
       "    <tr>\n",
       "      <th>0</th>\n",
       "      <td>Hitesh</td>\n",
       "      <td>CommSkills</td>\n",
       "      <td>A</td>\n",
       "      <td>Arjun</td>\n",
       "      <td>A</td>\n",
       "    </tr>\n",
       "    <tr>\n",
       "      <th>1</th>\n",
       "      <td>Manoj</td>\n",
       "      <td>MLPython</td>\n",
       "      <td>C</td>\n",
       "      <td>Abhishek</td>\n",
       "      <td>B</td>\n",
       "    </tr>\n",
       "    <tr>\n",
       "      <th>2</th>\n",
       "      <td>Suyash</td>\n",
       "      <td>ProjectMgmt</td>\n",
       "      <td>B</td>\n",
       "      <td>NaN</td>\n",
       "      <td>NaN</td>\n",
       "    </tr>\n",
       "    <tr>\n",
       "      <th>3</th>\n",
       "      <td>Rakesh</td>\n",
       "      <td>Python</td>\n",
       "      <td>A</td>\n",
       "      <td>Chetan</td>\n",
       "      <td>A</td>\n",
       "    </tr>\n",
       "    <tr>\n",
       "      <th>4</th>\n",
       "      <td>NaN</td>\n",
       "      <td>Six Sigma</td>\n",
       "      <td>NaN</td>\n",
       "      <td>Vaibhav</td>\n",
       "      <td>A</td>\n",
       "    </tr>\n",
       "    <tr>\n",
       "      <th>5</th>\n",
       "      <td>Vaibhav</td>\n",
       "      <td>Statistics</td>\n",
       "      <td>B</td>\n",
       "      <td>Deepika</td>\n",
       "      <td>B</td>\n",
       "    </tr>\n",
       "  </tbody>\n",
       "</table>\n",
       "</div>"
      ],
      "text/plain": [
       "    Name_x      Subject Grade_x    Name_y Grade_y\n",
       "0   Hitesh   CommSkills       A     Arjun       A\n",
       "1    Manoj     MLPython       C  Abhishek       B\n",
       "2   Suyash  ProjectMgmt       B       NaN     NaN\n",
       "3   Rakesh       Python       A    Chetan       A\n",
       "4      NaN    Six Sigma     NaN   Vaibhav       A\n",
       "5  Vaibhav   Statistics       B   Deepika       B"
      ]
     },
     "execution_count": 236,
     "metadata": {},
     "output_type": "execute_result"
    }
   ],
   "source": [
    "pd.merge(df1,df2,on=['Subject'],how='outer')"
   ]
  },
  {
   "cell_type": "code",
   "execution_count": 239,
   "id": "4d5242fe-a45c-449e-b866-970369d1ff6e",
   "metadata": {},
   "outputs": [],
   "source": [
    "dfa = pd.read_excel('PandasExamples.xlsx',sheet_name=\"Salary\")\n",
    "dfb = pd.read_excel('PandasExamples.xlsx',sheet_name=\"Deptt\")"
   ]
  },
  {
   "cell_type": "code",
   "execution_count": 240,
   "id": "6075a5c0-d4ec-4dbf-932c-ebef8d6dd0a6",
   "metadata": {},
   "outputs": [
    {
     "data": {
      "text/html": [
       "<div>\n",
       "<style scoped>\n",
       "    .dataframe tbody tr th:only-of-type {\n",
       "        vertical-align: middle;\n",
       "    }\n",
       "\n",
       "    .dataframe tbody tr th {\n",
       "        vertical-align: top;\n",
       "    }\n",
       "\n",
       "    .dataframe thead th {\n",
       "        text-align: right;\n",
       "    }\n",
       "</style>\n",
       "<table border=\"1\" class=\"dataframe\">\n",
       "  <thead>\n",
       "    <tr style=\"text-align: right;\">\n",
       "      <th></th>\n",
       "      <th>Name</th>\n",
       "      <th>EmpID</th>\n",
       "      <th>Salary</th>\n",
       "    </tr>\n",
       "  </thead>\n",
       "  <tbody>\n",
       "    <tr>\n",
       "      <th>0</th>\n",
       "      <td>Sudeep</td>\n",
       "      <td>A342</td>\n",
       "      <td>56</td>\n",
       "    </tr>\n",
       "    <tr>\n",
       "      <th>1</th>\n",
       "      <td>Deepika</td>\n",
       "      <td>J436</td>\n",
       "      <td>45</td>\n",
       "    </tr>\n",
       "    <tr>\n",
       "      <th>2</th>\n",
       "      <td>Chetan</td>\n",
       "      <td>B435</td>\n",
       "      <td>76</td>\n",
       "    </tr>\n",
       "    <tr>\n",
       "      <th>3</th>\n",
       "      <td>Abhishek</td>\n",
       "      <td>C234</td>\n",
       "      <td>47</td>\n",
       "    </tr>\n",
       "    <tr>\n",
       "      <th>4</th>\n",
       "      <td>Rishi</td>\n",
       "      <td>R475</td>\n",
       "      <td>38</td>\n",
       "    </tr>\n",
       "  </tbody>\n",
       "</table>\n",
       "</div>"
      ],
      "text/plain": [
       "       Name EmpID  Salary\n",
       "0    Sudeep  A342      56\n",
       "1   Deepika  J436      45\n",
       "2    Chetan  B435      76\n",
       "3  Abhishek  C234      47\n",
       "4     Rishi  R475      38"
      ]
     },
     "execution_count": 240,
     "metadata": {},
     "output_type": "execute_result"
    }
   ],
   "source": [
    "dfa"
   ]
  },
  {
   "cell_type": "code",
   "execution_count": 241,
   "id": "22cddda9-5e00-4c92-a34f-610085f4ccfd",
   "metadata": {},
   "outputs": [
    {
     "data": {
      "text/html": [
       "<div>\n",
       "<style scoped>\n",
       "    .dataframe tbody tr th:only-of-type {\n",
       "        vertical-align: middle;\n",
       "    }\n",
       "\n",
       "    .dataframe tbody tr th {\n",
       "        vertical-align: top;\n",
       "    }\n",
       "\n",
       "    .dataframe thead th {\n",
       "        text-align: right;\n",
       "    }\n",
       "</style>\n",
       "<table border=\"1\" class=\"dataframe\">\n",
       "  <thead>\n",
       "    <tr style=\"text-align: right;\">\n",
       "      <th></th>\n",
       "      <th>Name</th>\n",
       "      <th>EmpID</th>\n",
       "      <th>Deptt</th>\n",
       "    </tr>\n",
       "  </thead>\n",
       "  <tbody>\n",
       "    <tr>\n",
       "      <th>0</th>\n",
       "      <td>Sudeep</td>\n",
       "      <td>A342</td>\n",
       "      <td>Quality</td>\n",
       "    </tr>\n",
       "    <tr>\n",
       "      <th>1</th>\n",
       "      <td>Ruchika</td>\n",
       "      <td>C578</td>\n",
       "      <td>Sales</td>\n",
       "    </tr>\n",
       "    <tr>\n",
       "      <th>2</th>\n",
       "      <td>Deepika</td>\n",
       "      <td>J436</td>\n",
       "      <td>Admin</td>\n",
       "    </tr>\n",
       "    <tr>\n",
       "      <th>3</th>\n",
       "      <td>Arjun</td>\n",
       "      <td>A342</td>\n",
       "      <td>Procurement</td>\n",
       "    </tr>\n",
       "    <tr>\n",
       "      <th>4</th>\n",
       "      <td>Rishi</td>\n",
       "      <td>R475</td>\n",
       "      <td>Prodn</td>\n",
       "    </tr>\n",
       "  </tbody>\n",
       "</table>\n",
       "</div>"
      ],
      "text/plain": [
       "      Name EmpID        Deptt\n",
       "0   Sudeep  A342      Quality\n",
       "1  Ruchika  C578        Sales\n",
       "2  Deepika  J436        Admin\n",
       "3    Arjun  A342  Procurement\n",
       "4    Rishi  R475        Prodn"
      ]
     },
     "execution_count": 241,
     "metadata": {},
     "output_type": "execute_result"
    }
   ],
   "source": [
    "dfb"
   ]
  },
  {
   "cell_type": "code",
   "execution_count": 243,
   "id": "692dd2bb-f7e5-4a8c-aa87-2f52c5114987",
   "metadata": {},
   "outputs": [
    {
     "data": {
      "text/html": [
       "<div>\n",
       "<style scoped>\n",
       "    .dataframe tbody tr th:only-of-type {\n",
       "        vertical-align: middle;\n",
       "    }\n",
       "\n",
       "    .dataframe tbody tr th {\n",
       "        vertical-align: top;\n",
       "    }\n",
       "\n",
       "    .dataframe thead th {\n",
       "        text-align: right;\n",
       "    }\n",
       "</style>\n",
       "<table border=\"1\" class=\"dataframe\">\n",
       "  <thead>\n",
       "    <tr style=\"text-align: right;\">\n",
       "      <th></th>\n",
       "      <th>Name</th>\n",
       "      <th>EmpID</th>\n",
       "      <th>Salary</th>\n",
       "      <th>Deptt</th>\n",
       "    </tr>\n",
       "  </thead>\n",
       "  <tbody>\n",
       "    <tr>\n",
       "      <th>0</th>\n",
       "      <td>Sudeep</td>\n",
       "      <td>A342</td>\n",
       "      <td>56</td>\n",
       "      <td>Quality</td>\n",
       "    </tr>\n",
       "    <tr>\n",
       "      <th>1</th>\n",
       "      <td>Deepika</td>\n",
       "      <td>J436</td>\n",
       "      <td>45</td>\n",
       "      <td>Admin</td>\n",
       "    </tr>\n",
       "    <tr>\n",
       "      <th>2</th>\n",
       "      <td>Rishi</td>\n",
       "      <td>R475</td>\n",
       "      <td>38</td>\n",
       "      <td>Prodn</td>\n",
       "    </tr>\n",
       "  </tbody>\n",
       "</table>\n",
       "</div>"
      ],
      "text/plain": [
       "      Name EmpID  Salary    Deptt\n",
       "0   Sudeep  A342      56  Quality\n",
       "1  Deepika  J436      45    Admin\n",
       "2    Rishi  R475      38    Prodn"
      ]
     },
     "execution_count": 243,
     "metadata": {},
     "output_type": "execute_result"
    }
   ],
   "source": [
    "pd.merge(dfa,dfb) ## if we dont define on clause it will merge all the common columns having common data"
   ]
  },
  {
   "cell_type": "markdown",
   "id": "4ddeb36f-4531-4cfc-be34-da0cabdc4e73",
   "metadata": {},
   "source": [
    "# Sorting"
   ]
  },
  {
   "cell_type": "code",
   "execution_count": 250,
   "id": "e8b5fbf5-cd54-4943-9a32-8a9c3078d814",
   "metadata": {},
   "outputs": [],
   "source": [
    "df = pd.read_excel(\"CDAC_DataBook.xlsx\",sheet_name=\"ERPData\")"
   ]
  },
  {
   "cell_type": "code",
   "execution_count": 251,
   "id": "29752cc5-f86a-4c54-b7d6-19555862bc42",
   "metadata": {},
   "outputs": [
    {
     "data": {
      "text/html": [
       "<div>\n",
       "<style scoped>\n",
       "    .dataframe tbody tr th:only-of-type {\n",
       "        vertical-align: middle;\n",
       "    }\n",
       "\n",
       "    .dataframe tbody tr th {\n",
       "        vertical-align: top;\n",
       "    }\n",
       "\n",
       "    .dataframe thead th {\n",
       "        text-align: right;\n",
       "    }\n",
       "</style>\n",
       "<table border=\"1\" class=\"dataframe\">\n",
       "  <thead>\n",
       "    <tr style=\"text-align: right;\">\n",
       "      <th></th>\n",
       "      <th>MaterialID</th>\n",
       "      <th>Location</th>\n",
       "      <th>Quantity</th>\n",
       "    </tr>\n",
       "  </thead>\n",
       "  <tbody>\n",
       "    <tr>\n",
       "      <th>0</th>\n",
       "      <td>TMI-43T</td>\n",
       "      <td>MWH-4</td>\n",
       "      <td>34</td>\n",
       "    </tr>\n",
       "    <tr>\n",
       "      <th>1</th>\n",
       "      <td>AXCP-78</td>\n",
       "      <td>MWH-1</td>\n",
       "      <td>67</td>\n",
       "    </tr>\n",
       "    <tr>\n",
       "      <th>2</th>\n",
       "      <td>LXCV-21</td>\n",
       "      <td>MWH-2</td>\n",
       "      <td>27</td>\n",
       "    </tr>\n",
       "    <tr>\n",
       "      <th>3</th>\n",
       "      <td>AXCP-78</td>\n",
       "      <td>MWH-5</td>\n",
       "      <td>65</td>\n",
       "    </tr>\n",
       "    <tr>\n",
       "      <th>4</th>\n",
       "      <td>AXCP-78</td>\n",
       "      <td>MWH-4</td>\n",
       "      <td>36</td>\n",
       "    </tr>\n",
       "  </tbody>\n",
       "</table>\n",
       "</div>"
      ],
      "text/plain": [
       "  MaterialID Location  Quantity\n",
       "0    TMI-43T    MWH-4        34\n",
       "1    AXCP-78    MWH-1        67\n",
       "2    LXCV-21    MWH-2        27\n",
       "3    AXCP-78    MWH-5        65\n",
       "4    AXCP-78    MWH-4        36"
      ]
     },
     "execution_count": 251,
     "metadata": {},
     "output_type": "execute_result"
    }
   ],
   "source": [
    "df.head()"
   ]
  },
  {
   "cell_type": "code",
   "execution_count": 253,
   "id": "327be2c3-b820-4ea9-8910-1b4569e1c08e",
   "metadata": {},
   "outputs": [],
   "source": [
    "x1 = np.array([4,0,7,2,1])"
   ]
  },
  {
   "cell_type": "code",
   "execution_count": 255,
   "id": "52541445-c30c-40c1-bf05-3dc72b68fb5b",
   "metadata": {},
   "outputs": [
    {
     "data": {
      "text/plain": [
       "[0, 1, 2, 4, 7]"
      ]
     },
     "execution_count": 255,
     "metadata": {},
     "output_type": "execute_result"
    }
   ],
   "source": [
    "x2 = sorted(x1)\n",
    "x2"
   ]
  },
  {
   "cell_type": "code",
   "execution_count": 257,
   "id": "a5303c80-b00b-48dd-8e92-f90249aa916c",
   "metadata": {},
   "outputs": [
    {
     "data": {
      "text/plain": [
       "array([1, 4, 3, 0, 2], dtype=int64)"
      ]
     },
     "execution_count": 257,
     "metadata": {},
     "output_type": "execute_result"
    }
   ],
   "source": [
    "x3 = np.argsort(x1)\n",
    "x3"
   ]
  },
  {
   "cell_type": "code",
   "execution_count": 261,
   "id": "63158065-028c-49e3-8c6c-c6dac9e372f0",
   "metadata": {},
   "outputs": [],
   "source": [
    "dfs = df.sort_values(['Quantity'])"
   ]
  },
  {
   "cell_type": "code",
   "execution_count": 263,
   "id": "dd155198-5efe-467a-b8f0-6633c152469f",
   "metadata": {},
   "outputs": [
    {
     "data": {
      "text/html": [
       "<div>\n",
       "<style scoped>\n",
       "    .dataframe tbody tr th:only-of-type {\n",
       "        vertical-align: middle;\n",
       "    }\n",
       "\n",
       "    .dataframe tbody tr th {\n",
       "        vertical-align: top;\n",
       "    }\n",
       "\n",
       "    .dataframe thead th {\n",
       "        text-align: right;\n",
       "    }\n",
       "</style>\n",
       "<table border=\"1\" class=\"dataframe\">\n",
       "  <thead>\n",
       "    <tr style=\"text-align: right;\">\n",
       "      <th></th>\n",
       "      <th>MaterialID</th>\n",
       "      <th>Location</th>\n",
       "      <th>Quantity</th>\n",
       "    </tr>\n",
       "  </thead>\n",
       "  <tbody>\n",
       "    <tr>\n",
       "      <th>25</th>\n",
       "      <td>AXCP-78</td>\n",
       "      <td>MWH-1</td>\n",
       "      <td>109</td>\n",
       "    </tr>\n",
       "    <tr>\n",
       "      <th>33</th>\n",
       "      <td>TMI-43T</td>\n",
       "      <td>MWH-5</td>\n",
       "      <td>112</td>\n",
       "    </tr>\n",
       "    <tr>\n",
       "      <th>9</th>\n",
       "      <td>TMI-43T</td>\n",
       "      <td>MWH-1</td>\n",
       "      <td>120</td>\n",
       "    </tr>\n",
       "    <tr>\n",
       "      <th>39</th>\n",
       "      <td>AXCP-78</td>\n",
       "      <td>MWH-1</td>\n",
       "      <td>145</td>\n",
       "    </tr>\n",
       "    <tr>\n",
       "      <th>24</th>\n",
       "      <td>AXCP-78</td>\n",
       "      <td>MWH-1</td>\n",
       "      <td>152</td>\n",
       "    </tr>\n",
       "  </tbody>\n",
       "</table>\n",
       "</div>"
      ],
      "text/plain": [
       "   MaterialID Location  Quantity\n",
       "25    AXCP-78    MWH-1       109\n",
       "33    TMI-43T    MWH-5       112\n",
       "9     TMI-43T    MWH-1       120\n",
       "39    AXCP-78    MWH-1       145\n",
       "24    AXCP-78    MWH-1       152"
      ]
     },
     "execution_count": 263,
     "metadata": {},
     "output_type": "execute_result"
    }
   ],
   "source": [
    "dfs.tail()"
   ]
  },
  {
   "cell_type": "code",
   "execution_count": 267,
   "id": "fa4ceb16-72f3-4b05-beff-719a97b2a402",
   "metadata": {},
   "outputs": [
    {
     "data": {
      "text/html": [
       "<div>\n",
       "<style scoped>\n",
       "    .dataframe tbody tr th:only-of-type {\n",
       "        vertical-align: middle;\n",
       "    }\n",
       "\n",
       "    .dataframe tbody tr th {\n",
       "        vertical-align: top;\n",
       "    }\n",
       "\n",
       "    .dataframe thead th {\n",
       "        text-align: right;\n",
       "    }\n",
       "</style>\n",
       "<table border=\"1\" class=\"dataframe\">\n",
       "  <thead>\n",
       "    <tr style=\"text-align: right;\">\n",
       "      <th></th>\n",
       "      <th>MaterialID</th>\n",
       "      <th>Location</th>\n",
       "      <th>Quantity</th>\n",
       "    </tr>\n",
       "  </thead>\n",
       "  <tbody>\n",
       "    <tr>\n",
       "      <th>40</th>\n",
       "      <td>DDBN-89</td>\n",
       "      <td>MWH-1</td>\n",
       "      <td>34</td>\n",
       "    </tr>\n",
       "    <tr>\n",
       "      <th>10</th>\n",
       "      <td>SDRT-67</td>\n",
       "      <td>MWH-1</td>\n",
       "      <td>34</td>\n",
       "    </tr>\n",
       "    <tr>\n",
       "      <th>49</th>\n",
       "      <td>DDBN-89</td>\n",
       "      <td>MWH-1</td>\n",
       "      <td>39</td>\n",
       "    </tr>\n",
       "    <tr>\n",
       "      <th>26</th>\n",
       "      <td>DDBN-89</td>\n",
       "      <td>MWH-1</td>\n",
       "      <td>57</td>\n",
       "    </tr>\n",
       "    <tr>\n",
       "      <th>41</th>\n",
       "      <td>SDRT-67</td>\n",
       "      <td>MWH-1</td>\n",
       "      <td>57</td>\n",
       "    </tr>\n",
       "    <tr>\n",
       "      <th>1</th>\n",
       "      <td>AXCP-78</td>\n",
       "      <td>MWH-1</td>\n",
       "      <td>67</td>\n",
       "    </tr>\n",
       "    <tr>\n",
       "      <th>48</th>\n",
       "      <td>AXCP-78</td>\n",
       "      <td>MWH-1</td>\n",
       "      <td>75</td>\n",
       "    </tr>\n",
       "    <tr>\n",
       "      <th>25</th>\n",
       "      <td>AXCP-78</td>\n",
       "      <td>MWH-1</td>\n",
       "      <td>109</td>\n",
       "    </tr>\n",
       "    <tr>\n",
       "      <th>9</th>\n",
       "      <td>TMI-43T</td>\n",
       "      <td>MWH-1</td>\n",
       "      <td>120</td>\n",
       "    </tr>\n",
       "    <tr>\n",
       "      <th>39</th>\n",
       "      <td>AXCP-78</td>\n",
       "      <td>MWH-1</td>\n",
       "      <td>145</td>\n",
       "    </tr>\n",
       "    <tr>\n",
       "      <th>24</th>\n",
       "      <td>AXCP-78</td>\n",
       "      <td>MWH-1</td>\n",
       "      <td>152</td>\n",
       "    </tr>\n",
       "    <tr>\n",
       "      <th>8</th>\n",
       "      <td>GCVB-79</td>\n",
       "      <td>MWH-2</td>\n",
       "      <td>10</td>\n",
       "    </tr>\n",
       "    <tr>\n",
       "      <th>2</th>\n",
       "      <td>LXCV-21</td>\n",
       "      <td>MWH-2</td>\n",
       "      <td>27</td>\n",
       "    </tr>\n",
       "    <tr>\n",
       "      <th>36</th>\n",
       "      <td>GCVB-79</td>\n",
       "      <td>MWH-2</td>\n",
       "      <td>28</td>\n",
       "    </tr>\n",
       "    <tr>\n",
       "      <th>7</th>\n",
       "      <td>TMI-43T</td>\n",
       "      <td>MWH-2</td>\n",
       "      <td>29</td>\n",
       "    </tr>\n",
       "    <tr>\n",
       "      <th>35</th>\n",
       "      <td>GCVB-79</td>\n",
       "      <td>MWH-2</td>\n",
       "      <td>31</td>\n",
       "    </tr>\n",
       "    <tr>\n",
       "      <th>42</th>\n",
       "      <td>SDRT-67</td>\n",
       "      <td>MWH-2</td>\n",
       "      <td>31</td>\n",
       "    </tr>\n",
       "    <tr>\n",
       "      <th>45</th>\n",
       "      <td>DDBN-89</td>\n",
       "      <td>MWH-2</td>\n",
       "      <td>69</td>\n",
       "    </tr>\n",
       "    <tr>\n",
       "      <th>46</th>\n",
       "      <td>AXCP-78</td>\n",
       "      <td>MWH-2</td>\n",
       "      <td>85</td>\n",
       "    </tr>\n",
       "    <tr>\n",
       "      <th>15</th>\n",
       "      <td>GCVB-79</td>\n",
       "      <td>MWH-2</td>\n",
       "      <td>87</td>\n",
       "    </tr>\n",
       "    <tr>\n",
       "      <th>47</th>\n",
       "      <td>AXCP-78</td>\n",
       "      <td>MWH-3</td>\n",
       "      <td>29</td>\n",
       "    </tr>\n",
       "    <tr>\n",
       "      <th>43</th>\n",
       "      <td>DDBN-89</td>\n",
       "      <td>MWH-3</td>\n",
       "      <td>38</td>\n",
       "    </tr>\n",
       "    <tr>\n",
       "      <th>44</th>\n",
       "      <td>LXCV-21</td>\n",
       "      <td>MWH-3</td>\n",
       "      <td>42</td>\n",
       "    </tr>\n",
       "    <tr>\n",
       "      <th>14</th>\n",
       "      <td>TMI-43T</td>\n",
       "      <td>MWH-3</td>\n",
       "      <td>65</td>\n",
       "    </tr>\n",
       "    <tr>\n",
       "      <th>30</th>\n",
       "      <td>DDBN-89</td>\n",
       "      <td>MWH-4</td>\n",
       "      <td>27</td>\n",
       "    </tr>\n",
       "    <tr>\n",
       "      <th>6</th>\n",
       "      <td>TMI-43T</td>\n",
       "      <td>MWH-4</td>\n",
       "      <td>31</td>\n",
       "    </tr>\n",
       "    <tr>\n",
       "      <th>13</th>\n",
       "      <td>TMI-43T</td>\n",
       "      <td>MWH-4</td>\n",
       "      <td>32</td>\n",
       "    </tr>\n",
       "    <tr>\n",
       "      <th>0</th>\n",
       "      <td>TMI-43T</td>\n",
       "      <td>MWH-4</td>\n",
       "      <td>34</td>\n",
       "    </tr>\n",
       "    <tr>\n",
       "      <th>18</th>\n",
       "      <td>TMI-43T</td>\n",
       "      <td>MWH-4</td>\n",
       "      <td>34</td>\n",
       "    </tr>\n",
       "    <tr>\n",
       "      <th>4</th>\n",
       "      <td>AXCP-78</td>\n",
       "      <td>MWH-4</td>\n",
       "      <td>36</td>\n",
       "    </tr>\n",
       "    <tr>\n",
       "      <th>20</th>\n",
       "      <td>TMI-43T</td>\n",
       "      <td>MWH-4</td>\n",
       "      <td>39</td>\n",
       "    </tr>\n",
       "    <tr>\n",
       "      <th>32</th>\n",
       "      <td>TMI-43T</td>\n",
       "      <td>MWH-4</td>\n",
       "      <td>43</td>\n",
       "    </tr>\n",
       "    <tr>\n",
       "      <th>22</th>\n",
       "      <td>DDBN-89</td>\n",
       "      <td>MWH-4</td>\n",
       "      <td>48</td>\n",
       "    </tr>\n",
       "    <tr>\n",
       "      <th>19</th>\n",
       "      <td>TMI-43T</td>\n",
       "      <td>MWH-4</td>\n",
       "      <td>52</td>\n",
       "    </tr>\n",
       "    <tr>\n",
       "      <th>11</th>\n",
       "      <td>SDRT-67</td>\n",
       "      <td>MWH-4</td>\n",
       "      <td>58</td>\n",
       "    </tr>\n",
       "    <tr>\n",
       "      <th>31</th>\n",
       "      <td>TMI-43T</td>\n",
       "      <td>MWH-4</td>\n",
       "      <td>65</td>\n",
       "    </tr>\n",
       "    <tr>\n",
       "      <th>21</th>\n",
       "      <td>TMI-43T</td>\n",
       "      <td>MWH-4</td>\n",
       "      <td>75</td>\n",
       "    </tr>\n",
       "    <tr>\n",
       "      <th>12</th>\n",
       "      <td>TMI-43T</td>\n",
       "      <td>MWH-4</td>\n",
       "      <td>76</td>\n",
       "    </tr>\n",
       "    <tr>\n",
       "      <th>5</th>\n",
       "      <td>TMI-43T</td>\n",
       "      <td>MWH-4</td>\n",
       "      <td>78</td>\n",
       "    </tr>\n",
       "    <tr>\n",
       "      <th>16</th>\n",
       "      <td>SDRT-67</td>\n",
       "      <td>MWH-5</td>\n",
       "      <td>12</td>\n",
       "    </tr>\n",
       "    <tr>\n",
       "      <th>34</th>\n",
       "      <td>GCVB-79</td>\n",
       "      <td>MWH-5</td>\n",
       "      <td>26</td>\n",
       "    </tr>\n",
       "    <tr>\n",
       "      <th>28</th>\n",
       "      <td>LXCV-21</td>\n",
       "      <td>MWH-5</td>\n",
       "      <td>34</td>\n",
       "    </tr>\n",
       "    <tr>\n",
       "      <th>29</th>\n",
       "      <td>LXCV-21</td>\n",
       "      <td>MWH-5</td>\n",
       "      <td>57</td>\n",
       "    </tr>\n",
       "    <tr>\n",
       "      <th>3</th>\n",
       "      <td>AXCP-78</td>\n",
       "      <td>MWH-5</td>\n",
       "      <td>65</td>\n",
       "    </tr>\n",
       "    <tr>\n",
       "      <th>37</th>\n",
       "      <td>AXCP-78</td>\n",
       "      <td>MWH-5</td>\n",
       "      <td>65</td>\n",
       "    </tr>\n",
       "    <tr>\n",
       "      <th>38</th>\n",
       "      <td>AXCP-78</td>\n",
       "      <td>MWH-5</td>\n",
       "      <td>70</td>\n",
       "    </tr>\n",
       "    <tr>\n",
       "      <th>23</th>\n",
       "      <td>DDBN-89</td>\n",
       "      <td>MWH-5</td>\n",
       "      <td>71</td>\n",
       "    </tr>\n",
       "    <tr>\n",
       "      <th>27</th>\n",
       "      <td>LXCV-21</td>\n",
       "      <td>MWH-5</td>\n",
       "      <td>83</td>\n",
       "    </tr>\n",
       "    <tr>\n",
       "      <th>17</th>\n",
       "      <td>SDRT-67</td>\n",
       "      <td>MWH-5</td>\n",
       "      <td>102</td>\n",
       "    </tr>\n",
       "    <tr>\n",
       "      <th>33</th>\n",
       "      <td>TMI-43T</td>\n",
       "      <td>MWH-5</td>\n",
       "      <td>112</td>\n",
       "    </tr>\n",
       "  </tbody>\n",
       "</table>\n",
       "</div>"
      ],
      "text/plain": [
       "   MaterialID Location  Quantity\n",
       "40    DDBN-89    MWH-1        34\n",
       "10    SDRT-67    MWH-1        34\n",
       "49    DDBN-89    MWH-1        39\n",
       "26    DDBN-89    MWH-1        57\n",
       "41    SDRT-67    MWH-1        57\n",
       "1     AXCP-78    MWH-1        67\n",
       "48    AXCP-78    MWH-1        75\n",
       "25    AXCP-78    MWH-1       109\n",
       "9     TMI-43T    MWH-1       120\n",
       "39    AXCP-78    MWH-1       145\n",
       "24    AXCP-78    MWH-1       152\n",
       "8     GCVB-79    MWH-2        10\n",
       "2     LXCV-21    MWH-2        27\n",
       "36    GCVB-79    MWH-2        28\n",
       "7     TMI-43T    MWH-2        29\n",
       "35    GCVB-79    MWH-2        31\n",
       "42    SDRT-67    MWH-2        31\n",
       "45    DDBN-89    MWH-2        69\n",
       "46    AXCP-78    MWH-2        85\n",
       "15    GCVB-79    MWH-2        87\n",
       "47    AXCP-78    MWH-3        29\n",
       "43    DDBN-89    MWH-3        38\n",
       "44    LXCV-21    MWH-3        42\n",
       "14    TMI-43T    MWH-3        65\n",
       "30    DDBN-89    MWH-4        27\n",
       "6     TMI-43T    MWH-4        31\n",
       "13    TMI-43T    MWH-4        32\n",
       "0     TMI-43T    MWH-4        34\n",
       "18    TMI-43T    MWH-4        34\n",
       "4     AXCP-78    MWH-4        36\n",
       "20    TMI-43T    MWH-4        39\n",
       "32    TMI-43T    MWH-4        43\n",
       "22    DDBN-89    MWH-4        48\n",
       "19    TMI-43T    MWH-4        52\n",
       "11    SDRT-67    MWH-4        58\n",
       "31    TMI-43T    MWH-4        65\n",
       "21    TMI-43T    MWH-4        75\n",
       "12    TMI-43T    MWH-4        76\n",
       "5     TMI-43T    MWH-4        78\n",
       "16    SDRT-67    MWH-5        12\n",
       "34    GCVB-79    MWH-5        26\n",
       "28    LXCV-21    MWH-5        34\n",
       "29    LXCV-21    MWH-5        57\n",
       "3     AXCP-78    MWH-5        65\n",
       "37    AXCP-78    MWH-5        65\n",
       "38    AXCP-78    MWH-5        70\n",
       "23    DDBN-89    MWH-5        71\n",
       "27    LXCV-21    MWH-5        83\n",
       "17    SDRT-67    MWH-5       102\n",
       "33    TMI-43T    MWH-5       112"
      ]
     },
     "execution_count": 267,
     "metadata": {},
     "output_type": "execute_result"
    }
   ],
   "source": [
    "dfd = df.sort_values(['Location','Quantity','MaterialID'])\n",
    "dfd"
   ]
  },
  {
   "cell_type": "code",
   "execution_count": null,
   "id": "6fabcff5-e68f-42f3-9cbc-798a55794d05",
   "metadata": {},
   "outputs": [],
   "source": []
  }
 ],
 "metadata": {
  "kernelspec": {
   "display_name": "Python 3 (ipykernel)",
   "language": "python",
   "name": "python3"
  },
  "language_info": {
   "codemirror_mode": {
    "name": "ipython",
    "version": 3
   },
   "file_extension": ".py",
   "mimetype": "text/x-python",
   "name": "python",
   "nbconvert_exporter": "python",
   "pygments_lexer": "ipython3",
   "version": "3.12.2"
  }
 },
 "nbformat": 4,
 "nbformat_minor": 5
}
