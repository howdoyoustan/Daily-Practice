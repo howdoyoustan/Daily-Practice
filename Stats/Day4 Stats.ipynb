{
 "cells": [
  {
   "cell_type": "code",
   "execution_count": 32,
   "id": "b5f41727-cb1d-4ddc-a587-193fddc52a89",
   "metadata": {},
   "outputs": [],
   "source": [
    "import numpy as np\n",
    "import pandas as pd"
   ]
  },
  {
   "cell_type": "code",
   "execution_count": 33,
   "id": "392264f1-6722-4aae-a50e-94276ad36380",
   "metadata": {},
   "outputs": [
    {
     "data": {
      "text/html": [
       "<div>\n",
       "<style scoped>\n",
       "    .dataframe tbody tr th:only-of-type {\n",
       "        vertical-align: middle;\n",
       "    }\n",
       "\n",
       "    .dataframe tbody tr th {\n",
       "        vertical-align: top;\n",
       "    }\n",
       "\n",
       "    .dataframe thead th {\n",
       "        text-align: right;\n",
       "    }\n",
       "</style>\n",
       "<table border=\"1\" class=\"dataframe\">\n",
       "  <thead>\n",
       "    <tr style=\"text-align: right;\">\n",
       "      <th></th>\n",
       "      <th>MaterialID</th>\n",
       "      <th>Location</th>\n",
       "      <th>Quantity</th>\n",
       "    </tr>\n",
       "  </thead>\n",
       "  <tbody>\n",
       "    <tr>\n",
       "      <th>0</th>\n",
       "      <td>TMI-43T</td>\n",
       "      <td>MWH-4</td>\n",
       "      <td>34</td>\n",
       "    </tr>\n",
       "    <tr>\n",
       "      <th>1</th>\n",
       "      <td>AXCP-78</td>\n",
       "      <td>MWH-1</td>\n",
       "      <td>67</td>\n",
       "    </tr>\n",
       "    <tr>\n",
       "      <th>2</th>\n",
       "      <td>LXCV-21</td>\n",
       "      <td>MWH-2</td>\n",
       "      <td>27</td>\n",
       "    </tr>\n",
       "    <tr>\n",
       "      <th>3</th>\n",
       "      <td>AXCP-78</td>\n",
       "      <td>MWH-5</td>\n",
       "      <td>65</td>\n",
       "    </tr>\n",
       "    <tr>\n",
       "      <th>4</th>\n",
       "      <td>AXCP-78</td>\n",
       "      <td>MWH-4</td>\n",
       "      <td>36</td>\n",
       "    </tr>\n",
       "  </tbody>\n",
       "</table>\n",
       "</div>"
      ],
      "text/plain": [
       "  MaterialID Location  Quantity\n",
       "0    TMI-43T    MWH-4        34\n",
       "1    AXCP-78    MWH-1        67\n",
       "2    LXCV-21    MWH-2        27\n",
       "3    AXCP-78    MWH-5        65\n",
       "4    AXCP-78    MWH-4        36"
      ]
     },
     "execution_count": 33,
     "metadata": {},
     "output_type": "execute_result"
    }
   ],
   "source": [
    "df=pd.read_excel(\"CDAC_DataBook.xlsx\",sheet_name =\"ERPData\")\n",
    "df.head()"
   ]
  },
  {
   "cell_type": "code",
   "execution_count": 6,
   "id": "87fdd8d6-1a2a-4023-8567-a78693876838",
   "metadata": {},
   "outputs": [],
   "source": [
    "x1 = np.array(df.MaterialID)"
   ]
  },
  {
   "cell_type": "code",
   "execution_count": 7,
   "id": "ac4f6e53-10c1-4f51-aeac-809e9ed6dd2e",
   "metadata": {},
   "outputs": [
    {
     "data": {
      "text/plain": [
       "array(['TMI-43T', 'AXCP-78', 'LXCV-21', 'AXCP-78', 'AXCP-78', 'TMI-43T',\n",
       "       'TMI-43T', 'TMI-43T', 'GCVB-79', 'TMI-43T', 'SDRT-67', 'SDRT-67',\n",
       "       'TMI-43T', 'TMI-43T', 'TMI-43T', 'GCVB-79', 'SDRT-67', 'SDRT-67',\n",
       "       'TMI-43T', 'TMI-43T', 'TMI-43T', 'TMI-43T', 'DDBN-89', 'DDBN-89',\n",
       "       'AXCP-78', 'AXCP-78', 'DDBN-89', 'LXCV-21', 'LXCV-21', 'LXCV-21',\n",
       "       'DDBN-89', 'TMI-43T', 'TMI-43T', 'TMI-43T', 'GCVB-79', 'GCVB-79',\n",
       "       'GCVB-79', 'AXCP-78', 'AXCP-78', 'AXCP-78', 'DDBN-89', 'SDRT-67',\n",
       "       'SDRT-67', 'DDBN-89', 'LXCV-21', 'DDBN-89', 'AXCP-78', 'AXCP-78',\n",
       "       'AXCP-78', 'DDBN-89'], dtype=object)"
      ]
     },
     "execution_count": 7,
     "metadata": {},
     "output_type": "execute_result"
    }
   ],
   "source": [
    "x1"
   ]
  },
  {
   "cell_type": "code",
   "execution_count": 12,
   "id": "3942cb14-f173-4640-90ac-c532bb45f92b",
   "metadata": {},
   "outputs": [
    {
     "data": {
      "text/plain": [
       "array(['AXCP-78', 'DDBN-89', 'GCVB-79', 'LXCV-21', 'SDRT-67', 'TMI-43T'],\n",
       "      dtype=object)"
      ]
     },
     "execution_count": 12,
     "metadata": {},
     "output_type": "execute_result"
    }
   ],
   "source": [
    "np.unique(x1) #only unique values "
   ]
  },
  {
   "cell_type": "code",
   "execution_count": 19,
   "id": "f0d8ff48-f404-4b89-908d-b1cf32c60fb9",
   "metadata": {},
   "outputs": [
    {
     "data": {
      "text/plain": [
       "(array(['AXCP-78', 'DDBN-89', 'GCVB-79', 'LXCV-21', 'SDRT-67', 'TMI-43T'],\n",
       "       dtype=object),\n",
       " array([11,  8,  5,  5,  6, 15], dtype=int64))"
      ]
     },
     "execution_count": 19,
     "metadata": {},
     "output_type": "execute_result"
    }
   ],
   "source": [
    "np.unique(x1, return_counts = True) #returns counts of unique values at index[1]"
   ]
  },
  {
   "cell_type": "code",
   "execution_count": 20,
   "id": "21e87464-88c3-4dbe-9291-4b62b23c2cd2",
   "metadata": {},
   "outputs": [
    {
     "data": {
      "text/plain": [
       "array(['AXCP-78', 'DDBN-89', 'GCVB-79', 'LXCV-21', 'SDRT-67', 'TMI-43T'],\n",
       "      dtype=object)"
      ]
     },
     "execution_count": 20,
     "metadata": {},
     "output_type": "execute_result"
    }
   ],
   "source": [
    "np.unique(x1, return_counts = True)[0] #only unique values"
   ]
  },
  {
   "cell_type": "code",
   "execution_count": 21,
   "id": "c81d6063-27aa-45bf-8c4d-16b321b7182e",
   "metadata": {},
   "outputs": [
    {
     "data": {
      "text/plain": [
       "array([11,  8,  5,  5,  6, 15], dtype=int64)"
      ]
     },
     "execution_count": 21,
     "metadata": {},
     "output_type": "execute_result"
    }
   ],
   "source": [
    "np.unique(x1, return_counts = True)[1] #only counts of unique values"
   ]
  },
  {
   "cell_type": "code",
   "execution_count": 34,
   "id": "c7feb0c4-ba0e-40ce-94be-57be47290ffe",
   "metadata": {},
   "outputs": [],
   "source": [
    "df1 = df['MaterialID']"
   ]
  },
  {
   "cell_type": "code",
   "execution_count": 17,
   "id": "23d3381c-c567-42f8-96d5-b65de97394dc",
   "metadata": {},
   "outputs": [
    {
     "data": {
      "text/plain": [
       "6"
      ]
     },
     "execution_count": 17,
     "metadata": {},
     "output_type": "execute_result"
    }
   ],
   "source": [
    "df1.nunique()"
   ]
  },
  {
   "cell_type": "code",
   "execution_count": 15,
   "id": "a05c56d1-2195-4dfe-a5aa-177ade8fa99a",
   "metadata": {},
   "outputs": [
    {
     "data": {
      "text/plain": [
       "MaterialID     6\n",
       "Location       5\n",
       "Quantity      35\n",
       "dtype: int64"
      ]
     },
     "execution_count": 15,
     "metadata": {},
     "output_type": "execute_result"
    }
   ],
   "source": [
    "df.nunique()"
   ]
  },
  {
   "cell_type": "code",
   "execution_count": 26,
   "id": "d2ba2088-97f1-489a-8a81-5331ace1876f",
   "metadata": {},
   "outputs": [
    {
     "data": {
      "text/plain": [
       "array([0.22, 0.16, 0.1 , 0.1 , 0.12, 0.3 ])"
      ]
     },
     "execution_count": 26,
     "metadata": {},
     "output_type": "execute_result"
    }
   ],
   "source": [
    "prop_mat = np.round((np.unique(x1,return_counts=True)[1])/len(x1),3) #proportion/ratio of unique to total values\n",
    "prop_mat"
   ]
  },
  {
   "cell_type": "markdown",
   "id": "d8a434c7-968c-43ae-b2af-2d8558ab7608",
   "metadata": {},
   "source": [
    "# Data Summarisation using Central Tendency"
   ]
  },
  {
   "cell_type": "markdown",
   "id": "1912661e-159c-4791-965e-b9178203bb21",
   "metadata": {},
   "source": [
    "### assuming you have a list of salaries students get in placement and we have some extreme values, then using mean in that case would be misleading as mean is sensitive to extreme values"
   ]
  },
  {
   "cell_type": "markdown",
   "id": "86b46536-44f9-411a-8885-660bf401bef2",
   "metadata": {},
   "source": [
    "### this occurs because mean is getting affected by each value and we are calculating its sum whereas median doesn't get affected by values or rather we dont perform any operations on values, we just pick the middle value for median"
   ]
  },
  {
   "cell_type": "code",
   "execution_count": 31,
   "id": "401073a3-bb2d-4013-981e-3ea5ae95329b",
   "metadata": {},
   "outputs": [],
   "source": [
    "import collections \n",
    "from collections import Counter"
   ]
  },
  {
   "cell_type": "code",
   "execution_count": 32,
   "id": "e3abf9f9-b900-4270-a785-63af641cab5c",
   "metadata": {},
   "outputs": [],
   "source": [
    "x3 = df.Quantity"
   ]
  },
  {
   "cell_type": "code",
   "execution_count": 33,
   "id": "8c1d4ea0-c787-478e-9aef-27cf0183a7a1",
   "metadata": {},
   "outputs": [
    {
     "data": {
      "text/plain": [
       "57.7"
      ]
     },
     "execution_count": 33,
     "metadata": {},
     "output_type": "execute_result"
    }
   ],
   "source": [
    "np.mean(x3)"
   ]
  },
  {
   "cell_type": "code",
   "execution_count": 34,
   "id": "40ea8974-8c2c-4436-8420-a845d0f18a8a",
   "metadata": {},
   "outputs": [
    {
     "data": {
      "text/plain": [
       "54.5"
      ]
     },
     "execution_count": 34,
     "metadata": {},
     "output_type": "execute_result"
    }
   ],
   "source": [
    "np.median(x3)"
   ]
  },
  {
   "cell_type": "code",
   "execution_count": 37,
   "id": "5c9ab294-2b2e-4679-96bb-b3d1a4af8364",
   "metadata": {},
   "outputs": [
    {
     "data": {
      "text/plain": [
       "[(34, 5),\n",
       " (65, 4),\n",
       " (31, 3),\n",
       " (57, 3),\n",
       " (27, 2),\n",
       " (29, 2),\n",
       " (39, 2),\n",
       " (75, 2),\n",
       " (67, 1),\n",
       " (36, 1),\n",
       " (78, 1),\n",
       " (10, 1),\n",
       " (120, 1),\n",
       " (58, 1),\n",
       " (76, 1),\n",
       " (32, 1),\n",
       " (87, 1),\n",
       " (12, 1),\n",
       " (102, 1),\n",
       " (52, 1),\n",
       " (48, 1),\n",
       " (71, 1),\n",
       " (152, 1),\n",
       " (109, 1),\n",
       " (83, 1),\n",
       " (43, 1),\n",
       " (112, 1),\n",
       " (26, 1),\n",
       " (28, 1),\n",
       " (70, 1),\n",
       " (145, 1),\n",
       " (38, 1),\n",
       " (42, 1),\n",
       " (69, 1),\n",
       " (85, 1)]"
      ]
     },
     "execution_count": 37,
     "metadata": {},
     "output_type": "execute_result"
    }
   ],
   "source": [
    "### Counter(x3).most_common()"
   ]
  },
  {
   "cell_type": "code",
   "execution_count": 38,
   "id": "5a86ef86-edc5-4194-b177-131486af6680",
   "metadata": {},
   "outputs": [
    {
     "data": {
      "text/plain": [
       "0      34\n",
       "1      67\n",
       "2      27\n",
       "3      65\n",
       "4      36\n",
       "5      78\n",
       "6      31\n",
       "7      29\n",
       "8      10\n",
       "9     120\n",
       "10     34\n",
       "11     58\n",
       "12     76\n",
       "13     32\n",
       "14     65\n",
       "15     87\n",
       "16     12\n",
       "17    102\n",
       "18     34\n",
       "19     52\n",
       "20     39\n",
       "21     75\n",
       "22     48\n",
       "23     71\n",
       "24    152\n",
       "25    109\n",
       "26     57\n",
       "27     83\n",
       "28     34\n",
       "29     57\n",
       "30     27\n",
       "31     65\n",
       "32     43\n",
       "33    112\n",
       "34     26\n",
       "35     31\n",
       "36     28\n",
       "37     65\n",
       "38     70\n",
       "39    145\n",
       "40     34\n",
       "41     57\n",
       "42     31\n",
       "43     38\n",
       "44     42\n",
       "45     69\n",
       "46     85\n",
       "47     29\n",
       "48     75\n",
       "49     39\n",
       "Name: Quantity, dtype: int64"
      ]
     },
     "execution_count": 38,
     "metadata": {},
     "output_type": "execute_result"
    }
   ],
   "source": [
    "x3"
   ]
  },
  {
   "cell_type": "code",
   "execution_count": 41,
   "id": "063e691c-3720-455f-b0dc-b3ae86c5602d",
   "metadata": {},
   "outputs": [
    {
     "data": {
      "text/plain": [
       "34.0"
      ]
     },
     "execution_count": 41,
     "metadata": {},
     "output_type": "execute_result"
    }
   ],
   "source": [
    "np.percentile(x3,25) #25% of all values in x3 are less than or equal to 34"
   ]
  },
  {
   "cell_type": "code",
   "execution_count": 42,
   "id": "c506d7ad-a740-41c6-abb1-69dc0015fb87",
   "metadata": {},
   "outputs": [
    {
     "data": {
      "text/plain": [
       "50"
      ]
     },
     "execution_count": 42,
     "metadata": {},
     "output_type": "execute_result"
    }
   ],
   "source": [
    "len(x3)"
   ]
  },
  {
   "cell_type": "code",
   "execution_count": 43,
   "id": "6a06d5ae-ea3a-4e57-949b-13563d14f7f3",
   "metadata": {},
   "outputs": [
    {
     "data": {
      "text/plain": [
       "12.5"
      ]
     },
     "execution_count": 43,
     "metadata": {},
     "output_type": "execute_result"
    }
   ],
   "source": [
    "0.25*50"
   ]
  },
  {
   "cell_type": "markdown",
   "id": "3e903671-bda3-4cc4-ad72-81d3e972b624",
   "metadata": {},
   "source": [
    "### ie 12.5 is the assumed number of values less than or equal to 34"
   ]
  },
  {
   "cell_type": "code",
   "execution_count": 45,
   "id": "b719061b-6ee5-4c6b-9c04-f017954f8e81",
   "metadata": {},
   "outputs": [
    {
     "data": {
      "text/plain": [
       "17"
      ]
     },
     "execution_count": 45,
     "metadata": {},
     "output_type": "execute_result"
    }
   ],
   "source": [
    "len(np.where(x3<=34)[0]) #actual number of values less than or equal to 34"
   ]
  },
  {
   "cell_type": "code",
   "execution_count": 47,
   "id": "41e60528-c604-4b3f-9233-c01903c4a778",
   "metadata": {},
   "outputs": [
    {
     "data": {
      "text/plain": [
       "40.0"
      ]
     },
     "execution_count": 47,
     "metadata": {},
     "output_type": "execute_result"
    }
   ],
   "source": [
    "np.percentile(x3,75) - np.percentile(x3,25) #inter quartile range"
   ]
  },
  {
   "cell_type": "markdown",
   "id": "060c9d7e-cc7f-436f-843f-12019ed0a7f4",
   "metadata": {},
   "source": [
    "## Variance"
   ]
  },
  {
   "cell_type": "code",
   "execution_count": 48,
   "id": "7a22b394-958a-403a-a355-879e93c2d7af",
   "metadata": {},
   "outputs": [
    {
     "data": {
      "text/plain": [
       "1016.7857142857144"
      ]
     },
     "execution_count": 48,
     "metadata": {},
     "output_type": "execute_result"
    }
   ],
   "source": [
    "np.var(x3, ddof=1)  #sample variance"
   ]
  },
  {
   "cell_type": "code",
   "execution_count": 49,
   "id": "b5fd1c10-eca1-4ef2-a4d1-724f2bfa0175",
   "metadata": {},
   "outputs": [
    {
     "data": {
      "text/plain": [
       "31.887077543821956"
      ]
     },
     "execution_count": 49,
     "metadata": {},
     "output_type": "execute_result"
    }
   ],
   "source": [
    "np.std(x3,ddof=1)  #sample std deviation"
   ]
  },
  {
   "cell_type": "code",
   "execution_count": 50,
   "id": "a5a532cd-bb74-40bc-a636-5079591b507a",
   "metadata": {},
   "outputs": [
    {
     "data": {
      "text/plain": [
       "31.887077543821956"
      ]
     },
     "execution_count": 50,
     "metadata": {},
     "output_type": "execute_result"
    }
   ],
   "source": [
    "1016.7857142857144**0.5"
   ]
  },
  {
   "cell_type": "code",
   "execution_count": null,
   "id": "3743ab97-a3d3-4481-a962-b1f1514cab95",
   "metadata": {},
   "outputs": [],
   "source": [
    "pip install scipy"
   ]
  },
  {
   "cell_type": "code",
   "execution_count": 6,
   "id": "853b5183-9c19-465a-aa78-c4a3ef9451b6",
   "metadata": {},
   "outputs": [],
   "source": [
    "import matplotlib.pyplot as plt\n",
    "import scipy\n",
    "from scipy import stats"
   ]
  },
  {
   "cell_type": "markdown",
   "id": "066cdc52-c0cc-445e-9615-143d92350a51",
   "metadata": {},
   "source": [
    "## When peak is to the left, the skew is positive"
   ]
  },
  {
   "cell_type": "code",
   "execution_count": 7,
   "id": "fff6cbed-f991-4301-ae2b-bd65a9d3d9d3",
   "metadata": {},
   "outputs": [
    {
     "data": {
      "text/plain": [
       "(array([ 20.,  50., 150., 130.,   0., 110.,  90.,  70.,  50.,  20.]),\n",
       " array([1. , 1.8, 2.6, 3.4, 4.2, 5. , 5.8, 6.6, 7.4, 8.2, 9. ]),\n",
       " <BarContainer object of 10 artists>)"
      ]
     },
     "execution_count": 7,
     "metadata": {},
     "output_type": "execute_result"
    },
    {
     "data": {
      "image/png": "[encoded data removed]",
      "text/plain": [
       "<Figure size 640x480 with 1 Axes>"
      ]
     },
     "metadata": {},
     "output_type": "display_data"
    }
   ],
   "source": [
    "x1 = np.repeat([1,2,3,4,5,6,7,8,9],[20,50,150,130,110,90,70,50,20])\n",
    "plt.hist(x1)"
   ]
  },
  {
   "cell_type": "code",
   "execution_count": 8,
   "id": "a0432793-0938-4286-995d-73042a5e2ff4",
   "metadata": {},
   "outputs": [
    {
     "data": {
      "text/plain": [
       "0.3167392794725406"
      ]
     },
     "execution_count": 8,
     "metadata": {},
     "output_type": "execute_result"
    }
   ],
   "source": [
    "scipy.stats.skew(x1)"
   ]
  },
  {
   "cell_type": "markdown",
   "id": "d039445a-8927-475d-89eb-fc89edfca644",
   "metadata": {},
   "source": [
    "## When the peak is to the right, the skew is negative"
   ]
  },
  {
   "cell_type": "markdown",
   "id": "4dc1167b-8e79-49f2-b5f0-f2d2b6ff29c5",
   "metadata": {},
   "source": [
    "## x2 = np.repeat([9,8,7,6,5,4,3,2,1],[20,50,150,130,110,90,70,50,20])\n",
    "plt.hist(x2)"
   ]
  },
  {
   "cell_type": "code",
   "execution_count": 10,
   "id": "794bdb82-988e-424e-b7b9-51af11c974b0",
   "metadata": {},
   "outputs": [
    {
     "data": {
      "text/plain": [
       "-0.3167392794725406"
      ]
     },
     "execution_count": 10,
     "metadata": {},
     "output_type": "execute_result"
    }
   ],
   "source": [
    "scipy.stats.skew(x2)"
   ]
  },
  {
   "cell_type": "markdown",
   "id": "32694176-8ab4-4b7c-9dcd-a17138bc16f7",
   "metadata": {},
   "source": [
    "## Kurtosis\n"
   ]
  },
  {
   "cell_type": "code",
   "execution_count": 12,
   "id": "550a5366-76ae-4542-9b80-9c313d5c250b",
   "metadata": {},
   "outputs": [
    {
     "data": {
      "text/plain": [
       "(array([ 20.,  22.,  25.,  40.,   0., 150.,  40.,  25.,  22.,  20.]),\n",
       " array([1. , 1.8, 2.6, 3.4, 4.2, 5. , 5.8, 6.6, 7.4, 8.2, 9. ]),\n",
       " <BarContainer object of 10 artists>)"
      ]
     },
     "execution_count": 12,
     "metadata": {},
     "output_type": "execute_result"
    },
    {
     "data": {
      "image/png": "[encoded data removed]",
      "text/plain": [
       "<Figure size 640x480 with 1 Axes>"
      ]
     },
     "metadata": {},
     "output_type": "display_data"
    }
   ],
   "source": [
    "x3 = np.repeat([1,2,3,4,5,6,7,8,9],[20,22,25,40,450,40,25,22,20])\n",
    "plt.hist(x1)"
   ]
  },
  {
   "cell_type": "code",
   "execution_count": 13,
   "id": "13a1f974-e700-404f-83ec-1ab24ae03eaf",
   "metadata": {},
   "outputs": [
    {
     "data": {
      "text/plain": [
       "2.629899945492004"
      ]
     },
     "execution_count": 13,
     "metadata": {},
     "output_type": "execute_result"
    }
   ],
   "source": [
    "scipy.stats.kurtosis(x3)"
   ]
  },
  {
   "cell_type": "markdown",
   "id": "9c61e635-3ce3-4367-aa81-94abb8a08c54",
   "metadata": {},
   "source": [
    "# Probability Distribution"
   ]
  },
  {
   "cell_type": "markdown",
   "id": "1b21a9b8-8605-43e9-8aed-b0ab97c9cb2e",
   "metadata": {},
   "source": [
    "## Binomial Distribution"
   ]
  },
  {
   "cell_type": "code",
   "execution_count": 36,
   "id": "d903e1ae-96d3-41c6-9bfa-a4261603f458",
   "metadata": {},
   "outputs": [],
   "source": [
    "from scipy import stats\n",
    "from scipy.stats import binom"
   ]
  },
  {
   "cell_type": "code",
   "execution_count": 18,
   "id": "44eefa50-c436-45d8-8b72-2675d7204e34",
   "metadata": {},
   "outputs": [],
   "source": [
    "# prob of rrains on any given day in june = 0.7\n",
    "# length of stay in mumbai = 15days\n",
    "# a.find the prob that it rains for exactly 9 out of 15 days"
   ]
  },
  {
   "cell_type": "code",
   "execution_count": 19,
   "id": "8829dec3-cdd8-4c79-8f6c-33eb7d071b88",
   "metadata": {},
   "outputs": [],
   "source": [
    "#binom.____(9,15,0.7)"
   ]
  },
  {
   "cell_type": "code",
   "execution_count": 21,
   "id": "8d144f31-7bef-440b-8f4a-39eeaf11d0e2",
   "metadata": {},
   "outputs": [
    {
     "data": {
      "text/plain": [
       "0.14723598641251517"
      ]
     },
     "execution_count": 21,
     "metadata": {},
     "output_type": "execute_result"
    }
   ],
   "source": [
    "binom.pmf(9,15,0.7) #probability mass function"
   ]
  },
  {
   "cell_type": "code",
   "execution_count": null,
   "id": "01371bf5-abc2-47b4-8628-5166b6ab2c95",
   "metadata": {},
   "outputs": [],
   "source": [
    "# b.find the probability that it rains for upto 9 days out of 15 days\n",
    "0,1,2,3,4,5,6,7,8,9"
   ]
  },
  {
   "cell_type": "code",
   "execution_count": 26,
   "id": "e5411442-fa4a-43e6-bd1f-3f6157d4c449",
   "metadata": {},
   "outputs": [
    {
     "data": {
      "text/plain": [
       "0.2783785597956361"
      ]
     },
     "execution_count": 26,
     "metadata": {},
     "output_type": "execute_result"
    }
   ],
   "source": [
    "binom.cdf(9,15,0.7) #cummulative distributed function"
   ]
  },
  {
   "cell_type": "code",
   "execution_count": 27,
   "id": "63db1cec-95eb-4e2e-a4a7-796d7a498ebc",
   "metadata": {},
   "outputs": [],
   "source": [
    "#when event prob is 0.6\n",
    "# upto 3 out of 5"
   ]
  },
  {
   "cell_type": "code",
   "execution_count": 28,
   "id": "d2f9a63c-18af-445f-ba2c-082729749e08",
   "metadata": {},
   "outputs": [
    {
     "data": {
      "text/plain": [
       "0.6630399999999996"
      ]
     },
     "execution_count": 28,
     "metadata": {},
     "output_type": "execute_result"
    }
   ],
   "source": [
    "binom.pmf(0,5,0.6) + binom.pmf(1,5,0.6) + binom.pmf(2,5,0.6) + binom.pmf(3,5,0.6)"
   ]
  },
  {
   "cell_type": "code",
   "execution_count": 29,
   "id": "f6d898af-4bac-463a-aa5c-f06ff6e9b5cf",
   "metadata": {},
   "outputs": [
    {
     "data": {
      "text/plain": [
       "0.6630400000000001"
      ]
     },
     "execution_count": 29,
     "metadata": {},
     "output_type": "execute_result"
    }
   ],
   "source": [
    "binom.cdf(3,5,0.6)"
   ]
  },
  {
   "cell_type": "code",
   "execution_count": 30,
   "id": "409bb5eb-8701-4d77-9601-1c8568a7650a",
   "metadata": {},
   "outputs": [],
   "source": [
    "#c. find the prob that it rains for atleast 9 out of 15 days \n",
    "9,10,11,12,13,14,15"
   ]
  },
  {
   "cell_type": "code",
   "execution_count": 31,
   "id": "9362bae3-0ccf-4e2d-8b40-6f50238b57f9",
   "metadata": {},
   "outputs": [
    {
     "data": {
      "text/plain": [
       "0.8688574266168789"
      ]
     },
     "execution_count": 31,
     "metadata": {},
     "output_type": "execute_result"
    }
   ],
   "source": [
    "1 - binom.cdf(8,15,0.7)"
   ]
  },
  {
   "cell_type": "code",
   "execution_count": null,
   "id": "aca7152f-110f-4b27-969d-6997284c8040",
   "metadata": {},
   "outputs": [],
   "source": []
  }
 ],
 "metadata": {
  "kernelspec": {
   "display_name": "Python 3 (ipykernel)",
   "language": "python",
   "name": "python3"
  },
  "language_info": {
   "codemirror_mode": {
    "name": "ipython",
    "version": 3
   },
   "file_extension": ".py",
   "mimetype": "text/x-python",
   "name": "python",
   "nbconvert_exporter": "python",
   "pygments_lexer": "ipython3",
   "version": "3.12.2"
  }
 },
 "nbformat": 4,
 "nbformat_minor": 5
}
