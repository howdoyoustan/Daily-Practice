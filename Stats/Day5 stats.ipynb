{
 "cells": [
  {
   "cell_type": "code",
   "execution_count": 1,
   "id": "62427db8-6fac-4ecb-aeb5-5e81c180306a",
   "metadata": {},
   "outputs": [
    {
     "data": {
      "text/plain": [
       "0.7192230933248643"
      ]
     },
     "execution_count": 1,
     "metadata": {},
     "output_type": "execute_result"
    }
   ],
   "source": [
    "#assuming there are 3 green,blue,red balls in a bag what is the probability that you draw a green ball thrice consecutively with replacement\n",
    "\n",
    "(1/3)**0.3"
   ]
  },
  {
   "cell_type": "code",
   "execution_count": 3,
   "id": "a013293a-6779-4f33-b187-020bb09ff7f8",
   "metadata": {},
   "outputs": [
    {
     "data": {
      "text/plain": [
       "0.47948206221657624"
      ]
     },
     "execution_count": 3,
     "metadata": {},
     "output_type": "execute_result"
    }
   ],
   "source": [
    "#now assume the scenario when you draw any other ball other than the green ball next\n",
    "#i.e probability that 4th ball was not green\n",
    "((1/3)**0.3)*2/3"
   ]
  },
  {
   "cell_type": "markdown",
   "id": "b6bff544-31ef-408b-a86b-224854a7773a",
   "metadata": {},
   "source": [
    "# Poisson Distribution\n",
    "### In cases where the probability is very little and can't be calculated"
   ]
  },
  {
   "cell_type": "code",
   "execution_count": 8,
   "id": "13805890-bd3b-4197-981e-760af3bd59c7",
   "metadata": {},
   "outputs": [],
   "source": [
    "from scipy.stats import poisson"
   ]
  },
  {
   "cell_type": "code",
   "execution_count": null,
   "id": "de1fec2e-7eea-4f2d-a3fe-abc91f4626e8",
   "metadata": {},
   "outputs": [],
   "source": [
    "μ(mean) = n *p\n",
    "n --> total number of occurence's\n",
    "p --> probability "
   ]
  },
  {
   "cell_type": "code",
   "execution_count": null,
   "id": "905d06c8-d16c-49e2-bb9f-7dda7bc86424",
   "metadata": {},
   "outputs": [],
   "source": [
    "# avg no. of accidents are 70 \n",
    "1) What is the prob of exactly 75 accident will take place\n",
    "2) Upto 75 accidents\n",
    "3) Atleast 75 accidents\n"
   ]
  },
  {
   "cell_type": "code",
   "execution_count": 9,
   "id": "ac65b98d-3024-4e29-a483-1db4c811bf98",
   "metadata": {},
   "outputs": [
    {
     "data": {
      "text/plain": [
       "0.03864804621178172"
      ]
     },
     "execution_count": 9,
     "metadata": {},
     "output_type": "execute_result"
    }
   ],
   "source": [
    "poisson.pmf(75,70)"
   ]
  },
  {
   "cell_type": "code",
   "execution_count": 10,
   "id": "2d414b8e-1708-4861-9bc2-4f5891e5b43e",
   "metadata": {},
   "outputs": [
    {
     "data": {
      "text/plain": [
       "0.7481681196893379"
      ]
     },
     "execution_count": 10,
     "metadata": {},
     "output_type": "execute_result"
    }
   ],
   "source": [
    "poisson.cdf(75,70)"
   ]
  },
  {
   "cell_type": "code",
   "execution_count": 13,
   "id": "1b9484d7-5561-46c5-8f9d-f866134632bd",
   "metadata": {},
   "outputs": [
    {
     "data": {
      "text/plain": [
       "0.29047992652244203"
      ]
     },
     "execution_count": 13,
     "metadata": {},
     "output_type": "execute_result"
    }
   ],
   "source": [
    "1-poisson.cdf(74,70)"
   ]
  },
  {
   "cell_type": "code",
   "execution_count": 14,
   "id": "bc0ab55e-e267-4a6c-ac93-ea86abab892b",
   "metadata": {},
   "outputs": [
    {
     "data": {
      "text/plain": [
       "0.29047992652244203"
      ]
     },
     "execution_count": 14,
     "metadata": {},
     "output_type": "execute_result"
    }
   ],
   "source": [
    "poisson.sf(74,70)"
   ]
  },
  {
   "cell_type": "markdown",
   "id": "e0993417-3669-4421-9c06-023aa1746cdd",
   "metadata": {},
   "source": [
    "# Exponential Distribution"
   ]
  },
  {
   "cell_type": "code",
   "execution_count": 17,
   "id": "cb667370-9660-4c6e-9fb2-cca2f47450a8",
   "metadata": {},
   "outputs": [],
   "source": [
    "#assuming the switch boards fail 20 times in our entire time so far at cdac\n",
    "#total time = 24*100 - 2400\n",
    "#total number of failures reported in 2400 hours = 20\n",
    "#mtbf = 2400/20 = 120"
   ]
  },
  {
   "cell_type": "code",
   "execution_count": 16,
   "id": "6c03d171-c2f5-44b8-aa23-eee52a358ea8",
   "metadata": {},
   "outputs": [
    {
     "data": {
      "text/plain": [
       "120.0"
      ]
     },
     "execution_count": 16,
     "metadata": {},
     "output_type": "execute_result"
    }
   ],
   "source": [
    "2400/20"
   ]
  },
  {
   "cell_type": "code",
   "execution_count": 20,
   "id": "67d23f4a-8db7-4696-9b4f-bd2c66789873",
   "metadata": {},
   "outputs": [],
   "source": [
    "#supposing we have sudeep sirs class for 80 hours \n",
    "#what is the probability that the failure would occur in the next 80hrs ? \n",
    "#e=2.7182 is the base of the natural log i.e ln\n",
    "e=2.7182"
   ]
  },
  {
   "cell_type": "code",
   "execution_count": 21,
   "id": "5f8b6a76-28b1-4201-a281-f6d76868d53b",
   "metadata": {},
   "outputs": [
    {
     "data": {
      "text/plain": [
       "0.513427422890761"
      ]
     },
     "execution_count": 21,
     "metadata": {},
     "output_type": "execute_result"
    }
   ],
   "source": [
    "e**(-80/120)  #prob that the failure would NOT occur"
   ]
  },
  {
   "cell_type": "code",
   "execution_count": 23,
   "id": "15d04ef4-c306-4892-8a73-43e299a4aff6",
   "metadata": {},
   "outputs": [
    {
     "data": {
      "text/plain": [
       "0.48657257710923896"
      ]
     },
     "execution_count": 23,
     "metadata": {},
     "output_type": "execute_result"
    }
   ],
   "source": [
    "1-e**(-80/120) #prob that the failure would occur"
   ]
  },
  {
   "cell_type": "code",
   "execution_count": null,
   "id": "b0b89177-e96b-42d1-b6a6-f035029db677",
   "metadata": {},
   "outputs": [],
   "source": [
    "# when to use \n",
    "# how do we do that\n",
    "# what would the inputs"
   ]
  },
  {
   "cell_type": "code",
   "execution_count": null,
   "id": "422cd7b7-efdc-425c-9001-3ac230601303",
   "metadata": {},
   "outputs": [],
   "source": [
    "## Exponential distribution is used to check the reliability of the system\n",
    "## By modeling the time gap between the events\n",
    "## mtbf (unit of mtbf is hours/failure)"
   ]
  },
  {
   "cell_type": "code",
   "execution_count": null,
   "id": "817ac538-5b12-4375-b916-68036bbb35a9",
   "metadata": {},
   "outputs": [],
   "source": [
    "# 1/mtbf(reciprocal) gives you rate of failure"
   ]
  },
  {
   "cell_type": "markdown",
   "id": "39b0a92c-8cbb-42cd-8552-9915d76f8193",
   "metadata": {},
   "source": [
    "# Normal Distribution\n"
   ]
  },
  {
   "cell_type": "code",
   "execution_count": 105,
   "id": "b448f697-5199-450b-9c94-bb683b343c7b",
   "metadata": {},
   "outputs": [],
   "source": [
    "# For continuous data we never use pmf, because continuous is always changing (it is always less than or equal to )\n",
    "#example when time always changes when you want to calculate probability based on time "
   ]
  },
  {
   "cell_type": "code",
   "execution_count": 25,
   "id": "04694571-16a4-4a6f-a9ee-92158c58c345",
   "metadata": {},
   "outputs": [],
   "source": [
    "from scipy.stats import norm"
   ]
  },
  {
   "cell_type": "code",
   "execution_count": null,
   "id": "5e4dc344-3439-4639-a331-c9e2d3cf9179",
   "metadata": {},
   "outputs": [],
   "source": [
    "#mean is 70\n",
    "#std. deviation is 10\n",
    "a) What is the probability of less than 50\n",
    "b) what is the probability of more than 80\n",
    "c) what is the probability of between 50 and 80"
   ]
  },
  {
   "cell_type": "code",
   "execution_count": 29,
   "id": "d77c8829-f0db-44d4-a364-634e554450b3",
   "metadata": {},
   "outputs": [
    {
     "data": {
      "text/plain": [
       "0.0227501319481792"
      ]
     },
     "execution_count": 29,
     "metadata": {},
     "output_type": "execute_result"
    }
   ],
   "source": [
    "norm.cdf(50,70,10)"
   ]
  },
  {
   "cell_type": "code",
   "execution_count": 32,
   "id": "d0bf25a4-4f7e-43a6-b87f-908eeff75401",
   "metadata": {},
   "outputs": [
    {
     "data": {
      "text/plain": [
       "0.15865525393145707"
      ]
     },
     "execution_count": 32,
     "metadata": {},
     "output_type": "execute_result"
    }
   ],
   "source": [
    "1-norm.cdf(80,70,10)"
   ]
  },
  {
   "cell_type": "code",
   "execution_count": 34,
   "id": "c4844dcd-024a-44d4-b5b0-683ba008a40e",
   "metadata": {},
   "outputs": [
    {
     "data": {
      "text/plain": [
       "0.8185946141203637"
      ]
     },
     "execution_count": 34,
     "metadata": {},
     "output_type": "execute_result"
    }
   ],
   "source": [
    "norm.cdf(80,70,10)-norm.cdf(50,70,10)"
   ]
  },
  {
   "cell_type": "markdown",
   "id": "db3efda7-b0ea-4687-bb1b-8009e5cf4499",
   "metadata": {},
   "source": [
    "# Inferential Statistics"
   ]
  },
  {
   "cell_type": "code",
   "execution_count": 41,
   "id": "104a02b9-b596-4195-8149-280cfb263804",
   "metadata": {},
   "outputs": [],
   "source": [
    "import matplotlib.pyplot as plt\n",
    "import numpy as np\n",
    "from scipy import stats"
   ]
  },
  {
   "cell_type": "code",
   "execution_count": 42,
   "id": "93d15232-9667-4b43-8327-375d70ea169b",
   "metadata": {},
   "outputs": [],
   "source": [
    "mean = 70\n",
    "std_dev = 5"
   ]
  },
  {
   "cell_type": "code",
   "execution_count": 43,
   "id": "acfd1c99-2492-473f-86e5-c19ca5dc8ba3",
   "metadata": {},
   "outputs": [
    {
     "data": {
      "image/png": "[encoded data removed]",
      "text/plain": [
       "<Figure size 640x480 with 1 Axes>"
      ]
     },
     "metadata": {},
     "output_type": "display_data"
    }
   ],
   "source": [
    "x = np.linspace(mean - 4*std_dev, mean + 4*std_dev, 1000)\n",
    "y = stats.norm.pdf(x, mean, std_dev)\n",
    "plt.plot(x,y)\n",
    "plt.title(\"Operational Normal Distribution\")\n",
    "plt.xlabel(\"x\")\n",
    "plt.ylabel(\"probability distribution\")\n",
    "plt.grid(True)\n",
    "plt.show()"
   ]
  },
  {
   "cell_type": "code",
   "execution_count": 44,
   "id": "6dec2167-0409-478e-8ebd-69aff0451ed2",
   "metadata": {},
   "outputs": [],
   "source": [
    "mean = 70\n",
    "std_dev = 10"
   ]
  },
  {
   "cell_type": "code",
   "execution_count": 45,
   "id": "3a90d2f0-48d2-4485-a2a5-6afc33a8385d",
   "metadata": {},
   "outputs": [
    {
     "data": {
      "image/png": "[encoded data removed]",
      "text/plain": [
       "<Figure size 640x480 with 1 Axes>"
      ]
     },
     "metadata": {},
     "output_type": "display_data"
    }
   ],
   "source": [
    "x = np.linspace(mean - 4*std_dev, mean + 4*std_dev, 1000)\n",
    "y = stats.norm.pdf(x, mean, std_dev)\n",
    "plt.plot(x,y)\n",
    "plt.title(\"Operational Normal Distribution\")\n",
    "plt.xlabel(\"x\")\n",
    "plt.ylabel(\"probability distribution\")\n",
    "plt.grid(True)\n",
    "plt.show()"
   ]
  },
  {
   "cell_type": "markdown",
   "id": "3c6caf5c-2d6d-450d-9542-9066fd217dad",
   "metadata": {},
   "source": [
    "## Using students T \n"
   ]
  },
  {
   "cell_type": "code",
   "execution_count": 46,
   "id": "fc3477bb-d357-461f-b2d0-eae567114f0e",
   "metadata": {},
   "outputs": [],
   "source": [
    "from scipy.stats import t"
   ]
  },
  {
   "cell_type": "code",
   "execution_count": 48,
   "id": "45d44ece-b5fa-440b-b1fe-81fd11be4a6c",
   "metadata": {},
   "outputs": [],
   "source": [
    "# mean = 70, stdev - 10 based on sample of 15 units \n",
    "# a) what is prob. less than 50 ? \n",
    "# b) what is prob of more than 80 ? \n",
    "# c) what is the prob of between 50 and 80 ? "
   ]
  },
  {
   "cell_type": "code",
   "execution_count": 52,
   "id": "8c91232c-7866-40c8-8e99-0a282c0b729b",
   "metadata": {},
   "outputs": [],
   "source": [
    "# a ) \n",
    "#NOTE  - here we need to calculate z by ourselves python can't do that calculation, degrees of freedom = sample size - 1 \n",
    "#t.cdf(z,degrees_of_freedom)"
   ]
  },
  {
   "cell_type": "code",
   "execution_count": 63,
   "id": "e96305de-514f-4942-98d1-7ab60b0c5f2e",
   "metadata": {},
   "outputs": [
    {
     "data": {
      "text/plain": [
       "0.03264397644455599"
      ]
     },
     "execution_count": 63,
     "metadata": {},
     "output_type": "execute_result"
    }
   ],
   "source": [
    "c=t.cdf(-2,14)\n",
    "c"
   ]
  },
  {
   "cell_type": "code",
   "execution_count": 61,
   "id": "2c8c94aa-db29-4e45-ab61-424449668dc1",
   "metadata": {},
   "outputs": [],
   "source": [
    "# b ) z=x-mean/std.dev \n",
    "# z = 80-70/10\n",
    "# z=10"
   ]
  },
  {
   "cell_type": "code",
   "execution_count": 59,
   "id": "ba8812fb-25ed-4430-af76-6133612030d8",
   "metadata": {},
   "outputs": [
    {
     "data": {
      "text/plain": [
       "0.15865525393145707"
      ]
     },
     "execution_count": 59,
     "metadata": {},
     "output_type": "execute_result"
    }
   ],
   "source": [
    "1-norm.cdf(1)"
   ]
  },
  {
   "cell_type": "code",
   "execution_count": 62,
   "id": "c58ae6c3-f2f1-403a-b9ff-4cf6c1f17df3",
   "metadata": {},
   "outputs": [
    {
     "data": {
      "text/plain": [
       "0.16714097169732867"
      ]
     },
     "execution_count": 62,
     "metadata": {},
     "output_type": "execute_result"
    }
   ],
   "source": [
    "z=1-t.cdf(1,14)\n",
    "z"
   ]
  },
  {
   "cell_type": "code",
   "execution_count": 64,
   "id": "8e945e1e-5a34-42d5-877a-3215365c15fb",
   "metadata": {},
   "outputs": [
    {
     "data": {
      "text/plain": [
       "0.8002150518581154"
      ]
     },
     "execution_count": 64,
     "metadata": {},
     "output_type": "execute_result"
    }
   ],
   "source": [
    "# c ) \n",
    "z1 = t.cdf(1,14) - c\n",
    "z1"
   ]
  },
  {
   "cell_type": "markdown",
   "id": "9829695d-4253-4c52-9e07-c8608e286a0c",
   "metadata": {},
   "source": [
    "## after 2pm lunch "
   ]
  },
  {
   "cell_type": "code",
   "execution_count": 65,
   "id": "39bf5e1f-6914-41cc-a5b0-ef924e1c79dc",
   "metadata": {},
   "outputs": [
    {
     "data": {
      "text/plain": [
       "0.10564977366685535"
      ]
     },
     "execution_count": 65,
     "metadata": {},
     "output_type": "execute_result"
    }
   ],
   "source": [
    "# avg time = 50min, stdev = 8min. what is the prob of taking less than 40min\n",
    "norm.cdf(40,50,8)"
   ]
  },
  {
   "cell_type": "code",
   "execution_count": 66,
   "id": "099ea976-9672-400b-8af5-fb31fbbb93f6",
   "metadata": {},
   "outputs": [],
   "source": [
    "z=(40-50)/8"
   ]
  },
  {
   "cell_type": "code",
   "execution_count": 67,
   "id": "b9e764b9-f4d0-46d8-a0d8-2d98c2a62a9e",
   "metadata": {},
   "outputs": [
    {
     "data": {
      "text/plain": [
       "0.10564977366685535"
      ]
     },
     "execution_count": 67,
     "metadata": {},
     "output_type": "execute_result"
    }
   ],
   "source": [
    "norm.cdf(z)"
   ]
  },
  {
   "cell_type": "code",
   "execution_count": 68,
   "id": "2bc1efd0-bdef-42e8-8b38-94de4dee5145",
   "metadata": {},
   "outputs": [
    {
     "data": {
      "text/plain": [
       "-1.25"
      ]
     },
     "execution_count": 68,
     "metadata": {},
     "output_type": "execute_result"
    }
   ],
   "source": [
    "z"
   ]
  },
  {
   "cell_type": "code",
   "execution_count": 69,
   "id": "054bc284-eb14-45d9-9381-17ae849c7fd3",
   "metadata": {},
   "outputs": [
    {
     "data": {
      "text/plain": [
       "-1.2499999999999993"
      ]
     },
     "execution_count": 69,
     "metadata": {},
     "output_type": "execute_result"
    }
   ],
   "source": [
    "norm.ppf(0.10564977366685535)"
   ]
  },
  {
   "cell_type": "markdown",
   "id": "5c3bd42e-8128-4786-b398-3fe3653474ef",
   "metadata": {},
   "source": [
    "## going back from std normal distribution to operation distribution curve "
   ]
  },
  {
   "cell_type": "code",
   "execution_count": 1,
   "id": "bca0aefc-0beb-41c5-aac1-d8d1847a52bc",
   "metadata": {},
   "outputs": [],
   "source": [
    "# What is the time t below which so that there is a 20% chance you will take time t ? \n",
    "#z = x-nu/std.dev\n",
    "#z*std.dev+nu"
   ]
  },
  {
   "cell_type": "code",
   "execution_count": 79,
   "id": "d4db918d-0a07-4683-b277-f3c2ddcd38a4",
   "metadata": {},
   "outputs": [
    {
     "data": {
      "text/plain": [
       "-0.8416212335729142"
      ]
     },
     "execution_count": 79,
     "metadata": {},
     "output_type": "execute_result"
    }
   ],
   "source": [
    "z2 = norm.ppf(0.2)\n",
    "z2"
   ]
  },
  {
   "cell_type": "code",
   "execution_count": 80,
   "id": "8fc7413e-ec92-46cc-87bc-e11950cbd7a2",
   "metadata": {},
   "outputs": [
    {
     "data": {
      "text/plain": [
       "43.26703013141669"
      ]
     },
     "execution_count": 80,
     "metadata": {},
     "output_type": "execute_result"
    }
   ],
   "source": [
    "z2*8+50"
   ]
  },
  {
   "cell_type": "code",
   "execution_count": 82,
   "id": "db2f6b0a-da32-4762-bc65-63343ee045d3",
   "metadata": {},
   "outputs": [],
   "source": [
    "#On talking to 1000 people, the avg salary was found to be 4000 with std dev as 5000. What is the interval estimate for the population mean \n",
    "#at 95% confidence level ? "
   ]
  },
  {
   "cell_type": "code",
   "execution_count": 83,
   "id": "c8194a22-bb7c-49c0-b99d-c7afe2cc06d8",
   "metadata": {},
   "outputs": [],
   "source": [
    "#confidence_level,deg. of freedom,mean,S(E) of mean [standard error of mean] = sigma/(samplesize)**1/2"
   ]
  },
  {
   "cell_type": "code",
   "execution_count": 84,
   "id": "cf691337-37e9-4f25-ac4c-44327ef49ac1",
   "metadata": {},
   "outputs": [
    {
     "data": {
      "text/plain": [
       "(39689.726571791776, 40310.273428208224)"
      ]
     },
     "execution_count": 84,
     "metadata": {},
     "output_type": "execute_result"
    }
   ],
   "source": [
    "stats.t.interval(0.95,999,40000,5000/1000**0.5)"
   ]
  },
  {
   "cell_type": "code",
   "execution_count": 85,
   "id": "32b8ccf6-92c2-47d3-9252-8ee682468196",
   "metadata": {},
   "outputs": [],
   "source": [
    "za = t.ppf(0.025,999)\n",
    "zb = t.ppf(0.975,999)"
   ]
  },
  {
   "cell_type": "code",
   "execution_count": 93,
   "id": "f95e8934-d374-4ea0-b613-ad0748a212ae",
   "metadata": {},
   "outputs": [
    {
     "data": {
      "text/plain": [
       "1.9623414611334487"
      ]
     },
     "execution_count": 93,
     "metadata": {},
     "output_type": "execute_result"
    }
   ],
   "source": [
    "zb"
   ]
  },
  {
   "cell_type": "code",
   "execution_count": 92,
   "id": "0f1d08d6-f3eb-4f76-a5f5-6fa7bcba21f7",
   "metadata": {},
   "outputs": [
    {
     "data": {
      "text/plain": [
       "-1.962341461133449"
      ]
     },
     "execution_count": 92,
     "metadata": {},
     "output_type": "execute_result"
    }
   ],
   "source": [
    "za"
   ]
  },
  {
   "cell_type": "code",
   "execution_count": 103,
   "id": "ae185d02-ad8f-44b5-a4cc-63d4beccd63e",
   "metadata": {},
   "outputs": [
    {
     "data": {
      "text/plain": [
       "39689.726571791776"
      ]
     },
     "execution_count": 103,
     "metadata": {},
     "output_type": "execute_result"
    }
   ],
   "source": [
    "mu1 = 40000+(za)*(5000/(1000)**0.5)\n",
    "mu1"
   ]
  },
  {
   "cell_type": "code",
   "execution_count": 104,
   "id": "d9fd94f2-9c33-48b7-9c9d-d3ad76acc931",
   "metadata": {},
   "outputs": [
    {
     "data": {
      "text/plain": [
       "40310.273428208224"
      ]
     },
     "execution_count": 104,
     "metadata": {},
     "output_type": "execute_result"
    }
   ],
   "source": [
    "mu2 = 40000+(zb)*(5000/(1000)**0.5)\n",
    "mu2"
   ]
  },
  {
   "cell_type": "code",
   "execution_count": null,
   "id": "a7bdb478-20b0-4ac3-9186-def161ae0b6c",
   "metadata": {},
   "outputs": [],
   "source": []
  }
 ],
 "metadata": {
  "kernelspec": {
   "display_name": "Python 3 (ipykernel)",
   "language": "python",
   "name": "python3"
  },
  "language_info": {
   "codemirror_mode": {
    "name": "ipython",
    "version": 3
   },
   "file_extension": ".py",
   "mimetype": "text/x-python",
   "name": "python",
   "nbconvert_exporter": "python",
   "pygments_lexer": "ipython3",
   "version": "3.12.2"
  }
 },
 "nbformat": 4,
 "nbformat_minor": 5
}
