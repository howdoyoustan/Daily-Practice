{
 "cells": [
  {
   "cell_type": "code",
   "execution_count": null,
   "id": "9aa353dd-89ca-4f69-9156-4b09180ddf91",
   "metadata": {},
   "outputs": [],
   "source": [
    "pip install statsmodels"
   ]
  },
  {
   "cell_type": "code",
   "execution_count": 13,
   "id": "7499d8ff-f9ee-4dc2-aace-591a2d729316",
   "metadata": {},
   "outputs": [],
   "source": [
    "import statsmodels\n",
    "from statsmodels import stats\n",
    "from statsmodels.stats import weightstats\n",
    "from scipy.stats import t,norm\n",
    "import numpy as np\n",
    "import pandas as pd"
   ]
  },
  {
   "cell_type": "code",
   "execution_count": 4,
   "id": "ce3c07fb-8730-4c95-b24f-32ecc9b884f6",
   "metadata": {},
   "outputs": [
    {
     "data": {
      "text/plain": [
       "-2.330086419039454"
      ]
     },
     "execution_count": 4,
     "metadata": {},
     "output_type": "execute_result"
    }
   ],
   "source": [
    "z = t.ppf(0.01,999)\n",
    "z"
   ]
  },
  {
   "cell_type": "markdown",
   "id": "b96ee9f4-be16-43b6-bcd4-d28a2c599edf",
   "metadata": {},
   "source": [
    "## assuming out of 80, 50 are voting for BJP"
   ]
  },
  {
   "cell_type": "code",
   "execution_count": 5,
   "id": "98b2a5d0-6c8d-4e98-8698-f5cfa610cac8",
   "metadata": {},
   "outputs": [
    {
     "data": {
      "text/plain": [
       "0.625"
      ]
     },
     "execution_count": 5,
     "metadata": {},
     "output_type": "execute_result"
    }
   ],
   "source": [
    "50/80"
   ]
  },
  {
   "cell_type": "code",
   "execution_count": 9,
   "id": "62fa5934-b38d-4e02-a3ea-ccb30e1e3778",
   "metadata": {},
   "outputs": [],
   "source": [
    "#proportion, can also be denoted as probability\n",
    "samp_vs = 0.625"
   ]
  },
  {
   "cell_type": "code",
   "execution_count": 10,
   "id": "8fa04988-3588-4c95-801f-6bf4f5b08540",
   "metadata": {},
   "outputs": [],
   "source": [
    "#standard deviation for proportion \n",
    "sd = (samp_vs*(1-samp_vs))**0.5"
   ]
  },
  {
   "cell_type": "code",
   "execution_count": 11,
   "id": "5178a401-8d0d-4c84-abf2-2f16c6580b17",
   "metadata": {},
   "outputs": [
    {
     "data": {
      "text/plain": [
       "0.7310881119635937"
      ]
     },
     "execution_count": 11,
     "metadata": {},
     "output_type": "execute_result"
    }
   ],
   "source": [
    "## now calculating the interval for vote share of BJP \n",
    "0.625 + 1.96*sd/80**0.5 #(using the formula  x ± 1.96*σ/√n)"
   ]
  },
  {
   "cell_type": "code",
   "execution_count": 12,
   "id": "53e2e379-8737-4581-ac13-c2d45cabcbec",
   "metadata": {},
   "outputs": [
    {
     "data": {
      "text/plain": [
       "0.5189118880364063"
      ]
     },
     "execution_count": 12,
     "metadata": {},
     "output_type": "execute_result"
    }
   ],
   "source": [
    "0.625 - 1.96*sd/80**0.5"
   ]
  },
  {
   "cell_type": "markdown",
   "id": "bfaa5085-b00b-4161-9677-f28edfbb1f25",
   "metadata": {},
   "source": [
    "# Hypothesis Testing"
   ]
  },
  {
   "cell_type": "code",
   "execution_count": 14,
   "id": "9cfbd4cc-145e-4f6f-8ed4-dc7e08febde7",
   "metadata": {},
   "outputs": [],
   "source": [
    "df=pd.read_excel(r\"CDAC_DataBook.xlsx\",sheet_name=\"faithful\")"
   ]
  },
  {
   "cell_type": "code",
   "execution_count": 3,
   "id": "b61b75bf-a98c-4cab-a759-43f3fcf072e5",
   "metadata": {},
   "outputs": [
    {
     "data": {
      "text/html": [
       "<div>\n",
       "<style scoped>\n",
       "    .dataframe tbody tr th:only-of-type {\n",
       "        vertical-align: middle;\n",
       "    }\n",
       "\n",
       "    .dataframe tbody tr th {\n",
       "        vertical-align: top;\n",
       "    }\n",
       "\n",
       "    .dataframe thead th {\n",
       "        text-align: right;\n",
       "    }\n",
       "</style>\n",
       "<table border=\"1\" class=\"dataframe\">\n",
       "  <thead>\n",
       "    <tr style=\"text-align: right;\">\n",
       "      <th></th>\n",
       "      <th>eruptions</th>\n",
       "      <th>waiting</th>\n",
       "    </tr>\n",
       "  </thead>\n",
       "  <tbody>\n",
       "    <tr>\n",
       "      <th>0</th>\n",
       "      <td>3.600</td>\n",
       "      <td>79</td>\n",
       "    </tr>\n",
       "    <tr>\n",
       "      <th>1</th>\n",
       "      <td>1.800</td>\n",
       "      <td>54</td>\n",
       "    </tr>\n",
       "    <tr>\n",
       "      <th>2</th>\n",
       "      <td>3.333</td>\n",
       "      <td>74</td>\n",
       "    </tr>\n",
       "    <tr>\n",
       "      <th>3</th>\n",
       "      <td>2.283</td>\n",
       "      <td>62</td>\n",
       "    </tr>\n",
       "    <tr>\n",
       "      <th>4</th>\n",
       "      <td>4.533</td>\n",
       "      <td>85</td>\n",
       "    </tr>\n",
       "  </tbody>\n",
       "</table>\n",
       "</div>"
      ],
      "text/plain": [
       "   eruptions  waiting\n",
       "0      3.600       79\n",
       "1      1.800       54\n",
       "2      3.333       74\n",
       "3      2.283       62\n",
       "4      4.533       85"
      ]
     },
     "execution_count": 3,
     "metadata": {},
     "output_type": "execute_result"
    }
   ],
   "source": [
    "df.head()"
   ]
  },
  {
   "cell_type": "code",
   "execution_count": 15,
   "id": "e0ca36fb-8455-43c9-b25c-dea622bfda57",
   "metadata": {},
   "outputs": [],
   "source": [
    "erupt = df.eruptions"
   ]
  },
  {
   "cell_type": "code",
   "execution_count": 5,
   "id": "b350c8c1-10a1-4641-beb5-83d0de07cffb",
   "metadata": {},
   "outputs": [
    {
     "name": "stdout",
     "output_type": "stream",
     "text": [
      "<class 'pandas.core.series.Series'>\n"
     ]
    }
   ],
   "source": [
    "print(type(erupt))"
   ]
  },
  {
   "cell_type": "code",
   "execution_count": 6,
   "id": "b9a38461-6390-4221-94bb-1142c8b89084",
   "metadata": {},
   "outputs": [
    {
     "data": {
      "text/plain": [
       "3.4877830882352936"
      ]
     },
     "execution_count": 6,
     "metadata": {},
     "output_type": "execute_result"
    }
   ],
   "source": [
    "np.mean(erupt)"
   ]
  },
  {
   "cell_type": "markdown",
   "id": "1033e084-7691-403b-98a7-478276607ecf",
   "metadata": {},
   "source": [
    "## MY claim is that the mean is atleast 3.8\n",
    "## Ho: e>=3.8 Ha: e<3.8"
   ]
  },
  {
   "cell_type": "code",
   "execution_count": 16,
   "id": "a613070c-d213-4209-a2a2-348c5b84e815",
   "metadata": {},
   "outputs": [
    {
     "data": {
      "text/plain": [
       "(-4.511427124394508, 3.219645355146503e-06)"
      ]
     },
     "execution_count": 16,
     "metadata": {},
     "output_type": "execute_result"
    }
   ],
   "source": [
    "#first input is where we have our data saved\n",
    "#second input is how much we are claiming the value to be\n",
    "#sign of the alternative hypothesis\n",
    "statsmodels.stats.weightstats.ztest(erupt,value=3.8,alternative='smaller')"
   ]
  },
  {
   "cell_type": "code",
   "execution_count": 23,
   "id": "cef1f8b4-048e-44cb-a5dc-69682e2af1d9",
   "metadata": {},
   "outputs": [
    {
     "data": {
      "text/plain": [
       "(-4.511427124394508, 0.9999967803546449)"
      ]
     },
     "execution_count": 23,
     "metadata": {},
     "output_type": "execute_result"
    }
   ],
   "source": [
    "#prac for ref with sir\n",
    "statsmodels.stats.weightstats.ztest(erupt,value=3.8,alternative='larger')"
   ]
  },
  {
   "cell_type": "code",
   "execution_count": 24,
   "id": "fd854573-92e8-42d9-a928-1ee10b67c8ea",
   "metadata": {},
   "outputs": [
    {
     "data": {
      "text/plain": [
       "(-4.511427124394508, 6.439290710293006e-06)"
      ]
     },
     "execution_count": 24,
     "metadata": {},
     "output_type": "execute_result"
    }
   ],
   "source": [
    "#depicting two sided is default\n",
    "statsmodels.stats.weightstats.ztest(erupt,value=3.8,alternative='two-sided')"
   ]
  },
  {
   "cell_type": "code",
   "execution_count": 19,
   "id": "33ea60a1-b603-49cb-9f94-73f7cdef39e9",
   "metadata": {},
   "outputs": [
    {
     "data": {
      "text/plain": [
       "(-4.511427124394508, 6.439290710293006e-06)"
      ]
     },
     "execution_count": 19,
     "metadata": {},
     "output_type": "execute_result"
    }
   ],
   "source": [
    "statsmodels.stats.weightstats.ztest(erupt,value=3.8)"
   ]
  },
  {
   "cell_type": "code",
   "execution_count": 12,
   "id": "50283f1b-c768-45ac-b33d-8cce690bd0ab",
   "metadata": {},
   "outputs": [
    {
     "data": {
      "text/plain": [
       "3.219645355146503e-06"
      ]
     },
     "execution_count": 12,
     "metadata": {},
     "output_type": "execute_result"
    }
   ],
   "source": [
    "norm.cdf(-4.511427124394508) #gives us our p- value"
   ]
  },
  {
   "cell_type": "markdown",
   "id": "5da6e22b-d10b-4f87-8f02-79eed807dd93",
   "metadata": {},
   "source": [
    "# One Sample Z / T Test"
   ]
  },
  {
   "cell_type": "markdown",
   "id": "660cbfdb-0e5a-443d-bde0-6ed73ae4c311",
   "metadata": {},
   "source": [
    "## the first value is your test statistic(or Z statistic) and here the second value we got from z/test is our P value\n",
    "## and since it is 0.000003 less than 0.05 (L.O.S) we reject said hypothesis\n"
   ]
  },
  {
   "cell_type": "markdown",
   "id": "68ebe451-0037-453f-87d0-675f46018bfe",
   "metadata": {},
   "source": [
    "## Example 2\n",
    "## Mean of erupt is atleast 3.65 Ho: e>=3.65; Ha: e<3.65"
   ]
  },
  {
   "cell_type": "code",
   "execution_count": 21,
   "id": "4e3de731-24bf-4adb-ad14-cd62186995f7",
   "metadata": {},
   "outputs": [
    {
     "data": {
      "text/plain": [
       "(-2.3439786513625194, 0.009539631722203767)"
      ]
     },
     "execution_count": 21,
     "metadata": {},
     "output_type": "execute_result"
    }
   ],
   "source": [
    "statsmodels.stats.weightstats.ztest(erupt,value=3.65,alternative='smaller')"
   ]
  },
  {
   "cell_type": "code",
   "execution_count": 22,
   "id": "ac168216-e23d-4654-a194-2367816128e0",
   "metadata": {},
   "outputs": [],
   "source": [
    "#test statistics = -2.3439786513625194\n",
    "#p - value = 0.009539631722203767\n",
    "#since p-value is less than LoS we reject the Ho"
   ]
  },
  {
   "cell_type": "markdown",
   "id": "6fde4f1c-a378-4385-bb0f-8137a721d82a",
   "metadata": {},
   "source": [
    "## Example 3 "
   ]
  },
  {
   "cell_type": "code",
   "execution_count": 25,
   "id": "d8534828-4c27-4599-906e-8f99d78a2595",
   "metadata": {},
   "outputs": [
    {
     "data": {
      "text/plain": [
       "(-0.8990130026745241, 0.18432286741340448)"
      ]
     },
     "execution_count": 25,
     "metadata": {},
     "output_type": "execute_result"
    }
   ],
   "source": [
    "#assuming that our Ho claims that e is atleast 3.55, calculating it \n",
    "statsmodels.stats.weightstats.ztest(erupt,value=3.55,alternative='smaller')"
   ]
  },
  {
   "cell_type": "code",
   "execution_count": 27,
   "id": "2ee3f2dd-afac-4215-ae1f-b284969af598",
   "metadata": {},
   "outputs": [],
   "source": [
    "#The above statement claims that our mean value is greater than or equal to 3.55,\n",
    "#even though this is smaller than our mean our hypothesis does not get rejected because this is `statistically insignificant` \n",
    "#(could be chance variation or could be some sampling error, also data used in hypothesis is prone to error since \n",
    "#it is not population data (it is sample))\n",
    "# NOTE - The practical significance of the numbers changes on each scenario (the data that we work on)\n",
    "# under normal circumstance the claim value will come from our client and only for reference we are changing these values for educational purposes"
   ]
  },
  {
   "cell_type": "markdown",
   "id": "400a4987-424b-497f-ba78-0728ca03c62a",
   "metadata": {},
   "source": [
    "# change occurs only when there is significant difference "
   ]
  },
  {
   "cell_type": "code",
   "execution_count": 30,
   "id": "3ba139fe-9293-4b77-96d7-1faee39a9c08",
   "metadata": {},
   "outputs": [
    {
     "data": {
      "text/plain": [
       "5.647058823529412"
      ]
     },
     "execution_count": 30,
     "metadata": {},
     "output_type": "execute_result"
    }
   ],
   "source": [
    "#another example\n",
    "x1 = [4,8,7,3,4,5,6,8,9,7,2,4,5,6,7,5,6]\n",
    "#Ho TAT >=5.8, Ha < 5.8\n",
    "np.mean(x1)"
   ]
  },
  {
   "cell_type": "code",
   "execution_count": 31,
   "id": "9adeafeb-d2bf-4919-b9c8-e83ce8d8003e",
   "metadata": {},
   "outputs": [
    {
     "data": {
      "text/plain": [
       "(-0.3315398907929347, 0.3701183572985185)"
      ]
     },
     "execution_count": 31,
     "metadata": {},
     "output_type": "execute_result"
    }
   ],
   "source": [
    "statsmodels.stats.weightstats.ztest(x1, value=5.8, alternative='smaller')"
   ]
  },
  {
   "cell_type": "code",
   "execution_count": null,
   "id": "6d41bce1-5888-4e9c-ae73-a6076372d3a2",
   "metadata": {},
   "outputs": [],
   "source": []
  }
 ],
 "metadata": {
  "kernelspec": {
   "display_name": "Python 3 (ipykernel)",
   "language": "python",
   "name": "python3"
  },
  "language_info": {
   "codemirror_mode": {
    "name": "ipython",
    "version": 3
   },
   "file_extension": ".py",
   "mimetype": "text/x-python",
   "name": "python",
   "nbconvert_exporter": "python",
   "pygments_lexer": "ipython3",
   "version": "3.12.2"
  }
 },
 "nbformat": 4,
 "nbformat_minor": 5
}
