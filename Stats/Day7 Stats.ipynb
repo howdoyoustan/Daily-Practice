{
 "cells": [
  {
   "cell_type": "markdown",
   "id": "1d7a188c-15f2-4f28-a283-e89956246b3e",
   "metadata": {},
   "source": [
    "### import statsmodels\n",
    "from statsmodels import stats\n",
    "from statsmodels.stats import weightstats\n",
    "from scipy.stats import t,norm\n",
    "import numpy as np\n",
    "import pandas as pd"
   ]
  },
  {
   "cell_type": "code",
   "execution_count": 1,
   "id": "30389fe0-e331-4ede-9931-a17ca5e2af96",
   "metadata": {},
   "outputs": [],
   "source": [
    "from statsmodels import stats\n",
    "from statsmodels.stats import weightstats\n",
    "from scipy.stats import t,norm\n",
    "import numpy as np\n",
    "import pandas as pd"
   ]
  },
  {
   "cell_type": "code",
   "execution_count": 2,
   "id": "d9de26f5-0cc7-4de3-a137-06302096eb7e",
   "metadata": {},
   "outputs": [],
   "source": [
    "##Continuing from Day6 "
   ]
  },
  {
   "cell_type": "code",
   "execution_count": 5,
   "id": "7304bb8c-f060-4543-b397-729ff60742c8",
   "metadata": {},
   "outputs": [
    {
     "data": {
      "text/html": [
       "<div>\n",
       "<style scoped>\n",
       "    .dataframe tbody tr th:only-of-type {\n",
       "        vertical-align: middle;\n",
       "    }\n",
       "\n",
       "    .dataframe tbody tr th {\n",
       "        vertical-align: top;\n",
       "    }\n",
       "\n",
       "    .dataframe thead th {\n",
       "        text-align: right;\n",
       "    }\n",
       "</style>\n",
       "<table border=\"1\" class=\"dataframe\">\n",
       "  <thead>\n",
       "    <tr style=\"text-align: right;\">\n",
       "      <th></th>\n",
       "      <th>eruptions</th>\n",
       "      <th>waiting</th>\n",
       "    </tr>\n",
       "  </thead>\n",
       "  <tbody>\n",
       "    <tr>\n",
       "      <th>0</th>\n",
       "      <td>3.600</td>\n",
       "      <td>79</td>\n",
       "    </tr>\n",
       "    <tr>\n",
       "      <th>1</th>\n",
       "      <td>1.800</td>\n",
       "      <td>54</td>\n",
       "    </tr>\n",
       "    <tr>\n",
       "      <th>2</th>\n",
       "      <td>3.333</td>\n",
       "      <td>74</td>\n",
       "    </tr>\n",
       "    <tr>\n",
       "      <th>3</th>\n",
       "      <td>2.283</td>\n",
       "      <td>62</td>\n",
       "    </tr>\n",
       "    <tr>\n",
       "      <th>4</th>\n",
       "      <td>4.533</td>\n",
       "      <td>85</td>\n",
       "    </tr>\n",
       "  </tbody>\n",
       "</table>\n",
       "</div>"
      ],
      "text/plain": [
       "   eruptions  waiting\n",
       "0      3.600       79\n",
       "1      1.800       54\n",
       "2      3.333       74\n",
       "3      2.283       62\n",
       "4      4.533       85"
      ]
     },
     "execution_count": 5,
     "metadata": {},
     "output_type": "execute_result"
    }
   ],
   "source": [
    "df = pd.read_excel(\"CDAC_DataBook.xlsx\",sheet_name=\"faithful\")\n",
    "df.head()"
   ]
  },
  {
   "cell_type": "code",
   "execution_count": 7,
   "id": "e0154b39-efc8-4f17-94e3-ea625476326f",
   "metadata": {},
   "outputs": [],
   "source": [
    "erupt = df.eruptions"
   ]
  },
  {
   "cell_type": "code",
   "execution_count": 8,
   "id": "4058946a-0026-49b9-924f-d894c4833a24",
   "metadata": {
    "scrolled": true
   },
   "outputs": [
    {
     "data": {
      "text/plain": [
       "3.4877830882352936"
      ]
     },
     "execution_count": 8,
     "metadata": {},
     "output_type": "execute_result"
    }
   ],
   "source": [
    "np.mean(erupt)"
   ]
  },
  {
   "cell_type": "markdown",
   "id": "1b2d8e03-2608-462f-8518-c9881a489fad",
   "metadata": {},
   "source": [
    "## Interval estimate when the error is only on one side"
   ]
  },
  {
   "cell_type": "code",
   "execution_count": 103,
   "id": "95d284f9-50d0-4886-860f-488308c8d14e",
   "metadata": {},
   "outputs": [],
   "source": [
    "#here right side is where the error exists\n",
    "#mean of erupt is atmost 3.3 Ho m<=3.3 Ha m>3.3 ---> right tail test"
   ]
  },
  {
   "cell_type": "code",
   "execution_count": 131,
   "id": "3874f6c1-c63a-4a34-ae91-54e08eb291d0",
   "metadata": {},
   "outputs": [
    {
     "data": {
      "text/plain": [
       "(2.7134011190454603, 0.003329822003485617)"
      ]
     },
     "execution_count": 131,
     "metadata": {},
     "output_type": "execute_result"
    }
   ],
   "source": [
    "statsmodels.stats.weightstats.ztest(erupt, value=3.3, alternative='larger')"
   ]
  },
  {
   "cell_type": "code",
   "execution_count": 127,
   "id": "b8221238-be94-46cb-8506-6ed19fead765",
   "metadata": {},
   "outputs": [
    {
     "data": {
      "text/plain": [
       "-1.9599639845400545"
      ]
     },
     "execution_count": 127,
     "metadata": {},
     "output_type": "execute_result"
    }
   ],
   "source": [
    "norm.ppf(0.025)"
   ]
  },
  {
   "cell_type": "code",
   "execution_count": 128,
   "id": "5d6dfbaa-d7e1-491b-819e-fa69921bce07",
   "metadata": {},
   "outputs": [
    {
     "data": {
      "text/plain": [
       "-1.6448536269514729"
      ]
     },
     "execution_count": 128,
     "metadata": {},
     "output_type": "execute_result"
    }
   ],
   "source": [
    "norm.ppf(0.05)"
   ]
  },
  {
   "cell_type": "code",
   "execution_count": 132,
   "id": "9648dd91-a7b9-4200-8ac3-2deff6d4f313",
   "metadata": {},
   "outputs": [
    {
     "data": {
      "text/plain": [
       "3.373939551436088"
      ]
     },
     "execution_count": 132,
     "metadata": {},
     "output_type": "execute_result"
    }
   ],
   "source": [
    "np.mean(erupt) - 1.645*np.std(erupt,ddof=1)/(len(erupt)**0.5)"
   ]
  },
  {
   "cell_type": "code",
   "execution_count": 95,
   "id": "11273cd8-d644-4a72-a756-873ad869c11d",
   "metadata": {},
   "outputs": [],
   "source": [
    "## this mean is called 95% lower bound "
   ]
  },
  {
   "cell_type": "code",
   "execution_count": 96,
   "id": "8de43aa6-e979-46d2-a91d-e82afcbd3737",
   "metadata": {},
   "outputs": [
    {
     "data": {
      "text/plain": [
       "(1.2684354703574654, 0.10232124071101334)"
      ]
     },
     "execution_count": 96,
     "metadata": {},
     "output_type": "execute_result"
    }
   ],
   "source": [
    "statsmodels.stats.weightstats.ztest(erupt, value=3.4, alternative='larger')"
   ]
  },
  {
   "cell_type": "code",
   "execution_count": null,
   "id": "58e862da-fcdc-4481-ba58-f272c427a8fb",
   "metadata": {},
   "outputs": [],
   "source": [
    "##we calculated the 95% lower bound mean as 3.37"
   ]
  },
  {
   "cell_type": "code",
   "execution_count": 19,
   "id": "6f6d8d32-dd4c-4171-b28d-e1170ab390ab",
   "metadata": {},
   "outputs": [],
   "source": [
    "##since here p value is greater than 0.5 then we do not have to make any changes, the statistical difference is insignificant\n",
    "##and 3.4 is not so greater than 3.37"
   ]
  },
  {
   "cell_type": "markdown",
   "id": "4befdf58-09a1-4019-a7c0-1b640421e031",
   "metadata": {},
   "source": [
    "## alternative claim to above problem \n"
   ]
  },
  {
   "cell_type": "code",
   "execution_count": 22,
   "id": "237ec04e-6cdb-4ab3-8773-253f1f800279",
   "metadata": {},
   "outputs": [],
   "source": [
    "# the mean of erupt is atleast 3.7"
   ]
  },
  {
   "cell_type": "code",
   "execution_count": 23,
   "id": "589e7c54-d132-4166-b7d2-8372829b1430",
   "metadata": {},
   "outputs": [],
   "source": [
    "# Ho mu>=3.7 Ha mu<3.7,, errort exist on left side (lower side), left tail test"
   ]
  },
  {
   "cell_type": "code",
   "execution_count": 102,
   "id": "184f76e6-ed01-4176-8796-486ab5be9c1d",
   "metadata": {},
   "outputs": [
    {
     "data": {
      "text/plain": [
       "(-3.06646147570652, 0.0010830435959524984)"
      ]
     },
     "execution_count": 102,
     "metadata": {},
     "output_type": "execute_result"
    }
   ],
   "source": [
    "statsmodels.stats.weightstats.ztest(erupt,value=3.7,alternative='smaller')"
   ]
  },
  {
   "cell_type": "code",
   "execution_count": 25,
   "id": "4acee39a-211c-4a3a-a854-e035f9e7a50d",
   "metadata": {},
   "outputs": [],
   "source": [
    "# H0 is rejected. diff is significant, action needs to be taken"
   ]
  },
  {
   "cell_type": "code",
   "execution_count": 26,
   "id": "cf8298ac-5f84-4ed3-9433-3932019857be",
   "metadata": {},
   "outputs": [
    {
     "data": {
      "text/plain": [
       "3.601972654021731"
      ]
     },
     "execution_count": 26,
     "metadata": {},
     "output_type": "execute_result"
    }
   ],
   "source": [
    "np.mean(erupt) + 1.65*np.std(erupt,ddof=1)/((len(erupt)**0.5))"
   ]
  },
  {
   "cell_type": "code",
   "execution_count": 27,
   "id": "6a36a8f9-7628-4589-ab72-80fa179e2d8d",
   "metadata": {},
   "outputs": [
    {
     "data": {
      "text/plain": [
       "(-0.8990130026745241, 0.18432286741340448)"
      ]
     },
     "execution_count": 27,
     "metadata": {},
     "output_type": "execute_result"
    }
   ],
   "source": [
    "statsmodels.stats.weightstats.ztest(erupt, value=3.55,alternative='smaller')"
   ]
  },
  {
   "cell_type": "code",
   "execution_count": 28,
   "id": "7b1b038f-8db6-49b2-8adb-025afdc3b835",
   "metadata": {},
   "outputs": [],
   "source": [
    "## 95% higher bound is 3.60, i.e mean should never exceed 3.60"
   ]
  },
  {
   "cell_type": "markdown",
   "id": "b5e62cd6-dd4a-43c1-8ed4-6a3e9997ebbd",
   "metadata": {},
   "source": [
    "## Another example"
   ]
  },
  {
   "cell_type": "code",
   "execution_count": 29,
   "id": "588c53af-3f6d-4fd6-b8e1-f38496cc1255",
   "metadata": {},
   "outputs": [],
   "source": [
    "#using SLA \n",
    "x1 = [4,7,6,5,6,7,5,4,5,7,6,9,2,3,4]\n",
    "#mean is x1 should be maximum 5\n",
    "#ho m<=5, ha m>5 --> right tail test"
   ]
  },
  {
   "cell_type": "code",
   "execution_count": 30,
   "id": "ecf2086c-9035-4953-a5f1-cb5715bdcd2a",
   "metadata": {},
   "outputs": [
    {
     "data": {
      "text/plain": [
       "(0.7174300539794387, 0.2365543904474972)"
      ]
     },
     "execution_count": 30,
     "metadata": {},
     "output_type": "execute_result"
    }
   ],
   "source": [
    "statsmodels.stats.weightstats.ztest(x1, value=5,alternative='larger')"
   ]
  },
  {
   "cell_type": "code",
   "execution_count": 31,
   "id": "6ec8e92b-6fb3-4d01-ba97-f7de2243bf00",
   "metadata": {},
   "outputs": [
    {
     "data": {
      "text/plain": [
       "4.569031182493903"
      ]
     },
     "execution_count": 31,
     "metadata": {},
     "output_type": "execute_result"
    }
   ],
   "source": [
    "np.mean(x1) - 1.645*np.std(x1,ddof=1)/((len(x1)**0.5))"
   ]
  },
  {
   "cell_type": "code",
   "execution_count": 32,
   "id": "4535bde3-2000-49e4-a677-805255943098",
   "metadata": {},
   "outputs": [
    {
     "data": {
      "text/plain": [
       "5.333333333333333"
      ]
     },
     "execution_count": 32,
     "metadata": {},
     "output_type": "execute_result"
    }
   ],
   "source": [
    "np.mean(x1)"
   ]
  },
  {
   "cell_type": "code",
   "execution_count": 33,
   "id": "525fb57f-a53c-431e-afe8-22771487d21b",
   "metadata": {},
   "outputs": [],
   "source": [
    "#here our 95% lower bound mean is 4.56, we cant go lower than 4.56"
   ]
  },
  {
   "cell_type": "markdown",
   "id": "caccda1d-99d8-4d2c-b510-6d47d563e36d",
   "metadata": {},
   "source": [
    "# 2 Sample T- Test"
   ]
  },
  {
   "cell_type": "code",
   "execution_count": 34,
   "id": "62d45a3e-8254-4dee-bd8a-ab2ea23df46e",
   "metadata": {},
   "outputs": [],
   "source": [
    "x1 = [4,7,6,3,4,5,6,7,5,8]\n",
    "x2 = [9,8,6,10,7,8,6,8,5]\n",
    "# Ho mean(x2) - mean(x1) >= 2.5\n",
    "# Ha mean(x2) - mean(x1) < 2.5"
   ]
  },
  {
   "cell_type": "code",
   "execution_count": 35,
   "id": "e492a0bd-08df-46ee-8762-4cf8932d12b6",
   "metadata": {},
   "outputs": [
    {
     "data": {
      "text/plain": [
       "(-0.7627276534979204, 0.22281291748297843)"
      ]
     },
     "execution_count": 35,
     "metadata": {},
     "output_type": "execute_result"
    }
   ],
   "source": [
    "statsmodels.stats.weightstats.ztest(x2,x1, value=2.5,alternative='smaller')"
   ]
  },
  {
   "cell_type": "code",
   "execution_count": 36,
   "id": "b3a9ba69-58bc-48e7-8b40-c7d78475270c",
   "metadata": {},
   "outputs": [
    {
     "data": {
      "text/plain": [
       "1.9444444444444446"
      ]
     },
     "execution_count": 36,
     "metadata": {},
     "output_type": "execute_result"
    }
   ],
   "source": [
    "np.mean(x2)-np.mean(x1)"
   ]
  },
  {
   "cell_type": "code",
   "execution_count": 39,
   "id": "7e17e167-b84f-4fe5-b749-60432fb64580",
   "metadata": {},
   "outputs": [],
   "source": [
    "## If we assume mean of two samples is equal then it would be a two tailed as our hypothesis would fail on either side\n",
    "## statsmodels.stats.weightstats.ztest(x2,x1, value=0,alternative='two-sided')\n",
    "## statsmodels.stats.weightstats.ztest(x2,x1, value=0)"
   ]
  },
  {
   "cell_type": "markdown",
   "id": "1e7aadf6-5566-4d01-9e95-7b8f670e338c",
   "metadata": {},
   "source": [
    "# one-way ANOVA"
   ]
  },
  {
   "cell_type": "code",
   "execution_count": 42,
   "id": "fa252148-65a7-4af3-bd76-a0f7f3cee0d9",
   "metadata": {},
   "outputs": [],
   "source": [
    "sampID = ['A','A','A','A','A','A','B','B','B','B','C','C','C','C','C','C']\n",
    "salary = [40,43,38,29,30,35,45,48,46,42,28,35,40,37,32,38]"
   ]
  },
  {
   "cell_type": "code",
   "execution_count": 45,
   "id": "d9e07375-59d2-48e6-a43c-f2da4389bc8c",
   "metadata": {},
   "outputs": [],
   "source": [
    "import  statsmodels.api as sm\n",
    "from statsmodels.formula.api import ols\n",
    "import statsmodels.stats.multicomp\n",
    "from statsmodels.stats.multicomp import pairwise_tukeyhsd"
   ]
  },
  {
   "cell_type": "code",
   "execution_count": 46,
   "id": "0c854ae9-1447-4efa-bcfd-85dd92bb9beb",
   "metadata": {},
   "outputs": [],
   "source": [
    "data = {'City': sampID, 'Salary': salary}"
   ]
  },
  {
   "cell_type": "code",
   "execution_count": 48,
   "id": "8cfc94ae-91d5-47a5-aac2-bc8283c3b368",
   "metadata": {},
   "outputs": [],
   "source": [
    "df = pd.DataFrame(data)"
   ]
  },
  {
   "cell_type": "code",
   "execution_count": 49,
   "id": "e60d02b3-1042-4770-876f-fd1767feb7b7",
   "metadata": {},
   "outputs": [
    {
     "data": {
      "text/html": [
       "<div>\n",
       "<style scoped>\n",
       "    .dataframe tbody tr th:only-of-type {\n",
       "        vertical-align: middle;\n",
       "    }\n",
       "\n",
       "    .dataframe tbody tr th {\n",
       "        vertical-align: top;\n",
       "    }\n",
       "\n",
       "    .dataframe thead th {\n",
       "        text-align: right;\n",
       "    }\n",
       "</style>\n",
       "<table border=\"1\" class=\"dataframe\">\n",
       "  <thead>\n",
       "    <tr style=\"text-align: right;\">\n",
       "      <th></th>\n",
       "      <th>City</th>\n",
       "      <th>Salary</th>\n",
       "    </tr>\n",
       "  </thead>\n",
       "  <tbody>\n",
       "    <tr>\n",
       "      <th>0</th>\n",
       "      <td>A</td>\n",
       "      <td>40</td>\n",
       "    </tr>\n",
       "    <tr>\n",
       "      <th>1</th>\n",
       "      <td>A</td>\n",
       "      <td>43</td>\n",
       "    </tr>\n",
       "    <tr>\n",
       "      <th>2</th>\n",
       "      <td>A</td>\n",
       "      <td>38</td>\n",
       "    </tr>\n",
       "    <tr>\n",
       "      <th>3</th>\n",
       "      <td>A</td>\n",
       "      <td>29</td>\n",
       "    </tr>\n",
       "    <tr>\n",
       "      <th>4</th>\n",
       "      <td>A</td>\n",
       "      <td>30</td>\n",
       "    </tr>\n",
       "    <tr>\n",
       "      <th>5</th>\n",
       "      <td>A</td>\n",
       "      <td>35</td>\n",
       "    </tr>\n",
       "    <tr>\n",
       "      <th>6</th>\n",
       "      <td>B</td>\n",
       "      <td>45</td>\n",
       "    </tr>\n",
       "    <tr>\n",
       "      <th>7</th>\n",
       "      <td>B</td>\n",
       "      <td>48</td>\n",
       "    </tr>\n",
       "    <tr>\n",
       "      <th>8</th>\n",
       "      <td>B</td>\n",
       "      <td>46</td>\n",
       "    </tr>\n",
       "    <tr>\n",
       "      <th>9</th>\n",
       "      <td>B</td>\n",
       "      <td>42</td>\n",
       "    </tr>\n",
       "    <tr>\n",
       "      <th>10</th>\n",
       "      <td>C</td>\n",
       "      <td>28</td>\n",
       "    </tr>\n",
       "    <tr>\n",
       "      <th>11</th>\n",
       "      <td>C</td>\n",
       "      <td>35</td>\n",
       "    </tr>\n",
       "    <tr>\n",
       "      <th>12</th>\n",
       "      <td>C</td>\n",
       "      <td>40</td>\n",
       "    </tr>\n",
       "    <tr>\n",
       "      <th>13</th>\n",
       "      <td>C</td>\n",
       "      <td>37</td>\n",
       "    </tr>\n",
       "    <tr>\n",
       "      <th>14</th>\n",
       "      <td>C</td>\n",
       "      <td>32</td>\n",
       "    </tr>\n",
       "    <tr>\n",
       "      <th>15</th>\n",
       "      <td>C</td>\n",
       "      <td>38</td>\n",
       "    </tr>\n",
       "  </tbody>\n",
       "</table>\n",
       "</div>"
      ],
      "text/plain": [
       "   City  Salary\n",
       "0     A      40\n",
       "1     A      43\n",
       "2     A      38\n",
       "3     A      29\n",
       "4     A      30\n",
       "5     A      35\n",
       "6     B      45\n",
       "7     B      48\n",
       "8     B      46\n",
       "9     B      42\n",
       "10    C      28\n",
       "11    C      35\n",
       "12    C      40\n",
       "13    C      37\n",
       "14    C      32\n",
       "15    C      38"
      ]
     },
     "execution_count": 49,
     "metadata": {},
     "output_type": "execute_result"
    }
   ],
   "source": [
    "df"
   ]
  },
  {
   "cell_type": "code",
   "execution_count": 50,
   "id": "dc2d5e7e-f657-4df8-8a34-e32407381ca5",
   "metadata": {},
   "outputs": [],
   "source": [
    "mod1 = ols('Salary ~ City',data=df).fit()\n",
    "# ~ --> depends on\n",
    "#ols('ColWithResponse ~ \"ColWithPredictor\")"
   ]
  },
  {
   "cell_type": "code",
   "execution_count": 51,
   "id": "31753ad6-a8fa-4238-b4fa-292582928099",
   "metadata": {},
   "outputs": [],
   "source": [
    "my_table = sm.stats.anova_lm(mod1)"
   ]
  },
  {
   "cell_type": "code",
   "execution_count": 52,
   "id": "c242fac6-c25e-4a0a-ba08-3d4ff00c8b30",
   "metadata": {},
   "outputs": [
    {
     "data": {
      "text/html": [
       "<div>\n",
       "<style scoped>\n",
       "    .dataframe tbody tr th:only-of-type {\n",
       "        vertical-align: middle;\n",
       "    }\n",
       "\n",
       "    .dataframe tbody tr th {\n",
       "        vertical-align: top;\n",
       "    }\n",
       "\n",
       "    .dataframe thead th {\n",
       "        text-align: right;\n",
       "    }\n",
       "</style>\n",
       "<table border=\"1\" class=\"dataframe\">\n",
       "  <thead>\n",
       "    <tr style=\"text-align: right;\">\n",
       "      <th></th>\n",
       "      <th>df</th>\n",
       "      <th>sum_sq</th>\n",
       "      <th>mean_sq</th>\n",
       "      <th>F</th>\n",
       "      <th>PR(&gt;F)</th>\n",
       "    </tr>\n",
       "  </thead>\n",
       "  <tbody>\n",
       "    <tr>\n",
       "      <th>City</th>\n",
       "      <td>2.0</td>\n",
       "      <td>292.166667</td>\n",
       "      <td>146.083333</td>\n",
       "      <td>7.044513</td>\n",
       "      <td>0.008462</td>\n",
       "    </tr>\n",
       "    <tr>\n",
       "      <th>Residual</th>\n",
       "      <td>13.0</td>\n",
       "      <td>269.583333</td>\n",
       "      <td>20.737179</td>\n",
       "      <td>NaN</td>\n",
       "      <td>NaN</td>\n",
       "    </tr>\n",
       "  </tbody>\n",
       "</table>\n",
       "</div>"
      ],
      "text/plain": [
       "            df      sum_sq     mean_sq         F    PR(>F)\n",
       "City       2.0  292.166667  146.083333  7.044513  0.008462\n",
       "Residual  13.0  269.583333   20.737179       NaN       NaN"
      ]
     },
     "execution_count": 52,
     "metadata": {},
     "output_type": "execute_result"
    }
   ],
   "source": [
    "my_table"
   ]
  },
  {
   "cell_type": "code",
   "execution_count": 54,
   "id": "acac4673-6e8c-4089-b515-863f42072614",
   "metadata": {},
   "outputs": [],
   "source": [
    "res = pairwise_tukeyhsd(df.Salary,df.City)"
   ]
  },
  {
   "cell_type": "code",
   "execution_count": 56,
   "id": "143bdf51-fb3d-4906-b697-58fdc3778c7c",
   "metadata": {},
   "outputs": [
    {
     "name": "stdout",
     "output_type": "stream",
     "text": [
      " Multiple Comparison of Means - Tukey HSD, FWER=0.05 \n",
      "=====================================================\n",
      "group1 group2 meandiff p-adj   lower    upper  reject\n",
      "-----------------------------------------------------\n",
      "     A      B   9.4167 0.0177   1.6552 17.1782   True\n",
      "     A      C  -0.8333 0.9464  -7.7754  6.1088  False\n",
      "     B      C   -10.25 0.0104 -18.0115 -2.4885   True\n",
      "-----------------------------------------------------\n"
     ]
    }
   ],
   "source": [
    "print(res)"
   ]
  },
  {
   "cell_type": "code",
   "execution_count": 59,
   "id": "2ea8f1ce-2b91-4063-9af0-72a862311f4d",
   "metadata": {},
   "outputs": [],
   "source": [
    "gender = ['M','M','M','F','F','F','M','M','F','F','M','M','M','F','F','F']"
   ]
  },
  {
   "cell_type": "code",
   "execution_count": 60,
   "id": "5869b389-320b-419a-a618-3ccc26b98045",
   "metadata": {},
   "outputs": [],
   "source": [
    "df['Gender'] = gender"
   ]
  },
  {
   "cell_type": "code",
   "execution_count": 62,
   "id": "4bb50cbb-9724-474b-9d6d-d7a0ce191303",
   "metadata": {},
   "outputs": [
    {
     "data": {
      "text/html": [
       "<div>\n",
       "<style scoped>\n",
       "    .dataframe tbody tr th:only-of-type {\n",
       "        vertical-align: middle;\n",
       "    }\n",
       "\n",
       "    .dataframe tbody tr th {\n",
       "        vertical-align: top;\n",
       "    }\n",
       "\n",
       "    .dataframe thead th {\n",
       "        text-align: right;\n",
       "    }\n",
       "</style>\n",
       "<table border=\"1\" class=\"dataframe\">\n",
       "  <thead>\n",
       "    <tr style=\"text-align: right;\">\n",
       "      <th></th>\n",
       "      <th>City</th>\n",
       "      <th>Salary</th>\n",
       "      <th>Gender</th>\n",
       "    </tr>\n",
       "  </thead>\n",
       "  <tbody>\n",
       "    <tr>\n",
       "      <th>0</th>\n",
       "      <td>A</td>\n",
       "      <td>40</td>\n",
       "      <td>M</td>\n",
       "    </tr>\n",
       "    <tr>\n",
       "      <th>1</th>\n",
       "      <td>A</td>\n",
       "      <td>43</td>\n",
       "      <td>M</td>\n",
       "    </tr>\n",
       "    <tr>\n",
       "      <th>2</th>\n",
       "      <td>A</td>\n",
       "      <td>38</td>\n",
       "      <td>M</td>\n",
       "    </tr>\n",
       "    <tr>\n",
       "      <th>3</th>\n",
       "      <td>A</td>\n",
       "      <td>29</td>\n",
       "      <td>F</td>\n",
       "    </tr>\n",
       "    <tr>\n",
       "      <th>4</th>\n",
       "      <td>A</td>\n",
       "      <td>30</td>\n",
       "      <td>F</td>\n",
       "    </tr>\n",
       "  </tbody>\n",
       "</table>\n",
       "</div>"
      ],
      "text/plain": [
       "  City  Salary Gender\n",
       "0    A      40      M\n",
       "1    A      43      M\n",
       "2    A      38      M\n",
       "3    A      29      F\n",
       "4    A      30      F"
      ]
     },
     "execution_count": 62,
     "metadata": {},
     "output_type": "execute_result"
    }
   ],
   "source": [
    "df.head()"
   ]
  },
  {
   "cell_type": "code",
   "execution_count": 63,
   "id": "f2ebc584-c2e5-44f9-b2d8-ce9001a56317",
   "metadata": {},
   "outputs": [],
   "source": [
    "mod2 = ols('Salary ~ City + Gender', data=df).fit()"
   ]
  },
  {
   "cell_type": "code",
   "execution_count": 64,
   "id": "d10959ff-ba50-4b65-b558-690b42761246",
   "metadata": {},
   "outputs": [],
   "source": [
    "my_table2 = sm.stats.anova_lm(mod2)"
   ]
  },
  {
   "cell_type": "code",
   "execution_count": 65,
   "id": "fe37a57c-4d6e-4959-ade7-f0a034cd9463",
   "metadata": {},
   "outputs": [
    {
     "name": "stdout",
     "output_type": "stream",
     "text": [
      "            df      sum_sq     mean_sq         F    PR(>F)\n",
      "City       2.0  292.166667  146.083333  7.947110  0.006339\n",
      "Gender     1.0   49.000000   49.000000  2.665659  0.128481\n",
      "Residual  12.0  220.583333   18.381944       NaN       NaN\n"
     ]
    }
   ],
   "source": [
    "print(my_table2)"
   ]
  },
  {
   "cell_type": "code",
   "execution_count": 67,
   "id": "d3968b12-67ec-47d8-bfb7-b76a886239bd",
   "metadata": {},
   "outputs": [
    {
     "name": "stdout",
     "output_type": "stream",
     "text": [
      "Multiple Comparison of Means - Tukey HSD, FWER=0.05\n",
      "================================================\n",
      "group1 group2 meandiff p-adj  lower upper reject\n",
      "------------------------------------------------\n",
      "     F      M      3.5 0.2668 -2.99  9.99  False\n",
      "------------------------------------------------\n"
     ]
    }
   ],
   "source": [
    "res = pairwise_tukeyhsd(df.Salary,df.Gender)\n",
    "print(res)"
   ]
  },
  {
   "cell_type": "code",
   "execution_count": 72,
   "id": "1de2036c-b3fa-4285-a3c6-4d8c882db143",
   "metadata": {},
   "outputs": [],
   "source": [
    "mod3 = ols('Salary ~ City * Gender', data=df).fit()"
   ]
  },
  {
   "cell_type": "code",
   "execution_count": 73,
   "id": "eda644bd-8687-4cfe-819d-ec0709146403",
   "metadata": {},
   "outputs": [],
   "source": [
    "my_table3 = sm.stats.anova_lm(mod3)"
   ]
  },
  {
   "cell_type": "code",
   "execution_count": 74,
   "id": "009bf914-2b9a-4e6c-8986-0b41f3c10570",
   "metadata": {},
   "outputs": [
    {
     "name": "stdout",
     "output_type": "stream",
     "text": [
      "               df      sum_sq     mean_sq          F    PR(>F)\n",
      "City          2.0  292.166667  146.083333  10.497006  0.003496\n",
      "Gender        1.0   49.000000   49.000000   3.520958  0.090052\n",
      "City:Gender   2.0   81.416667   40.708333   2.925150  0.099957\n",
      "Residual     10.0  139.166667   13.916667        NaN       NaN\n"
     ]
    }
   ],
   "source": [
    "print(my_table3)"
   ]
  },
  {
   "cell_type": "code",
   "execution_count": 77,
   "id": "820e5c3e-6584-4e57-a929-679a0c7ccb58",
   "metadata": {},
   "outputs": [],
   "source": [
    "## City : Gender indicates the interaction between city and gender,  \n",
    "## Interaction between 3 and more factors is never significant\n",
    "# here the null hypothesis is interactions is insignificant, \n",
    "# alternative would be it is significant\n",
    "# exapmle - weather conditions would impact speed of bike and car"
   ]
  }
 ],
 "metadata": {
  "kernelspec": {
   "display_name": "Python 3 (ipykernel)",
   "language": "python",
   "name": "python3"
  },
  "language_info": {
   "codemirror_mode": {
    "name": "ipython",
    "version": 3
   },
   "file_extension": ".py",
   "mimetype": "text/x-python",
   "name": "python",
   "nbconvert_exporter": "python",
   "pygments_lexer": "ipython3",
   "version": "3.12.2"
  }
 },
 "nbformat": 4,
 "nbformat_minor": 5
}
