{
 "cells": [
  {
   "cell_type": "code",
   "execution_count": 1,
   "id": "b664db54-8513-4817-ac85-d65d2f0a1be5",
   "metadata": {},
   "outputs": [],
   "source": [
    "import statsmodels\n",
    "from statsmodels import stats\n",
    "from statsmodels.stats import weightstats\n",
    "from scipy.stats import t,norm\n",
    "import numpy as np\n",
    "import pandas as pd\n",
    "import  statsmodels.api as sm\n",
    "from statsmodels.formula.api import ols\n",
    "import statsmodels.stats.multicomp\n",
    "from statsmodels.stats.multicomp import pairwise_tukeyhsd\n",
    "from statsmodels.stats import proportion\n",
    "from scipy.stats import chisquare,chi2_contingency\n",
    "import scipy\n",
    "from scipy import stats"
   ]
  },
  {
   "cell_type": "markdown",
   "id": "3d0da558-dc7c-47a5-9867-3091a205e08d",
   "metadata": {},
   "source": [
    "# One sample Proportion Test"
   ]
  },
  {
   "cell_type": "code",
   "execution_count": 2,
   "id": "13a788ea-fea6-48ce-83dd-e2e0ebe3f338",
   "metadata": {},
   "outputs": [],
   "source": [
    "#min 70% of students are engineers\n",
    "#Ho s>=0.7 Ha s<0.7"
   ]
  },
  {
   "cell_type": "code",
   "execution_count": 2,
   "id": "15c2743b-c0cc-4520-84bf-c53b15901fdf",
   "metadata": {},
   "outputs": [
    {
     "data": {
      "text/plain": [
       "35.0"
      ]
     },
     "execution_count": 2,
     "metadata": {},
     "output_type": "execute_result"
    }
   ],
   "source": [
    "#in a batch of 50 students, 28 were engineers (can't be in decimals)\n",
    "#(but their proportion might be hence we use)\n",
    "# 28/50=0.56\n",
    "#now we have to check if the difference between 0.7 and 0.56 can be ignored \n",
    "0.7*50"
   ]
  },
  {
   "cell_type": "code",
   "execution_count": 42,
   "id": "3499240e-9d2b-43d1-9cfe-62ff28209357",
   "metadata": {},
   "outputs": [
    {
     "data": {
      "text/plain": [
       "(-1.7192047651837583, 0.042788546726336474)"
      ]
     },
     "execution_count": 42,
     "metadata": {},
     "output_type": "execute_result"
    }
   ],
   "source": [
    "statsmodels.stats.proportion.proportions_ztest(28,50,value=0.7,alternative='smaller')"
   ]
  },
  {
   "cell_type": "code",
   "execution_count": null,
   "id": "0bdd6c7e-224e-41aa-948a-ac21d70bc923",
   "metadata": {},
   "outputs": [],
   "source": [
    "#here the difference between p value and 0.05 is less hence the difference is significant\n",
    "# and actions have to be taken"
   ]
  },
  {
   "cell_type": "markdown",
   "id": "05cdd644-bc62-473f-8d0b-5e2a23a539ab",
   "metadata": {},
   "source": [
    "# Two Sample Proportions Test"
   ]
  },
  {
   "cell_type": "code",
   "execution_count": 5,
   "id": "fa948f03-0c52-4899-83d9-46641f87aeab",
   "metadata": {},
   "outputs": [],
   "source": [
    "#kharghar office claims that they ahve atleast 12% more engineers in their batch as compared to pune "
   ]
  },
  {
   "cell_type": "code",
   "execution_count": 6,
   "id": "5a42f717-57d3-456a-a58d-342d79986788",
   "metadata": {},
   "outputs": [],
   "source": [
    "# Ho pr_KH - pr_PU >= 0.12  Ha pr_KH - pr_PU < 0.12\n",
    "# In kharghar we had a sample of 30students, 20 were engineers. Whereas in pune sample of 40 students, 25 werer engineers"
   ]
  },
  {
   "cell_type": "code",
   "execution_count": 7,
   "id": "34365072-b529-43b1-8102-fa6db4f49cc3",
   "metadata": {},
   "outputs": [
    {
     "data": {
      "text/plain": [
       "0.04166666666666663"
      ]
     },
     "execution_count": 7,
     "metadata": {},
     "output_type": "execute_result"
    }
   ],
   "source": [
    "20/30 - 25/40"
   ]
  },
  {
   "cell_type": "code",
   "execution_count": 8,
   "id": "334987e3-04d2-4f66-a8f3-debdef8a04bb",
   "metadata": {},
   "outputs": [],
   "source": [
    "#We now have to compare with the claim and check with a tool if their difference could be ignored\n",
    "#our difference is 0.41 (which was a sample, and becase it is a sample we are trying to check if this difference is significant or not)\n",
    "#whereas the claim was 0.12"
   ]
  },
  {
   "cell_type": "code",
   "execution_count": 10,
   "id": "02dde49c-990f-423a-a593-6d4797844c76",
   "metadata": {},
   "outputs": [],
   "source": [
    "eng = np.array([20,25])\n",
    "tot = np.array([30,40])"
   ]
  },
  {
   "cell_type": "code",
   "execution_count": 12,
   "id": "9dc8b63a-e8a5-4271-a054-5ed33c4b2bca",
   "metadata": {},
   "outputs": [
    {
     "data": {
      "text/plain": [
       "(-0.6768773618337102, 0.24924188428352118)"
      ]
     },
     "execution_count": 12,
     "metadata": {},
     "output_type": "execute_result"
    }
   ],
   "source": [
    "statsmodels.stats.proportion.proportions_ztest(eng,tot,value=0.12,alternative='smaller')"
   ]
  },
  {
   "cell_type": "code",
   "execution_count": 13,
   "id": "e888e9d8-5118-4b40-b72c-2206212ec67a",
   "metadata": {},
   "outputs": [],
   "source": [
    "#here since our p value is greater than 0.05 we conclude that the difference is insignificant "
   ]
  },
  {
   "cell_type": "markdown",
   "id": "384f0c22-df09-4a36-b029-7504e5be4641",
   "metadata": {},
   "source": [
    "# Chi Square Tests"
   ]
  },
  {
   "cell_type": "markdown",
   "id": "0f9fc945-2f7d-4b0c-8cf7-c0ab817fe25d",
   "metadata": {},
   "source": [
    "# 1 Goodness of Fit Test (one variable)"
   ]
  },
  {
   "cell_type": "code",
   "execution_count": 3,
   "id": "72aeebb8-f8d6-4b14-9636-f9fa611c225a",
   "metadata": {},
   "outputs": [],
   "source": [
    "## \n",
    "import scipy\n",
    "from scipy import stats\n",
    "from scipy.stats import chisquare\n",
    "import numpy as np"
   ]
  },
  {
   "cell_type": "code",
   "execution_count": 6,
   "id": "6d4d5b70-dd09-412d-b9b8-7a0406f2bbe8",
   "metadata": {},
   "outputs": [],
   "source": [
    "pattern = np.array([0.7,0.05,0.1,0.15])\n",
    "obs_counts = np.array([45,8,12,15])\n",
    "exp_counts = sum(obs_counts)*pattern"
   ]
  },
  {
   "cell_type": "code",
   "execution_count": 7,
   "id": "208d4310-1b45-4222-8413-ebf4d8e8a9ff",
   "metadata": {},
   "outputs": [
    {
     "data": {
      "text/plain": [
       "array([56.,  4.,  8., 12.])"
      ]
     },
     "execution_count": 7,
     "metadata": {},
     "output_type": "execute_result"
    }
   ],
   "source": [
    "exp_counts"
   ]
  },
  {
   "cell_type": "code",
   "execution_count": 8,
   "id": "ee3a6c2c-8bff-48a5-91bc-72dd4e883590",
   "metadata": {},
   "outputs": [
    {
     "data": {
      "text/plain": [
       "Power_divergenceResult(statistic=8.910714285714285, pvalue=0.03050184699490359)"
      ]
     },
     "execution_count": 8,
     "metadata": {},
     "output_type": "execute_result"
    }
   ],
   "source": [
    "scipy.stats.chisquare(obs_counts,exp_counts)"
   ]
  },
  {
   "cell_type": "code",
   "execution_count": 31,
   "id": "ed2afd0f-8d29-42bf-9cf1-a87fe09b3855",
   "metadata": {},
   "outputs": [],
   "source": [
    "#here since pvalue is less than 0.05 the difference is significant, there exists atleast one difference in counts expected\n",
    "#and observed (as per the pattern) where the difference in significant"
   ]
  },
  {
   "cell_type": "markdown",
   "id": "39997322-27b2-428f-ac57-8771c5148b1b",
   "metadata": {},
   "source": [
    "# 2 Degree of Association (two variables)"
   ]
  },
  {
   "cell_type": "code",
   "execution_count": 36,
   "id": "b1ab865b-daab-4d40-9ca4-3f4e9184770c",
   "metadata": {},
   "outputs": [
    {
     "data": {
      "text/plain": [
       "array([[20, 28],\n",
       "       [15,  7],\n",
       "       [ 8, 23]])"
      ]
     },
     "execution_count": 36,
     "metadata": {},
     "output_type": "execute_result"
    }
   ],
   "source": [
    "food = np.array([[20,28],[15,7],[8,23]])\n",
    "food"
   ]
  },
  {
   "cell_type": "code",
   "execution_count": 37,
   "id": "ee81bdc9-0609-435f-b880-e0d876056acc",
   "metadata": {},
   "outputs": [
    {
     "data": {
      "text/plain": [
       "Chi2ContingencyResult(statistic=9.48190515497213, pvalue=0.008730325911340382, dof=2, expected_freq=array([[20.43564356, 27.56435644],\n",
       "       [ 9.36633663, 12.63366337],\n",
       "       [13.1980198 , 17.8019802 ]]))"
      ]
     },
     "execution_count": 37,
     "metadata": {},
     "output_type": "execute_result"
    }
   ],
   "source": [
    "scipy.stats.chi2_contingency(food)"
   ]
  },
  {
   "cell_type": "code",
   "execution_count": 38,
   "id": "a9d8124a-c417-4902-b3ea-5c297201a49e",
   "metadata": {},
   "outputs": [],
   "source": [
    "#degrees of freedom for table = no.of rows - 1 * no. of columns -1 "
   ]
  },
  {
   "cell_type": "code",
   "execution_count": 40,
   "id": "b81a0e1b-b5de-4ac6-b0cb-cc42a431d991",
   "metadata": {},
   "outputs": [],
   "source": [
    "#we assummed our null hypothesis to be that there is no relation between food order and gender whereas our result from above contingency \n",
    "#(p value smaller than 0.05)\n",
    "#rejects our null hypothesis therefore proving that there exists association between food order and gender"
   ]
  },
  {
   "cell_type": "code",
   "execution_count": null,
   "id": "cd8573d3-0e84-41e6-b363-c1f20f8770f2",
   "metadata": {},
   "outputs": [],
   "source": []
  }
 ],
 "metadata": {
  "kernelspec": {
   "display_name": "Python 3 (ipykernel)",
   "language": "python",
   "name": "python3"
  },
  "language_info": {
   "codemirror_mode": {
    "name": "ipython",
    "version": 3
   },
   "file_extension": ".py",
   "mimetype": "text/x-python",
   "name": "python",
   "nbconvert_exporter": "python",
   "pygments_lexer": "ipython3",
   "version": "3.12.2"
  }
 },
 "nbformat": 4,
 "nbformat_minor": 5
}
