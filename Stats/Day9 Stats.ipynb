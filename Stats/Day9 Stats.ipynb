{
 "cells": [
  {
   "cell_type": "code",
   "execution_count": null,
   "id": "e3d164a7-e659-4654-a321-33e7bb35f684",
   "metadata": {},
   "outputs": [],
   "source": [
    "pip install scikit-learn"
   ]
  },
  {
   "cell_type": "code",
   "execution_count": 1,
   "id": "f5e68f62-0cbb-4716-9975-8c68570cf38a",
   "metadata": {},
   "outputs": [],
   "source": [
    "import statsmodels\n",
    "from statsmodels import stats\n",
    "from statsmodels.stats import weightstats\n",
    "from scipy.stats import t,norm\n",
    "import numpy as np\n",
    "import pandas as pd\n",
    "import  statsmodels.api as sm\n",
    "from statsmodels.formula.api import ols\n",
    "import statsmodels.stats.multicomp\n",
    "from statsmodels.stats.multicomp import pairwise_tukeyhsd\n",
    "from statsmodels.stats import proportion\n",
    "from scipy.stats import chisquare,chi2_contingency\n",
    "import scipy\n",
    "from scipy import stats\n",
    "import pylab\n",
    "from pylab import plot,show,legend,title,xlabel,ylabel\n",
    "import matplotlib.pyplot as plt\n",
    "\n",
    "import sklearn\n",
    "from sklearn.model_selection import train_test_split"
   ]
  },
  {
   "cell_type": "code",
   "execution_count": 3,
   "id": "e926088a-4823-42f9-8979-6242113be65e",
   "metadata": {},
   "outputs": [],
   "source": [
    "# 1 sample z/t \n",
    "#to compare mean value with claim value"
   ]
  },
  {
   "cell_type": "code",
   "execution_count": 2,
   "id": "b2296f36-b6a0-40f6-8cc3-ec7ca4923b72",
   "metadata": {},
   "outputs": [],
   "source": [
    "df = pd.read_excel('CDAC_DataBook.xlsx',sheet_name='faithful')"
   ]
  },
  {
   "cell_type": "code",
   "execution_count": 3,
   "id": "c702784b-3a52-4cfa-b25c-e85f7b9f020a",
   "metadata": {},
   "outputs": [],
   "source": [
    "x1 = df.waiting\n",
    "y = df.eruptions"
   ]
  },
  {
   "cell_type": "code",
   "execution_count": 4,
   "id": "63a30d64-a2be-4a7c-9662-5ffb153171a8",
   "metadata": {},
   "outputs": [
    {
     "data": {
      "text/plain": [
       "LinregressResult(slope=0.07562794795186269, intercept=-1.8740159864107357, rvalue=0.9008111683218128, pvalue=8.129958506619089e-100, stderr=0.0022185414515176905, intercept_stderr=0.16014330230423848)"
      ]
     },
     "execution_count": 4,
     "metadata": {},
     "output_type": "execute_result"
    }
   ],
   "source": [
    "stats.linregress(x1,y)"
   ]
  },
  {
   "cell_type": "code",
   "execution_count": 10,
   "id": "b6f29905-69d9-4b14-b650-68f0d8e86c25",
   "metadata": {},
   "outputs": [],
   "source": [
    "#y = m*x + c \n",
    "#y = eruptions, m = slope, x = waiting, c = intercept"
   ]
  },
  {
   "cell_type": "code",
   "execution_count": 15,
   "id": "87febed3-378b-4270-b197-d4d1db3007b1",
   "metadata": {},
   "outputs": [],
   "source": [
    "x_train = df.waiting\n",
    "y_train = df.eruptions"
   ]
  },
  {
   "cell_type": "code",
   "execution_count": 16,
   "id": "45df0587-36e7-414c-838c-909feaa5c3b8",
   "metadata": {},
   "outputs": [
    {
     "data": {
      "text/html": [
       "<div>\n",
       "<style scoped>\n",
       "    .dataframe tbody tr th:only-of-type {\n",
       "        vertical-align: middle;\n",
       "    }\n",
       "\n",
       "    .dataframe tbody tr th {\n",
       "        vertical-align: top;\n",
       "    }\n",
       "\n",
       "    .dataframe thead th {\n",
       "        text-align: right;\n",
       "    }\n",
       "</style>\n",
       "<table border=\"1\" class=\"dataframe\">\n",
       "  <thead>\n",
       "    <tr style=\"text-align: right;\">\n",
       "      <th></th>\n",
       "      <th>waiting</th>\n",
       "      <th>const</th>\n",
       "    </tr>\n",
       "  </thead>\n",
       "  <tbody>\n",
       "    <tr>\n",
       "      <th>0</th>\n",
       "      <td>79</td>\n",
       "      <td>1.0</td>\n",
       "    </tr>\n",
       "    <tr>\n",
       "      <th>1</th>\n",
       "      <td>54</td>\n",
       "      <td>1.0</td>\n",
       "    </tr>\n",
       "    <tr>\n",
       "      <th>2</th>\n",
       "      <td>74</td>\n",
       "      <td>1.0</td>\n",
       "    </tr>\n",
       "    <tr>\n",
       "      <th>3</th>\n",
       "      <td>62</td>\n",
       "      <td>1.0</td>\n",
       "    </tr>\n",
       "    <tr>\n",
       "      <th>4</th>\n",
       "      <td>85</td>\n",
       "      <td>1.0</td>\n",
       "    </tr>\n",
       "  </tbody>\n",
       "</table>\n",
       "</div>"
      ],
      "text/plain": [
       "   waiting  const\n",
       "0       79    1.0\n",
       "1       54    1.0\n",
       "2       74    1.0\n",
       "3       62    1.0\n",
       "4       85    1.0"
      ]
     },
     "execution_count": 16,
     "metadata": {},
     "output_type": "execute_result"
    }
   ],
   "source": [
    "# here we are adding constant 1 to exist in form of y=mx+c\n",
    "x_train = sm.add_constant(x_train, prepend=False)\n",
    "x_train.head()"
   ]
  },
  {
   "cell_type": "code",
   "execution_count": 13,
   "id": "d422fef2-7d6b-4bc5-a327-6d205dd592c4",
   "metadata": {},
   "outputs": [],
   "source": [
    "# we are creating the model here\n",
    "mod1 = sm.OLS(y_train,x_train).fit()"
   ]
  },
  {
   "cell_type": "code",
   "execution_count": 17,
   "id": "c24420f6-d128-4ebb-803e-d0d20a8c0e01",
   "metadata": {},
   "outputs": [
    {
     "name": "stdout",
     "output_type": "stream",
     "text": [
      "                            OLS Regression Results                            \n",
      "==============================================================================\n",
      "Dep. Variable:              eruptions   R-squared:                       0.811\n",
      "Model:                            OLS   Adj. R-squared:                  0.811\n",
      "Method:                 Least Squares   F-statistic:                     1162.\n",
      "Date:                Thu, 06 Jun 2024   Prob (F-statistic):          8.13e-100\n",
      "Time:                        10:26:45   Log-Likelihood:                -194.51\n",
      "No. Observations:                 272   AIC:                             393.0\n",
      "Df Residuals:                     270   BIC:                             400.2\n",
      "Df Model:                           1                                         \n",
      "Covariance Type:            nonrobust                                         \n",
      "==============================================================================\n",
      "                 coef    std err          t      P>|t|      [0.025      0.975]\n",
      "------------------------------------------------------------------------------\n",
      "waiting        0.0756      0.002     34.089      0.000       0.071       0.080\n",
      "const         -1.8740      0.160    -11.702      0.000      -2.189      -1.559\n",
      "==============================================================================\n",
      "Omnibus:                        4.133   Durbin-Watson:                   2.561\n",
      "Prob(Omnibus):                  0.127   Jarque-Bera (JB):                3.173\n",
      "Skew:                          -0.138   Prob(JB):                        0.205\n",
      "Kurtosis:                       2.548   Cond. No.                         384.\n",
      "==============================================================================\n",
      "\n",
      "Notes:\n",
      "[1] Standard Errors assume that the covariance matrix of the errors is correctly specified.\n"
     ]
    }
   ],
   "source": [
    "print(mod1.summary())"
   ]
  },
  {
   "cell_type": "markdown",
   "id": "d698d684-e3e3-43cd-a012-301bbbdcfb80",
   "metadata": {},
   "source": [
    "# Demo on faithfull when we have one predictor"
   ]
  },
  {
   "cell_type": "code",
   "execution_count": 85,
   "id": "5b7a097b-e234-44fa-9434-a62f0377fd3b",
   "metadata": {},
   "outputs": [
    {
     "data": {
      "text/plain": [
       "eruptions    272\n",
       "waiting      272\n",
       "dtype: int64"
      ]
     },
     "execution_count": 85,
     "metadata": {},
     "output_type": "execute_result"
    }
   ],
   "source": [
    "272*0.8\n",
    "df.count()"
   ]
  },
  {
   "cell_type": "code",
   "execution_count": 56,
   "id": "f7320717-5f21-4039-a124-1eeae4b6f973",
   "metadata": {},
   "outputs": [],
   "source": [
    "df = pd.read_excel('CDAC_DataBook.xlsx',sheet_name='faithful')\n",
    "x_train,x_test,y_train,y_test=train_test_split(df.waiting,df.eruptions, test_size=0.2)\n",
    "x_train = sm.add_constant(x_train,prepend = False)\n",
    "mod1 = sm.OLS(y_train,x_train).fit()\n",
    "\n",
    "x_test = sm.add_constant(x_test,prepend=False)\n",
    "y_pred=mod1.predict(x_test)"
   ]
  },
  {
   "cell_type": "code",
   "execution_count": 76,
   "id": "da1530d2-6b97-43c0-8fe2-d387f2284cac",
   "metadata": {},
   "outputs": [
    {
     "data": {
      "text/plain": [
       "222    1.750\n",
       "230    4.083\n",
       "267    4.117\n",
       "150    5.033\n",
       "93     4.817\n",
       "Name: eruptions, dtype: float64"
      ]
     },
     "execution_count": 76,
     "metadata": {},
     "output_type": "execute_result"
    }
   ],
   "source": [
    "y_test.head()"
   ]
  },
  {
   "cell_type": "code",
   "execution_count": 58,
   "id": "1eaa4867-2e94-4a94-b504-b741d5f7695e",
   "metadata": {},
   "outputs": [
    {
     "data": {
      "text/plain": [
       "198    2.250\n",
       "92     1.867\n",
       "263    4.250\n",
       "144    4.333\n",
       "158    1.800\n",
       "Name: eruptions, dtype: float64"
      ]
     },
     "execution_count": 58,
     "metadata": {},
     "output_type": "execute_result"
    }
   ],
   "source": [
    "y_train[:5]"
   ]
  },
  {
   "cell_type": "code",
   "execution_count": 60,
   "id": "f0da2148-5976-48b6-b422-7140d826bca6",
   "metadata": {},
   "outputs": [
    {
     "data": {
      "text/html": [
       "<div>\n",
       "<style scoped>\n",
       "    .dataframe tbody tr th:only-of-type {\n",
       "        vertical-align: middle;\n",
       "    }\n",
       "\n",
       "    .dataframe tbody tr th {\n",
       "        vertical-align: top;\n",
       "    }\n",
       "\n",
       "    .dataframe thead th {\n",
       "        text-align: right;\n",
       "    }\n",
       "</style>\n",
       "<table border=\"1\" class=\"dataframe\">\n",
       "  <thead>\n",
       "    <tr style=\"text-align: right;\">\n",
       "      <th></th>\n",
       "      <th>waiting</th>\n",
       "      <th>const</th>\n",
       "    </tr>\n",
       "  </thead>\n",
       "  <tbody>\n",
       "    <tr>\n",
       "      <th>198</th>\n",
       "      <td>51</td>\n",
       "      <td>1.0</td>\n",
       "    </tr>\n",
       "    <tr>\n",
       "      <th>92</th>\n",
       "      <td>50</td>\n",
       "      <td>1.0</td>\n",
       "    </tr>\n",
       "    <tr>\n",
       "      <th>263</th>\n",
       "      <td>83</td>\n",
       "      <td>1.0</td>\n",
       "    </tr>\n",
       "    <tr>\n",
       "      <th>144</th>\n",
       "      <td>76</td>\n",
       "      <td>1.0</td>\n",
       "    </tr>\n",
       "    <tr>\n",
       "      <th>158</th>\n",
       "      <td>53</td>\n",
       "      <td>1.0</td>\n",
       "    </tr>\n",
       "  </tbody>\n",
       "</table>\n",
       "</div>"
      ],
      "text/plain": [
       "     waiting  const\n",
       "198       51    1.0\n",
       "92        50    1.0\n",
       "263       83    1.0\n",
       "144       76    1.0\n",
       "158       53    1.0"
      ]
     },
     "execution_count": 60,
     "metadata": {},
     "output_type": "execute_result"
    }
   ],
   "source": [
    "x_train.head()"
   ]
  },
  {
   "cell_type": "code",
   "execution_count": 83,
   "id": "3ebde073-4cb8-44f8-b9d0-ee5133fc071d",
   "metadata": {},
   "outputs": [
    {
     "data": {
      "text/plain": [
       "array([2.19537792, 3.40344392, 4.2339893 , 3.9319728 , 4.00747693,\n",
       "       3.47894805, 1.8178573 , 2.64840267, 4.08298105, 2.57289855,\n",
       "       4.91352643, 4.5360058 , 3.78096455, 4.68701405, 1.59134492,\n",
       "       3.85646868, 4.08298105, 1.66684905, 4.38499755, 3.78096455,\n",
       "       4.2339893 , 4.08298105, 2.79941092, 4.30949343, 3.3279398 ,\n",
       "       3.85646868, 4.15848518, 4.00747693, 3.6299563 , 3.70546043,\n",
       "       4.15848518, 4.00747693, 4.8380223 , 4.00747693, 2.57289855,\n",
       "       2.34638617, 3.78096455, 4.46050168, 4.61150993, 1.59134492,\n",
       "       4.2339893 , 4.2339893 , 5.06453468, 4.00747693, 2.49739442,\n",
       "       4.38499755, 1.74235317, 2.19537792, 4.46050168, 2.19537792,\n",
       "       3.70546043, 2.27088205, 2.57289855, 1.8178573 , 3.85646868])"
      ]
     },
     "execution_count": 83,
     "metadata": {},
     "output_type": "execute_result"
    }
   ],
   "source": [
    "y_pred.values"
   ]
  },
  {
   "cell_type": "code",
   "execution_count": 86,
   "id": "8cd25570-f8ba-483a-98c1-6639936bef45",
   "metadata": {},
   "outputs": [
    {
     "data": {
      "text/plain": [
       "array([1.75 , 4.083, 4.117, 5.033, 4.817, 3.717, 1.917, 2.25 , 4.433,\n",
       "       1.983, 4.333, 4.583, 4.133, 3.5  , 2.15 , 4.8  , 3.95 , 2.35 ,\n",
       "       4.167, 4.733, 4.8  , 3.6  , 2.283, 4.033, 3.067, 4.233, 4.033,\n",
       "       4.567, 4.5  , 4.533, 4.517, 3.85 , 4.333, 4.767, 2.233, 1.967,\n",
       "       4.15 , 4.8  , 4.183, 1.783, 4.333, 4.317, 4.4  , 4.6  , 2.   ,\n",
       "       4.417, 1.867, 2.2  , 4.5  , 1.833, 4.35 , 1.967, 1.833, 2.1  ,\n",
       "       4.15 ])"
      ]
     },
     "execution_count": 86,
     "metadata": {},
     "output_type": "execute_result"
    }
   ],
   "source": [
    "y_test.values"
   ]
  },
  {
   "cell_type": "code",
   "execution_count": 98,
   "id": "55fac8bd-4932-44a2-911c-a59bf4ded3b9",
   "metadata": {},
   "outputs": [
    {
     "data": {
      "image/png": "[encoded data removed]",
      "text/plain": [
       "<Figure size 640x480 with 1 Axes>"
      ]
     },
     "metadata": {},
     "output_type": "display_data"
    }
   ],
   "source": [
    "x_vals = range(len(y_pred))\n",
    "plt.plot(x_vals,y_pred,label=\"Pred-Data\",marker='o')\n",
    "plt.plot(x_vals,y_test,label=\"Test-Data\",marker='x')\n",
    "plt.legend(['Pred Data','Test Data'])\n",
    "plt.grid(True)\n",
    "plt.title(\"Predicted Data vs Test Data\")\n",
    "plt.show()"
   ]
  },
  {
   "cell_type": "markdown",
   "id": "85db8f1b-f6dc-4075-aaa2-3cab11ad8ee6",
   "metadata": {},
   "source": [
    "## Another way to represent differences of predicted data"
   ]
  },
  {
   "cell_type": "code",
   "execution_count": 97,
   "id": "0ecdfc83-f278-4c1a-9b1b-7cba2c8028f0",
   "metadata": {},
   "outputs": [
    {
     "data": {
      "text/plain": [
       "0.26856214481429763"
      ]
     },
     "execution_count": 97,
     "metadata": {},
     "output_type": "execute_result"
    }
   ],
   "source": [
    "type(y_test)\n",
    "dev = sum((y_test - y_pred)**2)\n",
    "dev/len(y_test)"
   ]
  },
  {
   "cell_type": "code",
   "execution_count": 32,
   "id": "4479c248-b35d-4705-bd3b-ea8bed813eb1",
   "metadata": {},
   "outputs": [
    {
     "data": {
      "text/html": [
       "<div>\n",
       "<style scoped>\n",
       "    .dataframe tbody tr th:only-of-type {\n",
       "        vertical-align: middle;\n",
       "    }\n",
       "\n",
       "    .dataframe tbody tr th {\n",
       "        vertical-align: top;\n",
       "    }\n",
       "\n",
       "    .dataframe thead th {\n",
       "        text-align: right;\n",
       "    }\n",
       "</style>\n",
       "<table border=\"1\" class=\"dataframe\">\n",
       "  <thead>\n",
       "    <tr style=\"text-align: right;\">\n",
       "      <th></th>\n",
       "      <th>AirFlow</th>\n",
       "      <th>WaterTemp</th>\n",
       "      <th>AcidConc</th>\n",
       "      <th>StackLoss</th>\n",
       "    </tr>\n",
       "  </thead>\n",
       "  <tbody>\n",
       "    <tr>\n",
       "      <th>0</th>\n",
       "      <td>80</td>\n",
       "      <td>27</td>\n",
       "      <td>89</td>\n",
       "      <td>42</td>\n",
       "    </tr>\n",
       "    <tr>\n",
       "      <th>1</th>\n",
       "      <td>80</td>\n",
       "      <td>27</td>\n",
       "      <td>88</td>\n",
       "      <td>37</td>\n",
       "    </tr>\n",
       "    <tr>\n",
       "      <th>2</th>\n",
       "      <td>75</td>\n",
       "      <td>25</td>\n",
       "      <td>90</td>\n",
       "      <td>37</td>\n",
       "    </tr>\n",
       "    <tr>\n",
       "      <th>3</th>\n",
       "      <td>62</td>\n",
       "      <td>24</td>\n",
       "      <td>87</td>\n",
       "      <td>28</td>\n",
       "    </tr>\n",
       "    <tr>\n",
       "      <th>4</th>\n",
       "      <td>62</td>\n",
       "      <td>22</td>\n",
       "      <td>87</td>\n",
       "      <td>18</td>\n",
       "    </tr>\n",
       "  </tbody>\n",
       "</table>\n",
       "</div>"
      ],
      "text/plain": [
       "   AirFlow  WaterTemp  AcidConc  StackLoss\n",
       "0       80         27        89         42\n",
       "1       80         27        88         37\n",
       "2       75         25        90         37\n",
       "3       62         24        87         28\n",
       "4       62         22        87         18"
      ]
     },
     "execution_count": 32,
     "metadata": {},
     "output_type": "execute_result"
    }
   ],
   "source": [
    "df.head()"
   ]
  },
  {
   "cell_type": "code",
   "execution_count": 99,
   "id": "af05e69c-8faa-4a15-be32-abb6cfac0e61",
   "metadata": {},
   "outputs": [
    {
     "name": "stdout",
     "output_type": "stream",
     "text": [
      "                            OLS Regression Results                            \n",
      "==============================================================================\n",
      "Dep. Variable:              StackLoss   R-squared:                       0.927\n",
      "Model:                            OLS   Adj. R-squared:                  0.909\n",
      "Method:                 Least Squares   F-statistic:                     50.94\n",
      "Date:                Thu, 06 Jun 2024   Prob (F-statistic):           4.23e-07\n",
      "Time:                        15:11:33   Log-Likelihood:                -34.671\n",
      "No. Observations:                  16   AIC:                             77.34\n",
      "Df Residuals:                      12   BIC:                             80.43\n",
      "Df Model:                           3                                         \n",
      "Covariance Type:            nonrobust                                         \n",
      "==============================================================================\n",
      "                 coef    std err          t      P>|t|      [0.025      0.975]\n",
      "------------------------------------------------------------------------------\n",
      "AirFlow        0.9008      0.145      6.210      0.000       0.585       1.217\n",
      "WaterTemp      1.0215      0.331      3.083      0.009       0.300       1.743\n",
      "AcidConc      -0.1385      0.126     -1.095      0.295      -0.414       0.137\n",
      "const        -45.4424      9.131     -4.977      0.000     -65.338     -25.547\n",
      "==============================================================================\n",
      "Omnibus:                        1.456   Durbin-Watson:                   1.874\n",
      "Prob(Omnibus):                  0.483   Jarque-Bera (JB):                0.598\n",
      "Skew:                           0.473   Prob(JB):                        0.741\n",
      "Kurtosis:                       3.046   Cond. No.                     1.58e+03\n",
      "==============================================================================\n",
      "\n",
      "Notes:\n",
      "[1] Standard Errors assume that the covariance matrix of the errors is correctly specified.\n",
      "[2] The condition number is large, 1.58e+03. This might indicate that there are\n",
      "strong multicollinearity or other numerical problems.\n"
     ]
    },
    {
     "name": "stderr",
     "output_type": "stream",
     "text": [
      "C:\\Users\\dheem\\AppData\\Local\\Programs\\Python\\Python312\\Lib\\site-packages\\scipy\\stats\\_axis_nan_policy.py:531: UserWarning: kurtosistest only valid for n>=20 ... continuing anyway, n=16\n",
      "  res = hypotest_fun_out(*samples, **kwds)\n"
     ]
    }
   ],
   "source": [
    "df = pd.read_excel('CDAC_DataBook.xlsx',sheet_name = 'stackloss')\n",
    "x_train,x_test,y_train,y_test=train_test_split(df.drop('StackLoss',axis=1),df.StackLoss, test_size=0.2)\n",
    "x_train = sm.add_constant(x_train,prepend = False)\n",
    "x_test = sm.add_constant(x_test,prepend=False)\n",
    "mod2 = sm.OLS(y_train,x_train).fit()\n",
    "print(mod2.summary())"
   ]
  },
  {
   "cell_type": "markdown",
   "id": "c5c8e229-84c4-476d-a82d-beaaf8362dd5",
   "metadata": {},
   "source": [
    "# Salaries files Predictors have multiple categories"
   ]
  },
  {
   "cell_type": "code",
   "execution_count": 5,
   "id": "d7421546-71f6-4081-82c5-33fd8b335660",
   "metadata": {},
   "outputs": [
    {
     "data": {
      "text/html": [
       "<div>\n",
       "<style scoped>\n",
       "    .dataframe tbody tr th:only-of-type {\n",
       "        vertical-align: middle;\n",
       "    }\n",
       "\n",
       "    .dataframe tbody tr th {\n",
       "        vertical-align: top;\n",
       "    }\n",
       "\n",
       "    .dataframe thead th {\n",
       "        text-align: right;\n",
       "    }\n",
       "</style>\n",
       "<table border=\"1\" class=\"dataframe\">\n",
       "  <thead>\n",
       "    <tr style=\"text-align: right;\">\n",
       "      <th></th>\n",
       "      <th>rank</th>\n",
       "      <th>discipline</th>\n",
       "      <th>yrs_phd</th>\n",
       "      <th>yrs_service</th>\n",
       "      <th>gender</th>\n",
       "      <th>salary</th>\n",
       "    </tr>\n",
       "  </thead>\n",
       "  <tbody>\n",
       "    <tr>\n",
       "      <th>0</th>\n",
       "      <td>Prof</td>\n",
       "      <td>B</td>\n",
       "      <td>19</td>\n",
       "      <td>18</td>\n",
       "      <td>Male</td>\n",
       "      <td>139750</td>\n",
       "    </tr>\n",
       "    <tr>\n",
       "      <th>1</th>\n",
       "      <td>Prof</td>\n",
       "      <td>B</td>\n",
       "      <td>20</td>\n",
       "      <td>16</td>\n",
       "      <td>Male</td>\n",
       "      <td>173200</td>\n",
       "    </tr>\n",
       "    <tr>\n",
       "      <th>2</th>\n",
       "      <td>AsstProf</td>\n",
       "      <td>B</td>\n",
       "      <td>4</td>\n",
       "      <td>3</td>\n",
       "      <td>Male</td>\n",
       "      <td>79750</td>\n",
       "    </tr>\n",
       "    <tr>\n",
       "      <th>3</th>\n",
       "      <td>Prof</td>\n",
       "      <td>B</td>\n",
       "      <td>45</td>\n",
       "      <td>39</td>\n",
       "      <td>Male</td>\n",
       "      <td>115000</td>\n",
       "    </tr>\n",
       "    <tr>\n",
       "      <th>4</th>\n",
       "      <td>Prof</td>\n",
       "      <td>B</td>\n",
       "      <td>40</td>\n",
       "      <td>41</td>\n",
       "      <td>Male</td>\n",
       "      <td>141500</td>\n",
       "    </tr>\n",
       "  </tbody>\n",
       "</table>\n",
       "</div>"
      ],
      "text/plain": [
       "       rank discipline  yrs_phd  yrs_service gender  salary\n",
       "0      Prof          B       19           18   Male  139750\n",
       "1      Prof          B       20           16   Male  173200\n",
       "2  AsstProf          B        4            3   Male   79750\n",
       "3      Prof          B       45           39   Male  115000\n",
       "4      Prof          B       40           41   Male  141500"
      ]
     },
     "execution_count": 5,
     "metadata": {},
     "output_type": "execute_result"
    }
   ],
   "source": [
    "df = pd.read_excel('CDAC_DataBook.xlsx',sheet_name = 'salaries')\n",
    "df.head()"
   ]
  },
  {
   "cell_type": "code",
   "execution_count": 6,
   "id": "65c9ff95-5aa3-450a-8ef1-dd478e2f1cd6",
   "metadata": {},
   "outputs": [],
   "source": [
    "df = df[['yrs_service','gender','salary']]"
   ]
  },
  {
   "cell_type": "code",
   "execution_count": 151,
   "id": "3675fefe-a5d9-43d2-9cb9-c499c3679ad3",
   "metadata": {},
   "outputs": [
    {
     "data": {
      "text/html": [
       "<div>\n",
       "<style scoped>\n",
       "    .dataframe tbody tr th:only-of-type {\n",
       "        vertical-align: middle;\n",
       "    }\n",
       "\n",
       "    .dataframe tbody tr th {\n",
       "        vertical-align: top;\n",
       "    }\n",
       "\n",
       "    .dataframe thead th {\n",
       "        text-align: right;\n",
       "    }\n",
       "</style>\n",
       "<table border=\"1\" class=\"dataframe\">\n",
       "  <thead>\n",
       "    <tr style=\"text-align: right;\">\n",
       "      <th></th>\n",
       "      <th>yrs_service</th>\n",
       "      <th>gender</th>\n",
       "      <th>salary</th>\n",
       "    </tr>\n",
       "  </thead>\n",
       "  <tbody>\n",
       "    <tr>\n",
       "      <th>0</th>\n",
       "      <td>18</td>\n",
       "      <td>Male</td>\n",
       "      <td>139750</td>\n",
       "    </tr>\n",
       "    <tr>\n",
       "      <th>1</th>\n",
       "      <td>16</td>\n",
       "      <td>Male</td>\n",
       "      <td>173200</td>\n",
       "    </tr>\n",
       "    <tr>\n",
       "      <th>2</th>\n",
       "      <td>3</td>\n",
       "      <td>Male</td>\n",
       "      <td>79750</td>\n",
       "    </tr>\n",
       "    <tr>\n",
       "      <th>3</th>\n",
       "      <td>39</td>\n",
       "      <td>Male</td>\n",
       "      <td>115000</td>\n",
       "    </tr>\n",
       "    <tr>\n",
       "      <th>4</th>\n",
       "      <td>41</td>\n",
       "      <td>Male</td>\n",
       "      <td>141500</td>\n",
       "    </tr>\n",
       "  </tbody>\n",
       "</table>\n",
       "</div>"
      ],
      "text/plain": [
       "   yrs_service gender  salary\n",
       "0           18   Male  139750\n",
       "1           16   Male  173200\n",
       "2            3   Male   79750\n",
       "3           39   Male  115000\n",
       "4           41   Male  141500"
      ]
     },
     "execution_count": 151,
     "metadata": {},
     "output_type": "execute_result"
    }
   ],
   "source": [
    "df.head()"
   ]
  },
  {
   "cell_type": "code",
   "execution_count": 157,
   "id": "7febb768-1a65-48f5-9439-f82467b09a1f",
   "metadata": {},
   "outputs": [
    {
     "name": "stdout",
     "output_type": "stream",
     "text": [
      "yrs_service     int64\n",
      "gender         object\n",
      "salary          int64\n",
      "dtype: object\n"
     ]
    }
   ],
   "source": [
    "print(df.dtypes)"
   ]
  },
  {
   "cell_type": "code",
   "execution_count": 7,
   "id": "324b208a-649b-48f2-a6a6-01fd114fd02d",
   "metadata": {},
   "outputs": [
    {
     "data": {
      "text/html": [
       "<div>\n",
       "<style scoped>\n",
       "    .dataframe tbody tr th:only-of-type {\n",
       "        vertical-align: middle;\n",
       "    }\n",
       "\n",
       "    .dataframe tbody tr th {\n",
       "        vertical-align: top;\n",
       "    }\n",
       "\n",
       "    .dataframe thead th {\n",
       "        text-align: right;\n",
       "    }\n",
       "</style>\n",
       "<table border=\"1\" class=\"dataframe\">\n",
       "  <thead>\n",
       "    <tr style=\"text-align: right;\">\n",
       "      <th></th>\n",
       "      <th>Male</th>\n",
       "    </tr>\n",
       "  </thead>\n",
       "  <tbody>\n",
       "    <tr>\n",
       "      <th>0</th>\n",
       "      <td>1</td>\n",
       "    </tr>\n",
       "    <tr>\n",
       "      <th>1</th>\n",
       "      <td>1</td>\n",
       "    </tr>\n",
       "    <tr>\n",
       "      <th>2</th>\n",
       "      <td>1</td>\n",
       "    </tr>\n",
       "    <tr>\n",
       "      <th>3</th>\n",
       "      <td>1</td>\n",
       "    </tr>\n",
       "    <tr>\n",
       "      <th>4</th>\n",
       "      <td>1</td>\n",
       "    </tr>\n",
       "    <tr>\n",
       "      <th>...</th>\n",
       "      <td>...</td>\n",
       "    </tr>\n",
       "    <tr>\n",
       "      <th>392</th>\n",
       "      <td>1</td>\n",
       "    </tr>\n",
       "    <tr>\n",
       "      <th>393</th>\n",
       "      <td>1</td>\n",
       "    </tr>\n",
       "    <tr>\n",
       "      <th>394</th>\n",
       "      <td>1</td>\n",
       "    </tr>\n",
       "    <tr>\n",
       "      <th>395</th>\n",
       "      <td>1</td>\n",
       "    </tr>\n",
       "    <tr>\n",
       "      <th>396</th>\n",
       "      <td>1</td>\n",
       "    </tr>\n",
       "  </tbody>\n",
       "</table>\n",
       "<p>397 rows × 1 columns</p>\n",
       "</div>"
      ],
      "text/plain": [
       "     Male\n",
       "0       1\n",
       "1       1\n",
       "2       1\n",
       "3       1\n",
       "4       1\n",
       "..    ...\n",
       "392     1\n",
       "393     1\n",
       "394     1\n",
       "395     1\n",
       "396     1\n",
       "\n",
       "[397 rows x 1 columns]"
      ]
     },
     "execution_count": 7,
     "metadata": {},
     "output_type": "execute_result"
    }
   ],
   "source": [
    "#for creating dummy columns and dropping which category occurs alphabetically first and then taking them as reference (dropping them)\n",
    "#gen_dummy = pd.get_dummies(df.gender, drop_first=True).astype(int)\n",
    "gen_dummy = pd.get_dummies(df.gender, drop_first=True).astype(int)\n",
    "gen_dummy"
   ]
  },
  {
   "cell_type": "code",
   "execution_count": null,
   "id": "d2b9c730-add0-4d9e-9962-85524433e14a",
   "metadata": {},
   "outputs": [],
   "source": [
    "#My attempt at filtering where male values are true to 1, but the column has a bool type \n",
    "#so we need to convert it to int \n",
    "gen_dummy.iloc[np.where(gen_dummy['Male']==True)[0]]=1"
   ]
  },
  {
   "cell_type": "code",
   "execution_count": 159,
   "id": "6790961f-4418-4b3a-b205-c157f2721088",
   "metadata": {},
   "outputs": [
    {
     "name": "stdout",
     "output_type": "stream",
     "text": [
      "Male    int32\n",
      "dtype: object\n"
     ]
    }
   ],
   "source": [
    "print(gen_dummy.dtypes)"
   ]
  },
  {
   "cell_type": "code",
   "execution_count": 8,
   "id": "8d373218-08e5-49c6-a824-6f993f3dbab0",
   "metadata": {},
   "outputs": [],
   "source": [
    "df = df.drop('gender',axis=1)\n",
    "df = pd.concat([df,gen_dummy],axis=1)"
   ]
  },
  {
   "cell_type": "code",
   "execution_count": 9,
   "id": "8ec44ad0-314b-474d-b76b-67fc5bb2c07f",
   "metadata": {},
   "outputs": [
    {
     "name": "stdout",
     "output_type": "stream",
     "text": [
      "                            OLS Regression Results                            \n",
      "==============================================================================\n",
      "Dep. Variable:                 salary   R-squared:                       0.151\n",
      "Model:                            OLS   Adj. R-squared:                  0.146\n",
      "Method:                 Least Squares   F-statistic:                     27.94\n",
      "Date:                Sun, 09 Jun 2024   Prob (F-statistic):           6.78e-12\n",
      "Time:                        21:25:29   Log-Likelihood:                -3688.7\n",
      "No. Observations:                 317   AIC:                             7383.\n",
      "Df Residuals:                     314   BIC:                             7395.\n",
      "Df Model:                           2                                         \n",
      "Covariance Type:            nonrobust                                         \n",
      "===============================================================================\n",
      "                  coef    std err          t      P>|t|      [0.025      0.975]\n",
      "-------------------------------------------------------------------------------\n",
      "yrs_service   853.8044    123.055      6.938      0.000     611.689    1095.920\n",
      "Male         8378.5004   5197.989      1.612      0.108   -1848.791    1.86e+04\n",
      "const        9.167e+04   5061.995     18.110      0.000    8.17e+04    1.02e+05\n",
      "==============================================================================\n",
      "Omnibus:                       22.017   Durbin-Watson:                   1.868\n",
      "Prob(Omnibus):                  0.000   Jarque-Bera (JB):               25.318\n",
      "Skew:                           0.604   Prob(JB):                     3.18e-06\n",
      "Kurtosis:                       3.675   Cond. No.                         98.5\n",
      "==============================================================================\n",
      "\n",
      "Notes:\n",
      "[1] Standard Errors assume that the covariance matrix of the errors is correctly specified.\n"
     ]
    }
   ],
   "source": [
    "x_train,x_test,y_train,y_test=train_test_split(df.drop('salary',axis=1),df.salary, test_size=0.2)\n",
    "x_train = sm.add_constant(x_train,prepend = False)\n",
    "x_test = sm.add_constant(x_test,prepend=False)\n",
    "mod3 = sm.OLS(y_train,x_train).fit()\n",
    "print(mod3.summary())"
   ]
  },
  {
   "cell_type": "code",
   "execution_count": 10,
   "id": "d8c8756f-83b4-4874-ac9f-44921be9eb91",
   "metadata": {},
   "outputs": [
    {
     "data": {
      "text/plain": [
       "379    106880.797605\n",
       "198    128225.908587\n",
       "231    112163.168269\n",
       "328    108588.406483\n",
       "54     109442.210923\n",
       "dtype: float64"
      ]
     },
     "execution_count": 10,
     "metadata": {},
     "output_type": "execute_result"
    }
   ],
   "source": [
    "y_pred = mod3.predict(x_test)\n",
    "y_pred.head()"
   ]
  },
  {
   "cell_type": "code",
   "execution_count": 11,
   "id": "a7a59144-1812-467b-acde-a3876de3a148",
   "metadata": {},
   "outputs": [
    {
     "data": {
      "text/plain": [
       "379    104121\n",
       "198    189409\n",
       "231     73300\n",
       "328     99247\n",
       "54     103760\n",
       "Name: salary, dtype: int64"
      ]
     },
     "execution_count": 11,
     "metadata": {},
     "output_type": "execute_result"
    }
   ],
   "source": [
    "y_test.head()"
   ]
  },
  {
   "cell_type": "code",
   "execution_count": 13,
   "id": "d707d6b2-5525-4751-96e9-283be73326c2",
   "metadata": {},
   "outputs": [
    {
     "data": {
      "text/plain": [
       "379     2759.797605\n",
       "198   -61183.091413\n",
       "231    38863.168269\n",
       "328     9341.406483\n",
       "54      5682.210923\n",
       "dtype: float64"
      ]
     },
     "execution_count": 13,
     "metadata": {},
     "output_type": "execute_result"
    }
   ],
   "source": [
    "y_pred.head()-y_test.head()"
   ]
  },
  {
   "cell_type": "code",
   "execution_count": 12,
   "id": "b9fce658-2834-47e1-850b-3de3922b1931",
   "metadata": {},
   "outputs": [
    {
     "data": {
      "image/png": "[encoded data removed]",
      "text/plain": [
       "<Figure size 640x480 with 1 Axes>"
      ]
     },
     "metadata": {},
     "output_type": "display_data"
    }
   ],
   "source": [
    "x_vals = range(len(y_pred))\n",
    "plt.plot(x_vals,y_pred,label=\"Pred Data\",color='r')\n",
    "plt.plot(x_vals,y_test,label=\"Test Data\",color='b')\n",
    "plt.title(\"Pred vs Test\")\n",
    "plt.show()"
   ]
  },
  {
   "cell_type": "code",
   "execution_count": null,
   "id": "361508ba-1db8-4fe6-8f17-0feb55b34d64",
   "metadata": {},
   "outputs": [],
   "source": []
  }
 ],
 "metadata": {
  "kernelspec": {
   "display_name": "Python 3 (ipykernel)",
   "language": "python",
   "name": "python3"
  },
  "language_info": {
   "codemirror_mode": {
    "name": "ipython",
    "version": 3
   },
   "file_extension": ".py",
   "mimetype": "text/x-python",
   "name": "python",
   "nbconvert_exporter": "python",
   "pygments_lexer": "ipython3",
   "version": "3.12.2"
  }
 },
 "nbformat": 4,
 "nbformat_minor": 5
}
