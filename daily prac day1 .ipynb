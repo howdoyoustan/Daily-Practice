{
 "cells": [
  {
   "cell_type": "code",
   "execution_count": 1,
   "id": "ef5250ad-d57e-441c-94f7-c7ae2543e318",
   "metadata": {},
   "outputs": [],
   "source": [
    "import numpy as np"
   ]
  },
  {
   "cell_type": "code",
   "execution_count": 2,
   "id": "20dc911d-daf8-4dc4-b3b9-05f09ab84ded",
   "metadata": {},
   "outputs": [],
   "source": [
    "w1 = np.array([4,5,7,8])\n",
    "w2 = np.array([9,4,2,1])"
   ]
  },
  {
   "cell_type": "code",
   "execution_count": 29,
   "id": "c1447b60-6972-429a-b4b8-c35faa3e5620",
   "metadata": {},
   "outputs": [
    {
     "data": {
      "text/plain": [
       "array([[4, 5, 7, 8],\n",
       "       [9, 4, 2, 1]])"
      ]
     },
     "execution_count": 29,
     "metadata": {},
     "output_type": "execute_result"
    }
   ],
   "source": [
    "ar1 = np.array([w1,w2])\n",
    "ar1"
   ]
  },
  {
   "cell_type": "code",
   "execution_count": 21,
   "id": "f59d93a0-9885-45e4-bb40-d8563be8521a",
   "metadata": {},
   "outputs": [
    {
     "name": "stdout",
     "output_type": "stream",
     "text": [
      "(2, 4)\n"
     ]
    }
   ],
   "source": [
    "print(np.shape(ar1))\n"
   ]
  },
  {
   "cell_type": "code",
   "execution_count": 30,
   "id": "4d3b8f68-ba5d-4695-a400-f9ccedc9d10e",
   "metadata": {},
   "outputs": [],
   "source": [
    "ar2 = np.array([2,2,2,2])"
   ]
  },
  {
   "cell_type": "code",
   "execution_count": 31,
   "id": "004ad992-502f-48e4-a69e-cdaefd55f974",
   "metadata": {},
   "outputs": [
    {
     "data": {
      "text/plain": [
       "array([[2, 2, 2, 2],\n",
       "       [4, 5, 7, 8],\n",
       "       [9, 4, 2, 1]])"
      ]
     },
     "execution_count": 31,
     "metadata": {},
     "output_type": "execute_result"
    }
   ],
   "source": [
    "ar1 = np.vstack([ar2,ar1])\n",
    "ar1"
   ]
  },
  {
   "cell_type": "code",
   "execution_count": 32,
   "id": "9bf3a0ae-0569-4810-91e4-1a502a65caac",
   "metadata": {},
   "outputs": [
    {
     "data": {
      "text/plain": [
       "array([[2, 2, 2],\n",
       "       [4, 5, 7],\n",
       "       [9, 4, 2]])"
      ]
     },
     "execution_count": 32,
     "metadata": {},
     "output_type": "execute_result"
    }
   ],
   "source": [
    "ar_left = ar1[:,:3]\n",
    "ar_left"
   ]
  },
  {
   "cell_type": "code",
   "execution_count": 33,
   "id": "d45d4f08-dc0a-40c8-87cf-26b90896885a",
   "metadata": {},
   "outputs": [
    {
     "data": {
      "text/plain": [
       "array([[2],\n",
       "       [8],\n",
       "       [1]])"
      ]
     },
     "execution_count": 33,
     "metadata": {},
     "output_type": "execute_result"
    }
   ],
   "source": [
    "ar_right = ar1[:,3:]\n",
    "ar_right"
   ]
  },
  {
   "cell_type": "code",
   "execution_count": 35,
   "id": "a4dda22e-3e9b-48da-ae9a-14eabb4d334e",
   "metadata": {},
   "outputs": [
    {
     "data": {
      "text/plain": [
       "array([[9],\n",
       "       [9],\n",
       "       [9]])"
      ]
     },
     "execution_count": 35,
     "metadata": {},
     "output_type": "execute_result"
    }
   ],
   "source": [
    "x = np.array([9,9,9])\n",
    "x = x.reshape(3,1)\n",
    "x"
   ]
  },
  {
   "cell_type": "code",
   "execution_count": 37,
   "id": "4d255122-999e-4baf-873c-204ea2ebf900",
   "metadata": {},
   "outputs": [
    {
     "data": {
      "text/plain": [
       "array([[2, 2, 2, 9, 2],\n",
       "       [4, 5, 7, 9, 8],\n",
       "       [9, 4, 2, 9, 1]])"
      ]
     },
     "execution_count": 37,
     "metadata": {},
     "output_type": "execute_result"
    }
   ],
   "source": [
    "new_ar = np.hstack([ar_left,x,ar_right])\n",
    "new_ar"
   ]
  },
  {
   "cell_type": "code",
   "execution_count": 38,
   "id": "f20e5c2b-13d4-4f42-bada-74a7fd84ccb8",
   "metadata": {},
   "outputs": [
    {
     "data": {
      "text/plain": [
       "array([4, 5, 7, 9, 8])"
      ]
     },
     "execution_count": 38,
     "metadata": {},
     "output_type": "execute_result"
    }
   ],
   "source": [
    "new_ar[1]"
   ]
  },
  {
   "cell_type": "code",
   "execution_count": 40,
   "id": "5e059cb9-ad50-4ed1-85c8-e5b2119af0ef",
   "metadata": {},
   "outputs": [
    {
     "data": {
      "text/plain": [
       "array([[2, 2, 2, 2, 9],\n",
       "       [4, 5, 7, 8, 9],\n",
       "       [1, 2, 4, 9, 9]])"
      ]
     },
     "execution_count": 40,
     "metadata": {},
     "output_type": "execute_result"
    }
   ],
   "source": [
    "n = np.sort(new_ar,axis=1)\n",
    "n"
   ]
  },
  {
   "cell_type": "code",
   "execution_count": 55,
   "id": "ba920904-f59d-481c-ad25-6cd0c6b2d338",
   "metadata": {},
   "outputs": [
    {
     "data": {
      "text/plain": [
       "array([[2, 2, 2, 9, 1],\n",
       "       [4, 4, 2, 9, 2],\n",
       "       [9, 5, 7, 9, 8]])"
      ]
     },
     "execution_count": 55,
     "metadata": {},
     "output_type": "execute_result"
    }
   ],
   "source": [
    "n = np.sort(new_ar,axis=0)\n",
    "n"
   ]
  },
  {
   "cell_type": "code",
   "execution_count": 45,
   "id": "4e7a1f7c-5a70-47b3-891a-d530198a2e06",
   "metadata": {},
   "outputs": [
    {
     "data": {
      "text/plain": [
       "array([[2, 2, 9],\n",
       "       [4, 2, 9],\n",
       "       [5, 7, 9]])"
      ]
     },
     "execution_count": 45,
     "metadata": {},
     "output_type": "execute_result"
    }
   ],
   "source": [
    "n[:,[1,2,3]]"
   ]
  },
  {
   "cell_type": "code",
   "execution_count": 50,
   "id": "bd16dcb2-7ed7-43db-8c7d-8b6db24af684",
   "metadata": {},
   "outputs": [
    {
     "data": {
      "text/plain": [
       "array([[4, 4],\n",
       "       [9, 5]])"
      ]
     },
     "execution_count": 50,
     "metadata": {},
     "output_type": "execute_result"
    }
   ],
   "source": [
    "n[[1,2],:2]"
   ]
  },
  {
   "cell_type": "code",
   "execution_count": 58,
   "id": "db4efa5b-ffc2-47cd-967e-a8e1ede57556",
   "metadata": {},
   "outputs": [
    {
     "data": {
      "text/plain": [
       "array([[2, 2, 2],\n",
       "       [4, 4, 2],\n",
       "       [9, 5, 7]])"
      ]
     },
     "execution_count": 58,
     "metadata": {},
     "output_type": "execute_result"
    }
   ],
   "source": [
    "n = np.delete(n,3,axis=1)\n",
    "n"
   ]
  },
  {
   "cell_type": "markdown",
   "id": "6446ed98-17e1-42e0-bc6e-b98fb2c1665d",
   "metadata": {},
   "source": [
    "## When you delete 0th index from a 2d array it deletes its one dimension\n"
   ]
  },
  {
   "cell_type": "code",
   "execution_count": 52,
   "id": "eb6141ff-bc21-4abf-ba4e-2fa4fd01ddf6",
   "metadata": {},
   "outputs": [],
   "source": [
    "n = np.delete(n,0)"
   ]
  },
  {
   "cell_type": "code",
   "execution_count": 53,
   "id": "b0f15727-fe3f-4be3-a148-efea9210dca5",
   "metadata": {},
   "outputs": [
    {
     "data": {
      "text/plain": [
       "array([2, 2, 1, 4, 4, 2, 2, 9, 5, 7, 8])"
      ]
     },
     "execution_count": 53,
     "metadata": {},
     "output_type": "execute_result"
    }
   ],
   "source": [
    "n"
   ]
  },
  {
   "cell_type": "markdown",
   "id": "bc971fc7-1c1e-4401-9dc3-db0f91b1ed56",
   "metadata": {},
   "source": [
    "## Now deleting using axis = 0"
   ]
  },
  {
   "cell_type": "code",
   "execution_count": 59,
   "id": "d2830b74-0a46-4afa-a978-24a9956cfdc7",
   "metadata": {},
   "outputs": [],
   "source": [
    "n = np.delete(n,0,axis=0)"
   ]
  },
  {
   "cell_type": "code",
   "execution_count": 60,
   "id": "9b7ef333-ea14-4ac4-a4e7-b5af5d3453d3",
   "metadata": {},
   "outputs": [
    {
     "data": {
      "text/plain": [
       "array([[4, 4, 2],\n",
       "       [9, 5, 7]])"
      ]
     },
     "execution_count": 60,
     "metadata": {},
     "output_type": "execute_result"
    }
   ],
   "source": [
    "n"
   ]
  },
  {
   "cell_type": "code",
   "execution_count": 61,
   "id": "e5ddd996-2a81-4254-bdd3-4810eb0ef535",
   "metadata": {},
   "outputs": [
    {
     "data": {
      "text/plain": [
       "array([[4, 7, 8],\n",
       "       [4, 4, 2],\n",
       "       [9, 5, 7]])"
      ]
     },
     "execution_count": 61,
     "metadata": {},
     "output_type": "execute_result"
    }
   ],
   "source": [
    "n = np.insert(n,0,[4,7,8],axis=0)\n",
    "n"
   ]
  },
  {
   "cell_type": "code",
   "execution_count": 62,
   "id": "c8310f5e-eaed-4df9-bc9d-045eaf08cdfd",
   "metadata": {},
   "outputs": [
    {
     "data": {
      "text/plain": [
       "array([[4, 7, 8, 1],\n",
       "       [4, 4, 2, 2],\n",
       "       [9, 5, 7, 3]])"
      ]
     },
     "execution_count": 62,
     "metadata": {},
     "output_type": "execute_result"
    }
   ],
   "source": [
    "n = np.insert(n,3,[1,2,3],axis=1)\n",
    "n"
   ]
  },
  {
   "cell_type": "markdown",
   "id": "ee85508c-6421-433a-9f51-da635f9facf1",
   "metadata": {},
   "source": [
    "# Filtering "
   ]
  },
  {
   "cell_type": "code",
   "execution_count": 67,
   "id": "41f9f2f4-843d-4f9a-82b2-5b60b1bab63b",
   "metadata": {},
   "outputs": [
    {
     "data": {
      "text/plain": [
       "(array([0, 0, 0, 1, 1, 2, 2, 2, 2], dtype=int64),\n",
       " array([0, 1, 2, 0, 1, 0, 1, 2, 3], dtype=int64))"
      ]
     },
     "execution_count": 67,
     "metadata": {},
     "output_type": "execute_result"
    }
   ],
   "source": [
    "x = np.where(n>2)\n",
    "x"
   ]
  },
  {
   "cell_type": "code",
   "execution_count": 68,
   "id": "cca68fc7-0374-4f9a-b2a2-f16c1829b8a9",
   "metadata": {},
   "outputs": [
    {
     "data": {
      "text/plain": [
       "array([4, 7, 8, 4, 4, 9, 5, 7, 3])"
      ]
     },
     "execution_count": 68,
     "metadata": {},
     "output_type": "execute_result"
    }
   ],
   "source": [
    "n[x]"
   ]
  },
  {
   "cell_type": "code",
   "execution_count": null,
   "id": "8ca2f635-8361-4c86-82ce-8071e33c7bd6",
   "metadata": {},
   "outputs": [],
   "source": []
  }
 ],
 "metadata": {
  "kernelspec": {
   "display_name": "Python 3 (ipykernel)",
   "language": "python",
   "name": "python3"
  },
  "language_info": {
   "codemirror_mode": {
    "name": "ipython",
    "version": 3
   },
   "file_extension": ".py",
   "mimetype": "text/x-python",
   "name": "python",
   "nbconvert_exporter": "python",
   "pygments_lexer": "ipython3",
   "version": "3.12.2"
  }
 },
 "nbformat": 4,
 "nbformat_minor": 5
}
