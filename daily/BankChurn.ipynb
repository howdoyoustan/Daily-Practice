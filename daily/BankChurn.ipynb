{
 "cells": [
  {
   "cell_type": "code",
   "execution_count": 1,
   "id": "67422ef3-00c9-4f38-9dad-750229606c18",
   "metadata": {},
   "outputs": [],
   "source": [
    "#import statements"
   ]
  },
  {
   "cell_type": "code",
   "execution_count": null,
   "id": "dd8dad9b-6ace-41e1-bf51-2bcbc5bc2b19",
   "metadata": {},
   "outputs": [],
   "source": [
    "pip install catboost"
   ]
  },
  {
   "cell_type": "code",
   "execution_count": null,
   "id": "99cf12cf-2369-4850-9141-b2559a43620f",
   "metadata": {},
   "outputs": [],
   "source": [
    "pip install lightgbm"
   ]
  },
  {
   "cell_type": "code",
   "execution_count": 7,
   "id": "f57f00e3-f263-4e64-87d9-91870cdf2601",
   "metadata": {},
   "outputs": [],
   "source": [
    "import os\n",
    "import pandas as pd\n",
    "import numpy as np\n",
    "from sklearn.preprocessing import LabelEncoder\n",
    "from sklearn.model_selection import StratifiedKFold\n",
    "from catboost import CatBoostClassifier\n",
    "import lightgbm as lgb\n",
    "from sklearn.model_selection import StratifiedKFold\n",
    "from sklearn.metrics import accuracy_score, precision_score, recall_score, roc_auc_score"
   ]
  },
  {
   "cell_type": "code",
   "execution_count": 9,
   "id": "2f56cc4e-bef6-4c5e-9af0-bacfe6d4f51f",
   "metadata": {},
   "outputs": [],
   "source": [
    "train = pd.read_csv(r'E:\\dbda khargar\\Stats and R\\Binary Classification for Bank Churn\\train.csv')\n",
    "test = pd.read_csv(r'E:\\dbda khargar\\Stats and R\\Binary Classification for Bank Churn\\test.csv')"
   ]
  },
  {
   "cell_type": "code",
   "execution_count": null,
   "id": "b4f07d78-c2f7-442b-a108-25351749991b",
   "metadata": {},
   "outputs": [],
   "source": []
  }
 ],
 "metadata": {
  "kernelspec": {
   "display_name": "Python 3 (ipykernel)",
   "language": "python",
   "name": "python3"
  },
  "language_info": {
   "codemirror_mode": {
    "name": "ipython",
    "version": 3
   },
   "file_extension": ".py",
   "mimetype": "text/x-python",
   "name": "python",
   "nbconvert_exporter": "python",
   "pygments_lexer": "ipython3",
   "version": "3.12.2"
  }
 },
 "nbformat": 4,
 "nbformat_minor": 5
}
