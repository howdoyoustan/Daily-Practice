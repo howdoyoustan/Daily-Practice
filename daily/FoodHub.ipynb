{
 "cells": [
  {
   "cell_type": "code",
   "execution_count": 1,
   "id": "d68b9bfc-48b6-4d29-bc78-730b6c1c0634",
   "metadata": {},
   "outputs": [],
   "source": [
    "import statsmodels\n",
    "from statsmodels import stats\n",
    "from statsmodels.stats import weightstats\n",
    "from scipy.stats import t,norm\n",
    "import numpy as np\n",
    "import pandas as pd\n",
    "import  statsmodels.api as sm\n",
    "from statsmodels.formula.api import ols\n",
    "import statsmodels.stats.multicomp\n",
    "from statsmodels.stats.multicomp import pairwise_tukeyhsd\n",
    "from statsmodels.stats import proportion\n",
    "from scipy.stats import chisquare,chi2_contingency\n",
    "import scipy\n",
    "from scipy import stats\n",
    "import pylab\n",
    "from pylab import plot,show,legend,title,xlabel,ylabel\n",
    "import matplotlib.pyplot as plt\n",
    "\n",
    "import sklearn\n",
    "from sklearn.model_selection import train_test_split\n",
    "from mord import LogisticAT"
   ]
  },
  {
   "cell_type": "code",
   "execution_count": 2,
   "id": "153a384c-e66d-486e-bad2-ada8f14b2de0",
   "metadata": {},
   "outputs": [],
   "source": [
    "df = pd.read_csv(r'E:\\dbda khargar\\Stats and R\\foodhub_order.csv')"
   ]
  },
  {
   "cell_type": "code",
   "execution_count": 3,
   "id": "10e8e5c9-4bb7-4215-ba9e-d872e0cd538a",
   "metadata": {},
   "outputs": [
    {
     "data": {
      "text/plain": [
       "order_id                 0\n",
       "customer_id              0\n",
       "restaurant_name          0\n",
       "cuisine_type             0\n",
       "cost_of_the_order        0\n",
       "day_of_the_week          0\n",
       "rating                   0\n",
       "food_preparation_time    0\n",
       "delivery_time            0\n",
       "dtype: int64"
      ]
     },
     "execution_count": 3,
     "metadata": {},
     "output_type": "execute_result"
    }
   ],
   "source": [
    "df.isnull().sum()"
   ]
  },
  {
   "cell_type": "code",
   "execution_count": 5,
   "id": "8f2b0a4c-fa85-4e96-97fc-b5223828dd67",
   "metadata": {},
   "outputs": [
    {
     "data": {
      "text/plain": [
       "0"
      ]
     },
     "execution_count": 5,
     "metadata": {},
     "output_type": "execute_result"
    }
   ],
   "source": [
    "df.duplicated().sum()"
   ]
  },
  {
   "cell_type": "code",
   "execution_count": 6,
   "id": "7bd9a833-6ba0-4f01-8e6a-f33d747a32f9",
   "metadata": {},
   "outputs": [
    {
     "data": {
      "text/plain": [
       "order_id                   int64\n",
       "customer_id                int64\n",
       "restaurant_name           object\n",
       "cuisine_type              object\n",
       "cost_of_the_order        float64\n",
       "day_of_the_week           object\n",
       "rating                    object\n",
       "food_preparation_time      int64\n",
       "delivery_time              int64\n",
       "dtype: object"
      ]
     },
     "execution_count": 6,
     "metadata": {},
     "output_type": "execute_result"
    }
   ],
   "source": [
    "df.dtypes"
   ]
  },
  {
   "cell_type": "code",
   "execution_count": 7,
   "id": "403bc5c8-924e-4d1d-8c3b-a357df0fc710",
   "metadata": {},
   "outputs": [
    {
     "data": {
      "text/plain": [
       "Index(['order_id', 'customer_id', 'restaurant_name', 'cuisine_type',\n",
       "       'cost_of_the_order', 'day_of_the_week', 'rating',\n",
       "       'food_preparation_time', 'delivery_time'],\n",
       "      dtype='object')"
      ]
     },
     "execution_count": 7,
     "metadata": {},
     "output_type": "execute_result"
    }
   ],
   "source": [
    "df.columns"
   ]
  },
  {
   "cell_type": "code",
   "execution_count": 9,
   "id": "67644ceb-4375-433a-a556-8529ced64ab9",
   "metadata": {},
   "outputs": [
    {
     "data": {
      "text/plain": [
       "(1898, 9)"
      ]
     },
     "execution_count": 9,
     "metadata": {},
     "output_type": "execute_result"
    }
   ],
   "source": [
    "df.shape"
   ]
  },
  {
   "cell_type": "code",
   "execution_count": 10,
   "id": "e4c7bf9d-f352-4c02-8bf0-cb1fc68206ca",
   "metadata": {},
   "outputs": [
    {
     "name": "stdout",
     "output_type": "stream",
     "text": [
      "Number of duplicated rows (0, 9)\n"
     ]
    }
   ],
   "source": [
    "print(\"Number of duplicated rows\",df[df.duplicated()].shape)"
   ]
  },
  {
   "cell_type": "code",
   "execution_count": 11,
   "id": "ae10309f-754c-4b7e-90c3-9715b70238da",
   "metadata": {},
   "outputs": [
    {
     "data": {
      "text/plain": [
       "order_id                 1898\n",
       "customer_id              1898\n",
       "restaurant_name          1898\n",
       "cuisine_type             1898\n",
       "cost_of_the_order        1898\n",
       "day_of_the_week          1898\n",
       "rating                   1898\n",
       "food_preparation_time    1898\n",
       "delivery_time            1898\n",
       "dtype: int64"
      ]
     },
     "execution_count": 11,
     "metadata": {},
     "output_type": "execute_result"
    }
   ],
   "source": [
    "df.count()"
   ]
  },
  {
   "cell_type": "code",
   "execution_count": 13,
   "id": "10e63125-d081-4b31-b4cd-49a7fe67ee37",
   "metadata": {},
   "outputs": [],
   "source": [
    "df = df.drop_duplicates()"
   ]
  },
  {
   "cell_type": "code",
   "execution_count": 15,
   "id": "c084a0ec-80d9-46a1-bb49-090ef6e75011",
   "metadata": {},
   "outputs": [
    {
     "data": {
      "text/plain": [
       "order_id                 1898\n",
       "customer_id              1898\n",
       "restaurant_name          1898\n",
       "cuisine_type             1898\n",
       "cost_of_the_order        1898\n",
       "day_of_the_week          1898\n",
       "rating                   1898\n",
       "food_preparation_time    1898\n",
       "delivery_time            1898\n",
       "dtype: int64"
      ]
     },
     "execution_count": 15,
     "metadata": {},
     "output_type": "execute_result"
    }
   ],
   "source": [
    "df.count()"
   ]
  },
  {
   "cell_type": "code",
   "execution_count": 170,
   "id": "996c7c54-5b6c-4be8-bbde-b4e6fa99e2f3",
   "metadata": {},
   "outputs": [
    {
     "data": {
      "text/plain": [
       "1898"
      ]
     },
     "execution_count": 170,
     "metadata": {},
     "output_type": "execute_result"
    }
   ],
   "source": [
    "l = len(df.order_id)\n",
    "l"
   ]
  },
  {
   "cell_type": "code",
   "execution_count": 17,
   "id": "85909a79-4222-4683-9bcf-05ee098eef2e",
   "metadata": {},
   "outputs": [
    {
     "data": {
      "text/plain": [
       "35"
      ]
     },
     "execution_count": 17,
     "metadata": {},
     "output_type": "execute_result"
    }
   ],
   "source": [
    "max(df.food_preparation_time)"
   ]
  },
  {
   "cell_type": "code",
   "execution_count": 18,
   "id": "5366cdc0-99ec-4e7a-978f-614d9dbe6efe",
   "metadata": {},
   "outputs": [
    {
     "data": {
      "text/plain": [
       "20"
      ]
     },
     "execution_count": 18,
     "metadata": {},
     "output_type": "execute_result"
    }
   ],
   "source": [
    "min(df.food_preparation_time)"
   ]
  },
  {
   "cell_type": "code",
   "execution_count": 21,
   "id": "855aa231-1555-4735-ad41-24daf19691fc",
   "metadata": {},
   "outputs": [
    {
     "data": {
      "text/plain": [
       "27.371970495258168"
      ]
     },
     "execution_count": 21,
     "metadata": {},
     "output_type": "execute_result"
    }
   ],
   "source": [
    "total = df.food_preparation_time.sum()\n",
    "avg = total/l\n",
    "avg"
   ]
  },
  {
   "cell_type": "code",
   "execution_count": 99,
   "id": "75145d9f-1ab6-4d2a-8bef-49b96840934b",
   "metadata": {},
   "outputs": [
    {
     "data": {
      "text/plain": [
       "27.371970495258168"
      ]
     },
     "execution_count": 99,
     "metadata": {},
     "output_type": "execute_result"
    }
   ],
   "source": [
    "df.food_preparation_time.mean()"
   ]
  },
  {
   "cell_type": "code",
   "execution_count": 25,
   "id": "70125017-453f-4cb4-8248-14cee76cfc06",
   "metadata": {},
   "outputs": [
    {
     "data": {
      "text/plain": [
       "736"
      ]
     },
     "execution_count": 25,
     "metadata": {},
     "output_type": "execute_result"
    }
   ],
   "source": [
    "len(np.where(df['rating']=='Not given')[0])"
   ]
  },
  {
   "cell_type": "code",
   "execution_count": 45,
   "id": "efcba18b-54c5-40c6-b474-010bceffeb09",
   "metadata": {},
   "outputs": [],
   "source": [
    "rgroup = df.groupby(['restaurant_name']).size().reset_index(name='counts')"
   ]
  },
  {
   "cell_type": "code",
   "execution_count": 58,
   "id": "74138e89-1e73-49a1-94e6-70e9ed41970f",
   "metadata": {},
   "outputs": [],
   "source": [
    "rg = rgroup.sort_values('counts')"
   ]
  },
  {
   "cell_type": "code",
   "execution_count": 61,
   "id": "1cc146e0-598d-43e5-907c-4197e5717163",
   "metadata": {},
   "outputs": [
    {
     "data": {
      "text/html": [
       "<div>\n",
       "<style scoped>\n",
       "    .dataframe tbody tr th:only-of-type {\n",
       "        vertical-align: middle;\n",
       "    }\n",
       "\n",
       "    .dataframe tbody tr th {\n",
       "        vertical-align: top;\n",
       "    }\n",
       "\n",
       "    .dataframe thead th {\n",
       "        text-align: right;\n",
       "    }\n",
       "</style>\n",
       "<table border=\"1\" class=\"dataframe\">\n",
       "  <thead>\n",
       "    <tr style=\"text-align: right;\">\n",
       "      <th></th>\n",
       "      <th>restaurant_name</th>\n",
       "      <th>counts</th>\n",
       "    </tr>\n",
       "  </thead>\n",
       "  <tbody>\n",
       "    <tr>\n",
       "      <th>109</th>\n",
       "      <td>Parm</td>\n",
       "      <td>68</td>\n",
       "    </tr>\n",
       "    <tr>\n",
       "      <th>20</th>\n",
       "      <td>Blue Ribbon Fried Chicken</td>\n",
       "      <td>96</td>\n",
       "    </tr>\n",
       "    <tr>\n",
       "      <th>21</th>\n",
       "      <td>Blue Ribbon Sushi</td>\n",
       "      <td>119</td>\n",
       "    </tr>\n",
       "    <tr>\n",
       "      <th>153</th>\n",
       "      <td>The Meatball Shop</td>\n",
       "      <td>132</td>\n",
       "    </tr>\n",
       "    <tr>\n",
       "      <th>136</th>\n",
       "      <td>Shake Shack</td>\n",
       "      <td>219</td>\n",
       "    </tr>\n",
       "  </tbody>\n",
       "</table>\n",
       "</div>"
      ],
      "text/plain": [
       "               restaurant_name  counts\n",
       "109                       Parm      68\n",
       "20   Blue Ribbon Fried Chicken      96\n",
       "21           Blue Ribbon Sushi     119\n",
       "153          The Meatball Shop     132\n",
       "136                Shake Shack     219"
      ]
     },
     "execution_count": 61,
     "metadata": {},
     "output_type": "execute_result"
    }
   ],
   "source": [
    "rg.tail()"
   ]
  },
  {
   "cell_type": "code",
   "execution_count": 66,
   "id": "3e7048a4-c68d-407a-9b6e-56368f682814",
   "metadata": {},
   "outputs": [],
   "source": [
    "q4=df.groupby(['day_of_the_week','cuisine_type']).size().reset_index(name='counts').sort_values('counts')"
   ]
  },
  {
   "cell_type": "code",
   "execution_count": 69,
   "id": "3c801aa8-98db-49c3-b4ee-55d4961a5731",
   "metadata": {},
   "outputs": [
    {
     "data": {
      "text/html": [
       "<div>\n",
       "<style scoped>\n",
       "    .dataframe tbody tr th:only-of-type {\n",
       "        vertical-align: middle;\n",
       "    }\n",
       "\n",
       "    .dataframe tbody tr th {\n",
       "        vertical-align: top;\n",
       "    }\n",
       "\n",
       "    .dataframe thead th {\n",
       "        text-align: right;\n",
       "    }\n",
       "</style>\n",
       "<table border=\"1\" class=\"dataframe\">\n",
       "  <thead>\n",
       "    <tr style=\"text-align: right;\">\n",
       "      <th></th>\n",
       "      <th>day_of_the_week</th>\n",
       "      <th>cuisine_type</th>\n",
       "      <th>counts</th>\n",
       "    </tr>\n",
       "  </thead>\n",
       "  <tbody>\n",
       "    <tr>\n",
       "      <th>22</th>\n",
       "      <td>Weekend</td>\n",
       "      <td>Mexican</td>\n",
       "      <td>53</td>\n",
       "    </tr>\n",
       "    <tr>\n",
       "      <th>15</th>\n",
       "      <td>Weekend</td>\n",
       "      <td>Chinese</td>\n",
       "      <td>163</td>\n",
       "    </tr>\n",
       "    <tr>\n",
       "      <th>18</th>\n",
       "      <td>Weekend</td>\n",
       "      <td>Italian</td>\n",
       "      <td>207</td>\n",
       "    </tr>\n",
       "    <tr>\n",
       "      <th>19</th>\n",
       "      <td>Weekend</td>\n",
       "      <td>Japanese</td>\n",
       "      <td>335</td>\n",
       "    </tr>\n",
       "    <tr>\n",
       "      <th>14</th>\n",
       "      <td>Weekend</td>\n",
       "      <td>American</td>\n",
       "      <td>415</td>\n",
       "    </tr>\n",
       "  </tbody>\n",
       "</table>\n",
       "</div>"
      ],
      "text/plain": [
       "   day_of_the_week cuisine_type  counts\n",
       "22         Weekend      Mexican      53\n",
       "15         Weekend      Chinese     163\n",
       "18         Weekend      Italian     207\n",
       "19         Weekend     Japanese     335\n",
       "14         Weekend     American     415"
      ]
     },
     "execution_count": 69,
     "metadata": {},
     "output_type": "execute_result"
    }
   ],
   "source": [
    "q4.iloc[np.where(q4['day_of_the_week']=='Weekend')[0]].tail()"
   ]
  },
  {
   "cell_type": "code",
   "execution_count": 171,
   "id": "6e2661ea-ac9b-44c7-886a-6a7048850a4a",
   "metadata": {},
   "outputs": [
    {
     "data": {
      "text/plain": [
       "order_id                 555\n",
       "customer_id              555\n",
       "restaurant_name          555\n",
       "cuisine_type             555\n",
       "cost_of_the_order        555\n",
       "day_of_the_week          555\n",
       "rating                   555\n",
       "food_preparation_time    555\n",
       "delivery_time            555\n",
       "total_time               555\n",
       "dtype: int64"
      ]
     },
     "execution_count": 171,
     "metadata": {},
     "output_type": "execute_result"
    }
   ],
   "source": [
    "cnt=df.iloc[np.where(df['cost_of_the_order']>20)[0]].count()\n",
    "cnt"
   ]
  },
  {
   "cell_type": "code",
   "execution_count": 84,
   "id": "7a9c2829-c2d7-4bec-bd9b-13554829c817",
   "metadata": {},
   "outputs": [
    {
     "data": {
      "text/plain": [
       "order_id                 3.249034\n",
       "customer_id              3.249034\n",
       "restaurant_name          3.249034\n",
       "cuisine_type             3.249034\n",
       "cost_of_the_order        3.249034\n",
       "day_of_the_week          3.249034\n",
       "rating                   3.249034\n",
       "food_preparation_time    3.249034\n",
       "delivery_time            3.249034\n",
       "dtype: float64"
      ]
     },
     "execution_count": 84,
     "metadata": {},
     "output_type": "execute_result"
    }
   ],
   "source": [
    "(cnt/df.size)*100"
   ]
  },
  {
   "cell_type": "code",
   "execution_count": 95,
   "id": "cb1e77b1-1061-4422-9d78-a6c838c9efbd",
   "metadata": {},
   "outputs": [
    {
     "data": {
      "text/html": [
       "<div>\n",
       "<style scoped>\n",
       "    .dataframe tbody tr th:only-of-type {\n",
       "        vertical-align: middle;\n",
       "    }\n",
       "\n",
       "    .dataframe tbody tr th {\n",
       "        vertical-align: top;\n",
       "    }\n",
       "\n",
       "    .dataframe thead th {\n",
       "        text-align: right;\n",
       "    }\n",
       "</style>\n",
       "<table border=\"1\" class=\"dataframe\">\n",
       "  <thead>\n",
       "    <tr style=\"text-align: right;\">\n",
       "      <th></th>\n",
       "      <th>customer_id</th>\n",
       "      <th>num_counts</th>\n",
       "    </tr>\n",
       "  </thead>\n",
       "  <tbody>\n",
       "    <tr>\n",
       "      <th>116</th>\n",
       "      <td>52832</td>\n",
       "      <td>13</td>\n",
       "    </tr>\n",
       "    <tr>\n",
       "      <th>84</th>\n",
       "      <td>47440</td>\n",
       "      <td>10</td>\n",
       "    </tr>\n",
       "    <tr>\n",
       "      <th>333</th>\n",
       "      <td>83287</td>\n",
       "      <td>9</td>\n",
       "    </tr>\n",
       "  </tbody>\n",
       "</table>\n",
       "</div>"
      ],
      "text/plain": [
       "     customer_id  num_counts\n",
       "116        52832          13\n",
       "84         47440          10\n",
       "333        83287           9"
      ]
     },
     "execution_count": 95,
     "metadata": {},
     "output_type": "execute_result"
    }
   ],
   "source": [
    "cntcust=df.groupby('customer_id').size().reset_index(name='num_counts').sort_values('num_counts',ascending=False)\n",
    "cntcust.iloc[:3]"
   ]
  },
  {
   "cell_type": "code",
   "execution_count": 105,
   "id": "c1b92785-07b8-4b63-844a-b9b809512526",
   "metadata": {},
   "outputs": [],
   "source": [
    "rating_rest=df.groupby(['restaurant_name','rating']).size().reset_index(name='ratings_counts').sort_values('ratings_counts',ascending=False)"
   ]
  },
  {
   "cell_type": "code",
   "execution_count": 108,
   "id": "371eedfe-2d78-4e8b-9e27-38c2a099d5df",
   "metadata": {},
   "outputs": [
    {
     "data": {
      "text/html": [
       "<div>\n",
       "<style scoped>\n",
       "    .dataframe tbody tr th:only-of-type {\n",
       "        vertical-align: middle;\n",
       "    }\n",
       "\n",
       "    .dataframe tbody tr th {\n",
       "        vertical-align: top;\n",
       "    }\n",
       "\n",
       "    .dataframe thead th {\n",
       "        text-align: right;\n",
       "    }\n",
       "</style>\n",
       "<table border=\"1\" class=\"dataframe\">\n",
       "  <thead>\n",
       "    <tr style=\"text-align: right;\">\n",
       "      <th></th>\n",
       "      <th>restaurant_name</th>\n",
       "      <th>rating</th>\n",
       "      <th>ratings_counts</th>\n",
       "    </tr>\n",
       "  </thead>\n",
       "  <tbody>\n",
       "    <tr>\n",
       "      <th>310</th>\n",
       "      <td>Shake Shack</td>\n",
       "      <td>Not given</td>\n",
       "      <td>86</td>\n",
       "    </tr>\n",
       "    <tr>\n",
       "      <th>309</th>\n",
       "      <td>Shake Shack</td>\n",
       "      <td>5</td>\n",
       "      <td>60</td>\n",
       "    </tr>\n",
       "    <tr>\n",
       "      <th>350</th>\n",
       "      <td>The Meatball Shop</td>\n",
       "      <td>5</td>\n",
       "      <td>53</td>\n",
       "    </tr>\n",
       "    <tr>\n",
       "      <th>308</th>\n",
       "      <td>Shake Shack</td>\n",
       "      <td>4</td>\n",
       "      <td>50</td>\n",
       "    </tr>\n",
       "    <tr>\n",
       "      <th>351</th>\n",
       "      <td>The Meatball Shop</td>\n",
       "      <td>Not given</td>\n",
       "      <td>48</td>\n",
       "    </tr>\n",
       "    <tr>\n",
       "      <th>...</th>\n",
       "      <td>...</td>\n",
       "      <td>...</td>\n",
       "      <td>...</td>\n",
       "    </tr>\n",
       "    <tr>\n",
       "      <th>123</th>\n",
       "      <td>El Parador Cafe</td>\n",
       "      <td>5</td>\n",
       "      <td>1</td>\n",
       "    </tr>\n",
       "    <tr>\n",
       "      <th>283</th>\n",
       "      <td>Rye House</td>\n",
       "      <td>4</td>\n",
       "      <td>1</td>\n",
       "    </tr>\n",
       "    <tr>\n",
       "      <th>122</th>\n",
       "      <td>DuMont Burger</td>\n",
       "      <td>Not given</td>\n",
       "      <td>1</td>\n",
       "    </tr>\n",
       "    <tr>\n",
       "      <th>121</th>\n",
       "      <td>DuMont Burger</td>\n",
       "      <td>5</td>\n",
       "      <td>1</td>\n",
       "    </tr>\n",
       "    <tr>\n",
       "      <th>0</th>\n",
       "      <td>'wichcraft</td>\n",
       "      <td>5</td>\n",
       "      <td>1</td>\n",
       "    </tr>\n",
       "  </tbody>\n",
       "</table>\n",
       "<p>415 rows × 3 columns</p>\n",
       "</div>"
      ],
      "text/plain": [
       "       restaurant_name     rating  ratings_counts\n",
       "310        Shake Shack  Not given              86\n",
       "309        Shake Shack          5              60\n",
       "350  The Meatball Shop          5              53\n",
       "308        Shake Shack          4              50\n",
       "351  The Meatball Shop  Not given              48\n",
       "..                 ...        ...             ...\n",
       "123    El Parador Cafe          5               1\n",
       "283          Rye House          4               1\n",
       "122      DuMont Burger  Not given               1\n",
       "121      DuMont Burger          5               1\n",
       "0           'wichcraft          5               1\n",
       "\n",
       "[415 rows x 3 columns]"
      ]
     },
     "execution_count": 108,
     "metadata": {},
     "output_type": "execute_result"
    }
   ],
   "source": [
    "rating_rest"
   ]
  },
  {
   "cell_type": "code",
   "execution_count": 109,
   "id": "0ebad924-eedc-405c-ac2c-7cbe9330d684",
   "metadata": {},
   "outputs": [
    {
     "data": {
      "text/html": [
       "<div>\n",
       "<style scoped>\n",
       "    .dataframe tbody tr th:only-of-type {\n",
       "        vertical-align: middle;\n",
       "    }\n",
       "\n",
       "    .dataframe tbody tr th {\n",
       "        vertical-align: top;\n",
       "    }\n",
       "\n",
       "    .dataframe thead th {\n",
       "        text-align: right;\n",
       "    }\n",
       "</style>\n",
       "<table border=\"1\" class=\"dataframe\">\n",
       "  <thead>\n",
       "    <tr style=\"text-align: right;\">\n",
       "      <th></th>\n",
       "      <th>restaurant_name</th>\n",
       "      <th>rating</th>\n",
       "      <th>ratings_counts</th>\n",
       "    </tr>\n",
       "  </thead>\n",
       "  <tbody>\n",
       "    <tr>\n",
       "      <th>310</th>\n",
       "      <td>Shake Shack</td>\n",
       "      <td>Not given</td>\n",
       "      <td>86</td>\n",
       "    </tr>\n",
       "    <tr>\n",
       "      <th>309</th>\n",
       "      <td>Shake Shack</td>\n",
       "      <td>5</td>\n",
       "      <td>60</td>\n",
       "    </tr>\n",
       "    <tr>\n",
       "      <th>350</th>\n",
       "      <td>The Meatball Shop</td>\n",
       "      <td>5</td>\n",
       "      <td>53</td>\n",
       "    </tr>\n",
       "  </tbody>\n",
       "</table>\n",
       "</div>"
      ],
      "text/plain": [
       "       restaurant_name     rating  ratings_counts\n",
       "310        Shake Shack  Not given              86\n",
       "309        Shake Shack          5              60\n",
       "350  The Meatball Shop          5              53"
      ]
     },
     "execution_count": 109,
     "metadata": {},
     "output_type": "execute_result"
    }
   ],
   "source": [
    "rating_rest.iloc[np.where((rating_rest['ratings_counts']>50) & (rating_rest.ratings_counts.mean()>4))[0]]"
   ]
  },
  {
   "cell_type": "code",
   "execution_count": 122,
   "id": "1c2b30a3-55c4-4924-bc84-6e3b8de0ae3b",
   "metadata": {},
   "outputs": [
    {
     "data": {
      "text/plain": [
       "8379.539499999999"
      ]
     },
     "execution_count": 122,
     "metadata": {},
     "output_type": "execute_result"
    }
   ],
   "source": [
    "df2015 = df.iloc[np.where(df['cost_of_the_order']>20)[0]]\n",
    "df15 = df.iloc[np.where(df['cost_of_the_order']>5)[0]]\n",
    "totalrev = (df2015.cost_of_the_order.sum()*0.25)+(df15.cost_of_the_order.sum()*0.15)\n",
    "totalrev"
   ]
  },
  {
   "cell_type": "code",
   "execution_count": 111,
   "id": "bf85dd61-4317-43b6-b0a3-88df61e06ce5",
   "metadata": {},
   "outputs": [
    {
     "data": {
      "text/plain": [
       "order_id                 1898\n",
       "customer_id              1898\n",
       "restaurant_name          1898\n",
       "cuisine_type             1898\n",
       "cost_of_the_order        1898\n",
       "day_of_the_week          1898\n",
       "rating                   1898\n",
       "food_preparation_time    1898\n",
       "delivery_time            1898\n",
       "dtype: int64"
      ]
     },
     "execution_count": 111,
     "metadata": {},
     "output_type": "execute_result"
    }
   ],
   "source": [
    "df.count()"
   ]
  },
  {
   "cell_type": "code",
   "execution_count": 123,
   "id": "aa7eb867-d0d2-493d-8390-c617db92e2c0",
   "metadata": {},
   "outputs": [],
   "source": [
    "df['total_time'] = df.food_preparation_time + df.delivery_time"
   ]
  },
  {
   "cell_type": "code",
   "execution_count": 127,
   "id": "cf207903-422d-4d35-abae-95d63703b042",
   "metadata": {},
   "outputs": [
    {
     "data": {
      "text/plain": [
       "order_id                 200\n",
       "customer_id              200\n",
       "restaurant_name          200\n",
       "cuisine_type             200\n",
       "cost_of_the_order        200\n",
       "day_of_the_week          200\n",
       "rating                   200\n",
       "food_preparation_time    200\n",
       "delivery_time            200\n",
       "total_time               200\n",
       "dtype: int64"
      ]
     },
     "execution_count": 127,
     "metadata": {},
     "output_type": "execute_result"
    }
   ],
   "source": [
    "df.iloc[np.where(df['total_time']>60)[0]].count()"
   ]
  },
  {
   "cell_type": "code",
   "execution_count": 128,
   "id": "c49b6f14-10dc-48d4-9621-f788be533eca",
   "metadata": {},
   "outputs": [
    {
     "data": {
      "text/plain": [
       "10.537407797681771"
      ]
     },
     "execution_count": 128,
     "metadata": {},
     "output_type": "execute_result"
    }
   ],
   "source": [
    "200/1898*100"
   ]
  },
  {
   "cell_type": "code",
   "execution_count": 138,
   "id": "0d5e5e7e-4c9a-4ecd-a056-9126584e7a21",
   "metadata": {},
   "outputs": [],
   "source": [
    "weekday=df.groupby('day_of_the_week')"
   ]
  },
  {
   "cell_type": "code",
   "execution_count": 158,
   "id": "9943d49b-1716-4b44-8a82-395c28cb6499",
   "metadata": {},
   "outputs": [],
   "source": [
    "x1=weekday.get_group('Weekend')['delivery_time']"
   ]
  },
  {
   "cell_type": "code",
   "execution_count": 159,
   "id": "93b78a21-41ee-4409-8fa4-bf04523b9245",
   "metadata": {},
   "outputs": [],
   "source": [
    "x2=weekday.get_group('Weekday')['delivery_time']"
   ]
  },
  {
   "cell_type": "code",
   "execution_count": 155,
   "id": "90641370-b345-473a-85f0-d7ba80e476cb",
   "metadata": {},
   "outputs": [],
   "source": [
    "from statsmodels import stats\n",
    "from statsmodels.stats import weightstats\n",
    "from scipy.stats import t,norm"
   ]
  },
  {
   "cell_type": "code",
   "execution_count": 160,
   "id": "3345dcf9-7fce-45b0-994f-416cf5e3d7cb",
   "metadata": {},
   "outputs": [
    {
     "data": {
      "text/plain": [
       "(27.559138130580667, 3.43915366959448e-167)"
      ]
     },
     "execution_count": 160,
     "metadata": {},
     "output_type": "execute_result"
    }
   ],
   "source": [
    "statsmodels.stats.weightstats.ztest(x2,x1, value=0,alternative='two-sided')"
   ]
  },
  {
   "cell_type": "code",
   "execution_count": 202,
   "id": "f9a603d0-0f5a-49d0-b25d-4333ccecb615",
   "metadata": {},
   "outputs": [
    {
     "name": "stderr",
     "output_type": "stream",
     "text": [
      "C:\\Users\\dheem\\AppData\\Local\\Temp\\ipykernel_20648\\2658915490.py:2: SettingWithCopyWarning: \n",
      "A value is trying to be set on a copy of a slice from a DataFrame.\n",
      "Try using .loc[row_indexer,col_indexer] = value instead\n",
      "\n",
      "See the caveats in the documentation: https://pandas.pydata.org/pandas-docs/stable/user_guide/indexing.html#returning-a-view-versus-a-copy\n",
      "  nonull['rating']=nonull['rating'].astype(int)\n"
     ]
    },
    {
     "data": {
      "text/html": [
       "<div>\n",
       "<style scoped>\n",
       "    .dataframe tbody tr th:only-of-type {\n",
       "        vertical-align: middle;\n",
       "    }\n",
       "\n",
       "    .dataframe tbody tr th {\n",
       "        vertical-align: top;\n",
       "    }\n",
       "\n",
       "    .dataframe thead th {\n",
       "        text-align: right;\n",
       "    }\n",
       "</style>\n",
       "<table border=\"1\" class=\"dataframe\">\n",
       "  <thead>\n",
       "    <tr style=\"text-align: right;\">\n",
       "      <th></th>\n",
       "      <th>order_id</th>\n",
       "      <th>customer_id</th>\n",
       "      <th>restaurant_name</th>\n",
       "      <th>cuisine_type</th>\n",
       "      <th>cost_of_the_order</th>\n",
       "      <th>day_of_the_week</th>\n",
       "      <th>rating</th>\n",
       "      <th>food_preparation_time</th>\n",
       "      <th>delivery_time</th>\n",
       "      <th>total_time</th>\n",
       "    </tr>\n",
       "  </thead>\n",
       "  <tbody>\n",
       "    <tr>\n",
       "      <th>2</th>\n",
       "      <td>1477070</td>\n",
       "      <td>66393</td>\n",
       "      <td>Cafe Habana</td>\n",
       "      <td>Mexican</td>\n",
       "      <td>12.23</td>\n",
       "      <td>Weekday</td>\n",
       "      <td>5</td>\n",
       "      <td>23</td>\n",
       "      <td>28</td>\n",
       "      <td>51</td>\n",
       "    </tr>\n",
       "    <tr>\n",
       "      <th>3</th>\n",
       "      <td>1477334</td>\n",
       "      <td>106968</td>\n",
       "      <td>Blue Ribbon Fried Chicken</td>\n",
       "      <td>American</td>\n",
       "      <td>29.20</td>\n",
       "      <td>Weekend</td>\n",
       "      <td>3</td>\n",
       "      <td>25</td>\n",
       "      <td>15</td>\n",
       "      <td>40</td>\n",
       "    </tr>\n",
       "    <tr>\n",
       "      <th>4</th>\n",
       "      <td>1478249</td>\n",
       "      <td>76942</td>\n",
       "      <td>Dirty Bird to Go</td>\n",
       "      <td>American</td>\n",
       "      <td>11.59</td>\n",
       "      <td>Weekday</td>\n",
       "      <td>4</td>\n",
       "      <td>25</td>\n",
       "      <td>24</td>\n",
       "      <td>49</td>\n",
       "    </tr>\n",
       "    <tr>\n",
       "      <th>5</th>\n",
       "      <td>1477224</td>\n",
       "      <td>147468</td>\n",
       "      <td>Tamarind TriBeCa</td>\n",
       "      <td>Indian</td>\n",
       "      <td>25.22</td>\n",
       "      <td>Weekday</td>\n",
       "      <td>3</td>\n",
       "      <td>20</td>\n",
       "      <td>24</td>\n",
       "      <td>44</td>\n",
       "    </tr>\n",
       "    <tr>\n",
       "      <th>7</th>\n",
       "      <td>1477859</td>\n",
       "      <td>89574</td>\n",
       "      <td>Barbounia</td>\n",
       "      <td>Mediterranean</td>\n",
       "      <td>5.97</td>\n",
       "      <td>Weekday</td>\n",
       "      <td>3</td>\n",
       "      <td>33</td>\n",
       "      <td>30</td>\n",
       "      <td>63</td>\n",
       "    </tr>\n",
       "    <tr>\n",
       "      <th>...</th>\n",
       "      <td>...</td>\n",
       "      <td>...</td>\n",
       "      <td>...</td>\n",
       "      <td>...</td>\n",
       "      <td>...</td>\n",
       "      <td>...</td>\n",
       "      <td>...</td>\n",
       "      <td>...</td>\n",
       "      <td>...</td>\n",
       "      <td>...</td>\n",
       "    </tr>\n",
       "    <tr>\n",
       "      <th>1889</th>\n",
       "      <td>1478190</td>\n",
       "      <td>94152</td>\n",
       "      <td>RedFarm Broadway</td>\n",
       "      <td>Chinese</td>\n",
       "      <td>8.68</td>\n",
       "      <td>Weekday</td>\n",
       "      <td>3</td>\n",
       "      <td>33</td>\n",
       "      <td>30</td>\n",
       "      <td>63</td>\n",
       "    </tr>\n",
       "    <tr>\n",
       "      <th>1890</th>\n",
       "      <td>1477316</td>\n",
       "      <td>164776</td>\n",
       "      <td>TAO</td>\n",
       "      <td>Japanese</td>\n",
       "      <td>15.67</td>\n",
       "      <td>Weekend</td>\n",
       "      <td>5</td>\n",
       "      <td>20</td>\n",
       "      <td>22</td>\n",
       "      <td>42</td>\n",
       "    </tr>\n",
       "    <tr>\n",
       "      <th>1893</th>\n",
       "      <td>1476701</td>\n",
       "      <td>292602</td>\n",
       "      <td>Chipotle Mexican Grill $1.99 Delivery</td>\n",
       "      <td>Mexican</td>\n",
       "      <td>22.31</td>\n",
       "      <td>Weekend</td>\n",
       "      <td>5</td>\n",
       "      <td>31</td>\n",
       "      <td>17</td>\n",
       "      <td>48</td>\n",
       "    </tr>\n",
       "    <tr>\n",
       "      <th>1894</th>\n",
       "      <td>1477421</td>\n",
       "      <td>397537</td>\n",
       "      <td>The Smile</td>\n",
       "      <td>American</td>\n",
       "      <td>12.18</td>\n",
       "      <td>Weekend</td>\n",
       "      <td>5</td>\n",
       "      <td>31</td>\n",
       "      <td>19</td>\n",
       "      <td>50</td>\n",
       "    </tr>\n",
       "    <tr>\n",
       "      <th>1896</th>\n",
       "      <td>1477513</td>\n",
       "      <td>64151</td>\n",
       "      <td>Jack's Wife Freda</td>\n",
       "      <td>Mediterranean</td>\n",
       "      <td>12.18</td>\n",
       "      <td>Weekday</td>\n",
       "      <td>5</td>\n",
       "      <td>23</td>\n",
       "      <td>31</td>\n",
       "      <td>54</td>\n",
       "    </tr>\n",
       "  </tbody>\n",
       "</table>\n",
       "<p>1162 rows × 10 columns</p>\n",
       "</div>"
      ],
      "text/plain": [
       "      order_id  customer_id                        restaurant_name  \\\n",
       "2      1477070        66393                            Cafe Habana   \n",
       "3      1477334       106968              Blue Ribbon Fried Chicken   \n",
       "4      1478249        76942                       Dirty Bird to Go   \n",
       "5      1477224       147468                       Tamarind TriBeCa   \n",
       "7      1477859        89574                              Barbounia   \n",
       "...        ...          ...                                    ...   \n",
       "1889   1478190        94152                       RedFarm Broadway   \n",
       "1890   1477316       164776                                    TAO   \n",
       "1893   1476701       292602  Chipotle Mexican Grill $1.99 Delivery   \n",
       "1894   1477421       397537                              The Smile   \n",
       "1896   1477513        64151                      Jack's Wife Freda   \n",
       "\n",
       "       cuisine_type  cost_of_the_order day_of_the_week  rating  \\\n",
       "2           Mexican              12.23         Weekday       5   \n",
       "3          American              29.20         Weekend       3   \n",
       "4          American              11.59         Weekday       4   \n",
       "5            Indian              25.22         Weekday       3   \n",
       "7     Mediterranean               5.97         Weekday       3   \n",
       "...             ...                ...             ...     ...   \n",
       "1889        Chinese               8.68         Weekday       3   \n",
       "1890       Japanese              15.67         Weekend       5   \n",
       "1893        Mexican              22.31         Weekend       5   \n",
       "1894       American              12.18         Weekend       5   \n",
       "1896  Mediterranean              12.18         Weekday       5   \n",
       "\n",
       "      food_preparation_time  delivery_time  total_time  \n",
       "2                        23             28          51  \n",
       "3                        25             15          40  \n",
       "4                        25             24          49  \n",
       "5                        20             24          44  \n",
       "7                        33             30          63  \n",
       "...                     ...            ...         ...  \n",
       "1889                     33             30          63  \n",
       "1890                     20             22          42  \n",
       "1893                     31             17          48  \n",
       "1894                     31             19          50  \n",
       "1896                     23             31          54  \n",
       "\n",
       "[1162 rows x 10 columns]"
      ]
     },
     "execution_count": 202,
     "metadata": {},
     "output_type": "execute_result"
    }
   ],
   "source": [
    "nonull = df[df['rating']!='Not given']\n",
    "nonull['rating']=nonull['rating'].astype(int)\n",
    "nonull"
   ]
  },
  {
   "cell_type": "code",
   "execution_count": 203,
   "id": "90370d70-4b14-45b2-b4ee-5a2169e9b8dc",
   "metadata": {},
   "outputs": [
    {
     "data": {
      "text/plain": [
       "order_id                   int64\n",
       "customer_id                int64\n",
       "restaurant_name           object\n",
       "cuisine_type              object\n",
       "cost_of_the_order        float64\n",
       "day_of_the_week           object\n",
       "rating                     int32\n",
       "food_preparation_time      int64\n",
       "delivery_time              int64\n",
       "total_time                 int64\n",
       "dtype: object"
      ]
     },
     "execution_count": 203,
     "metadata": {},
     "output_type": "execute_result"
    }
   ],
   "source": [
    "nonull.dtypes"
   ]
  },
  {
   "cell_type": "code",
   "execution_count": 169,
   "id": "b3e1e944-07c4-4d4d-9dfa-c36938d2d79e",
   "metadata": {},
   "outputs": [],
   "source": [
    "import statsmodels\n",
    "from statsmodels import stats\n",
    "from statsmodels.stats import weightstats\n",
    "from scipy.stats import t,norm\n",
    "import numpy as np\n",
    "import pandas as pd\n",
    "import  statsmodels.api as sm\n",
    "from statsmodels.formula.api import ols\n",
    "import statsmodels.stats.multicomp\n",
    "from statsmodels.stats.multicomp import pairwise_tukeyhsd\n",
    "from statsmodels.stats import proportion\n",
    "from scipy.stats import chisquare,chi2_contingency\n",
    "import scipy\n",
    "from scipy import stats\n",
    "import pylab\n",
    "from pylab import plot,show,legend,title,xlabel,ylabel\n",
    "import matplotlib.pyplot as plt\n",
    "\n",
    "import sklearn\n",
    "from sklearn.model_selection import train_test_split\n",
    "from mord import LogisticAT"
   ]
  },
  {
   "cell_type": "code",
   "execution_count": 211,
   "id": "b00c7ddb-30e7-4800-becf-5e427cfe50b1",
   "metadata": {},
   "outputs": [],
   "source": [
    "ndf=nonull[['rating','cuisine_type','cost_of_the_order','day_of_the_week']]"
   ]
  },
  {
   "cell_type": "code",
   "execution_count": 212,
   "id": "ded42a5f-4be3-468d-8a47-9947b1fc0887",
   "metadata": {},
   "outputs": [
    {
     "data": {
      "text/html": [
       "<div>\n",
       "<style scoped>\n",
       "    .dataframe tbody tr th:only-of-type {\n",
       "        vertical-align: middle;\n",
       "    }\n",
       "\n",
       "    .dataframe tbody tr th {\n",
       "        vertical-align: top;\n",
       "    }\n",
       "\n",
       "    .dataframe thead th {\n",
       "        text-align: right;\n",
       "    }\n",
       "</style>\n",
       "<table border=\"1\" class=\"dataframe\">\n",
       "  <thead>\n",
       "    <tr style=\"text-align: right;\">\n",
       "      <th></th>\n",
       "      <th>rating</th>\n",
       "      <th>cuisine_type</th>\n",
       "      <th>cost_of_the_order</th>\n",
       "      <th>Weekend</th>\n",
       "    </tr>\n",
       "  </thead>\n",
       "  <tbody>\n",
       "    <tr>\n",
       "      <th>2</th>\n",
       "      <td>5</td>\n",
       "      <td>Mexican</td>\n",
       "      <td>12.23</td>\n",
       "      <td>0</td>\n",
       "    </tr>\n",
       "    <tr>\n",
       "      <th>3</th>\n",
       "      <td>3</td>\n",
       "      <td>American</td>\n",
       "      <td>29.20</td>\n",
       "      <td>1</td>\n",
       "    </tr>\n",
       "    <tr>\n",
       "      <th>4</th>\n",
       "      <td>4</td>\n",
       "      <td>American</td>\n",
       "      <td>11.59</td>\n",
       "      <td>0</td>\n",
       "    </tr>\n",
       "    <tr>\n",
       "      <th>5</th>\n",
       "      <td>3</td>\n",
       "      <td>Indian</td>\n",
       "      <td>25.22</td>\n",
       "      <td>0</td>\n",
       "    </tr>\n",
       "    <tr>\n",
       "      <th>7</th>\n",
       "      <td>3</td>\n",
       "      <td>Mediterranean</td>\n",
       "      <td>5.97</td>\n",
       "      <td>0</td>\n",
       "    </tr>\n",
       "    <tr>\n",
       "      <th>...</th>\n",
       "      <td>...</td>\n",
       "      <td>...</td>\n",
       "      <td>...</td>\n",
       "      <td>...</td>\n",
       "    </tr>\n",
       "    <tr>\n",
       "      <th>1889</th>\n",
       "      <td>3</td>\n",
       "      <td>Chinese</td>\n",
       "      <td>8.68</td>\n",
       "      <td>0</td>\n",
       "    </tr>\n",
       "    <tr>\n",
       "      <th>1890</th>\n",
       "      <td>5</td>\n",
       "      <td>Japanese</td>\n",
       "      <td>15.67</td>\n",
       "      <td>1</td>\n",
       "    </tr>\n",
       "    <tr>\n",
       "      <th>1893</th>\n",
       "      <td>5</td>\n",
       "      <td>Mexican</td>\n",
       "      <td>22.31</td>\n",
       "      <td>1</td>\n",
       "    </tr>\n",
       "    <tr>\n",
       "      <th>1894</th>\n",
       "      <td>5</td>\n",
       "      <td>American</td>\n",
       "      <td>12.18</td>\n",
       "      <td>1</td>\n",
       "    </tr>\n",
       "    <tr>\n",
       "      <th>1896</th>\n",
       "      <td>5</td>\n",
       "      <td>Mediterranean</td>\n",
       "      <td>12.18</td>\n",
       "      <td>0</td>\n",
       "    </tr>\n",
       "  </tbody>\n",
       "</table>\n",
       "<p>1162 rows × 4 columns</p>\n",
       "</div>"
      ],
      "text/plain": [
       "      rating   cuisine_type  cost_of_the_order  Weekend\n",
       "2          5        Mexican              12.23        0\n",
       "3          3       American              29.20        1\n",
       "4          4       American              11.59        0\n",
       "5          3         Indian              25.22        0\n",
       "7          3  Mediterranean               5.97        0\n",
       "...      ...            ...                ...      ...\n",
       "1889       3        Chinese               8.68        0\n",
       "1890       5       Japanese              15.67        1\n",
       "1893       5        Mexican              22.31        1\n",
       "1894       5       American              12.18        1\n",
       "1896       5  Mediterranean              12.18        0\n",
       "\n",
       "[1162 rows x 4 columns]"
      ]
     },
     "execution_count": 212,
     "metadata": {},
     "output_type": "execute_result"
    }
   ],
   "source": [
    "day_dummy = pd.get_dummies(ndf['day_of_the_week'],drop_first=True).astype(int)\n",
    "ndf=ndf.drop(['day_of_the_week'],axis=1)\n",
    "ndf = pd.concat([ndf,day_dummy],axis=1)\n",
    "ndf"
   ]
  },
  {
   "cell_type": "code",
   "execution_count": 213,
   "id": "7a981470-0c50-492d-97b3-df399529ba29",
   "metadata": {},
   "outputs": [
    {
     "data": {
      "text/html": [
       "<div>\n",
       "<style scoped>\n",
       "    .dataframe tbody tr th:only-of-type {\n",
       "        vertical-align: middle;\n",
       "    }\n",
       "\n",
       "    .dataframe tbody tr th {\n",
       "        vertical-align: top;\n",
       "    }\n",
       "\n",
       "    .dataframe thead th {\n",
       "        text-align: right;\n",
       "    }\n",
       "</style>\n",
       "<table border=\"1\" class=\"dataframe\">\n",
       "  <thead>\n",
       "    <tr style=\"text-align: right;\">\n",
       "      <th></th>\n",
       "      <th>rating</th>\n",
       "      <th>cost_of_the_order</th>\n",
       "      <th>Weekend</th>\n",
       "      <th>Chinese</th>\n",
       "      <th>French</th>\n",
       "      <th>Indian</th>\n",
       "      <th>Italian</th>\n",
       "      <th>Japanese</th>\n",
       "      <th>Korean</th>\n",
       "      <th>Mediterranean</th>\n",
       "      <th>Mexican</th>\n",
       "      <th>Middle Eastern</th>\n",
       "      <th>Southern</th>\n",
       "      <th>Spanish</th>\n",
       "      <th>Thai</th>\n",
       "      <th>Vietnamese</th>\n",
       "    </tr>\n",
       "  </thead>\n",
       "  <tbody>\n",
       "    <tr>\n",
       "      <th>2</th>\n",
       "      <td>5</td>\n",
       "      <td>12.23</td>\n",
       "      <td>0</td>\n",
       "      <td>0</td>\n",
       "      <td>0</td>\n",
       "      <td>0</td>\n",
       "      <td>0</td>\n",
       "      <td>0</td>\n",
       "      <td>0</td>\n",
       "      <td>0</td>\n",
       "      <td>1</td>\n",
       "      <td>0</td>\n",
       "      <td>0</td>\n",
       "      <td>0</td>\n",
       "      <td>0</td>\n",
       "      <td>0</td>\n",
       "    </tr>\n",
       "    <tr>\n",
       "      <th>3</th>\n",
       "      <td>3</td>\n",
       "      <td>29.20</td>\n",
       "      <td>1</td>\n",
       "      <td>0</td>\n",
       "      <td>0</td>\n",
       "      <td>0</td>\n",
       "      <td>0</td>\n",
       "      <td>0</td>\n",
       "      <td>0</td>\n",
       "      <td>0</td>\n",
       "      <td>0</td>\n",
       "      <td>0</td>\n",
       "      <td>0</td>\n",
       "      <td>0</td>\n",
       "      <td>0</td>\n",
       "      <td>0</td>\n",
       "    </tr>\n",
       "    <tr>\n",
       "      <th>4</th>\n",
       "      <td>4</td>\n",
       "      <td>11.59</td>\n",
       "      <td>0</td>\n",
       "      <td>0</td>\n",
       "      <td>0</td>\n",
       "      <td>0</td>\n",
       "      <td>0</td>\n",
       "      <td>0</td>\n",
       "      <td>0</td>\n",
       "      <td>0</td>\n",
       "      <td>0</td>\n",
       "      <td>0</td>\n",
       "      <td>0</td>\n",
       "      <td>0</td>\n",
       "      <td>0</td>\n",
       "      <td>0</td>\n",
       "    </tr>\n",
       "    <tr>\n",
       "      <th>5</th>\n",
       "      <td>3</td>\n",
       "      <td>25.22</td>\n",
       "      <td>0</td>\n",
       "      <td>0</td>\n",
       "      <td>0</td>\n",
       "      <td>1</td>\n",
       "      <td>0</td>\n",
       "      <td>0</td>\n",
       "      <td>0</td>\n",
       "      <td>0</td>\n",
       "      <td>0</td>\n",
       "      <td>0</td>\n",
       "      <td>0</td>\n",
       "      <td>0</td>\n",
       "      <td>0</td>\n",
       "      <td>0</td>\n",
       "    </tr>\n",
       "    <tr>\n",
       "      <th>7</th>\n",
       "      <td>3</td>\n",
       "      <td>5.97</td>\n",
       "      <td>0</td>\n",
       "      <td>0</td>\n",
       "      <td>0</td>\n",
       "      <td>0</td>\n",
       "      <td>0</td>\n",
       "      <td>0</td>\n",
       "      <td>0</td>\n",
       "      <td>1</td>\n",
       "      <td>0</td>\n",
       "      <td>0</td>\n",
       "      <td>0</td>\n",
       "      <td>0</td>\n",
       "      <td>0</td>\n",
       "      <td>0</td>\n",
       "    </tr>\n",
       "    <tr>\n",
       "      <th>...</th>\n",
       "      <td>...</td>\n",
       "      <td>...</td>\n",
       "      <td>...</td>\n",
       "      <td>...</td>\n",
       "      <td>...</td>\n",
       "      <td>...</td>\n",
       "      <td>...</td>\n",
       "      <td>...</td>\n",
       "      <td>...</td>\n",
       "      <td>...</td>\n",
       "      <td>...</td>\n",
       "      <td>...</td>\n",
       "      <td>...</td>\n",
       "      <td>...</td>\n",
       "      <td>...</td>\n",
       "      <td>...</td>\n",
       "    </tr>\n",
       "    <tr>\n",
       "      <th>1889</th>\n",
       "      <td>3</td>\n",
       "      <td>8.68</td>\n",
       "      <td>0</td>\n",
       "      <td>1</td>\n",
       "      <td>0</td>\n",
       "      <td>0</td>\n",
       "      <td>0</td>\n",
       "      <td>0</td>\n",
       "      <td>0</td>\n",
       "      <td>0</td>\n",
       "      <td>0</td>\n",
       "      <td>0</td>\n",
       "      <td>0</td>\n",
       "      <td>0</td>\n",
       "      <td>0</td>\n",
       "      <td>0</td>\n",
       "    </tr>\n",
       "    <tr>\n",
       "      <th>1890</th>\n",
       "      <td>5</td>\n",
       "      <td>15.67</td>\n",
       "      <td>1</td>\n",
       "      <td>0</td>\n",
       "      <td>0</td>\n",
       "      <td>0</td>\n",
       "      <td>0</td>\n",
       "      <td>1</td>\n",
       "      <td>0</td>\n",
       "      <td>0</td>\n",
       "      <td>0</td>\n",
       "      <td>0</td>\n",
       "      <td>0</td>\n",
       "      <td>0</td>\n",
       "      <td>0</td>\n",
       "      <td>0</td>\n",
       "    </tr>\n",
       "    <tr>\n",
       "      <th>1893</th>\n",
       "      <td>5</td>\n",
       "      <td>22.31</td>\n",
       "      <td>1</td>\n",
       "      <td>0</td>\n",
       "      <td>0</td>\n",
       "      <td>0</td>\n",
       "      <td>0</td>\n",
       "      <td>0</td>\n",
       "      <td>0</td>\n",
       "      <td>0</td>\n",
       "      <td>1</td>\n",
       "      <td>0</td>\n",
       "      <td>0</td>\n",
       "      <td>0</td>\n",
       "      <td>0</td>\n",
       "      <td>0</td>\n",
       "    </tr>\n",
       "    <tr>\n",
       "      <th>1894</th>\n",
       "      <td>5</td>\n",
       "      <td>12.18</td>\n",
       "      <td>1</td>\n",
       "      <td>0</td>\n",
       "      <td>0</td>\n",
       "      <td>0</td>\n",
       "      <td>0</td>\n",
       "      <td>0</td>\n",
       "      <td>0</td>\n",
       "      <td>0</td>\n",
       "      <td>0</td>\n",
       "      <td>0</td>\n",
       "      <td>0</td>\n",
       "      <td>0</td>\n",
       "      <td>0</td>\n",
       "      <td>0</td>\n",
       "    </tr>\n",
       "    <tr>\n",
       "      <th>1896</th>\n",
       "      <td>5</td>\n",
       "      <td>12.18</td>\n",
       "      <td>0</td>\n",
       "      <td>0</td>\n",
       "      <td>0</td>\n",
       "      <td>0</td>\n",
       "      <td>0</td>\n",
       "      <td>0</td>\n",
       "      <td>0</td>\n",
       "      <td>1</td>\n",
       "      <td>0</td>\n",
       "      <td>0</td>\n",
       "      <td>0</td>\n",
       "      <td>0</td>\n",
       "      <td>0</td>\n",
       "      <td>0</td>\n",
       "    </tr>\n",
       "  </tbody>\n",
       "</table>\n",
       "<p>1162 rows × 16 columns</p>\n",
       "</div>"
      ],
      "text/plain": [
       "      rating  cost_of_the_order  Weekend  Chinese  French  Indian  Italian  \\\n",
       "2          5              12.23        0        0       0       0        0   \n",
       "3          3              29.20        1        0       0       0        0   \n",
       "4          4              11.59        0        0       0       0        0   \n",
       "5          3              25.22        0        0       0       1        0   \n",
       "7          3               5.97        0        0       0       0        0   \n",
       "...      ...                ...      ...      ...     ...     ...      ...   \n",
       "1889       3               8.68        0        1       0       0        0   \n",
       "1890       5              15.67        1        0       0       0        0   \n",
       "1893       5              22.31        1        0       0       0        0   \n",
       "1894       5              12.18        1        0       0       0        0   \n",
       "1896       5              12.18        0        0       0       0        0   \n",
       "\n",
       "      Japanese  Korean  Mediterranean  Mexican  Middle Eastern  Southern  \\\n",
       "2            0       0              0        1               0         0   \n",
       "3            0       0              0        0               0         0   \n",
       "4            0       0              0        0               0         0   \n",
       "5            0       0              0        0               0         0   \n",
       "7            0       0              1        0               0         0   \n",
       "...        ...     ...            ...      ...             ...       ...   \n",
       "1889         0       0              0        0               0         0   \n",
       "1890         1       0              0        0               0         0   \n",
       "1893         0       0              0        1               0         0   \n",
       "1894         0       0              0        0               0         0   \n",
       "1896         0       0              1        0               0         0   \n",
       "\n",
       "      Spanish  Thai  Vietnamese  \n",
       "2           0     0           0  \n",
       "3           0     0           0  \n",
       "4           0     0           0  \n",
       "5           0     0           0  \n",
       "7           0     0           0  \n",
       "...       ...   ...         ...  \n",
       "1889        0     0           0  \n",
       "1890        0     0           0  \n",
       "1893        0     0           0  \n",
       "1894        0     0           0  \n",
       "1896        0     0           0  \n",
       "\n",
       "[1162 rows x 16 columns]"
      ]
     },
     "execution_count": 213,
     "metadata": {},
     "output_type": "execute_result"
    }
   ],
   "source": [
    "cuisine_dummy = pd.get_dummies(ndf['cuisine_type'],drop_first=True).astype(int)\n",
    "ndf=ndf.drop(['cuisine_type'],axis=1)\n",
    "ndf = pd.concat([ndf,cuisine_dummy],axis=1)\n",
    "ndf"
   ]
  },
  {
   "cell_type": "code",
   "execution_count": 214,
   "id": "0b373383-3171-416c-8bd7-422354c38e12",
   "metadata": {},
   "outputs": [],
   "source": [
    "x_train,x_test,y_train,y_test = train_test_split(ndf.drop('rating',axis=1),ndf.rating,test_size=0.2)\n",
    "x_train = sm.add_constant(x_train,prepend = False)\n",
    "x_test = sm.add_constant(x_test,prepend = False)"
   ]
  },
  {
   "cell_type": "code",
   "execution_count": 215,
   "id": "10f49281-cb0d-4c47-b806-da31d2b08d82",
   "metadata": {},
   "outputs": [
    {
     "data": {
      "text/plain": [
       "785     4\n",
       "175     5\n",
       "1190    3\n",
       "1296    5\n",
       "1831    4\n",
       "       ..\n",
       "1871    4\n",
       "240     5\n",
       "309     4\n",
       "829     5\n",
       "1224    5\n",
       "Name: rating, Length: 929, dtype: int32"
      ]
     },
     "execution_count": 215,
     "metadata": {},
     "output_type": "execute_result"
    }
   ],
   "source": [
    "y_train"
   ]
  },
  {
   "cell_type": "code",
   "execution_count": 216,
   "id": "854d8a84-4e36-4f26-86ed-a2d8ccb3db8d",
   "metadata": {},
   "outputs": [],
   "source": [
    "mod = LogisticAT().fit(x_train,y_train)"
   ]
  },
  {
   "cell_type": "code",
   "execution_count": null,
   "id": "e0f0b973-df0c-48d3-80fc-30beb81c8f0f",
   "metadata": {},
   "outputs": [],
   "source": [
    "print(mod.summary())"
   ]
  },
  {
   "cell_type": "code",
   "execution_count": 218,
   "id": "389fff53-d4cf-4849-8591-217e3badf68e",
   "metadata": {},
   "outputs": [
    {
     "data": {
      "text/html": [
       "<div>\n",
       "<style scoped>\n",
       "    .dataframe tbody tr th:only-of-type {\n",
       "        vertical-align: middle;\n",
       "    }\n",
       "\n",
       "    .dataframe tbody tr th {\n",
       "        vertical-align: top;\n",
       "    }\n",
       "\n",
       "    .dataframe thead th {\n",
       "        text-align: right;\n",
       "    }\n",
       "</style>\n",
       "<table border=\"1\" class=\"dataframe\">\n",
       "  <thead>\n",
       "    <tr style=\"text-align: right;\">\n",
       "      <th></th>\n",
       "      <th>cost_of_the_order</th>\n",
       "      <th>Weekend</th>\n",
       "      <th>Chinese</th>\n",
       "      <th>French</th>\n",
       "      <th>Indian</th>\n",
       "      <th>Italian</th>\n",
       "      <th>Japanese</th>\n",
       "      <th>Korean</th>\n",
       "      <th>Mediterranean</th>\n",
       "      <th>Mexican</th>\n",
       "      <th>Middle Eastern</th>\n",
       "      <th>Southern</th>\n",
       "      <th>Spanish</th>\n",
       "      <th>Thai</th>\n",
       "      <th>Vietnamese</th>\n",
       "      <th>const</th>\n",
       "    </tr>\n",
       "  </thead>\n",
       "  <tbody>\n",
       "    <tr>\n",
       "      <th>785</th>\n",
       "      <td>12.23</td>\n",
       "      <td>1</td>\n",
       "      <td>0</td>\n",
       "      <td>0</td>\n",
       "      <td>1</td>\n",
       "      <td>0</td>\n",
       "      <td>0</td>\n",
       "      <td>0</td>\n",
       "      <td>0</td>\n",
       "      <td>0</td>\n",
       "      <td>0</td>\n",
       "      <td>0</td>\n",
       "      <td>0</td>\n",
       "      <td>0</td>\n",
       "      <td>0</td>\n",
       "      <td>1.0</td>\n",
       "    </tr>\n",
       "    <tr>\n",
       "      <th>175</th>\n",
       "      <td>20.18</td>\n",
       "      <td>1</td>\n",
       "      <td>0</td>\n",
       "      <td>0</td>\n",
       "      <td>0</td>\n",
       "      <td>0</td>\n",
       "      <td>0</td>\n",
       "      <td>0</td>\n",
       "      <td>1</td>\n",
       "      <td>0</td>\n",
       "      <td>0</td>\n",
       "      <td>0</td>\n",
       "      <td>0</td>\n",
       "      <td>0</td>\n",
       "      <td>0</td>\n",
       "      <td>1.0</td>\n",
       "    </tr>\n",
       "    <tr>\n",
       "      <th>1190</th>\n",
       "      <td>15.67</td>\n",
       "      <td>0</td>\n",
       "      <td>0</td>\n",
       "      <td>0</td>\n",
       "      <td>0</td>\n",
       "      <td>0</td>\n",
       "      <td>0</td>\n",
       "      <td>0</td>\n",
       "      <td>0</td>\n",
       "      <td>0</td>\n",
       "      <td>0</td>\n",
       "      <td>0</td>\n",
       "      <td>0</td>\n",
       "      <td>0</td>\n",
       "      <td>1</td>\n",
       "      <td>1.0</td>\n",
       "    </tr>\n",
       "    <tr>\n",
       "      <th>1296</th>\n",
       "      <td>32.98</td>\n",
       "      <td>0</td>\n",
       "      <td>0</td>\n",
       "      <td>0</td>\n",
       "      <td>0</td>\n",
       "      <td>1</td>\n",
       "      <td>0</td>\n",
       "      <td>0</td>\n",
       "      <td>0</td>\n",
       "      <td>0</td>\n",
       "      <td>0</td>\n",
       "      <td>0</td>\n",
       "      <td>0</td>\n",
       "      <td>0</td>\n",
       "      <td>0</td>\n",
       "      <td>1.0</td>\n",
       "    </tr>\n",
       "    <tr>\n",
       "      <th>1831</th>\n",
       "      <td>33.37</td>\n",
       "      <td>1</td>\n",
       "      <td>0</td>\n",
       "      <td>0</td>\n",
       "      <td>0</td>\n",
       "      <td>0</td>\n",
       "      <td>1</td>\n",
       "      <td>0</td>\n",
       "      <td>0</td>\n",
       "      <td>0</td>\n",
       "      <td>0</td>\n",
       "      <td>0</td>\n",
       "      <td>0</td>\n",
       "      <td>0</td>\n",
       "      <td>0</td>\n",
       "      <td>1.0</td>\n",
       "    </tr>\n",
       "  </tbody>\n",
       "</table>\n",
       "</div>"
      ],
      "text/plain": [
       "      cost_of_the_order  Weekend  Chinese  French  Indian  Italian  Japanese  \\\n",
       "785               12.23        1        0       0       1        0         0   \n",
       "175               20.18        1        0       0       0        0         0   \n",
       "1190              15.67        0        0       0       0        0         0   \n",
       "1296              32.98        0        0       0       0        1         0   \n",
       "1831              33.37        1        0       0       0        0         1   \n",
       "\n",
       "      Korean  Mediterranean  Mexican  Middle Eastern  Southern  Spanish  Thai  \\\n",
       "785        0              0        0               0         0        0     0   \n",
       "175        0              1        0               0         0        0     0   \n",
       "1190       0              0        0               0         0        0     0   \n",
       "1296       0              0        0               0         0        0     0   \n",
       "1831       0              0        0               0         0        0     0   \n",
       "\n",
       "      Vietnamese  const  \n",
       "785            0    1.0  \n",
       "175            0    1.0  \n",
       "1190           1    1.0  \n",
       "1296           0    1.0  \n",
       "1831           0    1.0  "
      ]
     },
     "execution_count": 218,
     "metadata": {},
     "output_type": "execute_result"
    }
   ],
   "source": [
    "x_train.head()"
   ]
  },
  {
   "cell_type": "code",
   "execution_count": null,
   "id": "2f913154-5c4d-4918-85b7-ed7a8f968c67",
   "metadata": {},
   "outputs": [],
   "source": []
  }
 ],
 "metadata": {
  "kernelspec": {
   "display_name": "Python 3 (ipykernel)",
   "language": "python",
   "name": "python3"
  },
  "language_info": {
   "codemirror_mode": {
    "name": "ipython",
    "version": 3
   },
   "file_extension": ".py",
   "mimetype": "text/x-python",
   "name": "python",
   "nbconvert_exporter": "python",
   "pygments_lexer": "ipython3",
   "version": "3.12.2"
  }
 },
 "nbformat": 4,
 "nbformat_minor": 5
}
