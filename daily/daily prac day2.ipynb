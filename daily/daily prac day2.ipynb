{
 "cells": [
  {
   "cell_type": "code",
   "execution_count": 3,
   "id": "b608c933-ecbd-4701-8de6-4bf6bf775c44",
   "metadata": {},
   "outputs": [],
   "source": [
    "import numpy as np"
   ]
  },
  {
   "cell_type": "code",
   "execution_count": 7,
   "id": "bb9ccfad-7703-4b4c-83ac-db40370c16b2",
   "metadata": {},
   "outputs": [
    {
     "data": {
      "text/plain": [
       "array([77, 55, 44, 77, 99, 78, 34])"
      ]
     },
     "execution_count": 7,
     "metadata": {},
     "output_type": "execute_result"
    }
   ],
   "source": [
    "x = np.array([2,3,6,77,55,44,77,99,78,34])\n",
    "t = np.where((x>=20) & (x<=99))\n",
    "x[t]"
   ]
  },
  {
   "cell_type": "code",
   "execution_count": 8,
   "id": "98f08422-5a7b-401a-b09d-396c5dac14d4",
   "metadata": {},
   "outputs": [
    {
     "data": {
      "text/plain": [
       "7"
      ]
     },
     "execution_count": 8,
     "metadata": {},
     "output_type": "execute_result"
    }
   ],
   "source": [
    "len(x[t])"
   ]
  },
  {
   "cell_type": "code",
   "execution_count": 9,
   "id": "cb49e13b-0c08-4b08-804c-890b740f4f6d",
   "metadata": {},
   "outputs": [
    {
     "data": {
      "text/plain": [
       "7"
      ]
     },
     "execution_count": 9,
     "metadata": {},
     "output_type": "execute_result"
    }
   ],
   "source": [
    "((x>=20) & (x<=99)).sum()"
   ]
  },
  {
   "cell_type": "code",
   "execution_count": 10,
   "id": "0d2d16fe-f4b8-4202-8216-3e4f8c6b7517",
   "metadata": {},
   "outputs": [
    {
     "data": {
      "text/plain": [
       "array([ True,  True,  True, False, False, False, False, False, False,\n",
       "       False])"
      ]
     },
     "execution_count": 10,
     "metadata": {},
     "output_type": "execute_result"
    }
   ],
   "source": [
    "np.in1d(x,[2,3,6])"
   ]
  },
  {
   "cell_type": "code",
   "execution_count": 13,
   "id": "1e6bf131-ab86-4cbe-a8a8-e7e106777953",
   "metadata": {},
   "outputs": [
    {
     "data": {
      "text/plain": [
       "(array([0, 1, 2], dtype=int64),)"
      ]
     },
     "execution_count": 13,
     "metadata": {},
     "output_type": "execute_result"
    }
   ],
   "source": [
    "np.where(np.in1d(x,[2,3,6]))"
   ]
  },
  {
   "cell_type": "markdown",
   "id": "5cac94bc-76db-4399-b788-15a3a806e91e",
   "metadata": {},
   "source": [
    "## Sets"
   ]
  },
  {
   "cell_type": "code",
   "execution_count": 16,
   "id": "aa598dce-f09f-4811-be9e-44c9b45f1684",
   "metadata": {},
   "outputs": [],
   "source": [
    "x1 = np.array([4,6,7,8,9])\n",
    "x2 = np.array([3,8,9])"
   ]
  },
  {
   "cell_type": "code",
   "execution_count": 23,
   "id": "e0794c18-a49c-4749-bec5-a302de8b791b",
   "metadata": {},
   "outputs": [
    {
     "data": {
      "text/plain": [
       "array([8, 9])"
      ]
     },
     "execution_count": 23,
     "metadata": {},
     "output_type": "execute_result"
    }
   ],
   "source": [
    "np.intersect1d(x1,x2) #elements common in both x1 and x2"
   ]
  },
  {
   "cell_type": "code",
   "execution_count": 18,
   "id": "6a5e5e73-4ba2-49de-9dd9-64806b2ede59",
   "metadata": {},
   "outputs": [
    {
     "data": {
      "text/plain": [
       "array([3, 4, 6, 7, 8, 9])"
      ]
     },
     "execution_count": 18,
     "metadata": {},
     "output_type": "execute_result"
    }
   ],
   "source": [
    "np.union1d(x1,x2)"
   ]
  },
  {
   "cell_type": "code",
   "execution_count": 21,
   "id": "5eed6745-b6f9-4acd-9e71-75d213c34589",
   "metadata": {},
   "outputs": [
    {
     "data": {
      "text/plain": [
       "array([4, 6, 7])"
      ]
     },
     "execution_count": 21,
     "metadata": {},
     "output_type": "execute_result"
    }
   ],
   "source": [
    "np.setdiff1d(x1,x2) #elements present in x1 but not in x2"
   ]
  },
  {
   "cell_type": "code",
   "execution_count": 22,
   "id": "126a512d-272f-403e-bb47-0983d9684c96",
   "metadata": {},
   "outputs": [
    {
     "data": {
      "text/plain": [
       "array([3, 4, 6, 7])"
      ]
     },
     "execution_count": 22,
     "metadata": {},
     "output_type": "execute_result"
    }
   ],
   "source": [
    "np.setxor1d(x1,x2) #all elements not common in x1 and x2"
   ]
  },
  {
   "cell_type": "markdown",
   "id": "e3fa2836-13df-4702-951d-ddf5d93de2d9",
   "metadata": {},
   "source": [
    "## random numbers between 10 and 20 "
   ]
  },
  {
   "cell_type": "code",
   "execution_count": 25,
   "id": "e8f4fad0-ff31-4d86-b3ec-62d7cc78849f",
   "metadata": {},
   "outputs": [
    {
     "data": {
      "text/plain": [
       "array([13, 14, 11, 11, 19, 16, 14, 10, 12, 14])"
      ]
     },
     "execution_count": 25,
     "metadata": {},
     "output_type": "execute_result"
    }
   ],
   "source": [
    "from numpy import random\n",
    "r = np.random.randint(10,20,10)\n",
    "r"
   ]
  },
  {
   "cell_type": "code",
   "execution_count": 27,
   "id": "73f1b765-fdbe-4229-b13c-b8d0907eab70",
   "metadata": {},
   "outputs": [
    {
     "data": {
      "text/plain": [
       "array([0.52, 0.12, 0.57, 0.7 , 0.62, 0.58, 0.4 , 0.58, 0.91, 0.11])"
      ]
     },
     "execution_count": 27,
     "metadata": {},
     "output_type": "execute_result"
    }
   ],
   "source": [
    "z = np.round(np.random.rand(10),2)\n",
    "z"
   ]
  },
  {
   "cell_type": "code",
   "execution_count": 31,
   "id": "119a9842-e45e-4eef-b158-6cecb76b9ac3",
   "metadata": {},
   "outputs": [
    {
     "data": {
      "text/plain": [
       "array([13.52, 14.12, 11.57, 11.7 , 19.62, 16.58, 14.4 , 10.58, 12.91,\n",
       "       14.11])"
      ]
     },
     "execution_count": 31,
     "metadata": {},
     "output_type": "execute_result"
    }
   ],
   "source": [
    "r1 = r+z\n",
    "r1"
   ]
  },
  {
   "cell_type": "markdown",
   "id": "fc8f17d8-60ed-4dd0-a040-a518157bb026",
   "metadata": {},
   "source": [
    "# pandas"
   ]
  },
  {
   "cell_type": "code",
   "execution_count": 33,
   "id": "b1c73e2a-6753-4fdd-9073-e67779dffbe1",
   "metadata": {},
   "outputs": [
    {
     "data": {
      "text/plain": [
       "pandas.core.series.Series"
      ]
     },
     "execution_count": 33,
     "metadata": {},
     "output_type": "execute_result"
    }
   ],
   "source": [
    "import pandas as pd\n",
    "x = pd.Series([10,20,30])\n",
    "type(x)"
   ]
  },
  {
   "cell_type": "code",
   "execution_count": null,
   "id": "126e6397-cd60-4665-b9af-c699693d1ebc",
   "metadata": {},
   "outputs": [],
   "source": []
  }
 ],
 "metadata": {
  "kernelspec": {
   "display_name": "Python 3 (ipykernel)",
   "language": "python",
   "name": "python3"
  },
  "language_info": {
   "codemirror_mode": {
    "name": "ipython",
    "version": 3
   },
   "file_extension": ".py",
   "mimetype": "text/x-python",
   "name": "python",
   "nbconvert_exporter": "python",
   "pygments_lexer": "ipython3",
   "version": "3.12.2"
  }
 },
 "nbformat": 4,
 "nbformat_minor": 5
}
