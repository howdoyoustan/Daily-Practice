{
 "cells": [
  {
   "cell_type": "code",
   "execution_count": 1,
   "id": "79c6204c-d6d3-4535-9ded-3a207ac0b583",
   "metadata": {},
   "outputs": [],
   "source": [
    "import statsmodels\n",
    "from statsmodels import stats\n",
    "from statsmodels.stats import weightstats\n",
    "from scipy.stats import t,norm\n",
    "import numpy as np\n",
    "import pandas as pd\n",
    "import  statsmodels.api as sm\n",
    "from statsmodels.formula.api import ols\n",
    "import statsmodels.stats.multicomp\n",
    "from statsmodels.stats.multicomp import pairwise_tukeyhsd\n",
    "from statsmodels.stats import proportion\n",
    "from scipy.stats import chisquare,chi2_contingency\n",
    "import scipy\n",
    "from scipy import stats"
   ]
  },
  {
   "cell_type": "markdown",
   "id": "d4be0ab2-b423-47c4-9c3e-440260df6208",
   "metadata": {},
   "source": [
    "# from day8 stats "
   ]
  },
  {
   "cell_type": "code",
   "execution_count": 4,
   "id": "369738e7-ba7c-47cc-baaa-7764eaf96f28",
   "metadata": {},
   "outputs": [
    {
     "data": {
      "text/plain": [
       "(-1.5669579263200217, 0.05856226316980671)"
      ]
     },
     "execution_count": 4,
     "metadata": {},
     "output_type": "execute_result"
    }
   ],
   "source": [
    "#one sample proportion test\n",
    "statsmodels.stats.proportion.proportions_ztest(28,50,value=0.67,alternative='smaller')"
   ]
  },
  {
   "cell_type": "code",
   "execution_count": 24,
   "id": "f54c4991-42ec-43ce-ba00-20277f208074",
   "metadata": {},
   "outputs": [
    {
     "name": "stdin",
     "output_type": "stream",
     "text": [
      "Enter Observed Outcomes:  40\n",
      "Enter Size of Sample:  50\n",
      "Enter claim value:  0.7\n",
      "Enter alternative claim [smaller/larger]:  larger\n"
     ]
    },
    {
     "name": "stdout",
     "output_type": "stream",
     "text": [
      "Your hypothesis has been rejected\n",
      "Because your P value is less than 0.05 P: 0.03854993587177073\n",
      "Your Lower bound claim should be:  0.71\n"
     ]
    }
   ],
   "source": [
    "a1 = int(input(\"Enter Observed Outcomes: \"))\n",
    "a2 = int(input(\"Enter Size of Sample: \"))\n",
    "claim = float(input(\"Enter claim value: \"))\n",
    "ac = input(\"Enter alternative claim [smaller/larger]: \")\n",
    "\n",
    "y = statsmodels.stats.proportion.proportions_ztest(a1,a2,value=claim,alternative=ac)\n",
    "if y[1]>0.05:\n",
    "    print(\"Your hypothesis has not been rejected\")\n",
    "    print(\"P value is \",y[1])\n",
    "else:\n",
    "    print(\"Your hypothesis has been rejected\")\n",
    "    print(\"Because your P value is less than 0.05 P:\",y[1])\n",
    "    while True:\n",
    "        x = statsmodels.stats.proportion.proportions_ztest(a1,a2,value=claim,alternative=ac)\n",
    "        if ac =='smaller':\n",
    "            if x[1]<0.05:\n",
    "                claim-=0.01\n",
    "                            \n",
    "            else:\n",
    "                print(\"Your Higher bound claim should be: \",claim)\n",
    "                break\n",
    "        elif ac=='larger':\n",
    "            if x[1]<0.05:\n",
    "                claim+=0.01\n",
    "            else:\n",
    "                print(\"Your Lower bound claim should be: \",claim)\n",
    "                break     "
   ]
  },
  {
   "cell_type": "code",
   "execution_count": null,
   "id": "799498aa-0130-4c29-8ffb-935e491270db",
   "metadata": {},
   "outputs": [],
   "source": []
  },
  {
   "cell_type": "code",
   "execution_count": null,
   "id": "213679bf-d91b-45bb-9a98-a6a37c9524d5",
   "metadata": {},
   "outputs": [],
   "source": []
  }
 ],
 "metadata": {
  "kernelspec": {
   "display_name": "Python 3 (ipykernel)",
   "language": "python",
   "name": "python3"
  },
  "language_info": {
   "codemirror_mode": {
    "name": "ipython",
    "version": 3
   },
   "file_extension": ".py",
   "mimetype": "text/x-python",
   "name": "python",
   "nbconvert_exporter": "python",
   "pygments_lexer": "ipython3",
   "version": "3.12.2"
  }
 },
 "nbformat": 4,
 "nbformat_minor": 5
}
