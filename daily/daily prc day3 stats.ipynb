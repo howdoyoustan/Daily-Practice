{
 "cells": [
  {
   "cell_type": "code",
   "execution_count": 24,
   "id": "c8a144ca-1b95-488c-9dfd-0a115d67c975",
   "metadata": {},
   "outputs": [],
   "source": [
    "import numpy as np\n",
    "import pandas as pd\n",
    "import matplotlib.pyplot as plt\n",
    "from scipy import stats\n",
    "from scipy.stats import poisson,binom,norm,t"
   ]
  },
  {
   "cell_type": "code",
   "execution_count": 2,
   "id": "875bafab-3185-4c46-8bbd-6f7acbba4d33",
   "metadata": {},
   "outputs": [],
   "source": [
    "df = pd.read_excel(r'C:\\Users\\dheem\\Python\\Statistics and R\\CDAC_DataBook.xlsx',sheet_name=\"ERPData\")"
   ]
  },
  {
   "cell_type": "code",
   "execution_count": 3,
   "id": "ecd6661e-838e-427d-9b7e-951641cabbbf",
   "metadata": {},
   "outputs": [],
   "source": [
    "x1 = np.array(df['Quantity'])"
   ]
  },
  {
   "cell_type": "code",
   "execution_count": 5,
   "id": "6aaa59ca-b4ed-4c9c-84d0-95f32150b844",
   "metadata": {},
   "outputs": [
    {
     "data": {
      "text/plain": [
       "50"
      ]
     },
     "execution_count": 5,
     "metadata": {},
     "output_type": "execute_result"
    }
   ],
   "source": [
    "len(x1)"
   ]
  },
  {
   "cell_type": "code",
   "execution_count": 7,
   "id": "2136f527-ca29-4b6d-a8e8-3d7d3a9dc957",
   "metadata": {},
   "outputs": [
    {
     "data": {
      "text/plain": [
       "34.0"
      ]
     },
     "execution_count": 7,
     "metadata": {},
     "output_type": "execute_result"
    }
   ],
   "source": [
    "np.percentile(x1,25)"
   ]
  },
  {
   "cell_type": "code",
   "execution_count": 8,
   "id": "45b01540-421c-4a61-bc88-6ceca7808fdf",
   "metadata": {},
   "outputs": [
    {
     "data": {
      "text/plain": [
       "17"
      ]
     },
     "execution_count": 8,
     "metadata": {},
     "output_type": "execute_result"
    }
   ],
   "source": [
    "len(np.where(x1<=34)[0])"
   ]
  },
  {
   "cell_type": "code",
   "execution_count": 10,
   "id": "12b91ec5-c726-4c3c-892f-aba54fe6e489",
   "metadata": {},
   "outputs": [
    {
     "data": {
      "text/plain": [
       "1016.7857142857144"
      ]
     },
     "execution_count": 10,
     "metadata": {},
     "output_type": "execute_result"
    }
   ],
   "source": [
    "np.var(x1,ddof=1)"
   ]
  },
  {
   "cell_type": "code",
   "execution_count": 11,
   "id": "49319292-9e17-40a5-9e38-a753db0b573b",
   "metadata": {},
   "outputs": [
    {
     "data": {
      "text/plain": [
       "31.887077543821956"
      ]
     },
     "execution_count": 11,
     "metadata": {},
     "output_type": "execute_result"
    }
   ],
   "source": [
    "np.std(x1,ddof=1)"
   ]
  },
  {
   "cell_type": "markdown",
   "id": "2b4eeb96-b3bc-4d15-bf25-57e8b6a91cec",
   "metadata": {},
   "source": [
    "# Poisson Distribution"
   ]
  },
  {
   "cell_type": "markdown",
   "id": "38e2cd3c-ea18-445e-b1f3-7f996ab532f2",
   "metadata": {},
   "source": [
    "## A call center receives an average of 5 calls per hour. What is the probability that exactly 3 calls will be received in a given hour?"
   ]
  },
  {
   "cell_type": "code",
   "execution_count": 16,
   "id": "4d756c70-b4c2-47f5-acad-80c3dc511ff0",
   "metadata": {},
   "outputs": [
    {
     "data": {
      "text/plain": [
       "0.1403738958142805"
      ]
     },
     "execution_count": 16,
     "metadata": {},
     "output_type": "execute_result"
    }
   ],
   "source": [
    "poisson.pmf(3,5)"
   ]
  },
  {
   "cell_type": "markdown",
   "id": "360847cb-6dbd-494d-bdb0-cebaa38ced68",
   "metadata": {},
   "source": [
    "## In the same call center, what is the probability that 5 or fewer calls will be received in a given hour?"
   ]
  },
  {
   "cell_type": "code",
   "execution_count": 17,
   "id": "34a2da35-6c48-429f-a479-85a48e63d77a",
   "metadata": {},
   "outputs": [
    {
     "data": {
      "text/plain": [
       "0.615960654833063"
      ]
     },
     "execution_count": 17,
     "metadata": {},
     "output_type": "execute_result"
    }
   ],
   "source": [
    "poisson.cdf(5,5)"
   ]
  },
  {
   "cell_type": "markdown",
   "id": "1c180e76-6389-41ac-802a-b0ff73df6a65",
   "metadata": {},
   "source": [
    "## What is the probability that more than 7 calls will be received in an hour at the call center?"
   ]
  },
  {
   "cell_type": "code",
   "execution_count": 19,
   "id": "bdd73d30-2a5b-4adb-b7c6-632a27307041",
   "metadata": {},
   "outputs": [
    {
     "data": {
      "text/plain": [
       "0.13337167407000738"
      ]
     },
     "execution_count": 19,
     "metadata": {},
     "output_type": "execute_result"
    }
   ],
   "source": [
    "1-poisson.cdf(7,5)"
   ]
  },
  {
   "cell_type": "markdown",
   "id": "5e788237-7d2b-432f-b564-e347ef85d5ce",
   "metadata": {},
   "source": [
    "## If a bookstore sells an average of 2 books per hour, what is the probability that exactly 4 books will be sold in an hour?"
   ]
  },
  {
   "cell_type": "code",
   "execution_count": 21,
   "id": "5a9be2d1-4cc7-4586-b85e-fccd73607738",
   "metadata": {},
   "outputs": [
    {
     "data": {
      "text/plain": [
       "0.09022352215774178"
      ]
     },
     "execution_count": 21,
     "metadata": {},
     "output_type": "execute_result"
    }
   ],
   "source": [
    "poisson.pmf(4,2)"
   ]
  },
  {
   "cell_type": "markdown",
   "id": "91c28665-ee07-4fa2-9341-7216c47442fc",
   "metadata": {},
   "source": [
    "## Generate a sample of 1000 random values from a Poisson distribution with a mean of 3. Plot a histogram of the results."
   ]
  },
  {
   "cell_type": "code",
   "execution_count": 22,
   "id": "14b05c69-3da8-4699-9484-4064c771d66f",
   "metadata": {},
   "outputs": [
    {
     "data": {
      "image/png": "[encoded data removed]",
      "text/plain": [
       "<Figure size 640x480 with 1 Axes>"
      ]
     },
     "metadata": {},
     "output_type": "display_data"
    }
   ],
   "source": [
    "mu = 3\n",
    "sample = poisson.rvs(mu,size=1000)\n",
    "plt.hist(sample, bins = 15, edgecolor=\"black\")\n",
    "plt.title(\"Histogram of poisson distribution sample\")\n",
    "plt.xlabel=\"Number of events\"\n",
    "plt.ylabel=\"Frequency\"\n",
    "plt.show()\n"
   ]
  },
  {
   "cell_type": "markdown",
   "id": "e02c8a42-c5d0-415a-b6c7-d17ae8a04782",
   "metadata": {},
   "source": [
    "# Binomial Distribution"
   ]
  },
  {
   "cell_type": "markdown",
   "id": "1ef33a9f-1deb-4d2d-a4d3-edd165ade4c9",
   "metadata": {},
   "source": [
    "## A coin is flipped 10 times. What is the probability of getting exactly 6 heads, assuming the coin is fair?"
   ]
  },
  {
   "cell_type": "code",
   "execution_count": 25,
   "id": "308bb499-c39d-416f-905d-6e40719608b2",
   "metadata": {},
   "outputs": [
    {
     "data": {
      "text/plain": [
       "0.2050781249999999"
      ]
     },
     "execution_count": 25,
     "metadata": {},
     "output_type": "execute_result"
    }
   ],
   "source": [
    "binom.pmf(6,10,0.5)"
   ]
  },
  {
   "cell_type": "markdown",
   "id": "83bcafd7-2c3e-423d-9c84-cebe10a8abd5",
   "metadata": {},
   "source": [
    "## In a series of 15 trials, where the probability of success on each trial is 0.4, what is the probability of getting at most 8 successes?"
   ]
  },
  {
   "cell_type": "code",
   "execution_count": 26,
   "id": "b10f55f4-9485-4f1b-b5ab-1e6a56fb9adb",
   "metadata": {},
   "outputs": [
    {
     "data": {
      "text/plain": [
       "0.9049525918433279"
      ]
     },
     "execution_count": 26,
     "metadata": {},
     "output_type": "execute_result"
    }
   ],
   "source": [
    "binom.cdf(8,15,0.4)"
   ]
  },
  {
   "cell_type": "markdown",
   "id": "215231b2-f5ca-45ce-95c0-7b5abbdf3e71",
   "metadata": {},
   "source": [
    "## A basketball player has a 70% success rate for free throws. What is the probability that the player will make more than 5 successful free throws out of 10 attempts?"
   ]
  },
  {
   "cell_type": "code",
   "execution_count": 27,
   "id": "3523e349-051f-4fd0-bff6-dcd088a618df",
   "metadata": {},
   "outputs": [
    {
     "data": {
      "text/plain": [
       "0.8497316674"
      ]
     },
     "execution_count": 27,
     "metadata": {},
     "output_type": "execute_result"
    }
   ],
   "source": [
    "1-binom.cdf(5,10,0.7)"
   ]
  },
  {
   "cell_type": "markdown",
   "id": "3b2cb198-bf3b-4de2-882e-1ed8dd7820ec",
   "metadata": {},
   "source": [
    "## If a quality control inspector examines 20 widgets, and each widget has a 95% chance of being non-defective, what is the expected number of non-defective widgets?"
   ]
  },
  {
   "cell_type": "code",
   "execution_count": 29,
   "id": "ed400182-6c30-448d-a658-6565627e9f36",
   "metadata": {},
   "outputs": [
    {
     "data": {
      "text/plain": [
       "19.0"
      ]
     },
     "execution_count": 29,
     "metadata": {},
     "output_type": "execute_result"
    }
   ],
   "source": [
    "n=20\n",
    "p=0.95\n",
    "n*p"
   ]
  },
  {
   "cell_type": "markdown",
   "id": "9133f572-e77c-44a4-bbbc-676f948bcf57",
   "metadata": {},
   "source": [
    "## In a survey, 12% of people are expected to respond positively. What is the probability that none of the 10 people surveyed will respond positively?"
   ]
  },
  {
   "cell_type": "code",
   "execution_count": 31,
   "id": "52d640e6-3fb4-495d-b6c5-beeba5393989",
   "metadata": {},
   "outputs": [
    {
     "data": {
      "text/plain": [
       "0.2785009760094021"
      ]
     },
     "execution_count": 31,
     "metadata": {},
     "output_type": "execute_result"
    }
   ],
   "source": [
    "n1 = 10\n",
    "p1 = 0.12\n",
    "binom.pmf(0,n1,p1)"
   ]
  }
 ],
 "metadata": {
  "kernelspec": {
   "display_name": "Python 3 (ipykernel)",
   "language": "python",
   "name": "python3"
  },
  "language_info": {
   "codemirror_mode": {
    "name": "ipython",
    "version": 3
   },
   "file_extension": ".py",
   "mimetype": "text/x-python",
   "name": "python",
   "nbconvert_exporter": "python",
   "pygments_lexer": "ipython3",
   "version": "3.12.2"
  }
 },
 "nbformat": 4,
 "nbformat_minor": 5
}
