{
 "cells": [
  {
   "cell_type": "code",
   "execution_count": 3,
   "id": "18aa4794-0e60-4582-ac06-93ffd5742686",
   "metadata": {},
   "outputs": [],
   "source": [
    "class Car:\n",
    "    def __init__(self, make, model):\n",
    "        self.make = make  # instance variable\n",
    "        self.model = model  # instance variable\n",
    "\n",
    "    def display_info(self):\n",
    "        self.model = \"Sedan\"  # local variable\n",
    "        return f\"{self.make} {self.model}\"  # uses instance variable\n"
   ]
  },
  {
   "cell_type": "code",
   "execution_count": 4,
   "id": "e9e99027-1952-418f-acd6-0796ad2db3a6",
   "metadata": {},
   "outputs": [
    {
     "data": {
      "text/plain": [
       "'BMW Sedan'"
      ]
     },
     "execution_count": 4,
     "metadata": {},
     "output_type": "execute_result"
    }
   ],
   "source": [
    "a = Car(\"BMW\",\"Xi\")\n",
    "a.display_info()"
   ]
  },
  {
   "cell_type": "code",
   "execution_count": null,
   "id": "cb571a14-462f-4cee-b13b-3ced3c1596d4",
   "metadata": {},
   "outputs": [],
   "source": []
  }
 ],
 "metadata": {
  "kernelspec": {
   "display_name": "Python 3 (ipykernel)",
   "language": "python",
   "name": "python3"
  },
  "language_info": {
   "codemirror_mode": {
    "name": "ipython",
    "version": 3
   },
   "file_extension": ".py",
   "mimetype": "text/x-python",
   "name": "python",
   "nbconvert_exporter": "python",
   "pygments_lexer": "ipython3",
   "version": "3.12.2"
  }
 },
 "nbformat": 4,
 "nbformat_minor": 5
}
