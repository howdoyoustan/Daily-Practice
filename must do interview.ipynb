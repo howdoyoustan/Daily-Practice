{
 "cells": [
  {
   "cell_type": "markdown",
   "id": "d97d1c4a-fcb7-43d1-b572-9326f89b875e",
   "metadata": {},
   "source": [
    "# Python Coding Questions on Numbers"
   ]
  },
  {
   "cell_type": "code",
   "execution_count": 3,
   "id": "a778d918-b4c0-4721-b5ba-65dc31871680",
   "metadata": {},
   "outputs": [
    {
     "name": "stdin",
     "output_type": "stream",
     "text": [
      "Enter a number:  1234\n"
     ]
    },
    {
     "name": "stdout",
     "output_type": "stream",
     "text": [
      "The reversed number is 4321\n"
     ]
    }
   ],
   "source": [
    "# Q1). Write a program to reverse an integer in Python\n",
    "\n",
    "num=int(input(\"Enter a number: \"))\n",
    "temp=num\n",
    "rev=0\n",
    "while temp>0:\n",
    "    digit=temp%10\n",
    "    temp=temp//10\n",
    "    rev=rev*10+digit\n",
    "print(f\"The reversed number is {rev}\")"
   ]
  },
  {
   "cell_type": "code",
   "execution_count": 5,
   "id": "25d086a3-e913-41af-9d22-0b7d4d22e7b1",
   "metadata": {},
   "outputs": [
    {
     "name": "stdin",
     "output_type": "stream",
     "text": [
      "Enter a number:  789\n"
     ]
    },
    {
     "name": "stdout",
     "output_type": "stream",
     "text": [
      "NA\n"
     ]
    }
   ],
   "source": [
    "# Q2). Write a program in Python to check whether an integer is an Armstrong number or not.\n",
    "\n",
    "num=int(input(\"Enter a number: \"))\n",
    "temp=num\n",
    "sum=0\n",
    "while temp>0:\n",
    "    digit=temp%10\n",
    "    temp=temp//10\n",
    "    sum+=digit**3\n",
    "if sum==num:\n",
    "    print(\"Armstrong\")\n",
    "else:\n",
    "    print(\"NA\")"
   ]
  },
  {
   "cell_type": "code",
   "execution_count": 7,
   "id": "5894eef1-6a7f-4852-8d5b-d7ad8ab40bfe",
   "metadata": {},
   "outputs": [
    {
     "data": {
      "text/plain": [
       "True"
      ]
     },
     "execution_count": 7,
     "metadata": {},
     "output_type": "execute_result"
    }
   ],
   "source": [
    "#Q3). Write a program in Python to check if a given number is prime or not.\n",
    "\n",
    "def is_prime(num):\n",
    "    for i in range(2,num):\n",
    "        if num%i==0:\n",
    "            return False\n",
    "    else:\n",
    "        return True\n",
    "is_prime(17)"
   ]
  },
  {
   "cell_type": "code",
   "execution_count": null,
   "id": "bf4b6d89-b099-47fd-9525-82fef00bd100",
   "metadata": {},
   "outputs": [],
   "source": [
    "# Q4). Write a program in Python to print the Fibonacci series using an iterative method.\n",
    "\n",
    "num=int(input(\"Enter number upto which you'd like print fibonacci series: \"))\n",
    "f0,f1=0,1\n",
    "for i in range(num):\n",
    "    if i<=1:\n",
    "        print(i,end=',')\n",
    "    else:\n",
    "        fn=f0+f1\n",
    "        print(fn,end=',')\n",
    "        f0,f1=f1,fn   "
   ]
  },
  {
   "cell_type": "code",
   "execution_count": 4,
   "id": "314be2c8-a766-4e67-b87b-cd68d81c4861",
   "metadata": {},
   "outputs": [
    {
     "name": "stdin",
     "output_type": "stream",
     "text": [
      "Enter a number upto which you'd like to print 10\n"
     ]
    },
    {
     "name": "stdout",
     "output_type": "stream",
     "text": [
      "34\n"
     ]
    }
   ],
   "source": [
    "# Q5). Write a program in Python to print the fibonacci series using a recursive method.\n",
    "\n",
    "num = int(input(\"Enter a number upto which you'd like to print\"))\n",
    "def fib(num):\n",
    "    if num<=0:\n",
    "        return \"Incorrect Input\"\n",
    "    elif num==1:\n",
    "        return 0\n",
    "    elif num==2:\n",
    "        return 1\n",
    "    else:\n",
    "        return fib(num-1)+fib(num-2)\n",
    "\n",
    "print(fib(10))        "
   ]
  },
  {
   "cell_type": "code",
   "execution_count": null,
   "id": "d71de976-0e86-4f5c-82b6-d1f7a2ab1c3f",
   "metadata": {},
   "outputs": [],
   "source": [
    "num = int(input(\"Enter a number upto which you'd like to print\"))\n",
    "\n",
    "def fib(num):\n",
    "    if num<=0:\n",
    "        return \"Incorrect Input\"\n",
    "    elif num==1:\n",
    "        return 0\n",
    "    elif num==2:\n",
    "        return 1\n",
    "    else:\n",
    "        return fib(num-1)+fib(num-2)\n",
    "\n",
    "print(fib(10))\n"
   ]
  },
  {
   "cell_type": "code",
   "execution_count": 7,
   "id": "1158edd3-8496-4293-9b3d-92ceef25a9d8",
   "metadata": {},
   "outputs": [
    {
     "name": "stdin",
     "output_type": "stream",
     "text": [
      "Enter a number:  121\n"
     ]
    },
    {
     "name": "stdout",
     "output_type": "stream",
     "text": [
      "Not a palindrome\n"
     ]
    }
   ],
   "source": [
    "#Q6). Write a program in Python to check whether a number is palindrome or not using an iterative method.\n",
    "\n",
    "num = int(input(\"Enter a number: \"))\n",
    "rev = 0\n",
    "temp = num\n",
    "while temp>0:\n",
    "    digit = temp%10\n",
    "    temp = temp//10\n",
    "    rev = rev*10+digit\n",
    "if rev==temp:\n",
    "    print(\"Number is palindrome\")\n",
    "else:\n",
    "    print(\"Not a palindrome\")"
   ]
  },
  {
   "cell_type": "code",
   "execution_count": 10,
   "id": "cb2b222b-fc13-4893-a218-40ac3de87fd4",
   "metadata": {},
   "outputs": [
    {
     "data": {
      "text/plain": [
       "432"
      ]
     },
     "execution_count": 10,
     "metadata": {},
     "output_type": "execute_result"
    }
   ],
   "source": [
    "#Q7). Write a program in Python to check whether a number is palindrome or not using a recursive method.\n",
    "def reversed_num_fn(num,rev_num=0):\n",
    "    if num==0:\n",
    "        return rev_num\n",
    "    else:\n",
    "        rev_num = rev_num*10+num%10\n",
    "        return reversed_num_fn(num//10,rev_num)\n",
    "\n",
    "def reverse_num(num):\n",
    "    if num<0:\n",
    "        return -reversed_num_fn(-num)\n",
    "    else:\n",
    "        return reversed_num_fn(num)\n",
    "\n",
    "reverse_num(234)"
   ]
  },
  {
   "cell_type": "code",
   "execution_count": null,
   "id": "8e8b70ae-461b-4f77-94ee-f3bdde14710b",
   "metadata": {},
   "outputs": [],
   "source": [
    "#Q8). Write a program in Python to find the greatest among three integers.\n",
    "\n",
    "a,b,c = map(int,input(\"Enter 3 numbers: \").split())\n",
    "if (a>b) & (a>c):\n",
    "    print(f\"{a} is the largest\")\n",
    "elif (b>a) & (b>c):\n",
    "    print(f\"{b} is the largest\")\n",
    "else:\n",
    "    print(f\"{c} is the largest\")"
   ]
  },
  {
   "cell_type": "code",
   "execution_count": 20,
   "id": "b6c8983e-0c21-49f0-9575-a1b514e3920e",
   "metadata": {},
   "outputs": [
    {
     "name": "stdin",
     "output_type": "stream",
     "text": [
      "Enter a number: 2555\n"
     ]
    },
    {
     "name": "stdout",
     "output_type": "stream",
     "text": [
      "Not binary\n"
     ]
    }
   ],
   "source": [
    "#Q9). Write a program in Python to check if a number is binary?\n",
    "n = int(input(\"Enter a number:\"))\n",
    "num = str(n)\n",
    "if ('1' in num) & ('0' in num):\n",
    "    print(f\"{n} is binary\")\n",
    "else:\n",
    "    print(\"Not binary\")"
   ]
  },
  {
   "cell_type": "code",
   "execution_count": 24,
   "id": "8c5ce14f-e8ce-4110-a053-5cfc4799cab0",
   "metadata": {},
   "outputs": [
    {
     "data": {
      "text/plain": [
       "4"
      ]
     },
     "execution_count": 24,
     "metadata": {},
     "output_type": "execute_result"
    }
   ],
   "source": [
    "#Q10). Write a program in Python to find the sum of digits of a number using recursion?\n",
    "\n",
    "def sumd(num):\n",
    "    temp=num\n",
    "    sum=0\n",
    "    if temp==0:\n",
    "        return sum\n",
    "    else:\n",
    "        sum+=temp%10\n",
    "        return sum+sumd(temp//10)\n",
    "\n",
    "sumd(112)"
   ]
  },
  {
   "cell_type": "code",
   "execution_count": 1,
   "id": "5c316997-7d71-43f5-876a-ee14f0d2b547",
   "metadata": {},
   "outputs": [
    {
     "data": {
      "text/plain": [
       "(4, 3)"
      ]
     },
     "execution_count": 1,
     "metadata": {},
     "output_type": "execute_result"
    }
   ],
   "source": [
    "#●\tQ11). Write a program in Python to swap two numbers without using a third variable?\n",
    "\n",
    "def swap(a1,a2):\n",
    "    return a2,a1\n",
    "\n",
    "swap(3,4)"
   ]
  },
  {
   "cell_type": "code",
   "execution_count": 2,
   "id": "83103460-509c-4b76-9520-7496c4df08fa",
   "metadata": {},
   "outputs": [
    {
     "data": {
      "text/plain": [
       "(4, 3)"
      ]
     },
     "execution_count": 2,
     "metadata": {},
     "output_type": "execute_result"
    }
   ],
   "source": [
    "#Q12). Write a program in Python to swap two numbers using a third variable?\n",
    "\n",
    "def swap(a1,a2):\n",
    "    temp = a1\n",
    "    a1 = a2\n",
    "    a2 = temp\n",
    "    return a1,a2\n",
    "\n",
    "swap(3,4)"
   ]
  },
  {
   "cell_type": "code",
   "execution_count": 7,
   "id": "e2764a3b-b8f7-418d-afc4-2e00dcd52f89",
   "metadata": {},
   "outputs": [
    {
     "name": "stdin",
     "output_type": "stream",
     "text": [
      "Enter a num:  51\n"
     ]
    },
    {
     "name": "stdout",
     "output_type": "stream",
     "text": [
      "3,17,"
     ]
    }
   ],
   "source": [
    "#Q13). Write a program in Python to find prime factors of a given integer.\n",
    "\n",
    "n = int(input(\"Enter a num: \"))\n",
    "primes=[]\n",
    "for i in range(2,n+1):\n",
    "    for j in range(2,i):\n",
    "        if i%j==0:\n",
    "            break\n",
    "    else: \n",
    "        primes.append(i)\n",
    "for i in primes:\n",
    "    if n%i==0:\n",
    "        print(i,end=\",\")"
   ]
  },
  {
   "cell_type": "code",
   "execution_count": 5,
   "id": "e9c1e05a-c2b0-44a3-a8f2-ac5e3a229f7c",
   "metadata": {},
   "outputs": [
    {
     "data": {
      "text/plain": [
       "6"
      ]
     },
     "execution_count": 5,
     "metadata": {},
     "output_type": "execute_result"
    }
   ],
   "source": [
    "#Q14). Write a program in Python to add two integers without using arithmetic operators?\n",
    "\n",
    "a = 3\n",
    "b = 7\n",
    "carry = a&b\n",
    "a = a^b\n",
    "b = carry<<1\n",
    "b"
   ]
  },
  {
   "cell_type": "code",
   "execution_count": 10,
   "id": "0faaf762-33c6-47dd-9a73-e3bad9902988",
   "metadata": {},
   "outputs": [
    {
     "name": "stdin",
     "output_type": "stream",
     "text": [
      "Enter a num:  5\n"
     ]
    },
    {
     "name": "stdout",
     "output_type": "stream",
     "text": [
      "40\n"
     ]
    }
   ],
   "source": [
    "#Q17). Python Program to calculate factorial using iterative method.\n",
    "\n",
    "n = int(input(\"Enter a num: \"))\n",
    "fac = 0\n",
    "\n",
    "while n>0:\n",
    "    fac += n*(n-1)\n",
    "    n-=1\n",
    "print(fac) "
   ]
  },
  {
   "cell_type": "code",
   "execution_count": 31,
   "id": "4d4ebe82-bdad-4bdd-a902-3b1128f9641c",
   "metadata": {},
   "outputs": [
    {
     "name": "stdin",
     "output_type": "stream",
     "text": [
      "Enter a range upto which youd like to print prime numbers :  8\n"
     ]
    },
    {
     "name": "stdout",
     "output_type": "stream",
     "text": [
      "2,3,5,7,"
     ]
    }
   ],
   "source": [
    "#Q20 python program to print first n Prime Number with explanation\n",
    "n = int(input(\"Enter a range upto which youd like to print prime numbers : \"))\n",
    "for i in range(2,n+1):\n",
    "    for j in range(2,i):\n",
    "        if i%j==0:\n",
    "            break\n",
    "    else:\n",
    "        print(i,end=',')\n",
    "            "
   ]
  },
  {
   "cell_type": "markdown",
   "id": "5f6f2b12-0f41-4183-85f5-f557d090ed61",
   "metadata": {},
   "source": [
    "# String"
   ]
  },
  {
   "cell_type": "code",
   "execution_count": 6,
   "id": "0e8f0e55-ba73-46c9-8139-e48b742a8f40",
   "metadata": {},
   "outputs": [],
   "source": [
    "#Q1). Python program to remove given character from String"
   ]
  },
  {
   "cell_type": "code",
   "execution_count": 21,
   "id": "0b18eac2-3032-4cf7-b10a-41ea217419f9",
   "metadata": {},
   "outputs": [
    {
     "name": "stdout",
     "output_type": "stream",
     "text": [
      "[0]\n"
     ]
    }
   ],
   "source": [
    "s=\"Rahul\"\n",
    "index=[]\n",
    "for i in range(len(s)):\n",
    "    if s.lower()[i]=='r':\n",
    "        index.append(i)\n",
    "print(index)"
   ]
  },
  {
   "cell_type": "code",
   "execution_count": null,
   "id": "01c7d520-f081-4c5b-9bff-60df623f6cd9",
   "metadata": {},
   "outputs": [],
   "source": [
    "#Q2). Python Program to count occurrences of a given character in string.\n",
    "count=0\n",
    "for i in range(len(s)):\n",
    "    if s.lower()[i]=='r':\n",
    "        count++\n",
    "print(count)"
   ]
  },
  {
   "cell_type": "code",
   "execution_count": 32,
   "id": "7842d260-9ce3-46f7-a370-38b89ab2e168",
   "metadata": {},
   "outputs": [
    {
     "name": "stdout",
     "output_type": "stream",
     "text": [
      "Anagram\n"
     ]
    }
   ],
   "source": [
    "#Q3). Python Program to check if two Strings are Anagram\n",
    "s = 'AbcD'\n",
    "w = 'dBaC'\n",
    "bool=True\n",
    "for i in s.lower():\n",
    "    if i in w.lower():\n",
    "        continue\n",
    "    else:\n",
    "        bool=False\n",
    "if bool==True:\n",
    "    print(\"Anagram\")\n",
    "else:\n",
    "    print(\"Not\")"
   ]
  },
  {
   "cell_type": "code",
   "execution_count": 33,
   "id": "2acc0835-aabf-41b9-b939-e87370f65385",
   "metadata": {},
   "outputs": [
    {
     "name": "stdout",
     "output_type": "stream",
     "text": [
      "aaaeeD\n"
     ]
    }
   ],
   "source": [
    "#Q4). Python program to check if a String is palindrome or not.\n",
    "\n",
    "s=\"Deeaaa\"\n",
    "r=\"\"\n",
    "l=len(s)-1\n",
    "while l>=0:\n",
    "    r+=s[l]\n",
    "    l-=1\n",
    "if s==r:\n",
    "    print(\"Palindrome\")"
   ]
  },
  {
   "cell_type": "code",
   "execution_count": null,
   "id": "46bc66b9-fe87-4939-9c44-8f6ab05c5438",
   "metadata": {},
   "outputs": [],
   "source": [
    "#Q5). Python program to check if a given character is a vowel or consonant.\n",
    "vo = ['a','e','i','u','o']\n",
    "\n",
    "if char in vo:\n",
    "    print(\"Vowel\")\n",
    "else:\n",
    "    print(\"Consonant\")"
   ]
  },
  {
   "cell_type": "code",
   "execution_count": null,
   "id": "2530b8e9-0236-44b1-9efe-f03f5e42c8b1",
   "metadata": {},
   "outputs": [],
   "source": [
    "#Q6). Python program to check if a given character is digit or not.\n",
    ".isdigit()\n",
    ".isalpha()\n"
   ]
  },
  {
   "cell_type": "code",
   "execution_count": 39,
   "id": "e757e0fc-286c-4307-ab0d-bf1c59cb6677",
   "metadata": {},
   "outputs": [
    {
     "data": {
      "text/plain": [
       "'a'"
      ]
     },
     "execution_count": 39,
     "metadata": {},
     "output_type": "execute_result"
    }
   ],
   "source": [
    "#Q8). Python program to replace the string space with a given character.\n",
    "s = \" \"\n",
    "a=s.replace(\" \",'a')\n",
    "a"
   ]
  },
  {
   "cell_type": "code",
   "execution_count": null,
   "id": "93c0162f-8515-47eb-86d9-1893be5eed04",
   "metadata": {},
   "outputs": [],
   "source": []
  }
 ],
 "metadata": {
  "kernelspec": {
   "display_name": "Python 3 (ipykernel)",
   "language": "python",
   "name": "python3"
  },
  "language_info": {
   "codemirror_mode": {
    "name": "ipython",
    "version": 3
   },
   "file_extension": ".py",
   "mimetype": "text/x-python",
   "name": "python",
   "nbconvert_exporter": "python",
   "pygments_lexer": "ipython3",
   "version": "3.12.2"
  }
 },
 "nbformat": 4,
 "nbformat_minor": 5
}
